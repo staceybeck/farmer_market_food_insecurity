{
  "cells": [
    {
      "cell_type": "markdown",
      "metadata": {
        "id": "view-in-github",
        "colab_type": "text"
      },
      "source": [
        "<a href=\"https://colab.research.google.com/github/yecatstevir/farmer_market_food_insecurity/blob/main/predictive_modeling.ipynb\" target=\"_parent\"><img src=\"https://colab.research.google.com/assets/colab-badge.svg\" alt=\"Open In Colab\"/></a>"
      ]
    },
    {
      "cell_type": "markdown",
      "metadata": {
        "id": "aj46Mo5awc_x"
      },
      "source": [
        "## Predictive Modeling using Machine Learning\n",
        "Questions we want to answer:\n",
        "- Number of Farmers Markets needed to \n",
        "\n",
        "\n",
        "- Logistic Regression\n",
        "- Random Forest\n",
        "- XGBoost"
      ]
    },
    {
      "cell_type": "code",
      "execution_count": null,
      "metadata": {
        "colab": {
          "background_save": true
        },
        "id": "Qw2XHkt6wYHd",
        "outputId": "5ff2d6fa-1633-450b-abdb-cc550c35f306"
      },
      "outputs": [
        {
          "name": "stdout",
          "output_type": "stream",
          "text": [
            "Mounted at /content/gdrive\n"
          ]
        }
      ],
      "source": [
        "# Mount Google Drive to notebook\n",
        "from google.colab import drive, files\n",
        "drive.mount('/content/gdrive')"
      ]
    },
    {
      "cell_type": "code",
      "source": [
        "import pandas as pd\n",
        "from xgboost import XGBClassifier\n",
        "from xgboost import XGBRegressor"
      ],
      "metadata": {
        "id": "NhQpaH2WlgY4"
      },
      "execution_count": 289,
      "outputs": []
    },
    {
      "cell_type": "code",
      "execution_count": 56,
      "metadata": {
        "id": "kzf_RM7AHCHe"
      },
      "outputs": [],
      "source": [
        "updated_df = pd.read_csv('/content/gdrive/MyDrive/FIS/updated_team20_clean_MM_FA_FM_county_202207231508.csv')\n",
        "updated_df.loc[updated_df['count_FM'] > 0, 'If FM'] = 1\n",
        "updated_df.loc[updated_df['count_FM'] <= 0, 'If FM'] = 0\n",
        "updated_df.loc[updated_df['count_OFM'] > 0, 'If OFM'] = 1\n",
        "updated_df.loc[updated_df['count_OFM'] <= 0, 'If OFM'] = 0\n",
        "updated_df.loc[updated_df['count_CSA'] > 0, 'If CSA'] = 1\n",
        "updated_df.loc[updated_df['count_CSA'] <= 0, 'If CSA'] = 0\n",
        "updated_df['Total_Markets'] = updated_df['count_CSA'] + updated_df['count_OFM'] + updated_df['count_FM']\n",
        "updated_df.loc[updated_df['Total_Markets'] > 0, 'If Any Market Type'] = 1\n",
        "updated_df.loc[updated_df['Total_Markets'] <= 0, 'If Any Market Type'] = 0\n",
        "updated_df = updated_df.dropna()"
      ]
    },
    {
      "cell_type": "code",
      "source": [
        "total_markets = updated_df['If Any Market Type'].sum()"
      ],
      "metadata": {
        "id": "OA6SBCTgt7l6"
      },
      "execution_count": 57,
      "outputs": []
    },
    {
      "cell_type": "code",
      "source": [
        "updated_df.info()"
      ],
      "metadata": {
        "colab": {
          "base_uri": "https://localhost:8080/"
        },
        "id": "mM6IvLx4uXXJ",
        "outputId": "247b245b-65f6-4202-8b27-e0ab3b1e5694"
      },
      "execution_count": 58,
      "outputs": [
        {
          "output_type": "stream",
          "name": "stdout",
          "text": [
            "<class 'pandas.core.frame.DataFrame'>\n",
            "Int64Index: 3108 entries, 0 to 3141\n",
            "Data columns (total 53 columns):\n",
            " #   Column                                                              Non-Null Count  Dtype  \n",
            "---  ------                                                              --------------  -----  \n",
            " 0   Unnamed: 0                                                          3108 non-null   int64  \n",
            " 1   FIPS                                                                3108 non-null   int64  \n",
            " 2   State                                                               3108 non-null   object \n",
            " 3   2019 Food Insecurity Rate                                           3108 non-null   float64\n",
            " 4   # of Food Insecure Persons in 2019                                  3108 non-null   int64  \n",
            " 5   Low Threshold in state                                              3108 non-null   int64  \n",
            " 6   Low Threshold Type                                                  3108 non-null   object \n",
            " 7   High Threshold in state                                             3108 non-null   int64  \n",
            " 8   High Threshold Type                                                 3108 non-null   object \n",
            " 9   2019 Child food insecurity rate                                     3108 non-null   float64\n",
            " 10  # of Food Insecure Children in 2019                                 3108 non-null   float64\n",
            " 11  % food insecure children in HH w/ HH incomes below 185 FPL in 2019  3108 non-null   int64  \n",
            " 12  % food insecure children in HH w/ HH incomes above 185 FPL in 2019  3108 non-null   int64  \n",
            " 13  2019 Cost Per Meal                                                  3108 non-null   float64\n",
            " 14  2019 Weighted Annual Food Budget Shortfall                          3108 non-null   float64\n",
            " 15  P_FI_Below_Low_Threshold                                            3108 non-null   float64\n",
            " 16  P_FI_Between_Thresholds                                             3108 non-null   float64\n",
            " 17  P_FI_Above_High_Threshold                                           3108 non-null   float64\n",
            " 18  County                                                              3108 non-null   object \n",
            " 19  count_OFM                                                           3108 non-null   float64\n",
            " 20  count_SNAP_participation_OFM                                        3108 non-null   float64\n",
            " 21  count_FNAP_participation_OFM                                        3108 non-null   float64\n",
            " 22  count_WIC_participation_OFM                                         3108 non-null   float64\n",
            " 23  count_SFMNP_participation_OFM                                       3108 non-null   float64\n",
            " 24  count_CSA                                                           3108 non-null   float64\n",
            " 25  count_SNAP_participation_CSA                                        3108 non-null   float64\n",
            " 26  count_FNAP_participation_CSA                                        3108 non-null   float64\n",
            " 27  count_WIC_participation_CSA                                         3108 non-null   float64\n",
            " 28  count_SFMNP_participation_CSA                                       3108 non-null   float64\n",
            " 29  count_FM                                                            3108 non-null   float64\n",
            " 30  count_SNAP_participation_FM                                         3108 non-null   float64\n",
            " 31  count_FNAP_participation_FM                                         3108 non-null   float64\n",
            " 32  count_WIC_participation_FM                                          3108 non-null   float64\n",
            " 33  count_SFMNP_participation_FM                                        3108 non-null   float64\n",
            " 34  TractSNAP                                                           3108 non-null   float64\n",
            " 35  TractHUNV                                                           3108 non-null   float64\n",
            " 36  TractKids                                                           3108 non-null   float64\n",
            " 37  TractSeniors                                                        3108 non-null   float64\n",
            " 38  lahunvhalf                                                          3108 non-null   float64\n",
            " 39  LALOWI05_10                                                         3108 non-null   float64\n",
            " 40  PovertyRate                                                         3108 non-null   float64\n",
            " 41  lalowihalf                                                          3108 non-null   float64\n",
            " 42  TractLOWI                                                           3108 non-null   float64\n",
            " 43  Urban                                                               3108 non-null   float64\n",
            " 44  MedianFamilyIncome                                                  3108 non-null   float64\n",
            " 45  estimated_population                                                3108 non-null   float64\n",
            " 46  lat                                                                 3108 non-null   float64\n",
            " 47  long                                                                3108 non-null   float64\n",
            " 48  If FM                                                               3108 non-null   float64\n",
            " 49  If OFM                                                              3108 non-null   float64\n",
            " 50  If CSA                                                              3108 non-null   float64\n",
            " 51  Total_Markets                                                       3108 non-null   float64\n",
            " 52  If Any Market Type                                                  3108 non-null   float64\n",
            "dtypes: float64(42), int64(7), object(4)\n",
            "memory usage: 1.3+ MB\n"
          ]
        }
      ]
    },
    {
      "cell_type": "code",
      "source": [
        "updated_df['prob_market'] = updated_df['Total_Markets'] / updated_df['Total_Markets'].sum()\n",
        "updated_df['prob_market_fm'] = updated_df['count_FM'] / updated_df['count_FM'].sum()\n",
        "#updated_df['prob_market'] = updated_df['prob_market']/total_markets"
      ],
      "metadata": {
        "id": "t9NLUZHktgJS"
      },
      "execution_count": 75,
      "outputs": []
    },
    {
      "cell_type": "code",
      "source": [
        "updated_df.loc[updated_df['County'] == 'Santa Clara County']"
      ],
      "metadata": {
        "colab": {
          "base_uri": "https://localhost:8080/",
          "height": 296
        },
        "id": "-NFzX0-anw_v",
        "outputId": "fb678695-ffda-4090-b492-9d5861076f46"
      },
      "execution_count": 77,
      "outputs": [
        {
          "output_type": "execute_result",
          "data": {
            "text/plain": [
              "     Unnamed: 0  FIPS       State  2019 Food Insecurity Rate  \\\n",
              "228         228  6085  California                        7.3   \n",
              "\n",
              "     # of Food Insecure Persons in 2019  Low Threshold in state  \\\n",
              "228                              140120                     200   \n",
              "\n",
              "                 Low Threshold Type  High Threshold in state  \\\n",
              "228  SNAP, Other Nutrition Programs                      200   \n",
              "\n",
              "                High Threshold Type  2019 Child food insecurity rate  ...  \\\n",
              "228  SNAP, Other Nutrition Programs                              6.5  ...   \n",
              "\n",
              "     estimated_population        lat       long  If FM  If OFM  If CSA  \\\n",
              "228             1885508.0  37.220695 -121.69051    1.0     1.0     1.0   \n",
              "\n",
              "     Total_Markets  If Any Market Type prob_market  prob_market_fm  \n",
              "228            8.0                 1.0    0.002219         0.00498  \n",
              "\n",
              "[1 rows x 55 columns]"
            ],
            "text/html": [
              "\n",
              "  <div id=\"df-da982f63-be85-4425-9047-6851d8783fd1\">\n",
              "    <div class=\"colab-df-container\">\n",
              "      <div>\n",
              "<style scoped>\n",
              "    .dataframe tbody tr th:only-of-type {\n",
              "        vertical-align: middle;\n",
              "    }\n",
              "\n",
              "    .dataframe tbody tr th {\n",
              "        vertical-align: top;\n",
              "    }\n",
              "\n",
              "    .dataframe thead th {\n",
              "        text-align: right;\n",
              "    }\n",
              "</style>\n",
              "<table border=\"1\" class=\"dataframe\">\n",
              "  <thead>\n",
              "    <tr style=\"text-align: right;\">\n",
              "      <th></th>\n",
              "      <th>Unnamed: 0</th>\n",
              "      <th>FIPS</th>\n",
              "      <th>State</th>\n",
              "      <th>2019 Food Insecurity Rate</th>\n",
              "      <th># of Food Insecure Persons in 2019</th>\n",
              "      <th>Low Threshold in state</th>\n",
              "      <th>Low Threshold Type</th>\n",
              "      <th>High Threshold in state</th>\n",
              "      <th>High Threshold Type</th>\n",
              "      <th>2019 Child food insecurity rate</th>\n",
              "      <th>...</th>\n",
              "      <th>estimated_population</th>\n",
              "      <th>lat</th>\n",
              "      <th>long</th>\n",
              "      <th>If FM</th>\n",
              "      <th>If OFM</th>\n",
              "      <th>If CSA</th>\n",
              "      <th>Total_Markets</th>\n",
              "      <th>If Any Market Type</th>\n",
              "      <th>prob_market</th>\n",
              "      <th>prob_market_fm</th>\n",
              "    </tr>\n",
              "  </thead>\n",
              "  <tbody>\n",
              "    <tr>\n",
              "      <th>228</th>\n",
              "      <td>228</td>\n",
              "      <td>6085</td>\n",
              "      <td>California</td>\n",
              "      <td>7.3</td>\n",
              "      <td>140120</td>\n",
              "      <td>200</td>\n",
              "      <td>SNAP, Other Nutrition Programs</td>\n",
              "      <td>200</td>\n",
              "      <td>SNAP, Other Nutrition Programs</td>\n",
              "      <td>6.5</td>\n",
              "      <td>...</td>\n",
              "      <td>1885508.0</td>\n",
              "      <td>37.220695</td>\n",
              "      <td>-121.69051</td>\n",
              "      <td>1.0</td>\n",
              "      <td>1.0</td>\n",
              "      <td>1.0</td>\n",
              "      <td>8.0</td>\n",
              "      <td>1.0</td>\n",
              "      <td>0.002219</td>\n",
              "      <td>0.00498</td>\n",
              "    </tr>\n",
              "  </tbody>\n",
              "</table>\n",
              "<p>1 rows × 55 columns</p>\n",
              "</div>\n",
              "      <button class=\"colab-df-convert\" onclick=\"convertToInteractive('df-da982f63-be85-4425-9047-6851d8783fd1')\"\n",
              "              title=\"Convert this dataframe to an interactive table.\"\n",
              "              style=\"display:none;\">\n",
              "        \n",
              "  <svg xmlns=\"http://www.w3.org/2000/svg\" height=\"24px\"viewBox=\"0 0 24 24\"\n",
              "       width=\"24px\">\n",
              "    <path d=\"M0 0h24v24H0V0z\" fill=\"none\"/>\n",
              "    <path d=\"M18.56 5.44l.94 2.06.94-2.06 2.06-.94-2.06-.94-.94-2.06-.94 2.06-2.06.94zm-11 1L8.5 8.5l.94-2.06 2.06-.94-2.06-.94L8.5 2.5l-.94 2.06-2.06.94zm10 10l.94 2.06.94-2.06 2.06-.94-2.06-.94-.94-2.06-.94 2.06-2.06.94z\"/><path d=\"M17.41 7.96l-1.37-1.37c-.4-.4-.92-.59-1.43-.59-.52 0-1.04.2-1.43.59L10.3 9.45l-7.72 7.72c-.78.78-.78 2.05 0 2.83L4 21.41c.39.39.9.59 1.41.59.51 0 1.02-.2 1.41-.59l7.78-7.78 2.81-2.81c.8-.78.8-2.07 0-2.86zM5.41 20L4 18.59l7.72-7.72 1.47 1.35L5.41 20z\"/>\n",
              "  </svg>\n",
              "      </button>\n",
              "      \n",
              "  <style>\n",
              "    .colab-df-container {\n",
              "      display:flex;\n",
              "      flex-wrap:wrap;\n",
              "      gap: 12px;\n",
              "    }\n",
              "\n",
              "    .colab-df-convert {\n",
              "      background-color: #E8F0FE;\n",
              "      border: none;\n",
              "      border-radius: 50%;\n",
              "      cursor: pointer;\n",
              "      display: none;\n",
              "      fill: #1967D2;\n",
              "      height: 32px;\n",
              "      padding: 0 0 0 0;\n",
              "      width: 32px;\n",
              "    }\n",
              "\n",
              "    .colab-df-convert:hover {\n",
              "      background-color: #E2EBFA;\n",
              "      box-shadow: 0px 1px 2px rgba(60, 64, 67, 0.3), 0px 1px 3px 1px rgba(60, 64, 67, 0.15);\n",
              "      fill: #174EA6;\n",
              "    }\n",
              "\n",
              "    [theme=dark] .colab-df-convert {\n",
              "      background-color: #3B4455;\n",
              "      fill: #D2E3FC;\n",
              "    }\n",
              "\n",
              "    [theme=dark] .colab-df-convert:hover {\n",
              "      background-color: #434B5C;\n",
              "      box-shadow: 0px 1px 3px 1px rgba(0, 0, 0, 0.15);\n",
              "      filter: drop-shadow(0px 1px 2px rgba(0, 0, 0, 0.3));\n",
              "      fill: #FFFFFF;\n",
              "    }\n",
              "  </style>\n",
              "\n",
              "      <script>\n",
              "        const buttonEl =\n",
              "          document.querySelector('#df-da982f63-be85-4425-9047-6851d8783fd1 button.colab-df-convert');\n",
              "        buttonEl.style.display =\n",
              "          google.colab.kernel.accessAllowed ? 'block' : 'none';\n",
              "\n",
              "        async function convertToInteractive(key) {\n",
              "          const element = document.querySelector('#df-da982f63-be85-4425-9047-6851d8783fd1');\n",
              "          const dataTable =\n",
              "            await google.colab.kernel.invokeFunction('convertToInteractive',\n",
              "                                                     [key], {});\n",
              "          if (!dataTable) return;\n",
              "\n",
              "          const docLinkHtml = 'Like what you see? Visit the ' +\n",
              "            '<a target=\"_blank\" href=https://colab.research.google.com/notebooks/data_table.ipynb>data table notebook</a>'\n",
              "            + ' to learn more about interactive tables.';\n",
              "          element.innerHTML = '';\n",
              "          dataTable['output_type'] = 'display_data';\n",
              "          await google.colab.output.renderOutput(dataTable, element);\n",
              "          const docLink = document.createElement('div');\n",
              "          docLink.innerHTML = docLinkHtml;\n",
              "          element.appendChild(docLink);\n",
              "        }\n",
              "      </script>\n",
              "    </div>\n",
              "  </div>\n",
              "  "
            ]
          },
          "metadata": {},
          "execution_count": 77
        }
      ]
    },
    {
      "cell_type": "code",
      "source": [
        "import matplotlib.pyplot as plt\n",
        "plt.hist(updated_df['prob_market_fm'], bins = 20)\n",
        "plt.show()"
      ],
      "metadata": {
        "colab": {
          "base_uri": "https://localhost:8080/",
          "height": 265
        },
        "id": "6SL3WogzvlHW",
        "outputId": "14e18357-c42f-4032-c5c7-f19d8debddd2"
      },
      "execution_count": 81,
      "outputs": [
        {
          "output_type": "display_data",
          "data": {
            "text/plain": [
              "<Figure size 432x288 with 1 Axes>"
            ],
            "image/png": "[encoded data removed]"
          },
          "metadata": {
            "needs_background": "light"
          }
        }
      ]
    },
    {
      "cell_type": "code",
      "source": [
        "plt.hist(updated_df['prob_market'], bins = 20)\n",
        "plt.show()"
      ],
      "metadata": {
        "colab": {
          "base_uri": "https://localhost:8080/",
          "height": 265
        },
        "id": "6HcYwdQAwgTP",
        "outputId": "259b690a-494b-476c-fe18-c31a10e28b23"
      },
      "execution_count": 82,
      "outputs": [
        {
          "output_type": "display_data",
          "data": {
            "text/plain": [
              "<Figure size 432x288 with 1 Axes>"
            ],
            "image/png": "[encoded data removed]"
          },
          "metadata": {
            "needs_background": "light"
          }
        }
      ]
    },
    {
      "cell_type": "markdown",
      "source": [
        "# Predict only FM"
      ],
      "metadata": {
        "id": "HjS82plmCLi3"
      }
    },
    {
      "cell_type": "code",
      "source": [
        "# If Any Market BOOL\n",
        "# Prob Any Market\n",
        "# Prob FM\n",
        "# If have FM\n",
        "# If have SOME LEVEL OF PARTICIPATION BENEFIT\n",
        "\n",
        "col_to_keep = [\n",
        "'If FM',\n",
        "#'count_OFM',\n",
        "#'count_SNAP_participation_OFM', \n",
        "#'count_FNAP_participation_OFM',\n",
        "#'count_WIC_participation_OFM', \n",
        "#'count_SFMNP_participation_OFM',\n",
        "#'count_CSA', \n",
        "#'count_SNAP_participation_CSA',\n",
        "#'count_FNAP_participation_CSA', \n",
        "#'count_WIC_participation_CSA',\n",
        "#'count_SFMNP_participation_CSA', \n",
        "#'count_FM',\n",
        "#'count_SNAP_participation_FM', \n",
        "#'count_FNAP_participation_FM',\n",
        "#'count_WIC_participation_FM', \n",
        "#'count_SFMNP_participation_FM',\n",
        "'2019 Food Insecurity Rate',\n",
        "'# of Food Insecure Persons in 2019', \n",
        "'Low Threshold in state',\n",
        "#'Low Threshold Type', \n",
        "'High Threshold in state', \n",
        "#'High Threshold Type',\n",
        "'2019 Child food insecurity rate',\n",
        "'# of Food Insecure Children in 2019',\n",
        "'% food insecure children in HH w/ HH incomes below 185 FPL in 2019',\n",
        "'% food insecure children in HH w/ HH incomes above 185 FPL in 2019',\n",
        "'2019 Cost Per Meal', \n",
        "'2019 Weighted Annual Food Budget Shortfall',\n",
        "'P_FI_Below_Low_Threshold', \n",
        "'P_FI_Between_Thresholds',\n",
        "'P_FI_Above_High_Threshold', \n",
        "'TractSNAP', \n",
        "'TractHUNV', \n",
        "'TractKids', \n",
        "'TractSeniors', \n",
        "'lahunvhalf',\n",
        "'LALOWI05_10', \n",
        "'PovertyRate', \n",
        "'lalowihalf', \n",
        "'TractLOWI', \n",
        "'Urban',\n",
        "'MedianFamilyIncome',\n",
        "'estimated_population', \n",
        "'lat', \n",
        "'long'\n",
        "] \n",
        "\n",
        "updated_df_col = updated_df[col_to_keep]"
      ],
      "metadata": {
        "id": "3ezTvO_9mRAN"
      },
      "execution_count": 193,
      "outputs": []
    },
    {
      "cell_type": "code",
      "source": [
        "from sklearn.preprocessing import StandardScaler\n",
        "from numpy import loadtxt\n",
        "from numpy import sort\n",
        "from xgboost import XGBClassifier\n",
        "from sklearn.model_selection import train_test_split\n",
        "from sklearn.metrics import accuracy_score\n",
        "from sklearn.feature_selection import SelectFromModel\n",
        "from sklearn.model_selection import cross_val_score\n",
        "from sklearn.model_selection import RepeatedStratifiedKFold\n",
        "from xgboost import plot_importance\n",
        "\n",
        "\n",
        "\n",
        "X = updated_df_col.iloc[:, 1:]\n",
        "y = updated_df_col.iloc[0:,0]\n",
        "\n",
        "\n",
        "# fit model no training data\n",
        "model = XGBClassifier()\n",
        "model.fit(X, y)\n",
        "print(model.feature_importances_)\n",
        "\n",
        "# plot\n",
        "plt.bar(range(len(model.feature_importances_)), model.feature_importances_)\n",
        "plt.show()"
      ],
      "metadata": {
        "colab": {
          "base_uri": "https://localhost:8080/",
          "height": 354
        },
        "id": "SFG8R1p7qvue",
        "outputId": "49a09a55-4019-4aa4-80ee-a19141e479bf"
      },
      "execution_count": 212,
      "outputs": [
        {
          "output_type": "stream",
          "name": "stdout",
          "text": [
            "[0.01606287 0.03051486 0.05329883 0.         0.02325656 0.02688742\n",
            " 0.01865766 0.02635159 0.02248177 0.11413208 0.02139941 0.02301033\n",
            " 0.01609383 0.02764484 0.02526016 0.02806412 0.02685936 0.02432236\n",
            " 0.02844422 0.02804659 0.0236005  0.02728163 0.17915335 0.03371638\n",
            " 0.09299827 0.03808453 0.02437663]\n"
          ]
        },
        {
          "output_type": "display_data",
          "data": {
            "text/plain": [
              "<Figure size 432x288 with 1 Axes>"
            ],
            "image/png": "[encoded data removed]"
          },
          "metadata": {
            "needs_background": "light"
          }
        }
      ]
    },
    {
      "cell_type": "code",
      "source": [
        "from xgboost import plot_importance\n",
        "plt.figure(figsize = (8,8))\n",
        "plot_importance(model)\n",
        "plt.show()"
      ],
      "metadata": {
        "colab": {
          "base_uri": "https://localhost:8080/",
          "height": 313
        },
        "id": "WPh-kfnbxRZh",
        "outputId": "c4726de5-de6b-48bb-84b6-0308fc3ad2b8"
      },
      "execution_count": 213,
      "outputs": [
        {
          "output_type": "display_data",
          "data": {
            "text/plain": [
              "<Figure size 576x576 with 0 Axes>"
            ]
          },
          "metadata": {}
        },
        {
          "output_type": "display_data",
          "data": {
            "text/plain": [
              "<Figure size 432x288 with 1 Axes>"
            ],
            "image/png": "[encoded data removed]"
          },
          "metadata": {
            "needs_background": "light"
          }
        }
      ]
    },
    {
      "cell_type": "code",
      "source": [
        "from sklearn.model_selection import GridSearchCV\n",
        "from sklearn.model_selection import StratifiedKFold\n",
        "\n",
        "\n",
        "# Cross Validation\n",
        "scaler = StandardScaler()\n",
        "X = scaler.fit_transform(X)\n",
        "\n",
        "n = [10, 50, 100]\n",
        "model = XGBClassifier()\n",
        "learning_rate = [0.0001, 0.001, 0.01, 0.1, 0.2, 0.3]\n",
        "param_grid = dict(learning_rate=learning_rate, n_estimators = n)\n",
        "kfold = StratifiedKFold(n_splits=10, shuffle=True, random_state=7)\n",
        "grid_search = GridSearchCV(model, param_grid, scoring=\"neg_log_loss\", n_jobs=-1, cv=kfold)\n",
        "grid_result = grid_search.fit(X, y)\n",
        "# summarize results\n",
        "print(\"Best: %f using %s\" % (grid_result.best_score_, grid_result.best_params_))\n",
        "means = grid_result.cv_results_['mean_test_score']\n",
        "stds = grid_result.cv_results_['std_test_score']\n",
        "params = grid_result.cv_results_['params']\n",
        "for mean, stdev, param in zip(means, stds, params):\n",
        "\tprint(\"%f (%f) with: %r\" % (mean, stdev, param))"
      ],
      "metadata": {
        "colab": {
          "base_uri": "https://localhost:8080/"
        },
        "id": "qFU9wl6X9cDl",
        "outputId": "2e3536b0-06c3-4d81-922b-c47220c8f9cc"
      },
      "execution_count": 200,
      "outputs": [
        {
          "output_type": "stream",
          "name": "stdout",
          "text": [
            "Best: -0.393650 using {'learning_rate': 0.1, 'n_estimators': 50}\n",
            "-0.692646 (0.000022) with: {'learning_rate': 0.0001, 'n_estimators': 10}\n",
            "-0.690651 (0.000110) with: {'learning_rate': 0.0001, 'n_estimators': 50}\n",
            "-0.688177 (0.000221) with: {'learning_rate': 0.0001, 'n_estimators': 100}\n",
            "-0.688175 (0.000221) with: {'learning_rate': 0.001, 'n_estimators': 10}\n",
            "-0.669233 (0.001089) with: {'learning_rate': 0.001, 'n_estimators': 50}\n",
            "-0.647551 (0.002139) with: {'learning_rate': 0.001, 'n_estimators': 100}\n",
            "-0.647369 (0.002154) with: {'learning_rate': 0.01, 'n_estimators': 10}\n",
            "-0.529159 (0.009435) with: {'learning_rate': 0.01, 'n_estimators': 50}\n",
            "-0.457785 (0.015957) with: {'learning_rate': 0.01, 'n_estimators': 100}\n",
            "-0.454773 (0.016391) with: {'learning_rate': 0.1, 'n_estimators': 10}\n",
            "-0.393650 (0.030137) with: {'learning_rate': 0.1, 'n_estimators': 50}\n",
            "-0.397123 (0.031962) with: {'learning_rate': 0.1, 'n_estimators': 100}\n",
            "-0.406356 (0.025701) with: {'learning_rate': 0.2, 'n_estimators': 10}\n",
            "-0.398366 (0.032959) with: {'learning_rate': 0.2, 'n_estimators': 50}\n",
            "-0.410676 (0.039955) with: {'learning_rate': 0.2, 'n_estimators': 100}\n",
            "-0.397512 (0.030568) with: {'learning_rate': 0.3, 'n_estimators': 10}\n",
            "-0.411902 (0.033596) with: {'learning_rate': 0.3, 'n_estimators': 50}\n",
            "-0.434717 (0.043407) with: {'learning_rate': 0.3, 'n_estimators': 100}\n"
          ]
        }
      ]
    },
    {
      "cell_type": "code",
      "source": [
        "# split data into X and y\n",
        "X = updated_df_col.iloc[:, 1:]\n",
        "Y = updated_df_col.iloc[0:,0]\n",
        "\n",
        "\n",
        "# split data into train and test sets\n",
        "X_train, X_test, y_train, y_test = train_test_split(X, Y, test_size=0.20, random_state=7)\n",
        "\n",
        "# fit model on all training data\n",
        "model = XGBClassifier()\n",
        "model.fit(X_train, y_train)\n",
        "\n",
        "# make predictions for test data and evaluate\n",
        "y_pred = model.predict(X_test)\n",
        "accuracy = accuracy_score(y_test, y_pred)* 100.0\n",
        "print(f\"Accuracy: {round(accuracy,2)}%\")"
      ],
      "metadata": {
        "colab": {
          "base_uri": "https://localhost:8080/"
        },
        "id": "wGvCcwqoxhxl",
        "outputId": "b49326bc-95e7-46e3-b0de-3e25a7c2602d"
      },
      "execution_count": 222,
      "outputs": [
        {
          "output_type": "stream",
          "name": "stdout",
          "text": [
            "Accuracy: 80.23%\n"
          ]
        }
      ]
    },
    {
      "cell_type": "code",
      "source": [
        "from sklearn.metrics import classification_report\n",
        "print(classification_report(y_test, y_pred))\n",
        "y_prob = model.predict_proba(X)\n",
        "updated_df['probs on whole fm'] = y_prob[:,1]\n",
        "prob_whole_fm = updated_df.sort_values(by = 'probs on whole fm')[::-1]\n",
        "prob_whole_fm[['County', 'State', 'probs on whole fm']].loc[prob_whole_fm['If FM'] == 0]\n",
        "\n",
        "updated_df['probabilities_fm'] = updated_df.index.map(dict(zip(y_test.index, y_prob[:,1])))\n",
        "prob_fm = updated_df[['probabilities_fm', 'County', 'State', 'If FM']].dropna().sort_values(by = 'probabilities_fm')[::-1]\n",
        "prob_fm.loc[prob_fm['If FM'] == 0]"
      ],
      "metadata": {
        "colab": {
          "base_uri": "https://localhost:8080/",
          "height": 583
        },
        "id": "LRPT7TLpOWXD",
        "outputId": "e4377906-9bb6-466a-9573-ac9d21d5a6bd"
      },
      "execution_count": 275,
      "outputs": [
        {
          "output_type": "stream",
          "name": "stdout",
          "text": [
            "              precision    recall  f1-score   support\n",
            "\n",
            "         0.0       0.82      0.95      0.88       485\n",
            "         1.0       0.62      0.27      0.38       137\n",
            "\n",
            "    accuracy                           0.80       622\n",
            "   macro avg       0.72      0.61      0.63       622\n",
            "weighted avg       0.78      0.80      0.77       622\n",
            "\n"
          ]
        },
        {
          "output_type": "execute_result",
          "data": {
            "text/plain": [
              "                   County       State  probs on whole fm\n",
              "1775        Bergen County  New Jersey           0.927096\n",
              "1748         Clark County      Nevada           0.848678\n",
              "547       Honolulu County      Hawaii           0.823929\n",
              "1777        Camden County  New Jersey           0.766589\n",
              "1870      Richmond County    New York           0.751278\n",
              "...                   ...         ...                ...\n",
              "2746  Throckmorton County       Texas           0.003543\n",
              "2753         Upton County       Texas           0.003468\n",
              "2545       Briscoe County       Texas           0.003360\n",
              "2609     Glasscock County       Texas           0.003197\n",
              "2577     Culberson County       Texas           0.003173\n",
              "\n",
              "[2526 rows x 3 columns]"
            ],
            "text/html": [
              "\n",
              "  <div id=\"df-fe214cf8-0167-4b96-b042-650bf81cafe3\">\n",
              "    <div class=\"colab-df-container\">\n",
              "      <div>\n",
              "<style scoped>\n",
              "    .dataframe tbody tr th:only-of-type {\n",
              "        vertical-align: middle;\n",
              "    }\n",
              "\n",
              "    .dataframe tbody tr th {\n",
              "        vertical-align: top;\n",
              "    }\n",
              "\n",
              "    .dataframe thead th {\n",
              "        text-align: right;\n",
              "    }\n",
              "</style>\n",
              "<table border=\"1\" class=\"dataframe\">\n",
              "  <thead>\n",
              "    <tr style=\"text-align: right;\">\n",
              "      <th></th>\n",
              "      <th>County</th>\n",
              "      <th>State</th>\n",
              "      <th>probs on whole fm</th>\n",
              "    </tr>\n",
              "  </thead>\n",
              "  <tbody>\n",
              "    <tr>\n",
              "      <th>1775</th>\n",
              "      <td>Bergen County</td>\n",
              "      <td>New Jersey</td>\n",
              "      <td>0.927096</td>\n",
              "    </tr>\n",
              "    <tr>\n",
              "      <th>1748</th>\n",
              "      <td>Clark County</td>\n",
              "      <td>Nevada</td>\n",
              "      <td>0.848678</td>\n",
              "    </tr>\n",
              "    <tr>\n",
              "      <th>547</th>\n",
              "      <td>Honolulu County</td>\n",
              "      <td>Hawaii</td>\n",
              "      <td>0.823929</td>\n",
              "    </tr>\n",
              "    <tr>\n",
              "      <th>1777</th>\n",
              "      <td>Camden County</td>\n",
              "      <td>New Jersey</td>\n",
              "      <td>0.766589</td>\n",
              "    </tr>\n",
              "    <tr>\n",
              "      <th>1870</th>\n",
              "      <td>Richmond County</td>\n",
              "      <td>New York</td>\n",
              "      <td>0.751278</td>\n",
              "    </tr>\n",
              "    <tr>\n",
              "      <th>...</th>\n",
              "      <td>...</td>\n",
              "      <td>...</td>\n",
              "      <td>...</td>\n",
              "    </tr>\n",
              "    <tr>\n",
              "      <th>2746</th>\n",
              "      <td>Throckmorton County</td>\n",
              "      <td>Texas</td>\n",
              "      <td>0.003543</td>\n",
              "    </tr>\n",
              "    <tr>\n",
              "      <th>2753</th>\n",
              "      <td>Upton County</td>\n",
              "      <td>Texas</td>\n",
              "      <td>0.003468</td>\n",
              "    </tr>\n",
              "    <tr>\n",
              "      <th>2545</th>\n",
              "      <td>Briscoe County</td>\n",
              "      <td>Texas</td>\n",
              "      <td>0.003360</td>\n",
              "    </tr>\n",
              "    <tr>\n",
              "      <th>2609</th>\n",
              "      <td>Glasscock County</td>\n",
              "      <td>Texas</td>\n",
              "      <td>0.003197</td>\n",
              "    </tr>\n",
              "    <tr>\n",
              "      <th>2577</th>\n",
              "      <td>Culberson County</td>\n",
              "      <td>Texas</td>\n",
              "      <td>0.003173</td>\n",
              "    </tr>\n",
              "  </tbody>\n",
              "</table>\n",
              "<p>2526 rows × 3 columns</p>\n",
              "</div>\n",
              "      <button class=\"colab-df-convert\" onclick=\"convertToInteractive('df-fe214cf8-0167-4b96-b042-650bf81cafe3')\"\n",
              "              title=\"Convert this dataframe to an interactive table.\"\n",
              "              style=\"display:none;\">\n",
              "        \n",
              "  <svg xmlns=\"http://www.w3.org/2000/svg\" height=\"24px\"viewBox=\"0 0 24 24\"\n",
              "       width=\"24px\">\n",
              "    <path d=\"M0 0h24v24H0V0z\" fill=\"none\"/>\n",
              "    <path d=\"M18.56 5.44l.94 2.06.94-2.06 2.06-.94-2.06-.94-.94-2.06-.94 2.06-2.06.94zm-11 1L8.5 8.5l.94-2.06 2.06-.94-2.06-.94L8.5 2.5l-.94 2.06-2.06.94zm10 10l.94 2.06.94-2.06 2.06-.94-2.06-.94-.94-2.06-.94 2.06-2.06.94z\"/><path d=\"M17.41 7.96l-1.37-1.37c-.4-.4-.92-.59-1.43-.59-.52 0-1.04.2-1.43.59L10.3 9.45l-7.72 7.72c-.78.78-.78 2.05 0 2.83L4 21.41c.39.39.9.59 1.41.59.51 0 1.02-.2 1.41-.59l7.78-7.78 2.81-2.81c.8-.78.8-2.07 0-2.86zM5.41 20L4 18.59l7.72-7.72 1.47 1.35L5.41 20z\"/>\n",
              "  </svg>\n",
              "      </button>\n",
              "      \n",
              "  <style>\n",
              "    .colab-df-container {\n",
              "      display:flex;\n",
              "      flex-wrap:wrap;\n",
              "      gap: 12px;\n",
              "    }\n",
              "\n",
              "    .colab-df-convert {\n",
              "      background-color: #E8F0FE;\n",
              "      border: none;\n",
              "      border-radius: 50%;\n",
              "      cursor: pointer;\n",
              "      display: none;\n",
              "      fill: #1967D2;\n",
              "      height: 32px;\n",
              "      padding: 0 0 0 0;\n",
              "      width: 32px;\n",
              "    }\n",
              "\n",
              "    .colab-df-convert:hover {\n",
              "      background-color: #E2EBFA;\n",
              "      box-shadow: 0px 1px 2px rgba(60, 64, 67, 0.3), 0px 1px 3px 1px rgba(60, 64, 67, 0.15);\n",
              "      fill: #174EA6;\n",
              "    }\n",
              "\n",
              "    [theme=dark] .colab-df-convert {\n",
              "      background-color: #3B4455;\n",
              "      fill: #D2E3FC;\n",
              "    }\n",
              "\n",
              "    [theme=dark] .colab-df-convert:hover {\n",
              "      background-color: #434B5C;\n",
              "      box-shadow: 0px 1px 3px 1px rgba(0, 0, 0, 0.15);\n",
              "      filter: drop-shadow(0px 1px 2px rgba(0, 0, 0, 0.3));\n",
              "      fill: #FFFFFF;\n",
              "    }\n",
              "  </style>\n",
              "\n",
              "      <script>\n",
              "        const buttonEl =\n",
              "          document.querySelector('#df-fe214cf8-0167-4b96-b042-650bf81cafe3 button.colab-df-convert');\n",
              "        buttonEl.style.display =\n",
              "          google.colab.kernel.accessAllowed ? 'block' : 'none';\n",
              "\n",
              "        async function convertToInteractive(key) {\n",
              "          const element = document.querySelector('#df-fe214cf8-0167-4b96-b042-650bf81cafe3');\n",
              "          const dataTable =\n",
              "            await google.colab.kernel.invokeFunction('convertToInteractive',\n",
              "                                                     [key], {});\n",
              "          if (!dataTable) return;\n",
              "\n",
              "          const docLinkHtml = 'Like what you see? Visit the ' +\n",
              "            '<a target=\"_blank\" href=https://colab.research.google.com/notebooks/data_table.ipynb>data table notebook</a>'\n",
              "            + ' to learn more about interactive tables.';\n",
              "          element.innerHTML = '';\n",
              "          dataTable['output_type'] = 'display_data';\n",
              "          await google.colab.output.renderOutput(dataTable, element);\n",
              "          const docLink = document.createElement('div');\n",
              "          docLink.innerHTML = docLinkHtml;\n",
              "          element.appendChild(docLink);\n",
              "        }\n",
              "      </script>\n",
              "    </div>\n",
              "  </div>\n",
              "  "
            ]
          },
          "metadata": {},
          "execution_count": 275
        }
      ]
    },
    {
      "cell_type": "markdown",
      "source": [
        "# Predict Any Market"
      ],
      "metadata": {
        "id": "shL7McWQCODM"
      }
    },
    {
      "cell_type": "code",
      "source": [
        "# If Any Market BOOL\n",
        "# Prob Any Market\n",
        "# Prob FM\n",
        "# If have FM\n",
        "# If have SOME LEVEL OF PARTICIPATION BENEFIT\n",
        "\n",
        "col_to_keep = [\n",
        "'If Any Market Type',\n",
        "#'count_OFM',\n",
        "#'count_SNAP_participation_OFM', \n",
        "#'count_FNAP_participation_OFM',\n",
        "#'count_WIC_participation_OFM', \n",
        "#'count_SFMNP_participation_OFM',\n",
        "#'count_CSA', \n",
        "#'count_SNAP_participation_CSA',\n",
        "#'count_FNAP_participation_CSA', \n",
        "#'count_WIC_participation_CSA',\n",
        "#'count_SFMNP_participation_CSA', \n",
        "#'count_FM',\n",
        "#'count_SNAP_participation_FM', \n",
        "#'count_FNAP_participation_FM',\n",
        "#'count_WIC_participation_FM', \n",
        "#'count_SFMNP_participation_FM',\n",
        "'2019 Food Insecurity Rate',\n",
        "'# of Food Insecure Persons in 2019', \n",
        "'Low Threshold in state',\n",
        "#'Low Threshold Type', \n",
        "'High Threshold in state', \n",
        "#'High Threshold Type',\n",
        "'2019 Child food insecurity rate',\n",
        "'# of Food Insecure Children in 2019',\n",
        "'% food insecure children in HH w/ HH incomes below 185 FPL in 2019',\n",
        "'% food insecure children in HH w/ HH incomes above 185 FPL in 2019',\n",
        "'2019 Cost Per Meal', \n",
        "'2019 Weighted Annual Food Budget Shortfall',\n",
        "'P_FI_Below_Low_Threshold', \n",
        "'P_FI_Between_Thresholds',\n",
        "'P_FI_Above_High_Threshold', \n",
        "'TractSNAP', \n",
        "'TractHUNV', \n",
        "'TractKids', \n",
        "'TractSeniors', \n",
        "'lahunvhalf',\n",
        "'LALOWI05_10', \n",
        "'PovertyRate', \n",
        "'lalowihalf', \n",
        "'TractLOWI', \n",
        "'Urban',\n",
        "'MedianFamilyIncome',\n",
        "'estimated_population', \n",
        "'lat', \n",
        "'long'\n",
        "] \n",
        "\n",
        "updated_df_col = updated_df[col_to_keep]"
      ],
      "metadata": {
        "id": "Ig4EvTS5y-UG"
      },
      "execution_count": 277,
      "outputs": []
    },
    {
      "cell_type": "code",
      "source": [
        "X = updated_df_col.iloc[:, 1:]\n",
        "y = updated_df_col.iloc[0:,0]\n",
        "\n",
        "\n",
        "# fit model no training data\n",
        "model = XGBClassifier()\n",
        "model.fit(X, y)\n",
        "print(model.feature_importances_)\n",
        "\n",
        "# plot\n",
        "plt.bar(range(len(model.feature_importances_)), model.feature_importances_)\n",
        "plt.show()"
      ],
      "metadata": {
        "colab": {
          "base_uri": "https://localhost:8080/",
          "height": 354
        },
        "id": "G_rg0aKSC-th",
        "outputId": "328205e6-e940-4166-e095-093f73a7c5f9"
      },
      "execution_count": 278,
      "outputs": [
        {
          "output_type": "stream",
          "name": "stdout",
          "text": [
            "[0.02870857 0.01819525 0.04374683 0.         0.02782948 0.01624901\n",
            " 0.01670986 0.02460522 0.02485554 0.03687439 0.01869545 0.01936883\n",
            " 0.02549376 0.01672934 0.02431083 0.0175987  0.02403204 0.01757407\n",
            " 0.0217099  0.02206047 0.01920644 0.02751077 0.11671829 0.03078077\n",
            " 0.2797301  0.05036656 0.0303394 ]\n"
          ]
        },
        {
          "output_type": "display_data",
          "data": {
            "text/plain": [
              "<Figure size 432x288 with 1 Axes>"
            ],
            "image/png": "[encoded data removed]"
          },
          "metadata": {
            "needs_background": "light"
          }
        }
      ]
    },
    {
      "cell_type": "code",
      "source": [
        "from xgboost import plot_importance\n",
        "plt.figure(figsize = (8,8))\n",
        "plot_importance(model)\n",
        "plt.show()"
      ],
      "metadata": {
        "colab": {
          "base_uri": "https://localhost:8080/",
          "height": 313
        },
        "id": "OxzUYaPYP6LU",
        "outputId": "80c6e218-b0ed-4e42-9b71-79db87751d5f"
      },
      "execution_count": 280,
      "outputs": [
        {
          "output_type": "display_data",
          "data": {
            "text/plain": [
              "<Figure size 576x576 with 0 Axes>"
            ]
          },
          "metadata": {}
        },
        {
          "output_type": "display_data",
          "data": {
            "text/plain": [
              "<Figure size 432x288 with 1 Axes>"
            ],
            "image/png": "[encoded data removed]"
          },
          "metadata": {
            "needs_background": "light"
          }
        }
      ]
    },
    {
      "cell_type": "code",
      "source": [
        "from sklearn.model_selection import GridSearchCV\n",
        "from sklearn.model_selection import StratifiedKFold\n",
        "\n",
        "\n",
        "# Cross Validation\n",
        "scaler = StandardScaler()\n",
        "X = scaler.fit_transform(X)\n",
        "\n",
        "n = [10, 50, 100]\n",
        "model = XGBClassifier()\n",
        "learning_rate = [0.0001, 0.001, 0.01, 0.1, 0.2, 0.3]\n",
        "param_grid = dict(learning_rate=learning_rate, n_estimators = n)\n",
        "kfold = StratifiedKFold(n_splits=10, shuffle=True, random_state=7)\n",
        "grid_search = GridSearchCV(model, param_grid, scoring=\"neg_log_loss\", n_jobs=-1, cv=kfold)\n",
        "grid_result = grid_search.fit(X, y)\n",
        "# summarize results\n",
        "print(\"Best: %f using %s\" % (grid_result.best_score_, grid_result.best_params_))\n",
        "means = grid_result.cv_results_['mean_test_score']\n",
        "stds = grid_result.cv_results_['std_test_score']\n",
        "params = grid_result.cv_results_['params']\n",
        "for mean, stdev, param in zip(means, stds, params):\n",
        "\tprint(\"%f (%f) with: %r\" % (mean, stdev, param))"
      ],
      "metadata": {
        "colab": {
          "base_uri": "https://localhost:8080/"
        },
        "id": "Y4ZQ3kKDDERN",
        "outputId": "10ba5ba3-babe-4ce9-f619-88d2aec1bda8"
      },
      "execution_count": 281,
      "outputs": [
        {
          "output_type": "stream",
          "name": "stdout",
          "text": [
            "Best: -0.490887 using {'learning_rate': 0.1, 'n_estimators': 100}\n",
            "-0.692828 (0.000017) with: {'learning_rate': 0.0001, 'n_estimators': 10}\n",
            "-0.691558 (0.000085) with: {'learning_rate': 0.0001, 'n_estimators': 50}\n",
            "-0.689986 (0.000170) with: {'learning_rate': 0.0001, 'n_estimators': 100}\n",
            "-0.689985 (0.000171) with: {'learning_rate': 0.001, 'n_estimators': 10}\n",
            "-0.677924 (0.000779) with: {'learning_rate': 0.001, 'n_estimators': 50}\n",
            "-0.664159 (0.001512) with: {'learning_rate': 0.001, 'n_estimators': 100}\n",
            "-0.664064 (0.001521) with: {'learning_rate': 0.01, 'n_estimators': 10}\n",
            "-0.588597 (0.006565) with: {'learning_rate': 0.01, 'n_estimators': 50}\n",
            "-0.541740 (0.011188) with: {'learning_rate': 0.01, 'n_estimators': 100}\n",
            "-0.539807 (0.011697) with: {'learning_rate': 0.1, 'n_estimators': 10}\n",
            "-0.491189 (0.024276) with: {'learning_rate': 0.1, 'n_estimators': 50}\n",
            "-0.490887 (0.026788) with: {'learning_rate': 0.1, 'n_estimators': 100}\n",
            "-0.504725 (0.017795) with: {'learning_rate': 0.2, 'n_estimators': 10}\n",
            "-0.494161 (0.026087) with: {'learning_rate': 0.2, 'n_estimators': 50}\n",
            "-0.500874 (0.027620) with: {'learning_rate': 0.2, 'n_estimators': 100}\n",
            "-0.497239 (0.024677) with: {'learning_rate': 0.3, 'n_estimators': 10}\n",
            "-0.499330 (0.034522) with: {'learning_rate': 0.3, 'n_estimators': 50}\n",
            "-0.510253 (0.039305) with: {'learning_rate': 0.3, 'n_estimators': 100}\n"
          ]
        }
      ]
    },
    {
      "cell_type": "code",
      "source": [
        "# split data into X and y\n",
        "X = updated_df_col.iloc[:, 1:]\n",
        "Y = updated_df_col.iloc[0:,0]\n",
        "\n",
        "\n",
        "# split data into train and test sets\n",
        "X_train, X_test, y_train, y_test = train_test_split(X, Y, test_size=0.20, random_state=7)\n",
        "\n",
        "# fit model on all training data\n",
        "model = XGBClassifier()\n",
        "model.fit(X_train, y_train)\n",
        "\n",
        "# make predictions for test data and evaluate\n",
        "y_pred = model.predict(X_test)\n",
        "predictions = [round(value) for value in y_pred]\n",
        "accuracy = accuracy_score(y_test, predictions)\n",
        "print(\"Accuracy: %.2f%%\" % (accuracy * 100.0))"
      ],
      "metadata": {
        "colab": {
          "base_uri": "https://localhost:8080/"
        },
        "id": "w0MKdYyKDMnD",
        "outputId": "69a05c9b-b618-45a7-d0f2-c3e7a5615b32"
      },
      "execution_count": 282,
      "outputs": [
        {
          "output_type": "stream",
          "name": "stdout",
          "text": [
            "Accuracy: 76.85%\n"
          ]
        }
      ]
    },
    {
      "cell_type": "code",
      "source": [
        "from sklearn.metrics import classification_report\n",
        "print(classification_report(y_test, y_pred))\n",
        "y_prob = model.predict_proba(X)\n",
        "\n",
        "updated_df['probabilities_any_market'] = updated_df.index.map(dict(zip(y_test.index, y_prob[:,1])))\n",
        "prob_fm = updated_df[['probabilities_any_market', 'County', 'State', 'If Any Market Type']].dropna().sort_values(by = 'probabilities_any_market')[::-1]\n",
        "prob_fm.loc[prob_fm['If Any Market Type'] == 0]"
      ],
      "metadata": {
        "colab": {
          "base_uri": "https://localhost:8080/",
          "height": 583
        },
        "id": "6WH06mgWPp0Q",
        "outputId": "d6b69249-82b6-4b49-90ae-1d6b85872269"
      },
      "execution_count": 284,
      "outputs": [
        {
          "output_type": "stream",
          "name": "stdout",
          "text": [
            "              precision    recall  f1-score   support\n",
            "\n",
            "         0.0       0.74      0.85      0.79       318\n",
            "         1.0       0.81      0.68      0.74       304\n",
            "\n",
            "    accuracy                           0.77       622\n",
            "   macro avg       0.78      0.77      0.77       622\n",
            "weighted avg       0.77      0.77      0.77       622\n",
            "\n"
          ]
        },
        {
          "output_type": "execute_result",
          "data": {
            "text/plain": [
              "      probabilities_any_market            County        State  \\\n",
              "418                   0.982771     Clinch County      Georgia   \n",
              "1054                  0.979651      Larue County     Kentucky   \n",
              "2                     0.976046    Barbour County      Alabama   \n",
              "2191                  0.975831  Pittsburg County     Oklahoma   \n",
              "1402                  0.975296     Alcorn County  Mississippi   \n",
              "...                        ...               ...          ...   \n",
              "98                    0.032487   Coconino County      Arizona   \n",
              "772                   0.032334    Steuben County      Indiana   \n",
              "2820                  0.026163   Accomack County     Virginia   \n",
              "2074                  0.025560    Hancock County         Ohio   \n",
              "121                   0.017044       Clay County     Arkansas   \n",
              "\n",
              "      If Any Market Type  \n",
              "418                  0.0  \n",
              "1054                 0.0  \n",
              "2                    0.0  \n",
              "2191                 0.0  \n",
              "1402                 0.0  \n",
              "...                  ...  \n",
              "98                   0.0  \n",
              "772                  0.0  \n",
              "2820                 0.0  \n",
              "2074                 0.0  \n",
              "121                  0.0  \n",
              "\n",
              "[318 rows x 4 columns]"
            ],
            "text/html": [
              "\n",
              "  <div id=\"df-641cfee5-923a-404e-baf3-7ef8b4c49a50\">\n",
              "    <div class=\"colab-df-container\">\n",
              "      <div>\n",
              "<style scoped>\n",
              "    .dataframe tbody tr th:only-of-type {\n",
              "        vertical-align: middle;\n",
              "    }\n",
              "\n",
              "    .dataframe tbody tr th {\n",
              "        vertical-align: top;\n",
              "    }\n",
              "\n",
              "    .dataframe thead th {\n",
              "        text-align: right;\n",
              "    }\n",
              "</style>\n",
              "<table border=\"1\" class=\"dataframe\">\n",
              "  <thead>\n",
              "    <tr style=\"text-align: right;\">\n",
              "      <th></th>\n",
              "      <th>probabilities_any_market</th>\n",
              "      <th>County</th>\n",
              "      <th>State</th>\n",
              "      <th>If Any Market Type</th>\n",
              "    </tr>\n",
              "  </thead>\n",
              "  <tbody>\n",
              "    <tr>\n",
              "      <th>418</th>\n",
              "      <td>0.982771</td>\n",
              "      <td>Clinch County</td>\n",
              "      <td>Georgia</td>\n",
              "      <td>0.0</td>\n",
              "    </tr>\n",
              "    <tr>\n",
              "      <th>1054</th>\n",
              "      <td>0.979651</td>\n",
              "      <td>Larue County</td>\n",
              "      <td>Kentucky</td>\n",
              "      <td>0.0</td>\n",
              "    </tr>\n",
              "    <tr>\n",
              "      <th>2</th>\n",
              "      <td>0.976046</td>\n",
              "      <td>Barbour County</td>\n",
              "      <td>Alabama</td>\n",
              "      <td>0.0</td>\n",
              "    </tr>\n",
              "    <tr>\n",
              "      <th>2191</th>\n",
              "      <td>0.975831</td>\n",
              "      <td>Pittsburg County</td>\n",
              "      <td>Oklahoma</td>\n",
              "      <td>0.0</td>\n",
              "    </tr>\n",
              "    <tr>\n",
              "      <th>1402</th>\n",
              "      <td>0.975296</td>\n",
              "      <td>Alcorn County</td>\n",
              "      <td>Mississippi</td>\n",
              "      <td>0.0</td>\n",
              "    </tr>\n",
              "    <tr>\n",
              "      <th>...</th>\n",
              "      <td>...</td>\n",
              "      <td>...</td>\n",
              "      <td>...</td>\n",
              "      <td>...</td>\n",
              "    </tr>\n",
              "    <tr>\n",
              "      <th>98</th>\n",
              "      <td>0.032487</td>\n",
              "      <td>Coconino County</td>\n",
              "      <td>Arizona</td>\n",
              "      <td>0.0</td>\n",
              "    </tr>\n",
              "    <tr>\n",
              "      <th>772</th>\n",
              "      <td>0.032334</td>\n",
              "      <td>Steuben County</td>\n",
              "      <td>Indiana</td>\n",
              "      <td>0.0</td>\n",
              "    </tr>\n",
              "    <tr>\n",
              "      <th>2820</th>\n",
              "      <td>0.026163</td>\n",
              "      <td>Accomack County</td>\n",
              "      <td>Virginia</td>\n",
              "      <td>0.0</td>\n",
              "    </tr>\n",
              "    <tr>\n",
              "      <th>2074</th>\n",
              "      <td>0.025560</td>\n",
              "      <td>Hancock County</td>\n",
              "      <td>Ohio</td>\n",
              "      <td>0.0</td>\n",
              "    </tr>\n",
              "    <tr>\n",
              "      <th>121</th>\n",
              "      <td>0.017044</td>\n",
              "      <td>Clay County</td>\n",
              "      <td>Arkansas</td>\n",
              "      <td>0.0</td>\n",
              "    </tr>\n",
              "  </tbody>\n",
              "</table>\n",
              "<p>318 rows × 4 columns</p>\n",
              "</div>\n",
              "      <button class=\"colab-df-convert\" onclick=\"convertToInteractive('df-641cfee5-923a-404e-baf3-7ef8b4c49a50')\"\n",
              "              title=\"Convert this dataframe to an interactive table.\"\n",
              "              style=\"display:none;\">\n",
              "        \n",
              "  <svg xmlns=\"http://www.w3.org/2000/svg\" height=\"24px\"viewBox=\"0 0 24 24\"\n",
              "       width=\"24px\">\n",
              "    <path d=\"M0 0h24v24H0V0z\" fill=\"none\"/>\n",
              "    <path d=\"M18.56 5.44l.94 2.06.94-2.06 2.06-.94-2.06-.94-.94-2.06-.94 2.06-2.06.94zm-11 1L8.5 8.5l.94-2.06 2.06-.94-2.06-.94L8.5 2.5l-.94 2.06-2.06.94zm10 10l.94 2.06.94-2.06 2.06-.94-2.06-.94-.94-2.06-.94 2.06-2.06.94z\"/><path d=\"M17.41 7.96l-1.37-1.37c-.4-.4-.92-.59-1.43-.59-.52 0-1.04.2-1.43.59L10.3 9.45l-7.72 7.72c-.78.78-.78 2.05 0 2.83L4 21.41c.39.39.9.59 1.41.59.51 0 1.02-.2 1.41-.59l7.78-7.78 2.81-2.81c.8-.78.8-2.07 0-2.86zM5.41 20L4 18.59l7.72-7.72 1.47 1.35L5.41 20z\"/>\n",
              "  </svg>\n",
              "      </button>\n",
              "      \n",
              "  <style>\n",
              "    .colab-df-container {\n",
              "      display:flex;\n",
              "      flex-wrap:wrap;\n",
              "      gap: 12px;\n",
              "    }\n",
              "\n",
              "    .colab-df-convert {\n",
              "      background-color: #E8F0FE;\n",
              "      border: none;\n",
              "      border-radius: 50%;\n",
              "      cursor: pointer;\n",
              "      display: none;\n",
              "      fill: #1967D2;\n",
              "      height: 32px;\n",
              "      padding: 0 0 0 0;\n",
              "      width: 32px;\n",
              "    }\n",
              "\n",
              "    .colab-df-convert:hover {\n",
              "      background-color: #E2EBFA;\n",
              "      box-shadow: 0px 1px 2px rgba(60, 64, 67, 0.3), 0px 1px 3px 1px rgba(60, 64, 67, 0.15);\n",
              "      fill: #174EA6;\n",
              "    }\n",
              "\n",
              "    [theme=dark] .colab-df-convert {\n",
              "      background-color: #3B4455;\n",
              "      fill: #D2E3FC;\n",
              "    }\n",
              "\n",
              "    [theme=dark] .colab-df-convert:hover {\n",
              "      background-color: #434B5C;\n",
              "      box-shadow: 0px 1px 3px 1px rgba(0, 0, 0, 0.15);\n",
              "      filter: drop-shadow(0px 1px 2px rgba(0, 0, 0, 0.3));\n",
              "      fill: #FFFFFF;\n",
              "    }\n",
              "  </style>\n",
              "\n",
              "      <script>\n",
              "        const buttonEl =\n",
              "          document.querySelector('#df-641cfee5-923a-404e-baf3-7ef8b4c49a50 button.colab-df-convert');\n",
              "        buttonEl.style.display =\n",
              "          google.colab.kernel.accessAllowed ? 'block' : 'none';\n",
              "\n",
              "        async function convertToInteractive(key) {\n",
              "          const element = document.querySelector('#df-641cfee5-923a-404e-baf3-7ef8b4c49a50');\n",
              "          const dataTable =\n",
              "            await google.colab.kernel.invokeFunction('convertToInteractive',\n",
              "                                                     [key], {});\n",
              "          if (!dataTable) return;\n",
              "\n",
              "          const docLinkHtml = 'Like what you see? Visit the ' +\n",
              "            '<a target=\"_blank\" href=https://colab.research.google.com/notebooks/data_table.ipynb>data table notebook</a>'\n",
              "            + ' to learn more about interactive tables.';\n",
              "          element.innerHTML = '';\n",
              "          dataTable['output_type'] = 'display_data';\n",
              "          await google.colab.output.renderOutput(dataTable, element);\n",
              "          const docLink = document.createElement('div');\n",
              "          docLink.innerHTML = docLinkHtml;\n",
              "          element.appendChild(docLink);\n",
              "        }\n",
              "      </script>\n",
              "    </div>\n",
              "  </div>\n",
              "  "
            ]
          },
          "metadata": {},
          "execution_count": 284
        }
      ]
    },
    {
      "cell_type": "markdown",
      "source": [
        "# Any Market probability"
      ],
      "metadata": {
        "id": "LL5Qzvd-RR32"
      }
    },
    {
      "cell_type": "code",
      "source": [
        "col_to_keep = [\n",
        "'prob_market',\n",
        "#'count_OFM',\n",
        "#'count_SNAP_participation_OFM', \n",
        "#'count_FNAP_participation_OFM',\n",
        "#'count_WIC_participation_OFM', \n",
        "#'count_SFMNP_participation_OFM',\n",
        "#'count_CSA', \n",
        "#'count_SNAP_participation_CSA',\n",
        "#'count_FNAP_participation_CSA', \n",
        "#'count_WIC_participation_CSA',\n",
        "#'count_SFMNP_participation_CSA', \n",
        "#'count_FM',\n",
        "#'count_SNAP_participation_FM', \n",
        "#'count_FNAP_participation_FM',\n",
        "#'count_WIC_participation_FM', \n",
        "#'count_SFMNP_participation_FM',\n",
        "'2019 Food Insecurity Rate',\n",
        "'# of Food Insecure Persons in 2019', \n",
        "'Low Threshold in state',\n",
        "#'Low Threshold Type', \n",
        "'High Threshold in state', \n",
        "#'High Threshold Type',\n",
        "'2019 Child food insecurity rate',\n",
        "'# of Food Insecure Children in 2019',\n",
        "'% food insecure children in HH w/ HH incomes below 185 FPL in 2019',\n",
        "'% food insecure children in HH w/ HH incomes above 185 FPL in 2019',\n",
        "'2019 Cost Per Meal', \n",
        "'2019 Weighted Annual Food Budget Shortfall',\n",
        "'P_FI_Below_Low_Threshold', \n",
        "'P_FI_Between_Thresholds',\n",
        "'P_FI_Above_High_Threshold', \n",
        "'TractSNAP', \n",
        "'TractHUNV', \n",
        "'TractKids', \n",
        "'TractSeniors', \n",
        "'lahunvhalf',\n",
        "'LALOWI05_10', \n",
        "'PovertyRate', \n",
        "'lalowihalf', \n",
        "'TractLOWI', \n",
        "'Urban',\n",
        "'MedianFamilyIncome',\n",
        "'estimated_population', \n",
        "'lat', \n",
        "'long'\n",
        "] \n",
        "\n",
        "updated_df_col = updated_df[col_to_keep]"
      ],
      "metadata": {
        "id": "7mB7Gj3UQIKj"
      },
      "execution_count": 292,
      "outputs": []
    },
    {
      "cell_type": "code",
      "source": [
        "y"
      ],
      "metadata": {
        "colab": {
          "base_uri": "https://localhost:8080/"
        },
        "id": "ixFN4G0uSbt7",
        "outputId": "7c8f0755-575f-4c49-ba7a-24e5c88a7b0e"
      },
      "execution_count": 298,
      "outputs": [
        {
          "output_type": "execute_result",
          "data": {
            "text/plain": [
              "0       0.000000\n",
              "1       0.001109\n",
              "2       0.000000\n",
              "3       0.000000\n",
              "4       0.000832\n",
              "          ...   \n",
              "3137    0.000000\n",
              "3138    0.000000\n",
              "3139    0.000000\n",
              "3140    0.000000\n",
              "3141    0.000277\n",
              "Name: prob_market, Length: 3108, dtype: float64"
            ]
          },
          "metadata": {},
          "execution_count": 298
        }
      ]
    },
    {
      "cell_type": "code",
      "source": [
        "X = updated_df_col.iloc[:, 1:]\n",
        "y = updated_df_col.iloc[0:,0]\n",
        "\n",
        "\n",
        "# fit model no training data\n",
        "model = XGBRegressor()\n",
        "model.fit(X, y)\n",
        "print(model.feature_importances_)\n",
        "\n",
        "# plot\n",
        "plt.bar(range(len(model.feature_importances_)), model.feature_importances_)\n",
        "plt.show()"
      ],
      "metadata": {
        "colab": {
          "base_uri": "https://localhost:8080/",
          "height": 373
        },
        "id": "GVozRgDARupr",
        "outputId": "727f2365-63c2-49e0-e9d3-86c22c92af62"
      },
      "execution_count": 294,
      "outputs": [
        {
          "output_type": "stream",
          "name": "stdout",
          "text": [
            "[06:54:35] WARNING: /workspace/src/objective/regression_obj.cu:152: reg:linear is now deprecated in favor of reg:squarederror.\n",
            "[0.02159008 0.0535626  0.06105177 0.         0.03662765 0.01731422\n",
            " 0.01137751 0.         0.04256076 0.03560356 0.         0.\n",
            " 0.03461089 0.04395274 0.         0.04510737 0.03122697 0.03148177\n",
            " 0.0724678  0.03484444 0.01429998 0.         0.0903234  0.09299665\n",
            " 0.11601387 0.06877777 0.0442082 ]\n"
          ]
        },
        {
          "output_type": "display_data",
          "data": {
            "text/plain": [
              "<Figure size 432x288 with 1 Axes>"
            ],
            "image/png": "[encoded data removed]"
          },
          "metadata": {
            "needs_background": "light"
          }
        }
      ]
    },
    {
      "cell_type": "code",
      "source": [
        "from xgboost import plot_importance\n",
        "plt.figure(figsize = (8,8))\n",
        "plot_importance(model)\n",
        "plt.show()"
      ],
      "metadata": {
        "colab": {
          "base_uri": "https://localhost:8080/",
          "height": 313
        },
        "id": "YP27sZZ4RvPj",
        "outputId": "725648d7-ad08-4424-82dd-95e1533d75e4"
      },
      "execution_count": 295,
      "outputs": [
        {
          "output_type": "display_data",
          "data": {
            "text/plain": [
              "<Figure size 576x576 with 0 Axes>"
            ]
          },
          "metadata": {}
        },
        {
          "output_type": "display_data",
          "data": {
            "text/plain": [
              "<Figure size 432x288 with 1 Axes>"
            ],
            "image/png": "[encoded data removed]"
          },
          "metadata": {
            "needs_background": "light"
          }
        }
      ]
    },
    {
      "cell_type": "code",
      "source": [
        "from sklearn.model_selection import GridSearchCV\n",
        "from sklearn.model_selection import StratifiedKFold\n",
        "\n",
        "\n",
        "# Cross Validation\n",
        "scaler = StandardScaler()\n",
        "X = scaler.fit_transform(X)\n",
        "\n",
        "n = [10, 50, 100]\n",
        "model = XGBRegressor()\n",
        "learning_rate = [0.0001, 0.001, 0.01, 0.1, 0.2, 0.3]\n",
        "param_grid = dict(learning_rate=learning_rate, n_estimators = n)\n",
        "kfold = StratifiedKFold(n_splits=10, shuffle=True, random_state=7)\n",
        "grid_search = GridSearchCV(model, param_grid, scoring=\"neg_log_loss\", n_jobs=-1, cv=kfold)\n",
        "grid_result = grid_search.fit(X, y)\n",
        "# summarize results\n",
        "print(\"Best: %f using %s\" % (grid_result.best_score_, grid_result.best_params_))\n",
        "means = grid_result.cv_results_['mean_test_score']\n",
        "stds = grid_result.cv_results_['std_test_score']\n",
        "params = grid_result.cv_results_['params']\n",
        "for mean, stdev, param in zip(means, stds, params):\n",
        "\tprint(\"%f (%f) with: %r\" % (mean, stdev, param))"
      ],
      "metadata": {
        "colab": {
          "base_uri": "https://localhost:8080/",
          "height": 387
        },
        "id": "k9Sm9VHLRyXi",
        "outputId": "c6093875-cf4d-4158-cd19-79f0cdeb36d1"
      },
      "execution_count": 301,
      "outputs": [
        {
          "output_type": "error",
          "ename": "ValueError",
          "evalue": "ignored",
          "traceback": [
            "\u001b[0;31m---------------------------------------------------------------------------\u001b[0m",
            "\u001b[0;31mValueError\u001b[0m                                Traceback (most recent call last)",
            "\u001b[0;32m<ipython-input-301-c7f349309f44>\u001b[0m in \u001b[0;36m<module>\u001b[0;34m()\u001b[0m\n\u001b[1;32m     13\u001b[0m \u001b[0mkfold\u001b[0m \u001b[0;34m=\u001b[0m \u001b[0mStratifiedKFold\u001b[0m\u001b[0;34m(\u001b[0m\u001b[0mn_splits\u001b[0m\u001b[0;34m=\u001b[0m\u001b[0;36m10\u001b[0m\u001b[0;34m,\u001b[0m \u001b[0mshuffle\u001b[0m\u001b[0;34m=\u001b[0m\u001b[0;32mTrue\u001b[0m\u001b[0;34m,\u001b[0m \u001b[0mrandom_state\u001b[0m\u001b[0;34m=\u001b[0m\u001b[0;36m7\u001b[0m\u001b[0;34m)\u001b[0m\u001b[0;34m\u001b[0m\u001b[0;34m\u001b[0m\u001b[0m\n\u001b[1;32m     14\u001b[0m \u001b[0mgrid_search\u001b[0m \u001b[0;34m=\u001b[0m \u001b[0mGridSearchCV\u001b[0m\u001b[0;34m(\u001b[0m\u001b[0mmodel\u001b[0m\u001b[0;34m,\u001b[0m \u001b[0mparam_grid\u001b[0m\u001b[0;34m,\u001b[0m \u001b[0mscoring\u001b[0m\u001b[0;34m=\u001b[0m\u001b[0;34m\"neg_log_loss\"\u001b[0m\u001b[0;34m,\u001b[0m \u001b[0mn_jobs\u001b[0m\u001b[0;34m=\u001b[0m\u001b[0;34m-\u001b[0m\u001b[0;36m1\u001b[0m\u001b[0;34m,\u001b[0m \u001b[0mcv\u001b[0m\u001b[0;34m=\u001b[0m\u001b[0mkfold\u001b[0m\u001b[0;34m)\u001b[0m\u001b[0;34m\u001b[0m\u001b[0;34m\u001b[0m\u001b[0m\n\u001b[0;32m---> 15\u001b[0;31m \u001b[0mgrid_result\u001b[0m \u001b[0;34m=\u001b[0m \u001b[0mgrid_search\u001b[0m\u001b[0;34m.\u001b[0m\u001b[0mfit\u001b[0m\u001b[0;34m(\u001b[0m\u001b[0mX\u001b[0m\u001b[0;34m,\u001b[0m \u001b[0my\u001b[0m\u001b[0;34m)\u001b[0m\u001b[0;34m\u001b[0m\u001b[0;34m\u001b[0m\u001b[0m\n\u001b[0m\u001b[1;32m     16\u001b[0m \u001b[0;31m# summarize results\u001b[0m\u001b[0;34m\u001b[0m\u001b[0;34m\u001b[0m\u001b[0;34m\u001b[0m\u001b[0m\n\u001b[1;32m     17\u001b[0m \u001b[0mprint\u001b[0m\u001b[0;34m(\u001b[0m\u001b[0;34m\"Best: %f using %s\"\u001b[0m \u001b[0;34m%\u001b[0m \u001b[0;34m(\u001b[0m\u001b[0mgrid_result\u001b[0m\u001b[0;34m.\u001b[0m\u001b[0mbest_score_\u001b[0m\u001b[0;34m,\u001b[0m \u001b[0mgrid_result\u001b[0m\u001b[0;34m.\u001b[0m\u001b[0mbest_params_\u001b[0m\u001b[0;34m)\u001b[0m\u001b[0;34m)\u001b[0m\u001b[0;34m\u001b[0m\u001b[0;34m\u001b[0m\u001b[0m\n",
            "\u001b[0;32m/usr/local/lib/python3.7/dist-packages/sklearn/model_selection/_search.py\u001b[0m in \u001b[0;36mfit\u001b[0;34m(self, X, y, groups, **fit_params)\u001b[0m\n\u001b[1;32m    889\u001b[0m                 \u001b[0;32mreturn\u001b[0m \u001b[0mresults\u001b[0m\u001b[0;34m\u001b[0m\u001b[0;34m\u001b[0m\u001b[0m\n\u001b[1;32m    890\u001b[0m \u001b[0;34m\u001b[0m\u001b[0m\n\u001b[0;32m--> 891\u001b[0;31m             \u001b[0mself\u001b[0m\u001b[0;34m.\u001b[0m\u001b[0m_run_search\u001b[0m\u001b[0;34m(\u001b[0m\u001b[0mevaluate_candidates\u001b[0m\u001b[0;34m)\u001b[0m\u001b[0;34m\u001b[0m\u001b[0;34m\u001b[0m\u001b[0m\n\u001b[0m\u001b[1;32m    892\u001b[0m \u001b[0;34m\u001b[0m\u001b[0m\n\u001b[1;32m    893\u001b[0m             \u001b[0;31m# multimetric is determined here because in the case of a callable\u001b[0m\u001b[0;34m\u001b[0m\u001b[0;34m\u001b[0m\u001b[0;34m\u001b[0m\u001b[0m\n",
            "\u001b[0;32m/usr/local/lib/python3.7/dist-packages/sklearn/model_selection/_search.py\u001b[0m in \u001b[0;36m_run_search\u001b[0;34m(self, evaluate_candidates)\u001b[0m\n\u001b[1;32m   1390\u001b[0m     \u001b[0;32mdef\u001b[0m \u001b[0m_run_search\u001b[0m\u001b[0;34m(\u001b[0m\u001b[0mself\u001b[0m\u001b[0;34m,\u001b[0m \u001b[0mevaluate_candidates\u001b[0m\u001b[0;34m)\u001b[0m\u001b[0;34m:\u001b[0m\u001b[0;34m\u001b[0m\u001b[0;34m\u001b[0m\u001b[0m\n\u001b[1;32m   1391\u001b[0m         \u001b[0;34m\"\"\"Search all candidates in param_grid\"\"\"\u001b[0m\u001b[0;34m\u001b[0m\u001b[0;34m\u001b[0m\u001b[0m\n\u001b[0;32m-> 1392\u001b[0;31m         \u001b[0mevaluate_candidates\u001b[0m\u001b[0;34m(\u001b[0m\u001b[0mParameterGrid\u001b[0m\u001b[0;34m(\u001b[0m\u001b[0mself\u001b[0m\u001b[0;34m.\u001b[0m\u001b[0mparam_grid\u001b[0m\u001b[0;34m)\u001b[0m\u001b[0;34m)\u001b[0m\u001b[0;34m\u001b[0m\u001b[0;34m\u001b[0m\u001b[0m\n\u001b[0m\u001b[1;32m   1393\u001b[0m \u001b[0;34m\u001b[0m\u001b[0m\n\u001b[1;32m   1394\u001b[0m \u001b[0;34m\u001b[0m\u001b[0m\n",
            "\u001b[0;32m/usr/local/lib/python3.7/dist-packages/sklearn/model_selection/_search.py\u001b[0m in \u001b[0;36mevaluate_candidates\u001b[0;34m(candidate_params, cv, more_results)\u001b[0m\n\u001b[1;32m    849\u001b[0m                     )\n\u001b[1;32m    850\u001b[0m                     for (cand_idx, parameters), (split_idx, (train, test)) in product(\n\u001b[0;32m--> 851\u001b[0;31m                         \u001b[0menumerate\u001b[0m\u001b[0;34m(\u001b[0m\u001b[0mcandidate_params\u001b[0m\u001b[0;34m)\u001b[0m\u001b[0;34m,\u001b[0m \u001b[0menumerate\u001b[0m\u001b[0;34m(\u001b[0m\u001b[0mcv\u001b[0m\u001b[0;34m.\u001b[0m\u001b[0msplit\u001b[0m\u001b[0;34m(\u001b[0m\u001b[0mX\u001b[0m\u001b[0;34m,\u001b[0m \u001b[0my\u001b[0m\u001b[0;34m,\u001b[0m \u001b[0mgroups\u001b[0m\u001b[0;34m)\u001b[0m\u001b[0;34m)\u001b[0m\u001b[0;34m\u001b[0m\u001b[0;34m\u001b[0m\u001b[0m\n\u001b[0m\u001b[1;32m    852\u001b[0m                     )\n\u001b[1;32m    853\u001b[0m                 )\n",
            "\u001b[0;32m/usr/local/lib/python3.7/dist-packages/sklearn/model_selection/_split.py\u001b[0m in \u001b[0;36msplit\u001b[0;34m(self, X, y, groups)\u001b[0m\n\u001b[1;32m    338\u001b[0m             )\n\u001b[1;32m    339\u001b[0m \u001b[0;34m\u001b[0m\u001b[0m\n\u001b[0;32m--> 340\u001b[0;31m         \u001b[0;32mfor\u001b[0m \u001b[0mtrain\u001b[0m\u001b[0;34m,\u001b[0m \u001b[0mtest\u001b[0m \u001b[0;32min\u001b[0m \u001b[0msuper\u001b[0m\u001b[0;34m(\u001b[0m\u001b[0;34m)\u001b[0m\u001b[0;34m.\u001b[0m\u001b[0msplit\u001b[0m\u001b[0;34m(\u001b[0m\u001b[0mX\u001b[0m\u001b[0;34m,\u001b[0m \u001b[0my\u001b[0m\u001b[0;34m,\u001b[0m \u001b[0mgroups\u001b[0m\u001b[0;34m)\u001b[0m\u001b[0;34m:\u001b[0m\u001b[0;34m\u001b[0m\u001b[0;34m\u001b[0m\u001b[0m\n\u001b[0m\u001b[1;32m    341\u001b[0m             \u001b[0;32myield\u001b[0m \u001b[0mtrain\u001b[0m\u001b[0;34m,\u001b[0m \u001b[0mtest\u001b[0m\u001b[0;34m\u001b[0m\u001b[0;34m\u001b[0m\u001b[0m\n\u001b[1;32m    342\u001b[0m \u001b[0;34m\u001b[0m\u001b[0m\n",
            "\u001b[0;32m/usr/local/lib/python3.7/dist-packages/sklearn/model_selection/_split.py\u001b[0m in \u001b[0;36msplit\u001b[0;34m(self, X, y, groups)\u001b[0m\n\u001b[1;32m     84\u001b[0m         \u001b[0mX\u001b[0m\u001b[0;34m,\u001b[0m \u001b[0my\u001b[0m\u001b[0;34m,\u001b[0m \u001b[0mgroups\u001b[0m \u001b[0;34m=\u001b[0m \u001b[0mindexable\u001b[0m\u001b[0;34m(\u001b[0m\u001b[0mX\u001b[0m\u001b[0;34m,\u001b[0m \u001b[0my\u001b[0m\u001b[0;34m,\u001b[0m \u001b[0mgroups\u001b[0m\u001b[0;34m)\u001b[0m\u001b[0;34m\u001b[0m\u001b[0;34m\u001b[0m\u001b[0m\n\u001b[1;32m     85\u001b[0m         \u001b[0mindices\u001b[0m \u001b[0;34m=\u001b[0m \u001b[0mnp\u001b[0m\u001b[0;34m.\u001b[0m\u001b[0marange\u001b[0m\u001b[0;34m(\u001b[0m\u001b[0m_num_samples\u001b[0m\u001b[0;34m(\u001b[0m\u001b[0mX\u001b[0m\u001b[0;34m)\u001b[0m\u001b[0;34m)\u001b[0m\u001b[0;34m\u001b[0m\u001b[0;34m\u001b[0m\u001b[0m\n\u001b[0;32m---> 86\u001b[0;31m         \u001b[0;32mfor\u001b[0m \u001b[0mtest_index\u001b[0m \u001b[0;32min\u001b[0m \u001b[0mself\u001b[0m\u001b[0;34m.\u001b[0m\u001b[0m_iter_test_masks\u001b[0m\u001b[0;34m(\u001b[0m\u001b[0mX\u001b[0m\u001b[0;34m,\u001b[0m \u001b[0my\u001b[0m\u001b[0;34m,\u001b[0m \u001b[0mgroups\u001b[0m\u001b[0;34m)\u001b[0m\u001b[0;34m:\u001b[0m\u001b[0;34m\u001b[0m\u001b[0;34m\u001b[0m\u001b[0m\n\u001b[0m\u001b[1;32m     87\u001b[0m             \u001b[0mtrain_index\u001b[0m \u001b[0;34m=\u001b[0m \u001b[0mindices\u001b[0m\u001b[0;34m[\u001b[0m\u001b[0mnp\u001b[0m\u001b[0;34m.\u001b[0m\u001b[0mlogical_not\u001b[0m\u001b[0;34m(\u001b[0m\u001b[0mtest_index\u001b[0m\u001b[0;34m)\u001b[0m\u001b[0;34m]\u001b[0m\u001b[0;34m\u001b[0m\u001b[0;34m\u001b[0m\u001b[0m\n\u001b[1;32m     88\u001b[0m             \u001b[0mtest_index\u001b[0m \u001b[0;34m=\u001b[0m \u001b[0mindices\u001b[0m\u001b[0;34m[\u001b[0m\u001b[0mtest_index\u001b[0m\u001b[0;34m]\u001b[0m\u001b[0;34m\u001b[0m\u001b[0;34m\u001b[0m\u001b[0m\n",
            "\u001b[0;32m/usr/local/lib/python3.7/dist-packages/sklearn/model_selection/_split.py\u001b[0m in \u001b[0;36m_iter_test_masks\u001b[0;34m(self, X, y, groups)\u001b[0m\n\u001b[1;32m    707\u001b[0m \u001b[0;34m\u001b[0m\u001b[0m\n\u001b[1;32m    708\u001b[0m     \u001b[0;32mdef\u001b[0m \u001b[0m_iter_test_masks\u001b[0m\u001b[0;34m(\u001b[0m\u001b[0mself\u001b[0m\u001b[0;34m,\u001b[0m \u001b[0mX\u001b[0m\u001b[0;34m,\u001b[0m \u001b[0my\u001b[0m\u001b[0;34m=\u001b[0m\u001b[0;32mNone\u001b[0m\u001b[0;34m,\u001b[0m \u001b[0mgroups\u001b[0m\u001b[0;34m=\u001b[0m\u001b[0;32mNone\u001b[0m\u001b[0;34m)\u001b[0m\u001b[0;34m:\u001b[0m\u001b[0;34m\u001b[0m\u001b[0;34m\u001b[0m\u001b[0m\n\u001b[0;32m--> 709\u001b[0;31m         \u001b[0mtest_folds\u001b[0m \u001b[0;34m=\u001b[0m \u001b[0mself\u001b[0m\u001b[0;34m.\u001b[0m\u001b[0m_make_test_folds\u001b[0m\u001b[0;34m(\u001b[0m\u001b[0mX\u001b[0m\u001b[0;34m,\u001b[0m \u001b[0my\u001b[0m\u001b[0;34m)\u001b[0m\u001b[0;34m\u001b[0m\u001b[0;34m\u001b[0m\u001b[0m\n\u001b[0m\u001b[1;32m    710\u001b[0m         \u001b[0;32mfor\u001b[0m \u001b[0mi\u001b[0m \u001b[0;32min\u001b[0m \u001b[0mrange\u001b[0m\u001b[0;34m(\u001b[0m\u001b[0mself\u001b[0m\u001b[0;34m.\u001b[0m\u001b[0mn_splits\u001b[0m\u001b[0;34m)\u001b[0m\u001b[0;34m:\u001b[0m\u001b[0;34m\u001b[0m\u001b[0;34m\u001b[0m\u001b[0m\n\u001b[1;32m    711\u001b[0m             \u001b[0;32myield\u001b[0m \u001b[0mtest_folds\u001b[0m \u001b[0;34m==\u001b[0m \u001b[0mi\u001b[0m\u001b[0;34m\u001b[0m\u001b[0;34m\u001b[0m\u001b[0m\n",
            "\u001b[0;32m/usr/local/lib/python3.7/dist-packages/sklearn/model_selection/_split.py\u001b[0m in \u001b[0;36m_make_test_folds\u001b[0;34m(self, X, y)\u001b[0m\n\u001b[1;32m    652\u001b[0m             raise ValueError(\n\u001b[1;32m    653\u001b[0m                 \"Supported target types are: {}. Got {!r} instead.\".format(\n\u001b[0;32m--> 654\u001b[0;31m                     \u001b[0mallowed_target_types\u001b[0m\u001b[0;34m,\u001b[0m \u001b[0mtype_of_target_y\u001b[0m\u001b[0;34m\u001b[0m\u001b[0;34m\u001b[0m\u001b[0m\n\u001b[0m\u001b[1;32m    655\u001b[0m                 )\n\u001b[1;32m    656\u001b[0m             )\n",
            "\u001b[0;31mValueError\u001b[0m: Supported target types are: ('binary', 'multiclass'). Got 'continuous' instead."
          ]
        }
      ]
    },
    {
      "cell_type": "code",
      "source": [
        "y"
      ],
      "metadata": {
        "colab": {
          "base_uri": "https://localhost:8080/"
        },
        "id": "pg4TBOStSOPR",
        "outputId": "9ca9fe58-4e78-4934-ca07-e49cd8149a70"
      },
      "execution_count": 302,
      "outputs": [
        {
          "output_type": "execute_result",
          "data": {
            "text/plain": [
              "0       0.000000\n",
              "1       0.001109\n",
              "2       0.000000\n",
              "3       0.000000\n",
              "4       0.000832\n",
              "          ...   \n",
              "3137    0.000000\n",
              "3138    0.000000\n",
              "3139    0.000000\n",
              "3140    0.000000\n",
              "3141    0.000277\n",
              "Name: prob_market, Length: 3108, dtype: float64"
            ]
          },
          "metadata": {},
          "execution_count": 302
        }
      ]
    },
    {
      "cell_type": "code",
      "source": [
        "from numpy import absolute\n",
        "from sklearn.model_selection import cross_val_score\n",
        "from sklearn.model_selection import RepeatedKFold\n",
        "model = XGBRegressor(n_estimators = 50, ets = 0.1)\n",
        "# define model evaluation method\n",
        "cv = RepeatedKFold(n_splits=10, n_repeats=3, random_state=1)\n",
        "\n",
        "scores = cross_val_score(model, X, y, scoring='neg_mean_absolute_error', cv=cv, n_jobs=-1)\n",
        "\n",
        "# force scores to be positive\n",
        "scores = absolute(scores)\n",
        "print('Mean MAE: %.3f (%.3f)' % (scores.mean(), scores.std()) )\n"
      ],
      "metadata": {
        "colab": {
          "base_uri": "https://localhost:8080/"
        },
        "id": "8uq_ghhRTBZl",
        "outputId": "347f0aa1-bae7-4925-a29b-1d9f722351c0"
      },
      "execution_count": 306,
      "outputs": [
        {
          "output_type": "stream",
          "name": "stdout",
          "text": [
            "Mean MAE: 0.003 (0.000)\n"
          ]
        }
      ]
    },
    {
      "cell_type": "code",
      "source": [
        "# split data into X and y\n",
        "X = updated_df_col.iloc[:, 1:]\n",
        "Y = updated_df_col.iloc[0:,0]\n",
        "\n",
        "\n",
        "# split data into train and test sets\n",
        "X_train, X_test, y_train, y_test = train_test_split(X, Y, test_size=0.20, random_state=7)\n",
        "\n",
        "# fit model on all training data\n",
        "model = XGBRegressor(n_estimators = 50, ets = 0.1)\n",
        "model.fit(X_train, y_train)\n",
        "\n",
        "# make predictions for test data and evaluate\n",
        "y_pred = model.predict(X_test)\n",
        "print(y_pred)"
      ],
      "metadata": {
        "colab": {
          "base_uri": "https://localhost:8080/"
        },
        "id": "SW9AY0rSR1aC",
        "outputId": "cdc7a832-37b9-4009-852a-03909f727771"
      },
      "execution_count": 308,
      "outputs": [
        {
          "output_type": "stream",
          "name": "stdout",
          "text": [
            "[07:02:13] WARNING: /workspace/src/objective/regression_obj.cu:152: reg:linear is now deprecated in favor of reg:squarederror.\n",
            "[0.0028187  0.00274035 0.00317514 0.00297308 0.00274035 0.00274035\n",
            " 0.00274917 0.00274035 0.00274035 0.0028187  0.00297308 0.00274035\n",
            " 0.003535   0.00274035 0.00274035 0.00274035 0.00309506 0.00274035\n",
            " 0.00378364 0.00274917 0.00274035 0.00274035 0.00297308 0.00276098\n",
            " 0.00274035 0.00291103 0.00274035 0.00274035 0.00369143 0.00274917\n",
            " 0.00298637 0.00274035 0.00378364 0.00274035 0.00286919 0.00274035\n",
            " 0.00354412 0.00274035 0.00274917 0.0028187  0.00457588 0.00339726\n",
            " 0.00309506 0.00274035 0.00309506 0.00277615 0.00274035 0.00297308\n",
            " 0.00274035 0.00274035 0.00274035 0.00286496 0.00274035 0.00282672\n",
            " 0.0035826  0.00274035 0.00274035 0.00274035 0.00274917 0.00286919\n",
            " 0.00298253 0.00286055 0.00339726 0.00300047 0.00274917 0.00276098\n",
            " 0.00291103 0.0028187  0.00303301 0.00326973 0.00291103 0.00309688\n",
            " 0.00274035 0.00286055 0.00274035 0.00274035 0.00286055 0.00274035\n",
            " 0.00277615 0.0028187  0.00297308 0.00274035 0.00277615 0.00274035\n",
            " 0.00277391 0.00274035 0.0028187  0.00274035 0.00317514 0.00274035\n",
            " 0.00286055 0.00274917 0.00311083 0.00294068 0.00274035 0.00409734\n",
            " 0.00274035 0.00274917 0.00274035 0.00274035 0.00389665 0.00274035\n",
            " 0.00369143 0.00277615 0.00286055 0.00339726 0.00297308 0.00274035\n",
            " 0.00346571 0.00274035 0.0028187  0.00274035 0.00277615 0.00286496\n",
            " 0.00301525 0.00370011 0.00274035 0.00286055 0.00339726 0.00274035\n",
            " 0.00286496 0.00274035 0.00274917 0.00274035 0.00346571 0.00343522\n",
            " 0.00337318 0.00314572 0.00274035 0.00339726 0.00274035 0.00274035\n",
            " 0.00274035 0.00274035 0.00274035 0.00276098 0.00274035 0.00297308\n",
            " 0.00274917 0.00274035 0.003535   0.00291103 0.00280762 0.00274035\n",
            " 0.00317514 0.00339726 0.00274035 0.00274035 0.00274917 0.00274917\n",
            " 0.00274035 0.00293809 0.00274035 0.00274035 0.00274035 0.00274035\n",
            " 0.00274035 0.00369143 0.00274917 0.00276098 0.00277615 0.00274035\n",
            " 0.00274035 0.00298858 0.00320807 0.00274917 0.00274035 0.00274035\n",
            " 0.00294068 0.00274917 0.00274035 0.00274035 0.0028187  0.00274035\n",
            " 0.00331289 0.00432718 0.00300047 0.00274035 0.00274917 0.00274917\n",
            " 0.00324783 0.00274035 0.00274035 0.00274035 0.00276098 0.00274035\n",
            " 0.00274035 0.00276098 0.00283852 0.00274035 0.00274035 0.0034225\n",
            " 0.00277615 0.00274035 0.00313821 0.00274035 0.00286496 0.00274035\n",
            " 0.00277615 0.00274035 0.00303301 0.00425515 0.00274035 0.00289625\n",
            " 0.00274035 0.0028187  0.00274917 0.00300047 0.00297308 0.00322205\n",
            " 0.00357237 0.00277615 0.00309506 0.00276098 0.00274035 0.00339726\n",
            " 0.00360346 0.00274035 0.00274035 0.00274035 0.00291103 0.00309506\n",
            " 0.00274035 0.00274035 0.00280762 0.00276098 0.00274035 0.00274035\n",
            " 0.00274035 0.00274917 0.0028187  0.00274035 0.00274917 0.00274035\n",
            " 0.00364462 0.00297308 0.00274035 0.00276098 0.00297308 0.00309506\n",
            " 0.00274035 0.00346571 0.00276098 0.00274035 0.00291103 0.00274035\n",
            " 0.00346571 0.00274035 0.00274035 0.00309506 0.00280762 0.00274035\n",
            " 0.00291103 0.00274035 0.00274035 0.00274035 0.00274917 0.00277615\n",
            " 0.00296241 0.00319418 0.00360346 0.00309506 0.00276098 0.00274035\n",
            " 0.00291103 0.00274035 0.00346571 0.0028187  0.00274035 0.00277391\n",
            " 0.00274035 0.00274035 0.00274035 0.00274035 0.00346571 0.003153\n",
            " 0.00291103 0.00274917 0.00382608 0.00274035 0.00346571 0.00274035\n",
            " 0.00309506 0.00274035 0.00274035 0.00378364 0.00274035 0.00339726\n",
            " 0.0028187  0.00274035 0.00274035 0.00274035 0.00274035 0.00303534\n",
            " 0.00274035 0.00291103 0.00276098 0.00346571 0.00274035 0.00274035\n",
            " 0.00274035 0.00274035 0.0028187  0.00309506 0.00309715 0.00274035\n",
            " 0.00274035 0.00274035 0.00274917 0.00297308 0.00360346 0.00274035\n",
            " 0.00277391 0.00274035 0.00280762 0.00297308 0.00274917 0.00274035\n",
            " 0.00274917 0.00274035 0.00274917 0.00303301 0.00277391 0.00329202\n",
            " 0.00311083 0.00276098 0.00297308 0.00286055 0.00274035 0.00286055\n",
            " 0.00274035 0.00274917 0.00297308 0.00277391 0.00317514 0.00274035\n",
            " 0.00274035 0.00274035 0.00274035 0.00291103 0.00274035 0.00274035\n",
            " 0.00274035 0.00274035 0.00274917 0.0028187  0.00274035 0.00274035\n",
            " 0.00274035 0.00274035 0.00274035 0.00309506 0.00274035 0.00274035\n",
            " 0.00274035 0.00297308 0.00274035 0.00274035 0.00319716 0.00274917\n",
            " 0.00274035 0.00291103 0.00274035 0.00286496 0.00383329 0.00274035\n",
            " 0.00277391 0.00274035 0.00281832 0.00340876 0.00274035 0.00297308\n",
            " 0.00274035 0.00333133 0.00274035 0.00274035 0.00303301 0.00346571\n",
            " 0.00297308 0.00286496 0.00300047 0.00297308 0.00274035 0.00285369\n",
            " 0.00274035 0.00291103 0.00291103 0.00274035 0.00274035 0.00324783\n",
            " 0.00274917 0.00297308 0.00274035 0.00274035 0.00276098 0.00274035\n",
            " 0.00297308 0.00348589 0.00274035 0.00274035 0.00274035 0.00274035\n",
            " 0.00274035 0.00286055 0.00274035 0.00276098 0.00274035 0.00303301\n",
            " 0.00289404 0.00294068 0.00274917 0.00274917 0.00280762 0.00274035\n",
            " 0.00274035 0.00274035 0.00274035 0.00309506 0.00274035 0.00274035\n",
            " 0.00274035 0.00309506 0.00274035 0.00274035 0.00274035 0.00274035\n",
            " 0.00274035 0.00274035 0.00324783 0.00324479 0.00274035 0.00274035\n",
            " 0.00274035 0.00274035 0.00274035 0.00274035 0.00274035 0.00280762\n",
            " 0.0028187  0.00274035 0.00277615 0.00274035 0.00336033 0.00274035\n",
            " 0.00274035 0.00286496 0.00274035 0.00274035 0.00425404 0.00274035\n",
            " 0.00280762 0.00346571 0.00274035 0.00291103 0.00274035 0.00274917\n",
            " 0.00274035 0.00354412 0.00297308 0.00274035 0.00274035 0.00276098\n",
            " 0.00274917 0.0028187  0.00274917 0.00291103 0.00274035 0.00346571\n",
            " 0.0028187  0.00274035 0.00282672 0.00274035 0.00286496 0.00274917\n",
            " 0.00300047 0.00298452 0.00274035 0.00354522 0.00291103 0.00360346\n",
            " 0.00274035 0.00274917 0.00277391 0.00346571 0.00294068 0.00274035\n",
            " 0.00303301 0.00291103 0.00274917 0.00371575 0.00274035 0.00297308\n",
            " 0.00274035 0.00277391 0.00274035 0.00274035 0.00274917 0.00300047\n",
            " 0.00274035 0.00297308 0.00274035 0.00286919 0.0030061  0.00291103\n",
            " 0.00413397 0.00274035 0.00274917 0.00286055 0.00274035 0.00430337\n",
            " 0.00274035 0.00274035 0.00277615 0.00343522 0.00274035 0.00274035\n",
            " 0.00303534 0.0028187  0.00274035 0.00277615 0.00274035 0.00274035\n",
            " 0.00274035 0.00297308 0.00280762 0.00274035 0.00277391 0.00369143\n",
            " 0.00274035 0.00274035 0.00274035 0.00274035 0.00274035 0.00274035\n",
            " 0.00277615 0.00299349 0.00274035 0.00360346 0.00274035 0.00274035\n",
            " 0.00277615 0.00314775 0.00274035 0.00274035 0.00274035 0.00303981\n",
            " 0.00276098 0.00274035 0.00276098 0.00277391 0.00346571 0.00360346\n",
            " 0.00274035 0.00357801 0.00274917 0.00286055 0.00277391 0.00274917\n",
            " 0.00280762 0.00346571 0.00274035 0.00313821 0.00276098 0.00274035\n",
            " 0.00346571 0.00274035 0.00274035 0.00303981 0.00314775 0.00274035\n",
            " 0.00274035 0.00298253 0.00274917 0.00274035 0.00274035 0.00297308\n",
            " 0.00274917 0.00274035 0.00274035 0.00409734 0.00274035 0.00317514\n",
            " 0.00300047 0.00276098 0.00274035 0.00277391 0.00274035 0.00274035\n",
            " 0.00274035 0.00274035 0.00360346 0.00351414 0.00405803 0.00274035\n",
            " 0.00277615 0.00274035 0.00276098 0.00291103 0.00274917 0.00280762\n",
            " 0.00337031 0.00360346 0.00274035 0.00276098 0.00303981 0.00274035\n",
            " 0.00274035 0.00346571 0.00297308 0.00274917 0.00300047 0.00274035\n",
            " 0.0034225  0.00308582 0.0028187  0.00277391 0.00274035 0.00300047\n",
            " 0.00297308 0.00274035 0.00274035 0.00286919]\n"
          ]
        }
      ]
    },
    {
      "cell_type": "code",
      "source": [
        "from sklearn.metrics import classification_report\n",
        "print(classification_report(y_test, y_pred))\n",
        "y_prob = model.predict_proba(X)\n",
        "\n",
        "updated_df['probabilities_any_market'] = updated_df.index.map(dict(zip(y_test.index, y_prob[:,1])))\n",
        "prob_fm = updated_df[['probabilities_any_market', 'County', 'State', 'If Any Market Type']].dropna().sort_values(by = 'probabilities_any_market')[::-1]\n",
        "prob_fm.loc[prob_fm['If Any Market Type'] == 0]"
      ],
      "metadata": {
        "id": "iYOEl2GeSGWc"
      },
      "execution_count": null,
      "outputs": []
    }
  ],
  "metadata": {
    "colab": {
      "name": "predictive_modeling.ipynb",
      "provenance": [],
      "collapsed_sections": [],
      "authorship_tag": "ABX9TyNGhg/udbUlQ93s81RGyAzi",
      "include_colab_link": true
    },
    "kernelspec": {
      "display_name": "Python 3",
      "name": "python3"
    },
    "language_info": {
      "name": "python"
    }
  },
  "nbformat": 4,
  "nbformat_minor": 0
}
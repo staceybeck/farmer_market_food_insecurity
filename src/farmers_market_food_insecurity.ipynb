{
 "cells": [
  {
   "cell_type": "markdown",
   "source": "# Farmers' Market and Food Insecurity\n\n\nComparing Farmers' Market Data, SNAP Data, and Population/Demographic data, maping on geography. \n\nData Sources: \n- USDA Local Food Directories https://www.usdalocalfoodportal.com/fe/datasharing/\n  - (API access or CSV)   \n  - Farmers' Market locations = Local urban markets\n  - CSA = Community Supported Agriculture, subscription or web access ie) Farm Fresh to You\n  - On-Farm markets (OFM) =  Rural Markets located at the farm\n\n- Map the Meal Gap 2019-2021\n    - Child food insecurity data \n- Food Access Research Atlas 2019 https://www.ers.usda.gov/data-products/food-access-research-atlas/download-the-data/\n    - SNAP benefit info per tract\n\n- Nutrition, Physical Activity, and Obesity - Behavioral Risk Factor Surveillance System https://catalog.data.gov/nl/dataset/nutrition-physical-activity-and-obesity-behavioral-risk-factor-surveillance-system-745ae\n\n- Census Data https://censusreporter.org/\n",
   "metadata": {
    "id": "-d1bGdlUxn4f",
    "cell_id": "eb28ad3f-84a2-4179-a7b1-869876abd91a",
    "deepnote_cell_type": "markdown",
    "deepnote_cell_height": 549.53125
   }
  },
  {
   "cell_type": "code",
   "metadata": {
    "cell_id": "a59a970b6ee249c8af4cb022b64f1663",
    "tags": [],
    "deepnote_to_be_reexecuted": false,
    "source_hash": "54777005",
    "execution_start": 1657997738147,
    "execution_millis": 7636,
    "deepnote_cell_type": "code",
    "deepnote_cell_height": 243.25
   },
   "source": "# Access the data integrated in deepnote \n!ls /datasets/csausda\n!ls /datasets/fmusda\n!ls /datasets/nutritionhealthbehavioral\n!ls /datasets/onmarketfm",
   "execution_count": 1,
   "outputs": [
    {
     "name": "stdout",
     "text": "csa_2022-715131859.xlsx\nfarmersmarket_2022-71513197.xlsx\nNutrition__Physical_Activity__and_Obesity_-_Behavioral_Risk_Factor_Surveillance_System.csv\nonfarmmarket_2022-715131916.xlsx\n",
     "output_type": "stream"
    }
   ]
  },
  {
   "cell_type": "code",
   "metadata": {
    "cell_id": "c8a93c67b3e24a07b2f6bd36cd4cab90",
    "tags": [],
    "deepnote_to_be_reexecuted": false,
    "source_hash": "42aab6e8",
    "execution_start": 1658014316600,
    "execution_millis": 6404,
    "deepnote_cell_type": "code",
    "deepnote_cell_height": 844.9375
   },
   "source": "# Import Libraries\n!pip install xlrd openpyxl contextily geopandas mapclassify\nimport pandas as pd\nimport geopandas as gpd\nimport seaborn as sns\nimport contextily as ctx\nimport requests\nfrom collections import defaultdict\nimport json",
   "execution_count": 255,
   "outputs": [
    {
     "name": "stdout",
     "text": "Requirement already satisfied: xlrd in /root/venv/lib/python3.9/site-packages (2.0.1)\nRequirement already satisfied: openpyxl in /root/venv/lib/python3.9/site-packages (3.0.10)\nRequirement already satisfied: contextily in /root/venv/lib/python3.9/site-packages (1.2.0)\nRequirement already satisfied: geopandas in /shared-libs/python3.9/py/lib/python3.9/site-packages (0.10.2)\nRequirement already satisfied: mapclassify in /root/venv/lib/python3.9/site-packages (2.4.3)\nRequirement already satisfied: et-xmlfile in /root/venv/lib/python3.9/site-packages (from openpyxl) (1.1.0)\nRequirement already satisfied: geopy in /root/venv/lib/python3.9/site-packages (from contextily) (2.2.0)\nRequirement already satisfied: mercantile in /root/venv/lib/python3.9/site-packages (from contextily) (1.2.1)\nRequirement already satisfied: joblib in /shared-libs/python3.9/py/lib/python3.9/site-packages (from contextily) (1.1.0)\nRequirement already satisfied: pillow in /shared-libs/python3.9/py/lib/python3.9/site-packages (from contextily) (9.1.1)\nRequirement already satisfied: requests in /shared-libs/python3.9/py/lib/python3.9/site-packages (from contextily) (2.27.1)\nRequirement already satisfied: rasterio in /root/venv/lib/python3.9/site-packages (from contextily) (1.3.0)\nRequirement already satisfied: xyzservices in /root/venv/lib/python3.9/site-packages (from contextily) (2022.6.0)\nRequirement already satisfied: matplotlib in /shared-libs/python3.9/py/lib/python3.9/site-packages (from contextily) (3.5.2)\nRequirement already satisfied: pyproj>=2.2.0 in /shared-libs/python3.9/py/lib/python3.9/site-packages (from geopandas) (3.3.1)\nRequirement already satisfied: fiona>=1.8 in /shared-libs/python3.9/py/lib/python3.9/site-packages (from geopandas) (1.8.21)\nRequirement already satisfied: shapely>=1.6 in /shared-libs/python3.9/py/lib/python3.9/site-packages (from geopandas) (1.8.2)\nRequirement already satisfied: pandas>=0.25.0 in /shared-libs/python3.9/py/lib/python3.9/site-packages (from geopandas) (1.2.5)\nRequirement already satisfied: scipy>=1.0 in /shared-libs/python3.9/py/lib/python3.9/site-packages (from mapclassify) (1.8.1)\nRequirement already satisfied: scikit-learn in /shared-libs/python3.9/py/lib/python3.9/site-packages (from mapclassify) (1.1.1)\nRequirement already satisfied: numpy>=1.3 in /shared-libs/python3.9/py/lib/python3.9/site-packages (from mapclassify) (1.22.4)\nRequirement already satisfied: networkx in /root/venv/lib/python3.9/site-packages (from mapclassify) (2.8.4)\nRequirement already satisfied: attrs>=17 in /shared-libs/python3.9/py-core/lib/python3.9/site-packages (from fiona>=1.8->geopandas) (21.4.0)\nRequirement already satisfied: click>=4.0 in /shared-libs/python3.9/py/lib/python3.9/site-packages (from fiona>=1.8->geopandas) (8.1.3)\nRequirement already satisfied: munch in /shared-libs/python3.9/py/lib/python3.9/site-packages (from fiona>=1.8->geopandas) (2.5.0)\nRequirement already satisfied: certifi in /shared-libs/python3.9/py/lib/python3.9/site-packages (from fiona>=1.8->geopandas) (2022.5.18.1)\nRequirement already satisfied: click-plugins>=1.0 in /shared-libs/python3.9/py/lib/python3.9/site-packages (from fiona>=1.8->geopandas) (1.1.1)\nRequirement already satisfied: cligj>=0.5 in /shared-libs/python3.9/py/lib/python3.9/site-packages (from fiona>=1.8->geopandas) (0.7.2)\nRequirement already satisfied: six>=1.7 in /shared-libs/python3.9/py-core/lib/python3.9/site-packages (from fiona>=1.8->geopandas) (1.16.0)\nRequirement already satisfied: setuptools in /root/venv/lib/python3.9/site-packages (from fiona>=1.8->geopandas) (58.1.0)\nRequirement already satisfied: pytz>=2017.3 in /shared-libs/python3.9/py/lib/python3.9/site-packages (from pandas>=0.25.0->geopandas) (2022.1)\nRequirement already satisfied: python-dateutil>=2.7.3 in /shared-libs/python3.9/py-core/lib/python3.9/site-packages (from pandas>=0.25.0->geopandas) (2.8.2)\nRequirement already satisfied: geographiclib<2,>=1.49 in /root/venv/lib/python3.9/site-packages (from geopy->contextily) (1.52)\nRequirement already satisfied: cycler>=0.10 in /shared-libs/python3.9/py/lib/python3.9/site-packages (from matplotlib->contextily) (0.11.0)\nRequirement already satisfied: pyparsing>=2.2.1 in /shared-libs/python3.9/py/lib/python3.9/site-packages (from matplotlib->contextily) (3.0.9)\nRequirement already satisfied: packaging>=20.0 in /shared-libs/python3.9/py/lib/python3.9/site-packages (from matplotlib->contextily) (21.3)\nRequirement already satisfied: fonttools>=4.22.0 in /shared-libs/python3.9/py/lib/python3.9/site-packages (from matplotlib->contextily) (4.33.3)\nRequirement already satisfied: kiwisolver>=1.0.1 in /shared-libs/python3.9/py/lib/python3.9/site-packages (from matplotlib->contextily) (1.4.2)\nRequirement already satisfied: snuggs>=1.4.1 in /root/venv/lib/python3.9/site-packages (from rasterio->contextily) (1.4.7)\nRequirement already satisfied: affine in /root/venv/lib/python3.9/site-packages (from rasterio->contextily) (2.3.1)\nRequirement already satisfied: charset-normalizer~=2.0.0 in /shared-libs/python3.9/py-core/lib/python3.9/site-packages (from requests->contextily) (2.0.12)\nRequirement already satisfied: idna<4,>=2.5 in /shared-libs/python3.9/py-core/lib/python3.9/site-packages (from requests->contextily) (3.3)\nRequirement already satisfied: urllib3<1.27,>=1.21.1 in /shared-libs/python3.9/py/lib/python3.9/site-packages (from requests->contextily) (1.26.9)\nRequirement already satisfied: threadpoolctl>=2.0.0 in /shared-libs/python3.9/py/lib/python3.9/site-packages (from scikit-learn->mapclassify) (3.1.0)\n\u001b[33mWARNING: You are using pip version 22.0.4; however, version 22.1.2 is available.\nYou should consider upgrading via the '/root/venv/bin/python -m pip install --upgrade pip' command.\u001b[0m\u001b[33m\n\u001b[0m",
     "output_type": "stream"
    }
   ]
  },
  {
   "cell_type": "code",
   "metadata": {
    "colab": {
     "base_uri": "https://localhost:8080/",
     "resources": {
      "http://localhost:8080/nbextensions/google.colab/files.js": {
       "data": "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",
       "ok": true,
       "headers": [
        [
         "content-type",
         "application/javascript"
        ]
       ],
       "status": 200,
       "status_text": ""
      }
     },
     "height": 92
    },
    "id": "YftFw5_02yH-",
    "outputId": "644da7eb-fc50-4969-e7aa-a276656eff16",
    "cell_id": "00001-cd38ba0b-b1e6-4d4d-9fed-317c4191c717",
    "deepnote_to_be_reexecuted": false,
    "source_hash": "3abb761e",
    "execution_start": 1658002061955,
    "execution_millis": 9834,
    "deepnote_cell_type": "code",
    "deepnote_cell_height": 188.96875,
    "deepnote_output_heights": [
     155.5625
    ]
   },
   "source": "# Connect the USDA local food data\n# listing_id, FNAP_2, FNAP, acceptedpayment_7_desc, acceptedpayment_other_desc, share_availabledate\n#acceptedpayment, deliverpickup_method, location_x, location_y, location_address, listing_name\n\ncsa_data = pd.read_excel('/datasets/csausda/csa_2022-715131859.xlsx')\nfm_data = pd.read_excel('/datasets/fmusda/farmersmarket_2022-71513197.xlsx')\nom_data = pd.read_excel('/datasets/onmarketfm/onfarmmarket_2022-715131916.xlsx')",
   "execution_count": 63,
   "outputs": []
  },
  {
   "cell_type": "code",
   "metadata": {
    "colab": {
     "base_uri": "https://localhost:8080/",
     "height": 35
    },
    "id": "BACY1ZHHb-rV",
    "outputId": "eff3b0be-7e0d-4338-f81e-6f649cb2af56",
    "cell_id": "00002-c4a77e13-049a-4d1a-b440-c4d8e5c62838",
    "deepnote_to_be_reexecuted": false,
    "source_hash": "fe514d58",
    "execution_start": 1658003253512,
    "execution_millis": 10,
    "deepnote_cell_type": "code",
    "deepnote_cell_height": 152.96875
   },
   "source": "csa_data_short = csa_data[['listing_id', 'FNAP_1', 'FNAP_2', 'location_x', 'location_y', 'location_address', 'listing_name']]\nfm_data_short = fm_data[['listing_id', 'FNAP_1', 'FNAP_2', 'location_x', 'location_y', 'location_address', 'listing_name']]\nom_data_short = om_data[['listing_id', 'FNAP_1', 'FNAP_2', 'location_x', 'location_y', 'location_address', 'listing_name']]\n \n",
   "execution_count": 87,
   "outputs": []
  },
  {
   "cell_type": "code",
   "metadata": {
    "id": "MCp8zX9pcI_x",
    "cell_id": "00003-3c980c10-3b46-41a1-8e14-a9c204b95318",
    "deepnote_to_be_reexecuted": false,
    "source_hash": "9bc7a467",
    "execution_start": 1658003254795,
    "execution_millis": 85,
    "deepnote_cell_type": "code",
    "deepnote_cell_height": 736.953125,
    "deepnote_output_heights": [
     611
    ]
   },
   "source": "print(csa_data_short.info())\nprint(fm_data_short.info())\nprint(om_data_short.info())",
   "execution_count": 88,
   "outputs": [
    {
     "name": "stdout",
     "text": "<class 'pandas.core.frame.DataFrame'>\nRangeIndex: 963 entries, 0 to 962\nData columns (total 7 columns):\n #   Column            Non-Null Count  Dtype  \n---  ------            --------------  -----  \n 0   listing_id        963 non-null    int64  \n 1   FNAP_1            961 non-null    float64\n 2   FNAP_2            961 non-null    float64\n 3   location_x        960 non-null    float64\n 4   location_y        960 non-null    float64\n 5   location_address  962 non-null    object \n 6   listing_name      963 non-null    object \ndtypes: float64(4), int64(1), object(2)\nmemory usage: 52.8+ KB\nNone\n<class 'pandas.core.frame.DataFrame'>\nRangeIndex: 1016 entries, 0 to 1015\nData columns (total 7 columns):\n #   Column            Non-Null Count  Dtype  \n---  ------            --------------  -----  \n 0   listing_id        1016 non-null   int64  \n 1   FNAP_1            1002 non-null   float64\n 2   FNAP_2            1002 non-null   float64\n 3   location_x        1010 non-null   float64\n 4   location_y        1010 non-null   float64\n 5   location_address  1015 non-null   object \n 6   listing_name      1016 non-null   object \ndtypes: float64(4), int64(1), object(2)\nmemory usage: 55.7+ KB\nNone\n<class 'pandas.core.frame.DataFrame'>\nRangeIndex: 1663 entries, 0 to 1662\nData columns (total 7 columns):\n #   Column            Non-Null Count  Dtype  \n---  ------            --------------  -----  \n 0   listing_id        1663 non-null   int64  \n 1   FNAP_1            1661 non-null   float64\n 2   FNAP_2            1661 non-null   float64\n 3   location_x        1657 non-null   float64\n 4   location_y        1657 non-null   float64\n 5   location_address  1663 non-null   object \n 6   listing_name      1663 non-null   object \ndtypes: float64(4), int64(1), object(2)\nmemory usage: 91.1+ KB\nNone\n",
     "output_type": "stream"
    }
   ]
  },
  {
   "cell_type": "code",
   "metadata": {
    "cell_id": "cbc1797de3fb4a1196c0e3b534620b7f",
    "tags": [],
    "deepnote_to_be_reexecuted": false,
    "source_hash": "ea4a4373",
    "execution_start": 1658003256888,
    "execution_millis": 1,
    "deepnote_cell_type": "code",
    "deepnote_cell_height": 190.15625,
    "deepnote_output_heights": [
     21.1875
    ]
   },
   "source": "\"\"\"csa_data_short = csa_data_short.dropna()\nprint(csa_data_short.info())\nfm_data_short = fm_data_short.dropna()\nprint(fm_data_short.info())\n\"\"\"",
   "execution_count": 89,
   "outputs": [
    {
     "output_type": "execute_result",
     "execution_count": 89,
     "data": {
      "text/plain": "'csa_data_short = csa_data_short.dropna()\\nprint(csa_data_short.info())\\nfm_data_short = fm_data_short.dropna()\\nprint(fm_data_short.info())\\n'"
     },
     "metadata": {}
    }
   ]
  },
  {
   "cell_type": "code",
   "metadata": {
    "cell_id": "34300f865be345a7842bade9ba1744cb",
    "tags": [],
    "deepnote_to_be_reexecuted": false,
    "source_hash": "3fd7b406",
    "execution_start": 1658003258418,
    "execution_millis": 476,
    "deepnote_cell_type": "code",
    "deepnote_cell_height": 790.953125
   },
   "source": "csa_data_short['csa'] = 'csa'\ncsa_data_short['csa_bool'] = 1\nfm_data_short['fm'] = 'fm'\nfm_data_short['fm_bool'] = 1\nom_data_short['om'] = 'om'\nom_data_short['om_bool'] = 1",
   "execution_count": 90,
   "outputs": [
    {
     "name": "stderr",
     "text": "<ipython-input-90-1e65b739cf2f>:1: SettingWithCopyWarning: \nA value is trying to be set on a copy of a slice from a DataFrame.\nTry using .loc[row_indexer,col_indexer] = value instead\n\nSee the caveats in the documentation: https://pandas.pydata.org/pandas-docs/stable/user_guide/indexing.html#returning-a-view-versus-a-copy\n  csa_data_short['csa'] = 'csa'\n<ipython-input-90-1e65b739cf2f>:2: SettingWithCopyWarning: \nA value is trying to be set on a copy of a slice from a DataFrame.\nTry using .loc[row_indexer,col_indexer] = value instead\n\nSee the caveats in the documentation: https://pandas.pydata.org/pandas-docs/stable/user_guide/indexing.html#returning-a-view-versus-a-copy\n  csa_data_short['csa_bool'] = 1\n<ipython-input-90-1e65b739cf2f>:3: SettingWithCopyWarning: \nA value is trying to be set on a copy of a slice from a DataFrame.\nTry using .loc[row_indexer,col_indexer] = value instead\n\nSee the caveats in the documentation: https://pandas.pydata.org/pandas-docs/stable/user_guide/indexing.html#returning-a-view-versus-a-copy\n  fm_data_short['fm'] = 'fm'\n<ipython-input-90-1e65b739cf2f>:4: SettingWithCopyWarning: \nA value is trying to be set on a copy of a slice from a DataFrame.\nTry using .loc[row_indexer,col_indexer] = value instead\n\nSee the caveats in the documentation: https://pandas.pydata.org/pandas-docs/stable/user_guide/indexing.html#returning-a-view-versus-a-copy\n  fm_data_short['fm_bool'] = 1\n<ipython-input-90-1e65b739cf2f>:5: SettingWithCopyWarning: \nA value is trying to be set on a copy of a slice from a DataFrame.\nTry using .loc[row_indexer,col_indexer] = value instead\n\nSee the caveats in the documentation: https://pandas.pydata.org/pandas-docs/stable/user_guide/indexing.html#returning-a-view-versus-a-copy\n  om_data_short['om'] = 'om'\n<ipython-input-90-1e65b739cf2f>:6: SettingWithCopyWarning: \nA value is trying to be set on a copy of a slice from a DataFrame.\nTry using .loc[row_indexer,col_indexer] = value instead\n\nSee the caveats in the documentation: https://pandas.pydata.org/pandas-docs/stable/user_guide/indexing.html#returning-a-view-versus-a-copy\n  om_data_short['om_bool'] = 1\n",
     "output_type": "stream"
    }
   ]
  },
  {
   "cell_type": "code",
   "metadata": {
    "cell_id": "624d3fef64a148bfb1af3c4b2e5dbbdd",
    "tags": [],
    "deepnote_to_be_reexecuted": false,
    "source_hash": "a46ec9b1",
    "execution_start": 1658004117315,
    "execution_millis": 181,
    "deepnote_cell_type": "code",
    "deepnote_cell_height": 653.90625
   },
   "source": "\nfm_csa = fm_data_short.append(csa_data_short, ignore_index = True)\nfm_csa_om = fm_csa.append(om_data_short, ignore_index = True)\nfm_csa_om",
   "execution_count": 119,
   "outputs": [
    {
     "output_type": "execute_result",
     "execution_count": 119,
     "data": {
      "application/vnd.deepnote.dataframe.v3+json": {
       "column_count": 13,
       "row_count": 3642,
       "columns": [
        {
         "name": "listing_id",
         "dtype": "int64",
         "stats": {
          "unique_count": 3642,
          "nan_count": 0,
          "min": "5815",
          "max": "701677",
          "histogram": [
           {
            "bin_start": 5815,
            "bin_end": 75401.2,
            "count": 7
           },
           {
            "bin_start": 75401.2,
            "bin_end": 144987.4,
            "count": 0
           },
           {
            "bin_start": 144987.4,
            "bin_end": 214573.59999999998,
            "count": 963
           },
           {
            "bin_start": 214573.59999999998,
            "bin_end": 284159.8,
            "count": 0
           },
           {
            "bin_start": 284159.8,
            "bin_end": 353746,
            "count": 1009
           },
           {
            "bin_start": 353746,
            "bin_end": 423332.19999999995,
            "count": 0
           },
           {
            "bin_start": 423332.19999999995,
            "bin_end": 492918.39999999997,
            "count": 0
           },
           {
            "bin_start": 492918.39999999997,
            "bin_end": 562504.6,
            "count": 0
           },
           {
            "bin_start": 562504.6,
            "bin_end": 632090.7999999999,
            "count": 0
           },
           {
            "bin_start": 632090.7999999999,
            "bin_end": 701677,
            "count": 1663
           }
          ]
         }
        },
        {
         "name": "FNAP_1",
         "dtype": "float64",
         "stats": {
          "unique_count": 2,
          "nan_count": 18,
          "min": "0.0",
          "max": "1.0",
          "histogram": [
           {
            "bin_start": 0,
            "bin_end": 0.1,
            "count": 3060
           },
           {
            "bin_start": 0.1,
            "bin_end": 0.2,
            "count": 0
           },
           {
            "bin_start": 0.2,
            "bin_end": 0.30000000000000004,
            "count": 0
           },
           {
            "bin_start": 0.30000000000000004,
            "bin_end": 0.4,
            "count": 0
           },
           {
            "bin_start": 0.4,
            "bin_end": 0.5,
            "count": 0
           },
           {
            "bin_start": 0.5,
            "bin_end": 0.6000000000000001,
            "count": 0
           },
           {
            "bin_start": 0.6000000000000001,
            "bin_end": 0.7000000000000001,
            "count": 0
           },
           {
            "bin_start": 0.7000000000000001,
            "bin_end": 0.8,
            "count": 0
           },
           {
            "bin_start": 0.8,
            "bin_end": 0.9,
            "count": 0
           },
           {
            "bin_start": 0.9,
            "bin_end": 1,
            "count": 564
           }
          ]
         }
        },
        {
         "name": "FNAP_2",
         "dtype": "float64",
         "stats": {
          "unique_count": 2,
          "nan_count": 18,
          "min": "0.0",
          "max": "1.0",
          "histogram": [
           {
            "bin_start": 0,
            "bin_end": 0.1,
            "count": 2595
           },
           {
            "bin_start": 0.1,
            "bin_end": 0.2,
            "count": 0
           },
           {
            "bin_start": 0.2,
            "bin_end": 0.30000000000000004,
            "count": 0
           },
           {
            "bin_start": 0.30000000000000004,
            "bin_end": 0.4,
            "count": 0
           },
           {
            "bin_start": 0.4,
            "bin_end": 0.5,
            "count": 0
           },
           {
            "bin_start": 0.5,
            "bin_end": 0.6000000000000001,
            "count": 0
           },
           {
            "bin_start": 0.6000000000000001,
            "bin_end": 0.7000000000000001,
            "count": 0
           },
           {
            "bin_start": 0.7000000000000001,
            "bin_end": 0.8,
            "count": 0
           },
           {
            "bin_start": 0.8,
            "bin_end": 0.9,
            "count": 0
           },
           {
            "bin_start": 0.9,
            "bin_end": 1,
            "count": 1029
           }
          ]
         }
        },
        {
         "name": "location_x",
         "dtype": "float64",
         "stats": {
          "unique_count": 3599,
          "nan_count": 15,
          "min": "-159.4992",
          "max": "0.43705",
          "histogram": [
           {
            "bin_start": -159.4992,
            "bin_end": -143.505575,
            "count": 25
           },
           {
            "bin_start": -143.505575,
            "bin_end": -127.51195,
            "count": 3
           },
           {
            "bin_start": -127.51195,
            "bin_end": -111.518325,
            "count": 548
           },
           {
            "bin_start": -111.518325,
            "bin_end": -95.5247,
            "count": 311
           },
           {
            "bin_start": -95.5247,
            "bin_end": -79.531075,
            "count": 1723
           },
           {
            "bin_start": -79.531075,
            "bin_end": -63.53745000000001,
            "count": 1015
           },
           {
            "bin_start": -63.53745000000001,
            "bin_end": -47.543825,
            "count": 0
           },
           {
            "bin_start": -47.543825,
            "bin_end": -31.550200000000004,
            "count": 0
           },
           {
            "bin_start": -31.550200000000004,
            "bin_end": -15.55657500000001,
            "count": 0
           },
           {
            "bin_start": -15.55657500000001,
            "bin_end": 0.43705,
            "count": 2
           }
          ]
         }
        },
        {
         "name": "location_y",
         "dtype": "float64",
         "stats": {
          "unique_count": 3594,
          "nan_count": 15,
          "min": "0.049438",
          "max": "64.90857",
          "histogram": [
           {
            "bin_start": 0.049438,
            "bin_end": 6.535351200000001,
            "count": 2
           },
           {
            "bin_start": 6.535351200000001,
            "bin_end": 13.021264400000002,
            "count": 0
           },
           {
            "bin_start": 13.021264400000002,
            "bin_end": 19.507177600000002,
            "count": 8
           },
           {
            "bin_start": 19.507177600000002,
            "bin_end": 25.9930908,
            "count": 24
           },
           {
            "bin_start": 25.9930908,
            "bin_end": 32.479004,
            "count": 269
           },
           {
            "bin_start": 32.479004,
            "bin_end": 38.96491720000001,
            "count": 1069
           },
           {
            "bin_start": 38.96491720000001,
            "bin_end": 45.45083040000001,
            "count": 1985
           },
           {
            "bin_start": 45.45083040000001,
            "bin_end": 51.93674360000001,
            "count": 258
           },
           {
            "bin_start": 51.93674360000001,
            "bin_end": 58.422656800000006,
            "count": 2
           },
           {
            "bin_start": 58.422656800000006,
            "bin_end": 64.90857,
            "count": 10
           }
          ]
         }
        },
        {
         "name": "location_address",
         "dtype": "object",
         "stats": {
          "unique_count": 3582,
          "nan_count": 2,
          "categories": [
           {
            "name": "91 South St., New York , New York 10038",
            "count": 3
           },
           {
            "name": "3581 others",
            "count": 3637
           },
           {
            "name": "Missing",
            "count": 2
           }
          ]
         }
        },
        {
         "name": "listing_name",
         "dtype": "object",
         "stats": {
          "unique_count": 3537,
          "nan_count": 0,
          "categories": [
           {
            "name": "Historic Lewes Farmers Market",
            "count": 4
           },
           {
            "name": "Campbell County Farmers Market Association",
            "count": 3
           },
           {
            "name": "3535 others",
            "count": 3635
           }
          ]
         }
        },
        {
         "name": "fm",
         "dtype": "object",
         "stats": {
          "unique_count": 1,
          "nan_count": 2626,
          "categories": [
           {
            "name": "fm",
            "count": 1016
           },
           {
            "name": "Missing",
            "count": 2626
           }
          ]
         }
        },
        {
         "name": "fm_bool",
         "dtype": "float64",
         "stats": {
          "unique_count": 1,
          "nan_count": 2626,
          "min": "1.0",
          "max": "1.0",
          "histogram": [
           {
            "bin_start": 0.5,
            "bin_end": 0.6,
            "count": 0
           },
           {
            "bin_start": 0.6,
            "bin_end": 0.7,
            "count": 0
           },
           {
            "bin_start": 0.7,
            "bin_end": 0.8,
            "count": 0
           },
           {
            "bin_start": 0.8,
            "bin_end": 0.9,
            "count": 0
           },
           {
            "bin_start": 0.9,
            "bin_end": 1,
            "count": 0
           },
           {
            "bin_start": 1,
            "bin_end": 1.1,
            "count": 1016
           },
           {
            "bin_start": 1.1,
            "bin_end": 1.2000000000000002,
            "count": 0
           },
           {
            "bin_start": 1.2000000000000002,
            "bin_end": 1.3,
            "count": 0
           },
           {
            "bin_start": 1.3,
            "bin_end": 1.4,
            "count": 0
           },
           {
            "bin_start": 1.4,
            "bin_end": 1.5,
            "count": 0
           }
          ]
         }
        },
        {
         "name": "csa",
         "dtype": "object",
         "stats": {
          "unique_count": 1,
          "nan_count": 2679,
          "categories": [
           {
            "name": "csa",
            "count": 963
           },
           {
            "name": "Missing",
            "count": 2679
           }
          ]
         }
        },
        {
         "name": "csa_bool",
         "dtype": "float64",
         "stats": {
          "unique_count": 1,
          "nan_count": 2679,
          "min": "1.0",
          "max": "1.0",
          "histogram": [
           {
            "bin_start": 0.5,
            "bin_end": 0.6,
            "count": 0
           },
           {
            "bin_start": 0.6,
            "bin_end": 0.7,
            "count": 0
           },
           {
            "bin_start": 0.7,
            "bin_end": 0.8,
            "count": 0
           },
           {
            "bin_start": 0.8,
            "bin_end": 0.9,
            "count": 0
           },
           {
            "bin_start": 0.9,
            "bin_end": 1,
            "count": 0
           },
           {
            "bin_start": 1,
            "bin_end": 1.1,
            "count": 963
           },
           {
            "bin_start": 1.1,
            "bin_end": 1.2000000000000002,
            "count": 0
           },
           {
            "bin_start": 1.2000000000000002,
            "bin_end": 1.3,
            "count": 0
           },
           {
            "bin_start": 1.3,
            "bin_end": 1.4,
            "count": 0
           },
           {
            "bin_start": 1.4,
            "bin_end": 1.5,
            "count": 0
           }
          ]
         }
        },
        {
         "name": "om",
         "dtype": "object",
         "stats": {
          "unique_count": 1,
          "nan_count": 1979,
          "categories": [
           {
            "name": "om",
            "count": 1663
           },
           {
            "name": "Missing",
            "count": 1979
           }
          ]
         }
        },
        {
         "name": "om_bool",
         "dtype": "float64",
         "stats": {
          "unique_count": 1,
          "nan_count": 1979,
          "min": "1.0",
          "max": "1.0",
          "histogram": [
           {
            "bin_start": 0.5,
            "bin_end": 0.6,
            "count": 0
           },
           {
            "bin_start": 0.6,
            "bin_end": 0.7,
            "count": 0
           },
           {
            "bin_start": 0.7,
            "bin_end": 0.8,
            "count": 0
           },
           {
            "bin_start": 0.8,
            "bin_end": 0.9,
            "count": 0
           },
           {
            "bin_start": 0.9,
            "bin_end": 1,
            "count": 0
           },
           {
            "bin_start": 1,
            "bin_end": 1.1,
            "count": 1663
           },
           {
            "bin_start": 1.1,
            "bin_end": 1.2000000000000002,
            "count": 0
           },
           {
            "bin_start": 1.2000000000000002,
            "bin_end": 1.3,
            "count": 0
           },
           {
            "bin_start": 1.3,
            "bin_end": 1.4,
            "count": 0
           },
           {
            "bin_start": 1.4,
            "bin_end": 1.5,
            "count": 0
           }
          ]
         }
        },
        {
         "name": "_deepnote_index_column",
         "dtype": "int64"
        }
       ],
       "rows": [
        {
         "listing_id": 300002,
         "FNAP_1": 0,
         "FNAP_2": 1,
         "location_x": -104.81468,
         "location_y": 38.937716,
         "location_address": "7350 Pine Creek Road, Colorado Springs, Colorado 80919",
         "listing_name": "Colorado Farm and Art Market",
         "fm": "fm",
         "fm_bool": 1,
         "csa": "nan",
         "csa_bool": "nan",
         "om": "nan",
         "om_bool": "nan",
         "_deepnote_index_column": 0
        },
        {
         "listing_id": 300003,
         "FNAP_1": 0,
         "FNAP_2": 0,
         "location_x": -88.045015,
         "location_y": 30.69035,
         "location_address": "300 Conti, Mobile, Alabama 36602",
         "listing_name": "Market in The Park",
         "fm": "fm",
         "fm_bool": 1,
         "csa": "nan",
         "csa_bool": "nan",
         "om": "nan",
         "om_bool": "nan",
         "_deepnote_index_column": 1
        },
        {
         "listing_id": 300004,
         "FNAP_1": 0,
         "FNAP_2": 0,
         "location_x": -90.31353,
         "location_y": 42.404443,
         "location_address": "2000 Territory Drive, Galena, Illinois 61036",
         "listing_name": "The Territory Farmers' Market",
         "fm": "fm",
         "fm_bool": 1,
         "csa": "nan",
         "csa_bool": "nan",
         "om": "nan",
         "om_bool": "nan",
         "_deepnote_index_column": 2
        },
        {
         "listing_id": 300005,
         "FNAP_1": 0,
         "FNAP_2": 0,
         "location_x": -93.473419,
         "location_y": 44.997274,
         "location_address": "15500 County Road 6, Plymouth, Minnesota 55447",
         "listing_name": "City of Plymouth Farmers Market",
         "fm": "fm",
         "fm_bool": 1,
         "csa": "nan",
         "csa_bool": "nan",
         "om": "nan",
         "om_bool": "nan",
         "_deepnote_index_column": 3
        },
        {
         "listing_id": 300006,
         "FNAP_1": 1,
         "FNAP_2": 1,
         "location_x": -78.901856,
         "location_y": 36.000559,
         "location_address": "501 Foster Street, Durham, North Carolina 27701",
         "listing_name": "Durham Farmers' Market",
         "fm": "fm",
         "fm_bool": 1,
         "csa": "nan",
         "csa_bool": "nan",
         "om": "nan",
         "om_bool": "nan",
         "_deepnote_index_column": 4
        },
        {
         "listing_id": 300008,
         "FNAP_1": 1,
         "FNAP_2": 1,
         "location_x": -77.452948,
         "location_y": 43.212229,
         "location_address": "1028 Ridge Road, Webster Towne Center, Webster, New York 14580",
         "listing_name": "Webster's Joe Obbie Farmers' Market, Inc.",
         "fm": "fm",
         "fm_bool": 1,
         "csa": "nan",
         "csa_bool": "nan",
         "om": "nan",
         "om_bool": "nan",
         "_deepnote_index_column": 5
        },
        {
         "listing_id": 300009,
         "FNAP_1": 1,
         "FNAP_2": 1,
         "location_x": -88.40703,
         "location_y": 44.26201,
         "location_address": "100 College Avenue, Appleton, Wisconsin 54911",
         "listing_name": "Appleton Downtown Farm Market",
         "fm": "fm",
         "fm_bool": 1,
         "csa": "nan",
         "csa_bool": "nan",
         "om": "nan",
         "om_bool": "nan",
         "_deepnote_index_column": 6
        },
        {
         "listing_id": 300010,
         "FNAP_1": 0,
         "FNAP_2": 1,
         "location_x": -97.311627,
         "location_y": 30.111777,
         "location_address": "1302 Chestnut Street, Bastrop, Texas 78602",
         "listing_name": "Bastrop 1832 Farmers Market",
         "fm": "fm",
         "fm_bool": 1,
         "csa": "nan",
         "csa_bool": "nan",
         "om": "nan",
         "om_bool": "nan",
         "_deepnote_index_column": 7
        },
        {
         "listing_id": 300011,
         "FNAP_1": 0,
         "FNAP_2": 1,
         "location_x": -84.259924,
         "location_y": 39.266388,
         "location_address": "205 Broadway Street, Loveland, Ohio 45140",
         "listing_name": "Loveland Farmers Market",
         "fm": "fm",
         "fm_bool": 1,
         "csa": "nan",
         "csa_bool": "nan",
         "om": "nan",
         "om_bool": "nan",
         "_deepnote_index_column": 8
        },
        {
         "listing_id": 300013,
         "FNAP_1": 1,
         "FNAP_2": 1,
         "location_x": -75.916118,
         "location_y": 44.331171,
         "location_address": "Route 12, Alexandria Bay, New York 13607",
         "listing_name": "Alexandria Bay Farmers Market",
         "fm": "fm",
         "fm_bool": 1,
         "csa": "nan",
         "csa_bool": "nan",
         "om": "nan",
         "om_bool": "nan",
         "_deepnote_index_column": 9
        }
       ]
      },
      "text/plain": "      listing_id  FNAP_1  FNAP_2  location_x  location_y  \\\n0         300002     0.0     1.0 -104.814680   38.937716   \n1         300003     0.0     0.0  -88.045015   30.690350   \n2         300004     0.0     0.0  -90.313530   42.404443   \n3         300005     0.0     0.0  -93.473419   44.997274   \n4         300006     1.0     1.0  -78.901856   36.000559   \n...          ...     ...     ...         ...         ...   \n3637      700736     0.0     0.0  -92.408597   45.397467   \n3638      701671     0.0     0.0  -90.067140   41.293562   \n3639      700083     1.0     0.0  -74.393467   42.902931   \n3640      701676     0.0     0.0  -96.669370   32.024657   \n3641      701677     0.0     0.0 -104.570511   39.357596   \n\n                                       location_address  \\\n0     7350 Pine Creek Road, Colorado Springs, Colora...   \n1                      300 Conti, Mobile, Alabama 36602   \n2          2000 Territory Drive, Galena, Illinois 61036   \n3        15500 County Road 6, Plymouth, Minnesota 55447   \n4       501 Foster Street, Durham, North Carolina 27701   \n...                                                 ...   \n3637        1333 - 120th Street, Amery, Wisconsin 54001   \n3638              19065 IL-81, Cambridge, IL 61238, USA   \n3639   685 Argersinger Rd, Fultonviille, New York 12072   \n3640                1885 Northwest 2162, Barry, TX, USA   \n3641           33784 County Road 21, Elizabeth, CO, USA   \n\n                                 listing_name   fm  fm_bool  csa  csa_bool  \\\n0                Colorado Farm and Art Market   fm      1.0  NaN       NaN   \n1                          Market in The Park   fm      1.0  NaN       NaN   \n2               The Territory Farmers' Market   fm      1.0  NaN       NaN   \n3             City of Plymouth Farmers Market   fm      1.0  NaN       NaN   \n4                      Durham Farmers' Market   fm      1.0  NaN       NaN   \n...                                       ...  ...      ...  ...       ...   \n3637  Glenna Farms Country Store & Sugarhouse  NaN      NaN  NaN       NaN   \n3638                           Grateful Graze  NaN      NaN  NaN       NaN   \n3639                      Bellinger's Orchard  NaN      NaN  NaN       NaN   \n3640                      La Vida Buena Acres  NaN      NaN  NaN       NaN   \n3641                        RK Creations Farm  NaN      NaN  NaN       NaN   \n\n       om  om_bool  \n0     NaN      NaN  \n1     NaN      NaN  \n2     NaN      NaN  \n3     NaN      NaN  \n4     NaN      NaN  \n...   ...      ...  \n3637   om      1.0  \n3638   om      1.0  \n3639   om      1.0  \n3640   om      1.0  \n3641   om      1.0  \n\n[3642 rows x 13 columns]",
      "text/html": "<div>\n<style scoped>\n    .dataframe tbody tr th:only-of-type {\n        vertical-align: middle;\n    }\n\n    .dataframe tbody tr th {\n        vertical-align: top;\n    }\n\n    .dataframe thead th {\n        text-align: right;\n    }\n</style>\n<table border=\"1\" class=\"dataframe\">\n  <thead>\n    <tr style=\"text-align: right;\">\n      <th></th>\n      <th>listing_id</th>\n      <th>FNAP_1</th>\n      <th>FNAP_2</th>\n      <th>location_x</th>\n      <th>location_y</th>\n      <th>location_address</th>\n      <th>listing_name</th>\n      <th>fm</th>\n      <th>fm_bool</th>\n      <th>csa</th>\n      <th>csa_bool</th>\n      <th>om</th>\n      <th>om_bool</th>\n    </tr>\n  </thead>\n  <tbody>\n    <tr>\n      <th>0</th>\n      <td>300002</td>\n      <td>0.0</td>\n      <td>1.0</td>\n      <td>-104.814680</td>\n      <td>38.937716</td>\n      <td>7350 Pine Creek Road, Colorado Springs, Colora...</td>\n      <td>Colorado Farm and Art Market</td>\n      <td>fm</td>\n      <td>1.0</td>\n      <td>NaN</td>\n      <td>NaN</td>\n      <td>NaN</td>\n      <td>NaN</td>\n    </tr>\n    <tr>\n      <th>1</th>\n      <td>300003</td>\n      <td>0.0</td>\n      <td>0.0</td>\n      <td>-88.045015</td>\n      <td>30.690350</td>\n      <td>300 Conti, Mobile, Alabama 36602</td>\n      <td>Market in The Park</td>\n      <td>fm</td>\n      <td>1.0</td>\n      <td>NaN</td>\n      <td>NaN</td>\n      <td>NaN</td>\n      <td>NaN</td>\n    </tr>\n    <tr>\n      <th>2</th>\n      <td>300004</td>\n      <td>0.0</td>\n      <td>0.0</td>\n      <td>-90.313530</td>\n      <td>42.404443</td>\n      <td>2000 Territory Drive, Galena, Illinois 61036</td>\n      <td>The Territory Farmers' Market</td>\n      <td>fm</td>\n      <td>1.0</td>\n      <td>NaN</td>\n      <td>NaN</td>\n      <td>NaN</td>\n      <td>NaN</td>\n    </tr>\n    <tr>\n      <th>3</th>\n      <td>300005</td>\n      <td>0.0</td>\n      <td>0.0</td>\n      <td>-93.473419</td>\n      <td>44.997274</td>\n      <td>15500 County Road 6, Plymouth, Minnesota 55447</td>\n      <td>City of Plymouth Farmers Market</td>\n      <td>fm</td>\n      <td>1.0</td>\n      <td>NaN</td>\n      <td>NaN</td>\n      <td>NaN</td>\n      <td>NaN</td>\n    </tr>\n    <tr>\n      <th>4</th>\n      <td>300006</td>\n      <td>1.0</td>\n      <td>1.0</td>\n      <td>-78.901856</td>\n      <td>36.000559</td>\n      <td>501 Foster Street, Durham, North Carolina 27701</td>\n      <td>Durham Farmers' Market</td>\n      <td>fm</td>\n      <td>1.0</td>\n      <td>NaN</td>\n      <td>NaN</td>\n      <td>NaN</td>\n      <td>NaN</td>\n    </tr>\n    <tr>\n      <th>...</th>\n      <td>...</td>\n      <td>...</td>\n      <td>...</td>\n      <td>...</td>\n      <td>...</td>\n      <td>...</td>\n      <td>...</td>\n      <td>...</td>\n      <td>...</td>\n      <td>...</td>\n      <td>...</td>\n      <td>...</td>\n      <td>...</td>\n    </tr>\n    <tr>\n      <th>3637</th>\n      <td>700736</td>\n      <td>0.0</td>\n      <td>0.0</td>\n      <td>-92.408597</td>\n      <td>45.397467</td>\n      <td>1333 - 120th Street, Amery, Wisconsin 54001</td>\n      <td>Glenna Farms Country Store &amp; Sugarhouse</td>\n      <td>NaN</td>\n      <td>NaN</td>\n      <td>NaN</td>\n      <td>NaN</td>\n      <td>om</td>\n      <td>1.0</td>\n    </tr>\n    <tr>\n      <th>3638</th>\n      <td>701671</td>\n      <td>0.0</td>\n      <td>0.0</td>\n      <td>-90.067140</td>\n      <td>41.293562</td>\n      <td>19065 IL-81, Cambridge, IL 61238, USA</td>\n      <td>Grateful Graze</td>\n      <td>NaN</td>\n      <td>NaN</td>\n      <td>NaN</td>\n      <td>NaN</td>\n      <td>om</td>\n      <td>1.0</td>\n    </tr>\n    <tr>\n      <th>3639</th>\n      <td>700083</td>\n      <td>1.0</td>\n      <td>0.0</td>\n      <td>-74.393467</td>\n      <td>42.902931</td>\n      <td>685 Argersinger Rd, Fultonviille, New York 12072</td>\n      <td>Bellinger's Orchard</td>\n      <td>NaN</td>\n      <td>NaN</td>\n      <td>NaN</td>\n      <td>NaN</td>\n      <td>om</td>\n      <td>1.0</td>\n    </tr>\n    <tr>\n      <th>3640</th>\n      <td>701676</td>\n      <td>0.0</td>\n      <td>0.0</td>\n      <td>-96.669370</td>\n      <td>32.024657</td>\n      <td>1885 Northwest 2162, Barry, TX, USA</td>\n      <td>La Vida Buena Acres</td>\n      <td>NaN</td>\n      <td>NaN</td>\n      <td>NaN</td>\n      <td>NaN</td>\n      <td>om</td>\n      <td>1.0</td>\n    </tr>\n    <tr>\n      <th>3641</th>\n      <td>701677</td>\n      <td>0.0</td>\n      <td>0.0</td>\n      <td>-104.570511</td>\n      <td>39.357596</td>\n      <td>33784 County Road 21, Elizabeth, CO, USA</td>\n      <td>RK Creations Farm</td>\n      <td>NaN</td>\n      <td>NaN</td>\n      <td>NaN</td>\n      <td>NaN</td>\n      <td>om</td>\n      <td>1.0</td>\n    </tr>\n  </tbody>\n</table>\n<p>3642 rows × 13 columns</p>\n</div>"
     },
     "metadata": {}
    }
   ]
  },
  {
   "cell_type": "code",
   "source": "#fill nan with 0 for creating one hot\nfm_csa_om['fm_bool'] = fm_csa_om['fm_bool'].fillna(0)\nfm_csa_om['csa_bool'] = fm_csa_om['csa_bool'].fillna(0)\nfm_csa_om['om_bool'] = fm_csa_om['om_bool'].fillna(0)\nfm_csa_om",
   "metadata": {
    "cell_id": "0bdb3574a3a2410e9b18b4c3c4475c8c",
    "tags": [],
    "deepnote_to_be_reexecuted": false,
    "source_hash": "8aa24143",
    "execution_start": 1658004118174,
    "execution_millis": 165,
    "deepnote_cell_type": "code",
    "deepnote_cell_height": 671.90625
   },
   "outputs": [
    {
     "output_type": "execute_result",
     "execution_count": 120,
     "data": {
      "application/vnd.deepnote.dataframe.v3+json": {
       "column_count": 13,
       "row_count": 3642,
       "columns": [
        {
         "name": "listing_id",
         "dtype": "int64",
         "stats": {
          "unique_count": 3642,
          "nan_count": 0,
          "min": "5815",
          "max": "701677",
          "histogram": [
           {
            "bin_start": 5815,
            "bin_end": 75401.2,
            "count": 7
           },
           {
            "bin_start": 75401.2,
            "bin_end": 144987.4,
            "count": 0
           },
           {
            "bin_start": 144987.4,
            "bin_end": 214573.59999999998,
            "count": 963
           },
           {
            "bin_start": 214573.59999999998,
            "bin_end": 284159.8,
            "count": 0
           },
           {
            "bin_start": 284159.8,
            "bin_end": 353746,
            "count": 1009
           },
           {
            "bin_start": 353746,
            "bin_end": 423332.19999999995,
            "count": 0
           },
           {
            "bin_start": 423332.19999999995,
            "bin_end": 492918.39999999997,
            "count": 0
           },
           {
            "bin_start": 492918.39999999997,
            "bin_end": 562504.6,
            "count": 0
           },
           {
            "bin_start": 562504.6,
            "bin_end": 632090.7999999999,
            "count": 0
           },
           {
            "bin_start": 632090.7999999999,
            "bin_end": 701677,
            "count": 1663
           }
          ]
         }
        },
        {
         "name": "FNAP_1",
         "dtype": "float64",
         "stats": {
          "unique_count": 2,
          "nan_count": 18,
          "min": "0.0",
          "max": "1.0",
          "histogram": [
           {
            "bin_start": 0,
            "bin_end": 0.1,
            "count": 3060
           },
           {
            "bin_start": 0.1,
            "bin_end": 0.2,
            "count": 0
           },
           {
            "bin_start": 0.2,
            "bin_end": 0.30000000000000004,
            "count": 0
           },
           {
            "bin_start": 0.30000000000000004,
            "bin_end": 0.4,
            "count": 0
           },
           {
            "bin_start": 0.4,
            "bin_end": 0.5,
            "count": 0
           },
           {
            "bin_start": 0.5,
            "bin_end": 0.6000000000000001,
            "count": 0
           },
           {
            "bin_start": 0.6000000000000001,
            "bin_end": 0.7000000000000001,
            "count": 0
           },
           {
            "bin_start": 0.7000000000000001,
            "bin_end": 0.8,
            "count": 0
           },
           {
            "bin_start": 0.8,
            "bin_end": 0.9,
            "count": 0
           },
           {
            "bin_start": 0.9,
            "bin_end": 1,
            "count": 564
           }
          ]
         }
        },
        {
         "name": "FNAP_2",
         "dtype": "float64",
         "stats": {
          "unique_count": 2,
          "nan_count": 18,
          "min": "0.0",
          "max": "1.0",
          "histogram": [
           {
            "bin_start": 0,
            "bin_end": 0.1,
            "count": 2595
           },
           {
            "bin_start": 0.1,
            "bin_end": 0.2,
            "count": 0
           },
           {
            "bin_start": 0.2,
            "bin_end": 0.30000000000000004,
            "count": 0
           },
           {
            "bin_start": 0.30000000000000004,
            "bin_end": 0.4,
            "count": 0
           },
           {
            "bin_start": 0.4,
            "bin_end": 0.5,
            "count": 0
           },
           {
            "bin_start": 0.5,
            "bin_end": 0.6000000000000001,
            "count": 0
           },
           {
            "bin_start": 0.6000000000000001,
            "bin_end": 0.7000000000000001,
            "count": 0
           },
           {
            "bin_start": 0.7000000000000001,
            "bin_end": 0.8,
            "count": 0
           },
           {
            "bin_start": 0.8,
            "bin_end": 0.9,
            "count": 0
           },
           {
            "bin_start": 0.9,
            "bin_end": 1,
            "count": 1029
           }
          ]
         }
        },
        {
         "name": "location_x",
         "dtype": "float64",
         "stats": {
          "unique_count": 3599,
          "nan_count": 15,
          "min": "-159.4992",
          "max": "0.43705",
          "histogram": [
           {
            "bin_start": -159.4992,
            "bin_end": -143.505575,
            "count": 25
           },
           {
            "bin_start": -143.505575,
            "bin_end": -127.51195,
            "count": 3
           },
           {
            "bin_start": -127.51195,
            "bin_end": -111.518325,
            "count": 548
           },
           {
            "bin_start": -111.518325,
            "bin_end": -95.5247,
            "count": 311
           },
           {
            "bin_start": -95.5247,
            "bin_end": -79.531075,
            "count": 1723
           },
           {
            "bin_start": -79.531075,
            "bin_end": -63.53745000000001,
            "count": 1015
           },
           {
            "bin_start": -63.53745000000001,
            "bin_end": -47.543825,
            "count": 0
           },
           {
            "bin_start": -47.543825,
            "bin_end": -31.550200000000004,
            "count": 0
           },
           {
            "bin_start": -31.550200000000004,
            "bin_end": -15.55657500000001,
            "count": 0
           },
           {
            "bin_start": -15.55657500000001,
            "bin_end": 0.43705,
            "count": 2
           }
          ]
         }
        },
        {
         "name": "location_y",
         "dtype": "float64",
         "stats": {
          "unique_count": 3594,
          "nan_count": 15,
          "min": "0.049438",
          "max": "64.90857",
          "histogram": [
           {
            "bin_start": 0.049438,
            "bin_end": 6.535351200000001,
            "count": 2
           },
           {
            "bin_start": 6.535351200000001,
            "bin_end": 13.021264400000002,
            "count": 0
           },
           {
            "bin_start": 13.021264400000002,
            "bin_end": 19.507177600000002,
            "count": 8
           },
           {
            "bin_start": 19.507177600000002,
            "bin_end": 25.9930908,
            "count": 24
           },
           {
            "bin_start": 25.9930908,
            "bin_end": 32.479004,
            "count": 269
           },
           {
            "bin_start": 32.479004,
            "bin_end": 38.96491720000001,
            "count": 1069
           },
           {
            "bin_start": 38.96491720000001,
            "bin_end": 45.45083040000001,
            "count": 1985
           },
           {
            "bin_start": 45.45083040000001,
            "bin_end": 51.93674360000001,
            "count": 258
           },
           {
            "bin_start": 51.93674360000001,
            "bin_end": 58.422656800000006,
            "count": 2
           },
           {
            "bin_start": 58.422656800000006,
            "bin_end": 64.90857,
            "count": 10
           }
          ]
         }
        },
        {
         "name": "location_address",
         "dtype": "object",
         "stats": {
          "unique_count": 3582,
          "nan_count": 2,
          "categories": [
           {
            "name": "91 South St., New York , New York 10038",
            "count": 3
           },
           {
            "name": "3581 others",
            "count": 3637
           },
           {
            "name": "Missing",
            "count": 2
           }
          ]
         }
        },
        {
         "name": "listing_name",
         "dtype": "object",
         "stats": {
          "unique_count": 3537,
          "nan_count": 0,
          "categories": [
           {
            "name": "Historic Lewes Farmers Market",
            "count": 4
           },
           {
            "name": "Campbell County Farmers Market Association",
            "count": 3
           },
           {
            "name": "3535 others",
            "count": 3635
           }
          ]
         }
        },
        {
         "name": "fm",
         "dtype": "object",
         "stats": {
          "unique_count": 1,
          "nan_count": 2626,
          "categories": [
           {
            "name": "fm",
            "count": 1016
           },
           {
            "name": "Missing",
            "count": 2626
           }
          ]
         }
        },
        {
         "name": "fm_bool",
         "dtype": "float64",
         "stats": {
          "unique_count": 2,
          "nan_count": 0,
          "min": "0.0",
          "max": "1.0",
          "histogram": [
           {
            "bin_start": 0,
            "bin_end": 0.1,
            "count": 2626
           },
           {
            "bin_start": 0.1,
            "bin_end": 0.2,
            "count": 0
           },
           {
            "bin_start": 0.2,
            "bin_end": 0.30000000000000004,
            "count": 0
           },
           {
            "bin_start": 0.30000000000000004,
            "bin_end": 0.4,
            "count": 0
           },
           {
            "bin_start": 0.4,
            "bin_end": 0.5,
            "count": 0
           },
           {
            "bin_start": 0.5,
            "bin_end": 0.6000000000000001,
            "count": 0
           },
           {
            "bin_start": 0.6000000000000001,
            "bin_end": 0.7000000000000001,
            "count": 0
           },
           {
            "bin_start": 0.7000000000000001,
            "bin_end": 0.8,
            "count": 0
           },
           {
            "bin_start": 0.8,
            "bin_end": 0.9,
            "count": 0
           },
           {
            "bin_start": 0.9,
            "bin_end": 1,
            "count": 1016
           }
          ]
         }
        },
        {
         "name": "csa",
         "dtype": "object",
         "stats": {
          "unique_count": 1,
          "nan_count": 2679,
          "categories": [
           {
            "name": "csa",
            "count": 963
           },
           {
            "name": "Missing",
            "count": 2679
           }
          ]
         }
        },
        {
         "name": "csa_bool",
         "dtype": "float64",
         "stats": {
          "unique_count": 2,
          "nan_count": 0,
          "min": "0.0",
          "max": "1.0",
          "histogram": [
           {
            "bin_start": 0,
            "bin_end": 0.1,
            "count": 2679
           },
           {
            "bin_start": 0.1,
            "bin_end": 0.2,
            "count": 0
           },
           {
            "bin_start": 0.2,
            "bin_end": 0.30000000000000004,
            "count": 0
           },
           {
            "bin_start": 0.30000000000000004,
            "bin_end": 0.4,
            "count": 0
           },
           {
            "bin_start": 0.4,
            "bin_end": 0.5,
            "count": 0
           },
           {
            "bin_start": 0.5,
            "bin_end": 0.6000000000000001,
            "count": 0
           },
           {
            "bin_start": 0.6000000000000001,
            "bin_end": 0.7000000000000001,
            "count": 0
           },
           {
            "bin_start": 0.7000000000000001,
            "bin_end": 0.8,
            "count": 0
           },
           {
            "bin_start": 0.8,
            "bin_end": 0.9,
            "count": 0
           },
           {
            "bin_start": 0.9,
            "bin_end": 1,
            "count": 963
           }
          ]
         }
        },
        {
         "name": "om",
         "dtype": "object",
         "stats": {
          "unique_count": 1,
          "nan_count": 1979,
          "categories": [
           {
            "name": "om",
            "count": 1663
           },
           {
            "name": "Missing",
            "count": 1979
           }
          ]
         }
        },
        {
         "name": "om_bool",
         "dtype": "float64",
         "stats": {
          "unique_count": 2,
          "nan_count": 0,
          "min": "0.0",
          "max": "1.0",
          "histogram": [
           {
            "bin_start": 0,
            "bin_end": 0.1,
            "count": 1979
           },
           {
            "bin_start": 0.1,
            "bin_end": 0.2,
            "count": 0
           },
           {
            "bin_start": 0.2,
            "bin_end": 0.30000000000000004,
            "count": 0
           },
           {
            "bin_start": 0.30000000000000004,
            "bin_end": 0.4,
            "count": 0
           },
           {
            "bin_start": 0.4,
            "bin_end": 0.5,
            "count": 0
           },
           {
            "bin_start": 0.5,
            "bin_end": 0.6000000000000001,
            "count": 0
           },
           {
            "bin_start": 0.6000000000000001,
            "bin_end": 0.7000000000000001,
            "count": 0
           },
           {
            "bin_start": 0.7000000000000001,
            "bin_end": 0.8,
            "count": 0
           },
           {
            "bin_start": 0.8,
            "bin_end": 0.9,
            "count": 0
           },
           {
            "bin_start": 0.9,
            "bin_end": 1,
            "count": 1663
           }
          ]
         }
        },
        {
         "name": "_deepnote_index_column",
         "dtype": "int64"
        }
       ],
       "rows": [
        {
         "listing_id": 300002,
         "FNAP_1": 0,
         "FNAP_2": 1,
         "location_x": -104.81468,
         "location_y": 38.937716,
         "location_address": "7350 Pine Creek Road, Colorado Springs, Colorado 80919",
         "listing_name": "Colorado Farm and Art Market",
         "fm": "fm",
         "fm_bool": 1,
         "csa": "nan",
         "csa_bool": 0,
         "om": "nan",
         "om_bool": 0,
         "_deepnote_index_column": 0
        },
        {
         "listing_id": 300003,
         "FNAP_1": 0,
         "FNAP_2": 0,
         "location_x": -88.045015,
         "location_y": 30.69035,
         "location_address": "300 Conti, Mobile, Alabama 36602",
         "listing_name": "Market in The Park",
         "fm": "fm",
         "fm_bool": 1,
         "csa": "nan",
         "csa_bool": 0,
         "om": "nan",
         "om_bool": 0,
         "_deepnote_index_column": 1
        },
        {
         "listing_id": 300004,
         "FNAP_1": 0,
         "FNAP_2": 0,
         "location_x": -90.31353,
         "location_y": 42.404443,
         "location_address": "2000 Territory Drive, Galena, Illinois 61036",
         "listing_name": "The Territory Farmers' Market",
         "fm": "fm",
         "fm_bool": 1,
         "csa": "nan",
         "csa_bool": 0,
         "om": "nan",
         "om_bool": 0,
         "_deepnote_index_column": 2
        },
        {
         "listing_id": 300005,
         "FNAP_1": 0,
         "FNAP_2": 0,
         "location_x": -93.473419,
         "location_y": 44.997274,
         "location_address": "15500 County Road 6, Plymouth, Minnesota 55447",
         "listing_name": "City of Plymouth Farmers Market",
         "fm": "fm",
         "fm_bool": 1,
         "csa": "nan",
         "csa_bool": 0,
         "om": "nan",
         "om_bool": 0,
         "_deepnote_index_column": 3
        },
        {
         "listing_id": 300006,
         "FNAP_1": 1,
         "FNAP_2": 1,
         "location_x": -78.901856,
         "location_y": 36.000559,
         "location_address": "501 Foster Street, Durham, North Carolina 27701",
         "listing_name": "Durham Farmers' Market",
         "fm": "fm",
         "fm_bool": 1,
         "csa": "nan",
         "csa_bool": 0,
         "om": "nan",
         "om_bool": 0,
         "_deepnote_index_column": 4
        },
        {
         "listing_id": 300008,
         "FNAP_1": 1,
         "FNAP_2": 1,
         "location_x": -77.452948,
         "location_y": 43.212229,
         "location_address": "1028 Ridge Road, Webster Towne Center, Webster, New York 14580",
         "listing_name": "Webster's Joe Obbie Farmers' Market, Inc.",
         "fm": "fm",
         "fm_bool": 1,
         "csa": "nan",
         "csa_bool": 0,
         "om": "nan",
         "om_bool": 0,
         "_deepnote_index_column": 5
        },
        {
         "listing_id": 300009,
         "FNAP_1": 1,
         "FNAP_2": 1,
         "location_x": -88.40703,
         "location_y": 44.26201,
         "location_address": "100 College Avenue, Appleton, Wisconsin 54911",
         "listing_name": "Appleton Downtown Farm Market",
         "fm": "fm",
         "fm_bool": 1,
         "csa": "nan",
         "csa_bool": 0,
         "om": "nan",
         "om_bool": 0,
         "_deepnote_index_column": 6
        },
        {
         "listing_id": 300010,
         "FNAP_1": 0,
         "FNAP_2": 1,
         "location_x": -97.311627,
         "location_y": 30.111777,
         "location_address": "1302 Chestnut Street, Bastrop, Texas 78602",
         "listing_name": "Bastrop 1832 Farmers Market",
         "fm": "fm",
         "fm_bool": 1,
         "csa": "nan",
         "csa_bool": 0,
         "om": "nan",
         "om_bool": 0,
         "_deepnote_index_column": 7
        },
        {
         "listing_id": 300011,
         "FNAP_1": 0,
         "FNAP_2": 1,
         "location_x": -84.259924,
         "location_y": 39.266388,
         "location_address": "205 Broadway Street, Loveland, Ohio 45140",
         "listing_name": "Loveland Farmers Market",
         "fm": "fm",
         "fm_bool": 1,
         "csa": "nan",
         "csa_bool": 0,
         "om": "nan",
         "om_bool": 0,
         "_deepnote_index_column": 8
        },
        {
         "listing_id": 300013,
         "FNAP_1": 1,
         "FNAP_2": 1,
         "location_x": -75.916118,
         "location_y": 44.331171,
         "location_address": "Route 12, Alexandria Bay, New York 13607",
         "listing_name": "Alexandria Bay Farmers Market",
         "fm": "fm",
         "fm_bool": 1,
         "csa": "nan",
         "csa_bool": 0,
         "om": "nan",
         "om_bool": 0,
         "_deepnote_index_column": 9
        }
       ]
      },
      "text/plain": "      listing_id  FNAP_1  FNAP_2  location_x  location_y  \\\n0         300002     0.0     1.0 -104.814680   38.937716   \n1         300003     0.0     0.0  -88.045015   30.690350   \n2         300004     0.0     0.0  -90.313530   42.404443   \n3         300005     0.0     0.0  -93.473419   44.997274   \n4         300006     1.0     1.0  -78.901856   36.000559   \n...          ...     ...     ...         ...         ...   \n3637      700736     0.0     0.0  -92.408597   45.397467   \n3638      701671     0.0     0.0  -90.067140   41.293562   \n3639      700083     1.0     0.0  -74.393467   42.902931   \n3640      701676     0.0     0.0  -96.669370   32.024657   \n3641      701677     0.0     0.0 -104.570511   39.357596   \n\n                                       location_address  \\\n0     7350 Pine Creek Road, Colorado Springs, Colora...   \n1                      300 Conti, Mobile, Alabama 36602   \n2          2000 Territory Drive, Galena, Illinois 61036   \n3        15500 County Road 6, Plymouth, Minnesota 55447   \n4       501 Foster Street, Durham, North Carolina 27701   \n...                                                 ...   \n3637        1333 - 120th Street, Amery, Wisconsin 54001   \n3638              19065 IL-81, Cambridge, IL 61238, USA   \n3639   685 Argersinger Rd, Fultonviille, New York 12072   \n3640                1885 Northwest 2162, Barry, TX, USA   \n3641           33784 County Road 21, Elizabeth, CO, USA   \n\n                                 listing_name   fm  fm_bool  csa  csa_bool  \\\n0                Colorado Farm and Art Market   fm      1.0  NaN       0.0   \n1                          Market in The Park   fm      1.0  NaN       0.0   \n2               The Territory Farmers' Market   fm      1.0  NaN       0.0   \n3             City of Plymouth Farmers Market   fm      1.0  NaN       0.0   \n4                      Durham Farmers' Market   fm      1.0  NaN       0.0   \n...                                       ...  ...      ...  ...       ...   \n3637  Glenna Farms Country Store & Sugarhouse  NaN      0.0  NaN       0.0   \n3638                           Grateful Graze  NaN      0.0  NaN       0.0   \n3639                      Bellinger's Orchard  NaN      0.0  NaN       0.0   \n3640                      La Vida Buena Acres  NaN      0.0  NaN       0.0   \n3641                        RK Creations Farm  NaN      0.0  NaN       0.0   \n\n       om  om_bool  \n0     NaN      0.0  \n1     NaN      0.0  \n2     NaN      0.0  \n3     NaN      0.0  \n4     NaN      0.0  \n...   ...      ...  \n3637   om      1.0  \n3638   om      1.0  \n3639   om      1.0  \n3640   om      1.0  \n3641   om      1.0  \n\n[3642 rows x 13 columns]",
      "text/html": "<div>\n<style scoped>\n    .dataframe tbody tr th:only-of-type {\n        vertical-align: middle;\n    }\n\n    .dataframe tbody tr th {\n        vertical-align: top;\n    }\n\n    .dataframe thead th {\n        text-align: right;\n    }\n</style>\n<table border=\"1\" class=\"dataframe\">\n  <thead>\n    <tr style=\"text-align: right;\">\n      <th></th>\n      <th>listing_id</th>\n      <th>FNAP_1</th>\n      <th>FNAP_2</th>\n      <th>location_x</th>\n      <th>location_y</th>\n      <th>location_address</th>\n      <th>listing_name</th>\n      <th>fm</th>\n      <th>fm_bool</th>\n      <th>csa</th>\n      <th>csa_bool</th>\n      <th>om</th>\n      <th>om_bool</th>\n    </tr>\n  </thead>\n  <tbody>\n    <tr>\n      <th>0</th>\n      <td>300002</td>\n      <td>0.0</td>\n      <td>1.0</td>\n      <td>-104.814680</td>\n      <td>38.937716</td>\n      <td>7350 Pine Creek Road, Colorado Springs, Colora...</td>\n      <td>Colorado Farm and Art Market</td>\n      <td>fm</td>\n      <td>1.0</td>\n      <td>NaN</td>\n      <td>0.0</td>\n      <td>NaN</td>\n      <td>0.0</td>\n    </tr>\n    <tr>\n      <th>1</th>\n      <td>300003</td>\n      <td>0.0</td>\n      <td>0.0</td>\n      <td>-88.045015</td>\n      <td>30.690350</td>\n      <td>300 Conti, Mobile, Alabama 36602</td>\n      <td>Market in The Park</td>\n      <td>fm</td>\n      <td>1.0</td>\n      <td>NaN</td>\n      <td>0.0</td>\n      <td>NaN</td>\n      <td>0.0</td>\n    </tr>\n    <tr>\n      <th>2</th>\n      <td>300004</td>\n      <td>0.0</td>\n      <td>0.0</td>\n      <td>-90.313530</td>\n      <td>42.404443</td>\n      <td>2000 Territory Drive, Galena, Illinois 61036</td>\n      <td>The Territory Farmers' Market</td>\n      <td>fm</td>\n      <td>1.0</td>\n      <td>NaN</td>\n      <td>0.0</td>\n      <td>NaN</td>\n      <td>0.0</td>\n    </tr>\n    <tr>\n      <th>3</th>\n      <td>300005</td>\n      <td>0.0</td>\n      <td>0.0</td>\n      <td>-93.473419</td>\n      <td>44.997274</td>\n      <td>15500 County Road 6, Plymouth, Minnesota 55447</td>\n      <td>City of Plymouth Farmers Market</td>\n      <td>fm</td>\n      <td>1.0</td>\n      <td>NaN</td>\n      <td>0.0</td>\n      <td>NaN</td>\n      <td>0.0</td>\n    </tr>\n    <tr>\n      <th>4</th>\n      <td>300006</td>\n      <td>1.0</td>\n      <td>1.0</td>\n      <td>-78.901856</td>\n      <td>36.000559</td>\n      <td>501 Foster Street, Durham, North Carolina 27701</td>\n      <td>Durham Farmers' Market</td>\n      <td>fm</td>\n      <td>1.0</td>\n      <td>NaN</td>\n      <td>0.0</td>\n      <td>NaN</td>\n      <td>0.0</td>\n    </tr>\n    <tr>\n      <th>...</th>\n      <td>...</td>\n      <td>...</td>\n      <td>...</td>\n      <td>...</td>\n      <td>...</td>\n      <td>...</td>\n      <td>...</td>\n      <td>...</td>\n      <td>...</td>\n      <td>...</td>\n      <td>...</td>\n      <td>...</td>\n      <td>...</td>\n    </tr>\n    <tr>\n      <th>3637</th>\n      <td>700736</td>\n      <td>0.0</td>\n      <td>0.0</td>\n      <td>-92.408597</td>\n      <td>45.397467</td>\n      <td>1333 - 120th Street, Amery, Wisconsin 54001</td>\n      <td>Glenna Farms Country Store &amp; Sugarhouse</td>\n      <td>NaN</td>\n      <td>0.0</td>\n      <td>NaN</td>\n      <td>0.0</td>\n      <td>om</td>\n      <td>1.0</td>\n    </tr>\n    <tr>\n      <th>3638</th>\n      <td>701671</td>\n      <td>0.0</td>\n      <td>0.0</td>\n      <td>-90.067140</td>\n      <td>41.293562</td>\n      <td>19065 IL-81, Cambridge, IL 61238, USA</td>\n      <td>Grateful Graze</td>\n      <td>NaN</td>\n      <td>0.0</td>\n      <td>NaN</td>\n      <td>0.0</td>\n      <td>om</td>\n      <td>1.0</td>\n    </tr>\n    <tr>\n      <th>3639</th>\n      <td>700083</td>\n      <td>1.0</td>\n      <td>0.0</td>\n      <td>-74.393467</td>\n      <td>42.902931</td>\n      <td>685 Argersinger Rd, Fultonviille, New York 12072</td>\n      <td>Bellinger's Orchard</td>\n      <td>NaN</td>\n      <td>0.0</td>\n      <td>NaN</td>\n      <td>0.0</td>\n      <td>om</td>\n      <td>1.0</td>\n    </tr>\n    <tr>\n      <th>3640</th>\n      <td>701676</td>\n      <td>0.0</td>\n      <td>0.0</td>\n      <td>-96.669370</td>\n      <td>32.024657</td>\n      <td>1885 Northwest 2162, Barry, TX, USA</td>\n      <td>La Vida Buena Acres</td>\n      <td>NaN</td>\n      <td>0.0</td>\n      <td>NaN</td>\n      <td>0.0</td>\n      <td>om</td>\n      <td>1.0</td>\n    </tr>\n    <tr>\n      <th>3641</th>\n      <td>701677</td>\n      <td>0.0</td>\n      <td>0.0</td>\n      <td>-104.570511</td>\n      <td>39.357596</td>\n      <td>33784 County Road 21, Elizabeth, CO, USA</td>\n      <td>RK Creations Farm</td>\n      <td>NaN</td>\n      <td>0.0</td>\n      <td>NaN</td>\n      <td>0.0</td>\n      <td>om</td>\n      <td>1.0</td>\n    </tr>\n  </tbody>\n</table>\n<p>3642 rows × 13 columns</p>\n</div>"
     },
     "metadata": {}
    }
   ],
   "execution_count": 120
  },
  {
   "cell_type": "code",
   "source": "len(fm_csa_om['listing_id'].unique())",
   "metadata": {
    "cell_id": "15acf895ad424e509723823986ce5230",
    "tags": [],
    "deepnote_to_be_reexecuted": false,
    "source_hash": "65588b0e",
    "execution_start": 1658004120090,
    "execution_millis": 22,
    "deepnote_cell_type": "code",
    "deepnote_cell_height": 118.140625,
    "deepnote_output_heights": [
     21.1875
    ]
   },
   "outputs": [
    {
     "output_type": "execute_result",
     "execution_count": 121,
     "data": {
      "text/plain": "3642"
     },
     "metadata": {}
    }
   ],
   "execution_count": 121
  },
  {
   "cell_type": "code",
   "source": "fm_csa_om.info()",
   "metadata": {
    "cell_id": "007e7e486c2547999bcb393ea15947a4",
    "tags": [],
    "deepnote_to_be_reexecuted": false,
    "source_hash": "8503acb9",
    "execution_start": 1658004120122,
    "execution_millis": 20,
    "deepnote_cell_type": "code",
    "deepnote_cell_height": 488.4375
   },
   "outputs": [
    {
     "name": "stdout",
     "text": "<class 'pandas.core.frame.DataFrame'>\nRangeIndex: 3642 entries, 0 to 3641\nData columns (total 13 columns):\n #   Column            Non-Null Count  Dtype  \n---  ------            --------------  -----  \n 0   listing_id        3642 non-null   int64  \n 1   FNAP_1            3624 non-null   float64\n 2   FNAP_2            3624 non-null   float64\n 3   location_x        3627 non-null   float64\n 4   location_y        3627 non-null   float64\n 5   location_address  3640 non-null   object \n 6   listing_name      3642 non-null   object \n 7   fm                1016 non-null   object \n 8   fm_bool           3642 non-null   float64\n 9   csa               963 non-null    object \n 10  csa_bool          3642 non-null   float64\n 11  om                1663 non-null   object \n 12  om_bool           3642 non-null   float64\ndtypes: float64(7), int64(1), object(5)\nmemory usage: 370.0+ KB\n",
     "output_type": "stream"
    }
   ],
   "execution_count": 122
  },
  {
   "cell_type": "code",
   "source": "fm_csa_om.loc[fm_csa_om['fm'] == 'fm', 'Farmer Market Type'] = \"Farmers' Market\"\nfm_csa_om.loc[fm_csa_om['csa'] == 'csa', 'Farmer Market Type'] = \"Community Supported Agriculture\"\nfm_csa_om.loc[fm_csa_om['om'] == 'om', 'Farmer Market Type'] = \"On Market Farmers' Market\"\nfm_csa_om",
   "metadata": {
    "cell_id": "5b80452da6ce4adfabea7e4886762e11",
    "tags": [],
    "deepnote_to_be_reexecuted": false,
    "source_hash": "38bc8c10",
    "execution_start": 1658004120816,
    "execution_millis": 166,
    "deepnote_cell_type": "code",
    "deepnote_cell_height": 653.90625
   },
   "outputs": [
    {
     "output_type": "execute_result",
     "execution_count": 123,
     "data": {
      "application/vnd.deepnote.dataframe.v3+json": {
       "column_count": 14,
       "row_count": 3642,
       "columns": [
        {
         "name": "listing_id",
         "dtype": "int64",
         "stats": {
          "unique_count": 3642,
          "nan_count": 0,
          "min": "5815",
          "max": "701677",
          "histogram": [
           {
            "bin_start": 5815,
            "bin_end": 75401.2,
            "count": 7
           },
           {
            "bin_start": 75401.2,
            "bin_end": 144987.4,
            "count": 0
           },
           {
            "bin_start": 144987.4,
            "bin_end": 214573.59999999998,
            "count": 963
           },
           {
            "bin_start": 214573.59999999998,
            "bin_end": 284159.8,
            "count": 0
           },
           {
            "bin_start": 284159.8,
            "bin_end": 353746,
            "count": 1009
           },
           {
            "bin_start": 353746,
            "bin_end": 423332.19999999995,
            "count": 0
           },
           {
            "bin_start": 423332.19999999995,
            "bin_end": 492918.39999999997,
            "count": 0
           },
           {
            "bin_start": 492918.39999999997,
            "bin_end": 562504.6,
            "count": 0
           },
           {
            "bin_start": 562504.6,
            "bin_end": 632090.7999999999,
            "count": 0
           },
           {
            "bin_start": 632090.7999999999,
            "bin_end": 701677,
            "count": 1663
           }
          ]
         }
        },
        {
         "name": "FNAP_1",
         "dtype": "float64",
         "stats": {
          "unique_count": 2,
          "nan_count": 18,
          "min": "0.0",
          "max": "1.0",
          "histogram": [
           {
            "bin_start": 0,
            "bin_end": 0.1,
            "count": 3060
           },
           {
            "bin_start": 0.1,
            "bin_end": 0.2,
            "count": 0
           },
           {
            "bin_start": 0.2,
            "bin_end": 0.30000000000000004,
            "count": 0
           },
           {
            "bin_start": 0.30000000000000004,
            "bin_end": 0.4,
            "count": 0
           },
           {
            "bin_start": 0.4,
            "bin_end": 0.5,
            "count": 0
           },
           {
            "bin_start": 0.5,
            "bin_end": 0.6000000000000001,
            "count": 0
           },
           {
            "bin_start": 0.6000000000000001,
            "bin_end": 0.7000000000000001,
            "count": 0
           },
           {
            "bin_start": 0.7000000000000001,
            "bin_end": 0.8,
            "count": 0
           },
           {
            "bin_start": 0.8,
            "bin_end": 0.9,
            "count": 0
           },
           {
            "bin_start": 0.9,
            "bin_end": 1,
            "count": 564
           }
          ]
         }
        },
        {
         "name": "FNAP_2",
         "dtype": "float64",
         "stats": {
          "unique_count": 2,
          "nan_count": 18,
          "min": "0.0",
          "max": "1.0",
          "histogram": [
           {
            "bin_start": 0,
            "bin_end": 0.1,
            "count": 2595
           },
           {
            "bin_start": 0.1,
            "bin_end": 0.2,
            "count": 0
           },
           {
            "bin_start": 0.2,
            "bin_end": 0.30000000000000004,
            "count": 0
           },
           {
            "bin_start": 0.30000000000000004,
            "bin_end": 0.4,
            "count": 0
           },
           {
            "bin_start": 0.4,
            "bin_end": 0.5,
            "count": 0
           },
           {
            "bin_start": 0.5,
            "bin_end": 0.6000000000000001,
            "count": 0
           },
           {
            "bin_start": 0.6000000000000001,
            "bin_end": 0.7000000000000001,
            "count": 0
           },
           {
            "bin_start": 0.7000000000000001,
            "bin_end": 0.8,
            "count": 0
           },
           {
            "bin_start": 0.8,
            "bin_end": 0.9,
            "count": 0
           },
           {
            "bin_start": 0.9,
            "bin_end": 1,
            "count": 1029
           }
          ]
         }
        },
        {
         "name": "location_x",
         "dtype": "float64",
         "stats": {
          "unique_count": 3599,
          "nan_count": 15,
          "min": "-159.4992",
          "max": "0.43705",
          "histogram": [
           {
            "bin_start": -159.4992,
            "bin_end": -143.505575,
            "count": 25
           },
           {
            "bin_start": -143.505575,
            "bin_end": -127.51195,
            "count": 3
           },
           {
            "bin_start": -127.51195,
            "bin_end": -111.518325,
            "count": 548
           },
           {
            "bin_start": -111.518325,
            "bin_end": -95.5247,
            "count": 311
           },
           {
            "bin_start": -95.5247,
            "bin_end": -79.531075,
            "count": 1723
           },
           {
            "bin_start": -79.531075,
            "bin_end": -63.53745000000001,
            "count": 1015
           },
           {
            "bin_start": -63.53745000000001,
            "bin_end": -47.543825,
            "count": 0
           },
           {
            "bin_start": -47.543825,
            "bin_end": -31.550200000000004,
            "count": 0
           },
           {
            "bin_start": -31.550200000000004,
            "bin_end": -15.55657500000001,
            "count": 0
           },
           {
            "bin_start": -15.55657500000001,
            "bin_end": 0.43705,
            "count": 2
           }
          ]
         }
        },
        {
         "name": "location_y",
         "dtype": "float64",
         "stats": {
          "unique_count": 3594,
          "nan_count": 15,
          "min": "0.049438",
          "max": "64.90857",
          "histogram": [
           {
            "bin_start": 0.049438,
            "bin_end": 6.535351200000001,
            "count": 2
           },
           {
            "bin_start": 6.535351200000001,
            "bin_end": 13.021264400000002,
            "count": 0
           },
           {
            "bin_start": 13.021264400000002,
            "bin_end": 19.507177600000002,
            "count": 8
           },
           {
            "bin_start": 19.507177600000002,
            "bin_end": 25.9930908,
            "count": 24
           },
           {
            "bin_start": 25.9930908,
            "bin_end": 32.479004,
            "count": 269
           },
           {
            "bin_start": 32.479004,
            "bin_end": 38.96491720000001,
            "count": 1069
           },
           {
            "bin_start": 38.96491720000001,
            "bin_end": 45.45083040000001,
            "count": 1985
           },
           {
            "bin_start": 45.45083040000001,
            "bin_end": 51.93674360000001,
            "count": 258
           },
           {
            "bin_start": 51.93674360000001,
            "bin_end": 58.422656800000006,
            "count": 2
           },
           {
            "bin_start": 58.422656800000006,
            "bin_end": 64.90857,
            "count": 10
           }
          ]
         }
        },
        {
         "name": "location_address",
         "dtype": "object",
         "stats": {
          "unique_count": 3582,
          "nan_count": 2,
          "categories": [
           {
            "name": "91 South St., New York , New York 10038",
            "count": 3
           },
           {
            "name": "3581 others",
            "count": 3637
           },
           {
            "name": "Missing",
            "count": 2
           }
          ]
         }
        },
        {
         "name": "listing_name",
         "dtype": "object",
         "stats": {
          "unique_count": 3537,
          "nan_count": 0,
          "categories": [
           {
            "name": "Historic Lewes Farmers Market",
            "count": 4
           },
           {
            "name": "Campbell County Farmers Market Association",
            "count": 3
           },
           {
            "name": "3535 others",
            "count": 3635
           }
          ]
         }
        },
        {
         "name": "fm",
         "dtype": "object",
         "stats": {
          "unique_count": 1,
          "nan_count": 2626,
          "categories": [
           {
            "name": "fm",
            "count": 1016
           },
           {
            "name": "Missing",
            "count": 2626
           }
          ]
         }
        },
        {
         "name": "fm_bool",
         "dtype": "float64",
         "stats": {
          "unique_count": 2,
          "nan_count": 0,
          "min": "0.0",
          "max": "1.0",
          "histogram": [
           {
            "bin_start": 0,
            "bin_end": 0.1,
            "count": 2626
           },
           {
            "bin_start": 0.1,
            "bin_end": 0.2,
            "count": 0
           },
           {
            "bin_start": 0.2,
            "bin_end": 0.30000000000000004,
            "count": 0
           },
           {
            "bin_start": 0.30000000000000004,
            "bin_end": 0.4,
            "count": 0
           },
           {
            "bin_start": 0.4,
            "bin_end": 0.5,
            "count": 0
           },
           {
            "bin_start": 0.5,
            "bin_end": 0.6000000000000001,
            "count": 0
           },
           {
            "bin_start": 0.6000000000000001,
            "bin_end": 0.7000000000000001,
            "count": 0
           },
           {
            "bin_start": 0.7000000000000001,
            "bin_end": 0.8,
            "count": 0
           },
           {
            "bin_start": 0.8,
            "bin_end": 0.9,
            "count": 0
           },
           {
            "bin_start": 0.9,
            "bin_end": 1,
            "count": 1016
           }
          ]
         }
        },
        {
         "name": "csa",
         "dtype": "object",
         "stats": {
          "unique_count": 1,
          "nan_count": 2679,
          "categories": [
           {
            "name": "csa",
            "count": 963
           },
           {
            "name": "Missing",
            "count": 2679
           }
          ]
         }
        },
        {
         "name": "csa_bool",
         "dtype": "float64",
         "stats": {
          "unique_count": 2,
          "nan_count": 0,
          "min": "0.0",
          "max": "1.0",
          "histogram": [
           {
            "bin_start": 0,
            "bin_end": 0.1,
            "count": 2679
           },
           {
            "bin_start": 0.1,
            "bin_end": 0.2,
            "count": 0
           },
           {
            "bin_start": 0.2,
            "bin_end": 0.30000000000000004,
            "count": 0
           },
           {
            "bin_start": 0.30000000000000004,
            "bin_end": 0.4,
            "count": 0
           },
           {
            "bin_start": 0.4,
            "bin_end": 0.5,
            "count": 0
           },
           {
            "bin_start": 0.5,
            "bin_end": 0.6000000000000001,
            "count": 0
           },
           {
            "bin_start": 0.6000000000000001,
            "bin_end": 0.7000000000000001,
            "count": 0
           },
           {
            "bin_start": 0.7000000000000001,
            "bin_end": 0.8,
            "count": 0
           },
           {
            "bin_start": 0.8,
            "bin_end": 0.9,
            "count": 0
           },
           {
            "bin_start": 0.9,
            "bin_end": 1,
            "count": 963
           }
          ]
         }
        },
        {
         "name": "om",
         "dtype": "object",
         "stats": {
          "unique_count": 1,
          "nan_count": 1979,
          "categories": [
           {
            "name": "om",
            "count": 1663
           },
           {
            "name": "Missing",
            "count": 1979
           }
          ]
         }
        },
        {
         "name": "om_bool",
         "dtype": "float64",
         "stats": {
          "unique_count": 2,
          "nan_count": 0,
          "min": "0.0",
          "max": "1.0",
          "histogram": [
           {
            "bin_start": 0,
            "bin_end": 0.1,
            "count": 1979
           },
           {
            "bin_start": 0.1,
            "bin_end": 0.2,
            "count": 0
           },
           {
            "bin_start": 0.2,
            "bin_end": 0.30000000000000004,
            "count": 0
           },
           {
            "bin_start": 0.30000000000000004,
            "bin_end": 0.4,
            "count": 0
           },
           {
            "bin_start": 0.4,
            "bin_end": 0.5,
            "count": 0
           },
           {
            "bin_start": 0.5,
            "bin_end": 0.6000000000000001,
            "count": 0
           },
           {
            "bin_start": 0.6000000000000001,
            "bin_end": 0.7000000000000001,
            "count": 0
           },
           {
            "bin_start": 0.7000000000000001,
            "bin_end": 0.8,
            "count": 0
           },
           {
            "bin_start": 0.8,
            "bin_end": 0.9,
            "count": 0
           },
           {
            "bin_start": 0.9,
            "bin_end": 1,
            "count": 1663
           }
          ]
         }
        },
        {
         "name": "Farmer Market Type",
         "dtype": "object",
         "stats": {
          "unique_count": 3,
          "nan_count": 0,
          "categories": [
           {
            "name": "On Market Farmers' Market",
            "count": 1663
           },
           {
            "name": "Farmers' Market",
            "count": 1016
           },
           {
            "name": "Community Supported Agriculture",
            "count": 963
           }
          ]
         }
        },
        {
         "name": "_deepnote_index_column",
         "dtype": "int64"
        }
       ],
       "rows": [
        {
         "listing_id": 300002,
         "FNAP_1": 0,
         "FNAP_2": 1,
         "location_x": -104.81468,
         "location_y": 38.937716,
         "location_address": "7350 Pine Creek Road, Colorado Springs, Colorado 80919",
         "listing_name": "Colorado Farm and Art Market",
         "fm": "fm",
         "fm_bool": 1,
         "csa": "nan",
         "csa_bool": 0,
         "om": "nan",
         "om_bool": 0,
         "Farmer Market Type": "Farmers' Market",
         "_deepnote_index_column": 0
        },
        {
         "listing_id": 300003,
         "FNAP_1": 0,
         "FNAP_2": 0,
         "location_x": -88.045015,
         "location_y": 30.69035,
         "location_address": "300 Conti, Mobile, Alabama 36602",
         "listing_name": "Market in The Park",
         "fm": "fm",
         "fm_bool": 1,
         "csa": "nan",
         "csa_bool": 0,
         "om": "nan",
         "om_bool": 0,
         "Farmer Market Type": "Farmers' Market",
         "_deepnote_index_column": 1
        },
        {
         "listing_id": 300004,
         "FNAP_1": 0,
         "FNAP_2": 0,
         "location_x": -90.31353,
         "location_y": 42.404443,
         "location_address": "2000 Territory Drive, Galena, Illinois 61036",
         "listing_name": "The Territory Farmers' Market",
         "fm": "fm",
         "fm_bool": 1,
         "csa": "nan",
         "csa_bool": 0,
         "om": "nan",
         "om_bool": 0,
         "Farmer Market Type": "Farmers' Market",
         "_deepnote_index_column": 2
        },
        {
         "listing_id": 300005,
         "FNAP_1": 0,
         "FNAP_2": 0,
         "location_x": -93.473419,
         "location_y": 44.997274,
         "location_address": "15500 County Road 6, Plymouth, Minnesota 55447",
         "listing_name": "City of Plymouth Farmers Market",
         "fm": "fm",
         "fm_bool": 1,
         "csa": "nan",
         "csa_bool": 0,
         "om": "nan",
         "om_bool": 0,
         "Farmer Market Type": "Farmers' Market",
         "_deepnote_index_column": 3
        },
        {
         "listing_id": 300006,
         "FNAP_1": 1,
         "FNAP_2": 1,
         "location_x": -78.901856,
         "location_y": 36.000559,
         "location_address": "501 Foster Street, Durham, North Carolina 27701",
         "listing_name": "Durham Farmers' Market",
         "fm": "fm",
         "fm_bool": 1,
         "csa": "nan",
         "csa_bool": 0,
         "om": "nan",
         "om_bool": 0,
         "Farmer Market Type": "Farmers' Market",
         "_deepnote_index_column": 4
        },
        {
         "listing_id": 300008,
         "FNAP_1": 1,
         "FNAP_2": 1,
         "location_x": -77.452948,
         "location_y": 43.212229,
         "location_address": "1028 Ridge Road, Webster Towne Center, Webster, New York 14580",
         "listing_name": "Webster's Joe Obbie Farmers' Market, Inc.",
         "fm": "fm",
         "fm_bool": 1,
         "csa": "nan",
         "csa_bool": 0,
         "om": "nan",
         "om_bool": 0,
         "Farmer Market Type": "Farmers' Market",
         "_deepnote_index_column": 5
        },
        {
         "listing_id": 300009,
         "FNAP_1": 1,
         "FNAP_2": 1,
         "location_x": -88.40703,
         "location_y": 44.26201,
         "location_address": "100 College Avenue, Appleton, Wisconsin 54911",
         "listing_name": "Appleton Downtown Farm Market",
         "fm": "fm",
         "fm_bool": 1,
         "csa": "nan",
         "csa_bool": 0,
         "om": "nan",
         "om_bool": 0,
         "Farmer Market Type": "Farmers' Market",
         "_deepnote_index_column": 6
        },
        {
         "listing_id": 300010,
         "FNAP_1": 0,
         "FNAP_2": 1,
         "location_x": -97.311627,
         "location_y": 30.111777,
         "location_address": "1302 Chestnut Street, Bastrop, Texas 78602",
         "listing_name": "Bastrop 1832 Farmers Market",
         "fm": "fm",
         "fm_bool": 1,
         "csa": "nan",
         "csa_bool": 0,
         "om": "nan",
         "om_bool": 0,
         "Farmer Market Type": "Farmers' Market",
         "_deepnote_index_column": 7
        },
        {
         "listing_id": 300011,
         "FNAP_1": 0,
         "FNAP_2": 1,
         "location_x": -84.259924,
         "location_y": 39.266388,
         "location_address": "205 Broadway Street, Loveland, Ohio 45140",
         "listing_name": "Loveland Farmers Market",
         "fm": "fm",
         "fm_bool": 1,
         "csa": "nan",
         "csa_bool": 0,
         "om": "nan",
         "om_bool": 0,
         "Farmer Market Type": "Farmers' Market",
         "_deepnote_index_column": 8
        },
        {
         "listing_id": 300013,
         "FNAP_1": 1,
         "FNAP_2": 1,
         "location_x": -75.916118,
         "location_y": 44.331171,
         "location_address": "Route 12, Alexandria Bay, New York 13607",
         "listing_name": "Alexandria Bay Farmers Market",
         "fm": "fm",
         "fm_bool": 1,
         "csa": "nan",
         "csa_bool": 0,
         "om": "nan",
         "om_bool": 0,
         "Farmer Market Type": "Farmers' Market",
         "_deepnote_index_column": 9
        }
       ]
      },
      "text/plain": "      listing_id  FNAP_1  FNAP_2  location_x  location_y  \\\n0         300002     0.0     1.0 -104.814680   38.937716   \n1         300003     0.0     0.0  -88.045015   30.690350   \n2         300004     0.0     0.0  -90.313530   42.404443   \n3         300005     0.0     0.0  -93.473419   44.997274   \n4         300006     1.0     1.0  -78.901856   36.000559   \n...          ...     ...     ...         ...         ...   \n3637      700736     0.0     0.0  -92.408597   45.397467   \n3638      701671     0.0     0.0  -90.067140   41.293562   \n3639      700083     1.0     0.0  -74.393467   42.902931   \n3640      701676     0.0     0.0  -96.669370   32.024657   \n3641      701677     0.0     0.0 -104.570511   39.357596   \n\n                                       location_address  \\\n0     7350 Pine Creek Road, Colorado Springs, Colora...   \n1                      300 Conti, Mobile, Alabama 36602   \n2          2000 Territory Drive, Galena, Illinois 61036   \n3        15500 County Road 6, Plymouth, Minnesota 55447   \n4       501 Foster Street, Durham, North Carolina 27701   \n...                                                 ...   \n3637        1333 - 120th Street, Amery, Wisconsin 54001   \n3638              19065 IL-81, Cambridge, IL 61238, USA   \n3639   685 Argersinger Rd, Fultonviille, New York 12072   \n3640                1885 Northwest 2162, Barry, TX, USA   \n3641           33784 County Road 21, Elizabeth, CO, USA   \n\n                                 listing_name   fm  fm_bool  csa  csa_bool  \\\n0                Colorado Farm and Art Market   fm      1.0  NaN       0.0   \n1                          Market in The Park   fm      1.0  NaN       0.0   \n2               The Territory Farmers' Market   fm      1.0  NaN       0.0   \n3             City of Plymouth Farmers Market   fm      1.0  NaN       0.0   \n4                      Durham Farmers' Market   fm      1.0  NaN       0.0   \n...                                       ...  ...      ...  ...       ...   \n3637  Glenna Farms Country Store & Sugarhouse  NaN      0.0  NaN       0.0   \n3638                           Grateful Graze  NaN      0.0  NaN       0.0   \n3639                      Bellinger's Orchard  NaN      0.0  NaN       0.0   \n3640                      La Vida Buena Acres  NaN      0.0  NaN       0.0   \n3641                        RK Creations Farm  NaN      0.0  NaN       0.0   \n\n       om  om_bool         Farmer Market Type  \n0     NaN      0.0            Farmers' Market  \n1     NaN      0.0            Farmers' Market  \n2     NaN      0.0            Farmers' Market  \n3     NaN      0.0            Farmers' Market  \n4     NaN      0.0            Farmers' Market  \n...   ...      ...                        ...  \n3637   om      1.0  On Market Farmers' Market  \n3638   om      1.0  On Market Farmers' Market  \n3639   om      1.0  On Market Farmers' Market  \n3640   om      1.0  On Market Farmers' Market  \n3641   om      1.0  On Market Farmers' Market  \n\n[3642 rows x 14 columns]",
      "text/html": "<div>\n<style scoped>\n    .dataframe tbody tr th:only-of-type {\n        vertical-align: middle;\n    }\n\n    .dataframe tbody tr th {\n        vertical-align: top;\n    }\n\n    .dataframe thead th {\n        text-align: right;\n    }\n</style>\n<table border=\"1\" class=\"dataframe\">\n  <thead>\n    <tr style=\"text-align: right;\">\n      <th></th>\n      <th>listing_id</th>\n      <th>FNAP_1</th>\n      <th>FNAP_2</th>\n      <th>location_x</th>\n      <th>location_y</th>\n      <th>location_address</th>\n      <th>listing_name</th>\n      <th>fm</th>\n      <th>fm_bool</th>\n      <th>csa</th>\n      <th>csa_bool</th>\n      <th>om</th>\n      <th>om_bool</th>\n      <th>Farmer Market Type</th>\n    </tr>\n  </thead>\n  <tbody>\n    <tr>\n      <th>0</th>\n      <td>300002</td>\n      <td>0.0</td>\n      <td>1.0</td>\n      <td>-104.814680</td>\n      <td>38.937716</td>\n      <td>7350 Pine Creek Road, Colorado Springs, Colora...</td>\n      <td>Colorado Farm and Art Market</td>\n      <td>fm</td>\n      <td>1.0</td>\n      <td>NaN</td>\n      <td>0.0</td>\n      <td>NaN</td>\n      <td>0.0</td>\n      <td>Farmers' Market</td>\n    </tr>\n    <tr>\n      <th>1</th>\n      <td>300003</td>\n      <td>0.0</td>\n      <td>0.0</td>\n      <td>-88.045015</td>\n      <td>30.690350</td>\n      <td>300 Conti, Mobile, Alabama 36602</td>\n      <td>Market in The Park</td>\n      <td>fm</td>\n      <td>1.0</td>\n      <td>NaN</td>\n      <td>0.0</td>\n      <td>NaN</td>\n      <td>0.0</td>\n      <td>Farmers' Market</td>\n    </tr>\n    <tr>\n      <th>2</th>\n      <td>300004</td>\n      <td>0.0</td>\n      <td>0.0</td>\n      <td>-90.313530</td>\n      <td>42.404443</td>\n      <td>2000 Territory Drive, Galena, Illinois 61036</td>\n      <td>The Territory Farmers' Market</td>\n      <td>fm</td>\n      <td>1.0</td>\n      <td>NaN</td>\n      <td>0.0</td>\n      <td>NaN</td>\n      <td>0.0</td>\n      <td>Farmers' Market</td>\n    </tr>\n    <tr>\n      <th>3</th>\n      <td>300005</td>\n      <td>0.0</td>\n      <td>0.0</td>\n      <td>-93.473419</td>\n      <td>44.997274</td>\n      <td>15500 County Road 6, Plymouth, Minnesota 55447</td>\n      <td>City of Plymouth Farmers Market</td>\n      <td>fm</td>\n      <td>1.0</td>\n      <td>NaN</td>\n      <td>0.0</td>\n      <td>NaN</td>\n      <td>0.0</td>\n      <td>Farmers' Market</td>\n    </tr>\n    <tr>\n      <th>4</th>\n      <td>300006</td>\n      <td>1.0</td>\n      <td>1.0</td>\n      <td>-78.901856</td>\n      <td>36.000559</td>\n      <td>501 Foster Street, Durham, North Carolina 27701</td>\n      <td>Durham Farmers' Market</td>\n      <td>fm</td>\n      <td>1.0</td>\n      <td>NaN</td>\n      <td>0.0</td>\n      <td>NaN</td>\n      <td>0.0</td>\n      <td>Farmers' Market</td>\n    </tr>\n    <tr>\n      <th>...</th>\n      <td>...</td>\n      <td>...</td>\n      <td>...</td>\n      <td>...</td>\n      <td>...</td>\n      <td>...</td>\n      <td>...</td>\n      <td>...</td>\n      <td>...</td>\n      <td>...</td>\n      <td>...</td>\n      <td>...</td>\n      <td>...</td>\n      <td>...</td>\n    </tr>\n    <tr>\n      <th>3637</th>\n      <td>700736</td>\n      <td>0.0</td>\n      <td>0.0</td>\n      <td>-92.408597</td>\n      <td>45.397467</td>\n      <td>1333 - 120th Street, Amery, Wisconsin 54001</td>\n      <td>Glenna Farms Country Store &amp; Sugarhouse</td>\n      <td>NaN</td>\n      <td>0.0</td>\n      <td>NaN</td>\n      <td>0.0</td>\n      <td>om</td>\n      <td>1.0</td>\n      <td>On Market Farmers' Market</td>\n    </tr>\n    <tr>\n      <th>3638</th>\n      <td>701671</td>\n      <td>0.0</td>\n      <td>0.0</td>\n      <td>-90.067140</td>\n      <td>41.293562</td>\n      <td>19065 IL-81, Cambridge, IL 61238, USA</td>\n      <td>Grateful Graze</td>\n      <td>NaN</td>\n      <td>0.0</td>\n      <td>NaN</td>\n      <td>0.0</td>\n      <td>om</td>\n      <td>1.0</td>\n      <td>On Market Farmers' Market</td>\n    </tr>\n    <tr>\n      <th>3639</th>\n      <td>700083</td>\n      <td>1.0</td>\n      <td>0.0</td>\n      <td>-74.393467</td>\n      <td>42.902931</td>\n      <td>685 Argersinger Rd, Fultonviille, New York 12072</td>\n      <td>Bellinger's Orchard</td>\n      <td>NaN</td>\n      <td>0.0</td>\n      <td>NaN</td>\n      <td>0.0</td>\n      <td>om</td>\n      <td>1.0</td>\n      <td>On Market Farmers' Market</td>\n    </tr>\n    <tr>\n      <th>3640</th>\n      <td>701676</td>\n      <td>0.0</td>\n      <td>0.0</td>\n      <td>-96.669370</td>\n      <td>32.024657</td>\n      <td>1885 Northwest 2162, Barry, TX, USA</td>\n      <td>La Vida Buena Acres</td>\n      <td>NaN</td>\n      <td>0.0</td>\n      <td>NaN</td>\n      <td>0.0</td>\n      <td>om</td>\n      <td>1.0</td>\n      <td>On Market Farmers' Market</td>\n    </tr>\n    <tr>\n      <th>3641</th>\n      <td>701677</td>\n      <td>0.0</td>\n      <td>0.0</td>\n      <td>-104.570511</td>\n      <td>39.357596</td>\n      <td>33784 County Road 21, Elizabeth, CO, USA</td>\n      <td>RK Creations Farm</td>\n      <td>NaN</td>\n      <td>0.0</td>\n      <td>NaN</td>\n      <td>0.0</td>\n      <td>om</td>\n      <td>1.0</td>\n      <td>On Market Farmers' Market</td>\n    </tr>\n  </tbody>\n</table>\n<p>3642 rows × 14 columns</p>\n</div>"
     },
     "metadata": {}
    }
   ],
   "execution_count": 123
  },
  {
   "cell_type": "code",
   "source": "fm_csa_om = fm_csa_om.drop(['fm', 'om', 'csa'], axis = 1)\nfm_csa_om = fm_csa_om.rename(columns = {'FNAP_1': \"WIC\", \n                                        'FNAP_2': \"SNAP\", \n                                        \"location_x\": \"longitude\",\n                                        \"location_y\": \"latitude\"})\nfm_csa_om",
   "metadata": {
    "cell_id": "c380c7c22ded4dd7b69149c084272195",
    "tags": [],
    "deepnote_to_be_reexecuted": false,
    "source_hash": "18ce8311",
    "execution_start": 1658007638768,
    "execution_millis": 753,
    "deepnote_cell_type": "code",
    "deepnote_cell_height": 689.90625
   },
   "outputs": [
    {
     "output_type": "execute_result",
     "execution_count": 152,
     "data": {
      "application/vnd.deepnote.dataframe.v3+json": {
       "column_count": 12,
       "row_count": 3612,
       "columns": [
        {
         "name": "listing_id",
         "dtype": "int64",
         "stats": {
          "unique_count": 3612,
          "nan_count": 0,
          "min": "5815",
          "max": "701677",
          "histogram": [
           {
            "bin_start": 5815,
            "bin_end": 75401.2,
            "count": 6
           },
           {
            "bin_start": 75401.2,
            "bin_end": 144987.4,
            "count": 0
           },
           {
            "bin_start": 144987.4,
            "bin_end": 214573.59999999998,
            "count": 959
           },
           {
            "bin_start": 214573.59999999998,
            "bin_end": 284159.8,
            "count": 0
           },
           {
            "bin_start": 284159.8,
            "bin_end": 353746,
            "count": 992
           },
           {
            "bin_start": 353746,
            "bin_end": 423332.19999999995,
            "count": 0
           },
           {
            "bin_start": 423332.19999999995,
            "bin_end": 492918.39999999997,
            "count": 0
           },
           {
            "bin_start": 492918.39999999997,
            "bin_end": 562504.6,
            "count": 0
           },
           {
            "bin_start": 562504.6,
            "bin_end": 632090.7999999999,
            "count": 0
           },
           {
            "bin_start": 632090.7999999999,
            "bin_end": 701677,
            "count": 1655
           }
          ]
         }
        },
        {
         "name": "WIC",
         "dtype": "float64",
         "stats": {
          "unique_count": 2,
          "nan_count": 0,
          "min": "0.0",
          "max": "1.0",
          "histogram": [
           {
            "bin_start": 0,
            "bin_end": 0.1,
            "count": 3049
           },
           {
            "bin_start": 0.1,
            "bin_end": 0.2,
            "count": 0
           },
           {
            "bin_start": 0.2,
            "bin_end": 0.30000000000000004,
            "count": 0
           },
           {
            "bin_start": 0.30000000000000004,
            "bin_end": 0.4,
            "count": 0
           },
           {
            "bin_start": 0.4,
            "bin_end": 0.5,
            "count": 0
           },
           {
            "bin_start": 0.5,
            "bin_end": 0.6000000000000001,
            "count": 0
           },
           {
            "bin_start": 0.6000000000000001,
            "bin_end": 0.7000000000000001,
            "count": 0
           },
           {
            "bin_start": 0.7000000000000001,
            "bin_end": 0.8,
            "count": 0
           },
           {
            "bin_start": 0.8,
            "bin_end": 0.9,
            "count": 0
           },
           {
            "bin_start": 0.9,
            "bin_end": 1,
            "count": 563
           }
          ]
         }
        },
        {
         "name": "SNAP",
         "dtype": "float64",
         "stats": {
          "unique_count": 2,
          "nan_count": 0,
          "min": "0.0",
          "max": "1.0",
          "histogram": [
           {
            "bin_start": 0,
            "bin_end": 0.1,
            "count": 2589
           },
           {
            "bin_start": 0.1,
            "bin_end": 0.2,
            "count": 0
           },
           {
            "bin_start": 0.2,
            "bin_end": 0.30000000000000004,
            "count": 0
           },
           {
            "bin_start": 0.30000000000000004,
            "bin_end": 0.4,
            "count": 0
           },
           {
            "bin_start": 0.4,
            "bin_end": 0.5,
            "count": 0
           },
           {
            "bin_start": 0.5,
            "bin_end": 0.6000000000000001,
            "count": 0
           },
           {
            "bin_start": 0.6000000000000001,
            "bin_end": 0.7000000000000001,
            "count": 0
           },
           {
            "bin_start": 0.7000000000000001,
            "bin_end": 0.8,
            "count": 0
           },
           {
            "bin_start": 0.8,
            "bin_end": 0.9,
            "count": 0
           },
           {
            "bin_start": 0.9,
            "bin_end": 1,
            "count": 1023
           }
          ]
         }
        },
        {
         "name": "longitude",
         "dtype": "float64",
         "stats": {
          "unique_count": 3586,
          "nan_count": 0,
          "min": "-159.4992",
          "max": "0.43705",
          "histogram": [
           {
            "bin_start": -159.4992,
            "bin_end": -143.505575,
            "count": 25
           },
           {
            "bin_start": -143.505575,
            "bin_end": -127.51195,
            "count": 3
           },
           {
            "bin_start": -127.51195,
            "bin_end": -111.518325,
            "count": 548
           },
           {
            "bin_start": -111.518325,
            "bin_end": -95.5247,
            "count": 311
           },
           {
            "bin_start": -95.5247,
            "bin_end": -79.531075,
            "count": 1721
           },
           {
            "bin_start": -79.531075,
            "bin_end": -63.53745000000001,
            "count": 1002
           },
           {
            "bin_start": -63.53745000000001,
            "bin_end": -47.543825,
            "count": 0
           },
           {
            "bin_start": -47.543825,
            "bin_end": -31.550200000000004,
            "count": 0
           },
           {
            "bin_start": -31.550200000000004,
            "bin_end": -15.55657500000001,
            "count": 0
           },
           {
            "bin_start": -15.55657500000001,
            "bin_end": 0.43705,
            "count": 2
           }
          ]
         }
        },
        {
         "name": "latitude",
         "dtype": "float64",
         "stats": {
          "unique_count": 3581,
          "nan_count": 0,
          "min": "0.049438",
          "max": "64.90857",
          "histogram": [
           {
            "bin_start": 0.049438,
            "bin_end": 6.535351200000001,
            "count": 2
           },
           {
            "bin_start": 6.535351200000001,
            "bin_end": 13.021264400000002,
            "count": 0
           },
           {
            "bin_start": 13.021264400000002,
            "bin_end": 19.507177600000002,
            "count": 8
           },
           {
            "bin_start": 19.507177600000002,
            "bin_end": 25.9930908,
            "count": 24
           },
           {
            "bin_start": 25.9930908,
            "bin_end": 32.479004,
            "count": 269
           },
           {
            "bin_start": 32.479004,
            "bin_end": 38.96491720000001,
            "count": 1059
           },
           {
            "bin_start": 38.96491720000001,
            "bin_end": 45.45083040000001,
            "count": 1980
           },
           {
            "bin_start": 45.45083040000001,
            "bin_end": 51.93674360000001,
            "count": 258
           },
           {
            "bin_start": 51.93674360000001,
            "bin_end": 58.422656800000006,
            "count": 2
           },
           {
            "bin_start": 58.422656800000006,
            "bin_end": 64.90857,
            "count": 10
           }
          ]
         }
        },
        {
         "name": "location_address",
         "dtype": "object",
         "stats": {
          "unique_count": 3557,
          "nan_count": 0,
          "categories": [
           {
            "name": "91 South St., New York , New York 10038",
            "count": 3
           },
           {
            "name": "750 University Row, Madison, Wisconsin 53705",
            "count": 2
           },
           {
            "name": "3555 others",
            "count": 3607
           }
          ]
         }
        },
        {
         "name": "listing_name",
         "dtype": "object",
         "stats": {
          "unique_count": 3512,
          "nan_count": 0,
          "categories": [
           {
            "name": "Campbell County Farmers Market Association",
            "count": 3
           },
           {
            "name": "Historic Lewes Farmers Market",
            "count": 3
           },
           {
            "name": "3510 others",
            "count": 3606
           }
          ]
         }
        },
        {
         "name": "fm_bool",
         "dtype": "float64",
         "stats": {
          "unique_count": 2,
          "nan_count": 0,
          "min": "0.0",
          "max": "1.0",
          "histogram": [
           {
            "bin_start": 0,
            "bin_end": 0.1,
            "count": 2614
           },
           {
            "bin_start": 0.1,
            "bin_end": 0.2,
            "count": 0
           },
           {
            "bin_start": 0.2,
            "bin_end": 0.30000000000000004,
            "count": 0
           },
           {
            "bin_start": 0.30000000000000004,
            "bin_end": 0.4,
            "count": 0
           },
           {
            "bin_start": 0.4,
            "bin_end": 0.5,
            "count": 0
           },
           {
            "bin_start": 0.5,
            "bin_end": 0.6000000000000001,
            "count": 0
           },
           {
            "bin_start": 0.6000000000000001,
            "bin_end": 0.7000000000000001,
            "count": 0
           },
           {
            "bin_start": 0.7000000000000001,
            "bin_end": 0.8,
            "count": 0
           },
           {
            "bin_start": 0.8,
            "bin_end": 0.9,
            "count": 0
           },
           {
            "bin_start": 0.9,
            "bin_end": 1,
            "count": 998
           }
          ]
         }
        },
        {
         "name": "csa_bool",
         "dtype": "float64",
         "stats": {
          "unique_count": 2,
          "nan_count": 0,
          "min": "0.0",
          "max": "1.0",
          "histogram": [
           {
            "bin_start": 0,
            "bin_end": 0.1,
            "count": 2653
           },
           {
            "bin_start": 0.1,
            "bin_end": 0.2,
            "count": 0
           },
           {
            "bin_start": 0.2,
            "bin_end": 0.30000000000000004,
            "count": 0
           },
           {
            "bin_start": 0.30000000000000004,
            "bin_end": 0.4,
            "count": 0
           },
           {
            "bin_start": 0.4,
            "bin_end": 0.5,
            "count": 0
           },
           {
            "bin_start": 0.5,
            "bin_end": 0.6000000000000001,
            "count": 0
           },
           {
            "bin_start": 0.6000000000000001,
            "bin_end": 0.7000000000000001,
            "count": 0
           },
           {
            "bin_start": 0.7000000000000001,
            "bin_end": 0.8,
            "count": 0
           },
           {
            "bin_start": 0.8,
            "bin_end": 0.9,
            "count": 0
           },
           {
            "bin_start": 0.9,
            "bin_end": 1,
            "count": 959
           }
          ]
         }
        },
        {
         "name": "om_bool",
         "dtype": "float64",
         "stats": {
          "unique_count": 2,
          "nan_count": 0,
          "min": "0.0",
          "max": "1.0",
          "histogram": [
           {
            "bin_start": 0,
            "bin_end": 0.1,
            "count": 1957
           },
           {
            "bin_start": 0.1,
            "bin_end": 0.2,
            "count": 0
           },
           {
            "bin_start": 0.2,
            "bin_end": 0.30000000000000004,
            "count": 0
           },
           {
            "bin_start": 0.30000000000000004,
            "bin_end": 0.4,
            "count": 0
           },
           {
            "bin_start": 0.4,
            "bin_end": 0.5,
            "count": 0
           },
           {
            "bin_start": 0.5,
            "bin_end": 0.6000000000000001,
            "count": 0
           },
           {
            "bin_start": 0.6000000000000001,
            "bin_end": 0.7000000000000001,
            "count": 0
           },
           {
            "bin_start": 0.7000000000000001,
            "bin_end": 0.8,
            "count": 0
           },
           {
            "bin_start": 0.8,
            "bin_end": 0.9,
            "count": 0
           },
           {
            "bin_start": 0.9,
            "bin_end": 1,
            "count": 1655
           }
          ]
         }
        },
        {
         "name": "Farmer Market Type",
         "dtype": "object",
         "stats": {
          "unique_count": 3,
          "nan_count": 0,
          "categories": [
           {
            "name": "On Market Farmers' Market",
            "count": 1655
           },
           {
            "name": "Farmers' Market",
            "count": 998
           },
           {
            "name": "Community Supported Agriculture",
            "count": 959
           }
          ]
         }
        },
        {
         "name": "Benefit Type",
         "dtype": "object",
         "stats": {
          "unique_count": 4,
          "nan_count": 0,
          "categories": [
           {
            "name": "No SNAP Benefit ; No WIC Benefit",
            "count": 2440
           },
           {
            "name": "SNAP",
            "count": 609
           },
           {
            "name": "2 others",
            "count": 563
           }
          ]
         }
        },
        {
         "name": "_deepnote_index_column",
         "dtype": "int64"
        }
       ],
       "rows": [
        {
         "listing_id": 300002,
         "WIC": 0,
         "SNAP": 1,
         "longitude": -104.81468,
         "latitude": 38.937716,
         "location_address": "7350 Pine Creek Road, Colorado Springs, Colorado 80919",
         "listing_name": "Colorado Farm and Art Market",
         "fm_bool": 1,
         "csa_bool": 0,
         "om_bool": 0,
         "Farmer Market Type": "Farmers' Market",
         "Benefit Type": "SNAP",
         "_deepnote_index_column": 0
        },
        {
         "listing_id": 300003,
         "WIC": 0,
         "SNAP": 0,
         "longitude": -88.045015,
         "latitude": 30.69035,
         "location_address": "300 Conti, Mobile, Alabama 36602",
         "listing_name": "Market in The Park",
         "fm_bool": 1,
         "csa_bool": 0,
         "om_bool": 0,
         "Farmer Market Type": "Farmers' Market",
         "Benefit Type": "No SNAP Benefit ; No WIC Benefit",
         "_deepnote_index_column": 1
        },
        {
         "listing_id": 300004,
         "WIC": 0,
         "SNAP": 0,
         "longitude": -90.31353,
         "latitude": 42.404443,
         "location_address": "2000 Territory Drive, Galena, Illinois 61036",
         "listing_name": "The Territory Farmers' Market",
         "fm_bool": 1,
         "csa_bool": 0,
         "om_bool": 0,
         "Farmer Market Type": "Farmers' Market",
         "Benefit Type": "No SNAP Benefit ; No WIC Benefit",
         "_deepnote_index_column": 2
        },
        {
         "listing_id": 300005,
         "WIC": 0,
         "SNAP": 0,
         "longitude": -93.473419,
         "latitude": 44.997274,
         "location_address": "15500 County Road 6, Plymouth, Minnesota 55447",
         "listing_name": "City of Plymouth Farmers Market",
         "fm_bool": 1,
         "csa_bool": 0,
         "om_bool": 0,
         "Farmer Market Type": "Farmers' Market",
         "Benefit Type": "No SNAP Benefit ; No WIC Benefit",
         "_deepnote_index_column": 3
        },
        {
         "listing_id": 300006,
         "WIC": 1,
         "SNAP": 1,
         "longitude": -78.901856,
         "latitude": 36.000559,
         "location_address": "501 Foster Street, Durham, North Carolina 27701",
         "listing_name": "Durham Farmers' Market",
         "fm_bool": 1,
         "csa_bool": 0,
         "om_bool": 0,
         "Farmer Market Type": "Farmers' Market",
         "Benefit Type": "SNAP ; WIC",
         "_deepnote_index_column": 4
        },
        {
         "listing_id": 300008,
         "WIC": 1,
         "SNAP": 1,
         "longitude": -77.452948,
         "latitude": 43.212229,
         "location_address": "1028 Ridge Road, Webster Towne Center, Webster, New York 14580",
         "listing_name": "Webster's Joe Obbie Farmers' Market, Inc.",
         "fm_bool": 1,
         "csa_bool": 0,
         "om_bool": 0,
         "Farmer Market Type": "Farmers' Market",
         "Benefit Type": "SNAP ; WIC",
         "_deepnote_index_column": 5
        },
        {
         "listing_id": 300009,
         "WIC": 1,
         "SNAP": 1,
         "longitude": -88.40703,
         "latitude": 44.26201,
         "location_address": "100 College Avenue, Appleton, Wisconsin 54911",
         "listing_name": "Appleton Downtown Farm Market",
         "fm_bool": 1,
         "csa_bool": 0,
         "om_bool": 0,
         "Farmer Market Type": "Farmers' Market",
         "Benefit Type": "SNAP ; WIC",
         "_deepnote_index_column": 6
        },
        {
         "listing_id": 300010,
         "WIC": 0,
         "SNAP": 1,
         "longitude": -97.311627,
         "latitude": 30.111777,
         "location_address": "1302 Chestnut Street, Bastrop, Texas 78602",
         "listing_name": "Bastrop 1832 Farmers Market",
         "fm_bool": 1,
         "csa_bool": 0,
         "om_bool": 0,
         "Farmer Market Type": "Farmers' Market",
         "Benefit Type": "SNAP",
         "_deepnote_index_column": 7
        },
        {
         "listing_id": 300011,
         "WIC": 0,
         "SNAP": 1,
         "longitude": -84.259924,
         "latitude": 39.266388,
         "location_address": "205 Broadway Street, Loveland, Ohio 45140",
         "listing_name": "Loveland Farmers Market",
         "fm_bool": 1,
         "csa_bool": 0,
         "om_bool": 0,
         "Farmer Market Type": "Farmers' Market",
         "Benefit Type": "SNAP",
         "_deepnote_index_column": 8
        },
        {
         "listing_id": 300013,
         "WIC": 1,
         "SNAP": 1,
         "longitude": -75.916118,
         "latitude": 44.331171,
         "location_address": "Route 12, Alexandria Bay, New York 13607",
         "listing_name": "Alexandria Bay Farmers Market",
         "fm_bool": 1,
         "csa_bool": 0,
         "om_bool": 0,
         "Farmer Market Type": "Farmers' Market",
         "Benefit Type": "SNAP ; WIC",
         "_deepnote_index_column": 9
        }
       ]
      },
      "text/plain": "      listing_id  WIC  SNAP   longitude   latitude  \\\n0         300002  0.0   1.0 -104.814680  38.937716   \n1         300003  0.0   0.0  -88.045015  30.690350   \n2         300004  0.0   0.0  -90.313530  42.404443   \n3         300005  0.0   0.0  -93.473419  44.997274   \n4         300006  1.0   1.0  -78.901856  36.000559   \n...          ...  ...   ...         ...        ...   \n3637      700736  0.0   0.0  -92.408597  45.397467   \n3638      701671  0.0   0.0  -90.067140  41.293562   \n3639      700083  1.0   0.0  -74.393467  42.902931   \n3640      701676  0.0   0.0  -96.669370  32.024657   \n3641      701677  0.0   0.0 -104.570511  39.357596   \n\n                                       location_address  \\\n0     7350 Pine Creek Road, Colorado Springs, Colora...   \n1                      300 Conti, Mobile, Alabama 36602   \n2          2000 Territory Drive, Galena, Illinois 61036   \n3        15500 County Road 6, Plymouth, Minnesota 55447   \n4       501 Foster Street, Durham, North Carolina 27701   \n...                                                 ...   \n3637        1333 - 120th Street, Amery, Wisconsin 54001   \n3638              19065 IL-81, Cambridge, IL 61238, USA   \n3639   685 Argersinger Rd, Fultonviille, New York 12072   \n3640                1885 Northwest 2162, Barry, TX, USA   \n3641           33784 County Road 21, Elizabeth, CO, USA   \n\n                                 listing_name  fm_bool  csa_bool  om_bool  \\\n0                Colorado Farm and Art Market      1.0       0.0      0.0   \n1                          Market in The Park      1.0       0.0      0.0   \n2               The Territory Farmers' Market      1.0       0.0      0.0   \n3             City of Plymouth Farmers Market      1.0       0.0      0.0   \n4                      Durham Farmers' Market      1.0       0.0      0.0   \n...                                       ...      ...       ...      ...   \n3637  Glenna Farms Country Store & Sugarhouse      0.0       0.0      1.0   \n3638                           Grateful Graze      0.0       0.0      1.0   \n3639                      Bellinger's Orchard      0.0       0.0      1.0   \n3640                      La Vida Buena Acres      0.0       0.0      1.0   \n3641                        RK Creations Farm      0.0       0.0      1.0   \n\n             Farmer Market Type                      Benefit Type  \n0               Farmers' Market                              SNAP  \n1               Farmers' Market  No SNAP Benefit ; No WIC Benefit  \n2               Farmers' Market  No SNAP Benefit ; No WIC Benefit  \n3               Farmers' Market  No SNAP Benefit ; No WIC Benefit  \n4               Farmers' Market                        SNAP ; WIC  \n...                         ...                               ...  \n3637  On Market Farmers' Market  No SNAP Benefit ; No WIC Benefit  \n3638  On Market Farmers' Market  No SNAP Benefit ; No WIC Benefit  \n3639  On Market Farmers' Market                               WIC  \n3640  On Market Farmers' Market  No SNAP Benefit ; No WIC Benefit  \n3641  On Market Farmers' Market  No SNAP Benefit ; No WIC Benefit  \n\n[3612 rows x 12 columns]",
      "text/html": "<div>\n<style scoped>\n    .dataframe tbody tr th:only-of-type {\n        vertical-align: middle;\n    }\n\n    .dataframe tbody tr th {\n        vertical-align: top;\n    }\n\n    .dataframe thead th {\n        text-align: right;\n    }\n</style>\n<table border=\"1\" class=\"dataframe\">\n  <thead>\n    <tr style=\"text-align: right;\">\n      <th></th>\n      <th>listing_id</th>\n      <th>WIC</th>\n      <th>SNAP</th>\n      <th>longitude</th>\n      <th>latitude</th>\n      <th>location_address</th>\n      <th>listing_name</th>\n      <th>fm_bool</th>\n      <th>csa_bool</th>\n      <th>om_bool</th>\n      <th>Farmer Market Type</th>\n      <th>Benefit Type</th>\n    </tr>\n  </thead>\n  <tbody>\n    <tr>\n      <th>0</th>\n      <td>300002</td>\n      <td>0.0</td>\n      <td>1.0</td>\n      <td>-104.814680</td>\n      <td>38.937716</td>\n      <td>7350 Pine Creek Road, Colorado Springs, Colora...</td>\n      <td>Colorado Farm and Art Market</td>\n      <td>1.0</td>\n      <td>0.0</td>\n      <td>0.0</td>\n      <td>Farmers' Market</td>\n      <td>SNAP</td>\n    </tr>\n    <tr>\n      <th>1</th>\n      <td>300003</td>\n      <td>0.0</td>\n      <td>0.0</td>\n      <td>-88.045015</td>\n      <td>30.690350</td>\n      <td>300 Conti, Mobile, Alabama 36602</td>\n      <td>Market in The Park</td>\n      <td>1.0</td>\n      <td>0.0</td>\n      <td>0.0</td>\n      <td>Farmers' Market</td>\n      <td>No SNAP Benefit ; No WIC Benefit</td>\n    </tr>\n    <tr>\n      <th>2</th>\n      <td>300004</td>\n      <td>0.0</td>\n      <td>0.0</td>\n      <td>-90.313530</td>\n      <td>42.404443</td>\n      <td>2000 Territory Drive, Galena, Illinois 61036</td>\n      <td>The Territory Farmers' Market</td>\n      <td>1.0</td>\n      <td>0.0</td>\n      <td>0.0</td>\n      <td>Farmers' Market</td>\n      <td>No SNAP Benefit ; No WIC Benefit</td>\n    </tr>\n    <tr>\n      <th>3</th>\n      <td>300005</td>\n      <td>0.0</td>\n      <td>0.0</td>\n      <td>-93.473419</td>\n      <td>44.997274</td>\n      <td>15500 County Road 6, Plymouth, Minnesota 55447</td>\n      <td>City of Plymouth Farmers Market</td>\n      <td>1.0</td>\n      <td>0.0</td>\n      <td>0.0</td>\n      <td>Farmers' Market</td>\n      <td>No SNAP Benefit ; No WIC Benefit</td>\n    </tr>\n    <tr>\n      <th>4</th>\n      <td>300006</td>\n      <td>1.0</td>\n      <td>1.0</td>\n      <td>-78.901856</td>\n      <td>36.000559</td>\n      <td>501 Foster Street, Durham, North Carolina 27701</td>\n      <td>Durham Farmers' Market</td>\n      <td>1.0</td>\n      <td>0.0</td>\n      <td>0.0</td>\n      <td>Farmers' Market</td>\n      <td>SNAP ; WIC</td>\n    </tr>\n    <tr>\n      <th>...</th>\n      <td>...</td>\n      <td>...</td>\n      <td>...</td>\n      <td>...</td>\n      <td>...</td>\n      <td>...</td>\n      <td>...</td>\n      <td>...</td>\n      <td>...</td>\n      <td>...</td>\n      <td>...</td>\n      <td>...</td>\n    </tr>\n    <tr>\n      <th>3637</th>\n      <td>700736</td>\n      <td>0.0</td>\n      <td>0.0</td>\n      <td>-92.408597</td>\n      <td>45.397467</td>\n      <td>1333 - 120th Street, Amery, Wisconsin 54001</td>\n      <td>Glenna Farms Country Store &amp; Sugarhouse</td>\n      <td>0.0</td>\n      <td>0.0</td>\n      <td>1.0</td>\n      <td>On Market Farmers' Market</td>\n      <td>No SNAP Benefit ; No WIC Benefit</td>\n    </tr>\n    <tr>\n      <th>3638</th>\n      <td>701671</td>\n      <td>0.0</td>\n      <td>0.0</td>\n      <td>-90.067140</td>\n      <td>41.293562</td>\n      <td>19065 IL-81, Cambridge, IL 61238, USA</td>\n      <td>Grateful Graze</td>\n      <td>0.0</td>\n      <td>0.0</td>\n      <td>1.0</td>\n      <td>On Market Farmers' Market</td>\n      <td>No SNAP Benefit ; No WIC Benefit</td>\n    </tr>\n    <tr>\n      <th>3639</th>\n      <td>700083</td>\n      <td>1.0</td>\n      <td>0.0</td>\n      <td>-74.393467</td>\n      <td>42.902931</td>\n      <td>685 Argersinger Rd, Fultonviille, New York 12072</td>\n      <td>Bellinger's Orchard</td>\n      <td>0.0</td>\n      <td>0.0</td>\n      <td>1.0</td>\n      <td>On Market Farmers' Market</td>\n      <td>WIC</td>\n    </tr>\n    <tr>\n      <th>3640</th>\n      <td>701676</td>\n      <td>0.0</td>\n      <td>0.0</td>\n      <td>-96.669370</td>\n      <td>32.024657</td>\n      <td>1885 Northwest 2162, Barry, TX, USA</td>\n      <td>La Vida Buena Acres</td>\n      <td>0.0</td>\n      <td>0.0</td>\n      <td>1.0</td>\n      <td>On Market Farmers' Market</td>\n      <td>No SNAP Benefit ; No WIC Benefit</td>\n    </tr>\n    <tr>\n      <th>3641</th>\n      <td>701677</td>\n      <td>0.0</td>\n      <td>0.0</td>\n      <td>-104.570511</td>\n      <td>39.357596</td>\n      <td>33784 County Road 21, Elizabeth, CO, USA</td>\n      <td>RK Creations Farm</td>\n      <td>0.0</td>\n      <td>0.0</td>\n      <td>1.0</td>\n      <td>On Market Farmers' Market</td>\n      <td>No SNAP Benefit ; No WIC Benefit</td>\n    </tr>\n  </tbody>\n</table>\n<p>3612 rows × 12 columns</p>\n</div>"
     },
     "metadata": {}
    }
   ],
   "execution_count": 152
  },
  {
   "cell_type": "code",
   "source": "fm_csa_om.info()",
   "metadata": {
    "cell_id": "e51441b124fb4da787c910d10268b68c",
    "tags": [],
    "deepnote_to_be_reexecuted": false,
    "source_hash": "8503acb9",
    "execution_start": 1658004123108,
    "execution_millis": 47,
    "deepnote_cell_type": "code",
    "deepnote_cell_height": 448.78125
   },
   "outputs": [
    {
     "name": "stdout",
     "text": "<class 'pandas.core.frame.DataFrame'>\nRangeIndex: 3642 entries, 0 to 3641\nData columns (total 11 columns):\n #   Column              Non-Null Count  Dtype  \n---  ------              --------------  -----  \n 0   listing_id          3642 non-null   int64  \n 1   WIC                 3624 non-null   float64\n 2   SNAP                3624 non-null   float64\n 3   location_x          3627 non-null   float64\n 4   location_y          3627 non-null   float64\n 5   location_address    3640 non-null   object \n 6   listing_name        3642 non-null   object \n 7   fm_bool             3642 non-null   float64\n 8   csa_bool            3642 non-null   float64\n 9   om_bool             3642 non-null   float64\n 10  Farmer Market Type  3642 non-null   object \ndtypes: float64(7), int64(1), object(3)\nmemory usage: 313.1+ KB\n",
     "output_type": "stream"
    }
   ],
   "execution_count": 125
  },
  {
   "cell_type": "code",
   "source": "fm_csa_om.loc[fm_csa_om['SNAP'] == 1, 'pmt_snap'] = 'SNAP'\nfm_csa_om.loc[fm_csa_om['SNAP'] == 0, 'pmt_snap'] = 'No SNAP Benefit'\nfm_csa_om.loc[fm_csa_om['WIC'] == 1, 'pmt_wic'] = 'WIC'\nfm_csa_om.loc[fm_csa_om['WIC'] == 0, 'pmt_wic'] = 'No WIC Benefit'\nfm_csa_om['Benefit Type'] = fm_csa_om.pmt_snap + ' ; ' + fm_csa_om.pmt_wic\nfm_csa_om.loc[\n    (fm_csa_om['pmt_snap'] == 'SNAP') &\n    (fm_csa_om['pmt_wic'] == 'No WIC Benefit'), 'Benefit Type'] = \"SNAP\"\n\nfm_csa_om.loc[\n    (fm_csa_om['pmt_snap'] == 'No SNAP Benefit') &\n    (fm_csa_om['pmt_wic'] == 'WIC'), 'Benefit Type'] = \"WIC\"\n\n\nfm_csa_om",
   "metadata": {
    "cell_id": "a275a1d10d9341c797cb06530bf4bdfa",
    "tags": [],
    "deepnote_to_be_reexecuted": false,
    "source_hash": "e2d08ab2",
    "execution_start": 1658004123769,
    "execution_millis": 200,
    "deepnote_cell_type": "code",
    "deepnote_cell_height": 851.90625,
    "deepnote_output_heights": [
     232.34375
    ]
   },
   "outputs": [
    {
     "output_type": "execute_result",
     "execution_count": 126,
     "data": {
      "application/vnd.deepnote.dataframe.v3+json": {
       "column_count": 14,
       "row_count": 3642,
       "columns": [
        {
         "name": "listing_id",
         "dtype": "int64",
         "stats": {
          "unique_count": 3642,
          "nan_count": 0,
          "min": "5815",
          "max": "701677",
          "histogram": [
           {
            "bin_start": 5815,
            "bin_end": 75401.2,
            "count": 7
           },
           {
            "bin_start": 75401.2,
            "bin_end": 144987.4,
            "count": 0
           },
           {
            "bin_start": 144987.4,
            "bin_end": 214573.59999999998,
            "count": 963
           },
           {
            "bin_start": 214573.59999999998,
            "bin_end": 284159.8,
            "count": 0
           },
           {
            "bin_start": 284159.8,
            "bin_end": 353746,
            "count": 1009
           },
           {
            "bin_start": 353746,
            "bin_end": 423332.19999999995,
            "count": 0
           },
           {
            "bin_start": 423332.19999999995,
            "bin_end": 492918.39999999997,
            "count": 0
           },
           {
            "bin_start": 492918.39999999997,
            "bin_end": 562504.6,
            "count": 0
           },
           {
            "bin_start": 562504.6,
            "bin_end": 632090.7999999999,
            "count": 0
           },
           {
            "bin_start": 632090.7999999999,
            "bin_end": 701677,
            "count": 1663
           }
          ]
         }
        },
        {
         "name": "WIC",
         "dtype": "float64",
         "stats": {
          "unique_count": 2,
          "nan_count": 18,
          "min": "0.0",
          "max": "1.0",
          "histogram": [
           {
            "bin_start": 0,
            "bin_end": 0.1,
            "count": 3060
           },
           {
            "bin_start": 0.1,
            "bin_end": 0.2,
            "count": 0
           },
           {
            "bin_start": 0.2,
            "bin_end": 0.30000000000000004,
            "count": 0
           },
           {
            "bin_start": 0.30000000000000004,
            "bin_end": 0.4,
            "count": 0
           },
           {
            "bin_start": 0.4,
            "bin_end": 0.5,
            "count": 0
           },
           {
            "bin_start": 0.5,
            "bin_end": 0.6000000000000001,
            "count": 0
           },
           {
            "bin_start": 0.6000000000000001,
            "bin_end": 0.7000000000000001,
            "count": 0
           },
           {
            "bin_start": 0.7000000000000001,
            "bin_end": 0.8,
            "count": 0
           },
           {
            "bin_start": 0.8,
            "bin_end": 0.9,
            "count": 0
           },
           {
            "bin_start": 0.9,
            "bin_end": 1,
            "count": 564
           }
          ]
         }
        },
        {
         "name": "SNAP",
         "dtype": "float64",
         "stats": {
          "unique_count": 2,
          "nan_count": 18,
          "min": "0.0",
          "max": "1.0",
          "histogram": [
           {
            "bin_start": 0,
            "bin_end": 0.1,
            "count": 2595
           },
           {
            "bin_start": 0.1,
            "bin_end": 0.2,
            "count": 0
           },
           {
            "bin_start": 0.2,
            "bin_end": 0.30000000000000004,
            "count": 0
           },
           {
            "bin_start": 0.30000000000000004,
            "bin_end": 0.4,
            "count": 0
           },
           {
            "bin_start": 0.4,
            "bin_end": 0.5,
            "count": 0
           },
           {
            "bin_start": 0.5,
            "bin_end": 0.6000000000000001,
            "count": 0
           },
           {
            "bin_start": 0.6000000000000001,
            "bin_end": 0.7000000000000001,
            "count": 0
           },
           {
            "bin_start": 0.7000000000000001,
            "bin_end": 0.8,
            "count": 0
           },
           {
            "bin_start": 0.8,
            "bin_end": 0.9,
            "count": 0
           },
           {
            "bin_start": 0.9,
            "bin_end": 1,
            "count": 1029
           }
          ]
         }
        },
        {
         "name": "location_x",
         "dtype": "float64",
         "stats": {
          "unique_count": 3599,
          "nan_count": 15,
          "min": "-159.4992",
          "max": "0.43705",
          "histogram": [
           {
            "bin_start": -159.4992,
            "bin_end": -143.505575,
            "count": 25
           },
           {
            "bin_start": -143.505575,
            "bin_end": -127.51195,
            "count": 3
           },
           {
            "bin_start": -127.51195,
            "bin_end": -111.518325,
            "count": 548
           },
           {
            "bin_start": -111.518325,
            "bin_end": -95.5247,
            "count": 311
           },
           {
            "bin_start": -95.5247,
            "bin_end": -79.531075,
            "count": 1723
           },
           {
            "bin_start": -79.531075,
            "bin_end": -63.53745000000001,
            "count": 1015
           },
           {
            "bin_start": -63.53745000000001,
            "bin_end": -47.543825,
            "count": 0
           },
           {
            "bin_start": -47.543825,
            "bin_end": -31.550200000000004,
            "count": 0
           },
           {
            "bin_start": -31.550200000000004,
            "bin_end": -15.55657500000001,
            "count": 0
           },
           {
            "bin_start": -15.55657500000001,
            "bin_end": 0.43705,
            "count": 2
           }
          ]
         }
        },
        {
         "name": "location_y",
         "dtype": "float64",
         "stats": {
          "unique_count": 3594,
          "nan_count": 15,
          "min": "0.049438",
          "max": "64.90857",
          "histogram": [
           {
            "bin_start": 0.049438,
            "bin_end": 6.535351200000001,
            "count": 2
           },
           {
            "bin_start": 6.535351200000001,
            "bin_end": 13.021264400000002,
            "count": 0
           },
           {
            "bin_start": 13.021264400000002,
            "bin_end": 19.507177600000002,
            "count": 8
           },
           {
            "bin_start": 19.507177600000002,
            "bin_end": 25.9930908,
            "count": 24
           },
           {
            "bin_start": 25.9930908,
            "bin_end": 32.479004,
            "count": 269
           },
           {
            "bin_start": 32.479004,
            "bin_end": 38.96491720000001,
            "count": 1069
           },
           {
            "bin_start": 38.96491720000001,
            "bin_end": 45.45083040000001,
            "count": 1985
           },
           {
            "bin_start": 45.45083040000001,
            "bin_end": 51.93674360000001,
            "count": 258
           },
           {
            "bin_start": 51.93674360000001,
            "bin_end": 58.422656800000006,
            "count": 2
           },
           {
            "bin_start": 58.422656800000006,
            "bin_end": 64.90857,
            "count": 10
           }
          ]
         }
        },
        {
         "name": "location_address",
         "dtype": "object",
         "stats": {
          "unique_count": 3582,
          "nan_count": 2,
          "categories": [
           {
            "name": "91 South St., New York , New York 10038",
            "count": 3
           },
           {
            "name": "3581 others",
            "count": 3637
           },
           {
            "name": "Missing",
            "count": 2
           }
          ]
         }
        },
        {
         "name": "listing_name",
         "dtype": "object",
         "stats": {
          "unique_count": 3537,
          "nan_count": 0,
          "categories": [
           {
            "name": "Historic Lewes Farmers Market",
            "count": 4
           },
           {
            "name": "Campbell County Farmers Market Association",
            "count": 3
           },
           {
            "name": "3535 others",
            "count": 3635
           }
          ]
         }
        },
        {
         "name": "fm_bool",
         "dtype": "float64",
         "stats": {
          "unique_count": 2,
          "nan_count": 0,
          "min": "0.0",
          "max": "1.0",
          "histogram": [
           {
            "bin_start": 0,
            "bin_end": 0.1,
            "count": 2626
           },
           {
            "bin_start": 0.1,
            "bin_end": 0.2,
            "count": 0
           },
           {
            "bin_start": 0.2,
            "bin_end": 0.30000000000000004,
            "count": 0
           },
           {
            "bin_start": 0.30000000000000004,
            "bin_end": 0.4,
            "count": 0
           },
           {
            "bin_start": 0.4,
            "bin_end": 0.5,
            "count": 0
           },
           {
            "bin_start": 0.5,
            "bin_end": 0.6000000000000001,
            "count": 0
           },
           {
            "bin_start": 0.6000000000000001,
            "bin_end": 0.7000000000000001,
            "count": 0
           },
           {
            "bin_start": 0.7000000000000001,
            "bin_end": 0.8,
            "count": 0
           },
           {
            "bin_start": 0.8,
            "bin_end": 0.9,
            "count": 0
           },
           {
            "bin_start": 0.9,
            "bin_end": 1,
            "count": 1016
           }
          ]
         }
        },
        {
         "name": "csa_bool",
         "dtype": "float64",
         "stats": {
          "unique_count": 2,
          "nan_count": 0,
          "min": "0.0",
          "max": "1.0",
          "histogram": [
           {
            "bin_start": 0,
            "bin_end": 0.1,
            "count": 2679
           },
           {
            "bin_start": 0.1,
            "bin_end": 0.2,
            "count": 0
           },
           {
            "bin_start": 0.2,
            "bin_end": 0.30000000000000004,
            "count": 0
           },
           {
            "bin_start": 0.30000000000000004,
            "bin_end": 0.4,
            "count": 0
           },
           {
            "bin_start": 0.4,
            "bin_end": 0.5,
            "count": 0
           },
           {
            "bin_start": 0.5,
            "bin_end": 0.6000000000000001,
            "count": 0
           },
           {
            "bin_start": 0.6000000000000001,
            "bin_end": 0.7000000000000001,
            "count": 0
           },
           {
            "bin_start": 0.7000000000000001,
            "bin_end": 0.8,
            "count": 0
           },
           {
            "bin_start": 0.8,
            "bin_end": 0.9,
            "count": 0
           },
           {
            "bin_start": 0.9,
            "bin_end": 1,
            "count": 963
           }
          ]
         }
        },
        {
         "name": "om_bool",
         "dtype": "float64",
         "stats": {
          "unique_count": 2,
          "nan_count": 0,
          "min": "0.0",
          "max": "1.0",
          "histogram": [
           {
            "bin_start": 0,
            "bin_end": 0.1,
            "count": 1979
           },
           {
            "bin_start": 0.1,
            "bin_end": 0.2,
            "count": 0
           },
           {
            "bin_start": 0.2,
            "bin_end": 0.30000000000000004,
            "count": 0
           },
           {
            "bin_start": 0.30000000000000004,
            "bin_end": 0.4,
            "count": 0
           },
           {
            "bin_start": 0.4,
            "bin_end": 0.5,
            "count": 0
           },
           {
            "bin_start": 0.5,
            "bin_end": 0.6000000000000001,
            "count": 0
           },
           {
            "bin_start": 0.6000000000000001,
            "bin_end": 0.7000000000000001,
            "count": 0
           },
           {
            "bin_start": 0.7000000000000001,
            "bin_end": 0.8,
            "count": 0
           },
           {
            "bin_start": 0.8,
            "bin_end": 0.9,
            "count": 0
           },
           {
            "bin_start": 0.9,
            "bin_end": 1,
            "count": 1663
           }
          ]
         }
        },
        {
         "name": "Farmer Market Type",
         "dtype": "object",
         "stats": {
          "unique_count": 3,
          "nan_count": 0,
          "categories": [
           {
            "name": "On Market Farmers' Market",
            "count": 1663
           },
           {
            "name": "Farmers' Market",
            "count": 1016
           },
           {
            "name": "Community Supported Agriculture",
            "count": 963
           }
          ]
         }
        },
        {
         "name": "pmt_snap",
         "dtype": "object",
         "stats": {
          "unique_count": 2,
          "nan_count": 18,
          "categories": [
           {
            "name": "No SNAP Benefit",
            "count": 2595
           },
           {
            "name": "SNAP",
            "count": 1029
           },
           {
            "name": "Missing",
            "count": 18
           }
          ]
         }
        },
        {
         "name": "pmt_wic",
         "dtype": "object",
         "stats": {
          "unique_count": 2,
          "nan_count": 18,
          "categories": [
           {
            "name": "No WIC Benefit",
            "count": 3060
           },
           {
            "name": "WIC",
            "count": 564
           },
           {
            "name": "Missing",
            "count": 18
           }
          ]
         }
        },
        {
         "name": "Benefit Type",
         "dtype": "object",
         "stats": {
          "unique_count": 4,
          "nan_count": 18,
          "categories": [
           {
            "name": "No SNAP Benefit ; No WIC Benefit",
            "count": 2446
           },
           {
            "name": "3 others",
            "count": 1178
           },
           {
            "name": "Missing",
            "count": 18
           }
          ]
         }
        },
        {
         "name": "_deepnote_index_column",
         "dtype": "int64"
        }
       ],
       "rows": [
        {
         "listing_id": 300002,
         "WIC": 0,
         "SNAP": 1,
         "location_x": -104.81468,
         "location_y": 38.937716,
         "location_address": "7350 Pine Creek Road, Colorado Springs, Colorado 80919",
         "listing_name": "Colorado Farm and Art Market",
         "fm_bool": 1,
         "csa_bool": 0,
         "om_bool": 0,
         "Farmer Market Type": "Farmers' Market",
         "pmt_snap": "SNAP",
         "pmt_wic": "No WIC Benefit",
         "Benefit Type": "SNAP",
         "_deepnote_index_column": 0
        },
        {
         "listing_id": 300003,
         "WIC": 0,
         "SNAP": 0,
         "location_x": -88.045015,
         "location_y": 30.69035,
         "location_address": "300 Conti, Mobile, Alabama 36602",
         "listing_name": "Market in The Park",
         "fm_bool": 1,
         "csa_bool": 0,
         "om_bool": 0,
         "Farmer Market Type": "Farmers' Market",
         "pmt_snap": "No SNAP Benefit",
         "pmt_wic": "No WIC Benefit",
         "Benefit Type": "No SNAP Benefit ; No WIC Benefit",
         "_deepnote_index_column": 1
        },
        {
         "listing_id": 300004,
         "WIC": 0,
         "SNAP": 0,
         "location_x": -90.31353,
         "location_y": 42.404443,
         "location_address": "2000 Territory Drive, Galena, Illinois 61036",
         "listing_name": "The Territory Farmers' Market",
         "fm_bool": 1,
         "csa_bool": 0,
         "om_bool": 0,
         "Farmer Market Type": "Farmers' Market",
         "pmt_snap": "No SNAP Benefit",
         "pmt_wic": "No WIC Benefit",
         "Benefit Type": "No SNAP Benefit ; No WIC Benefit",
         "_deepnote_index_column": 2
        },
        {
         "listing_id": 300005,
         "WIC": 0,
         "SNAP": 0,
         "location_x": -93.473419,
         "location_y": 44.997274,
         "location_address": "15500 County Road 6, Plymouth, Minnesota 55447",
         "listing_name": "City of Plymouth Farmers Market",
         "fm_bool": 1,
         "csa_bool": 0,
         "om_bool": 0,
         "Farmer Market Type": "Farmers' Market",
         "pmt_snap": "No SNAP Benefit",
         "pmt_wic": "No WIC Benefit",
         "Benefit Type": "No SNAP Benefit ; No WIC Benefit",
         "_deepnote_index_column": 3
        },
        {
         "listing_id": 300006,
         "WIC": 1,
         "SNAP": 1,
         "location_x": -78.901856,
         "location_y": 36.000559,
         "location_address": "501 Foster Street, Durham, North Carolina 27701",
         "listing_name": "Durham Farmers' Market",
         "fm_bool": 1,
         "csa_bool": 0,
         "om_bool": 0,
         "Farmer Market Type": "Farmers' Market",
         "pmt_snap": "SNAP",
         "pmt_wic": "WIC",
         "Benefit Type": "SNAP ; WIC",
         "_deepnote_index_column": 4
        },
        {
         "listing_id": 300008,
         "WIC": 1,
         "SNAP": 1,
         "location_x": -77.452948,
         "location_y": 43.212229,
         "location_address": "1028 Ridge Road, Webster Towne Center, Webster, New York 14580",
         "listing_name": "Webster's Joe Obbie Farmers' Market, Inc.",
         "fm_bool": 1,
         "csa_bool": 0,
         "om_bool": 0,
         "Farmer Market Type": "Farmers' Market",
         "pmt_snap": "SNAP",
         "pmt_wic": "WIC",
         "Benefit Type": "SNAP ; WIC",
         "_deepnote_index_column": 5
        },
        {
         "listing_id": 300009,
         "WIC": 1,
         "SNAP": 1,
         "location_x": -88.40703,
         "location_y": 44.26201,
         "location_address": "100 College Avenue, Appleton, Wisconsin 54911",
         "listing_name": "Appleton Downtown Farm Market",
         "fm_bool": 1,
         "csa_bool": 0,
         "om_bool": 0,
         "Farmer Market Type": "Farmers' Market",
         "pmt_snap": "SNAP",
         "pmt_wic": "WIC",
         "Benefit Type": "SNAP ; WIC",
         "_deepnote_index_column": 6
        },
        {
         "listing_id": 300010,
         "WIC": 0,
         "SNAP": 1,
         "location_x": -97.311627,
         "location_y": 30.111777,
         "location_address": "1302 Chestnut Street, Bastrop, Texas 78602",
         "listing_name": "Bastrop 1832 Farmers Market",
         "fm_bool": 1,
         "csa_bool": 0,
         "om_bool": 0,
         "Farmer Market Type": "Farmers' Market",
         "pmt_snap": "SNAP",
         "pmt_wic": "No WIC Benefit",
         "Benefit Type": "SNAP",
         "_deepnote_index_column": 7
        },
        {
         "listing_id": 300011,
         "WIC": 0,
         "SNAP": 1,
         "location_x": -84.259924,
         "location_y": 39.266388,
         "location_address": "205 Broadway Street, Loveland, Ohio 45140",
         "listing_name": "Loveland Farmers Market",
         "fm_bool": 1,
         "csa_bool": 0,
         "om_bool": 0,
         "Farmer Market Type": "Farmers' Market",
         "pmt_snap": "SNAP",
         "pmt_wic": "No WIC Benefit",
         "Benefit Type": "SNAP",
         "_deepnote_index_column": 8
        },
        {
         "listing_id": 300013,
         "WIC": 1,
         "SNAP": 1,
         "location_x": -75.916118,
         "location_y": 44.331171,
         "location_address": "Route 12, Alexandria Bay, New York 13607",
         "listing_name": "Alexandria Bay Farmers Market",
         "fm_bool": 1,
         "csa_bool": 0,
         "om_bool": 0,
         "Farmer Market Type": "Farmers' Market",
         "pmt_snap": "SNAP",
         "pmt_wic": "WIC",
         "Benefit Type": "SNAP ; WIC",
         "_deepnote_index_column": 9
        }
       ]
      },
      "text/plain": "      listing_id  WIC  SNAP  location_x  location_y  \\\n0         300002  0.0   1.0 -104.814680   38.937716   \n1         300003  0.0   0.0  -88.045015   30.690350   \n2         300004  0.0   0.0  -90.313530   42.404443   \n3         300005  0.0   0.0  -93.473419   44.997274   \n4         300006  1.0   1.0  -78.901856   36.000559   \n...          ...  ...   ...         ...         ...   \n3637      700736  0.0   0.0  -92.408597   45.397467   \n3638      701671  0.0   0.0  -90.067140   41.293562   \n3639      700083  1.0   0.0  -74.393467   42.902931   \n3640      701676  0.0   0.0  -96.669370   32.024657   \n3641      701677  0.0   0.0 -104.570511   39.357596   \n\n                                       location_address  \\\n0     7350 Pine Creek Road, Colorado Springs, Colora...   \n1                      300 Conti, Mobile, Alabama 36602   \n2          2000 Territory Drive, Galena, Illinois 61036   \n3        15500 County Road 6, Plymouth, Minnesota 55447   \n4       501 Foster Street, Durham, North Carolina 27701   \n...                                                 ...   \n3637        1333 - 120th Street, Amery, Wisconsin 54001   \n3638              19065 IL-81, Cambridge, IL 61238, USA   \n3639   685 Argersinger Rd, Fultonviille, New York 12072   \n3640                1885 Northwest 2162, Barry, TX, USA   \n3641           33784 County Road 21, Elizabeth, CO, USA   \n\n                                 listing_name  fm_bool  csa_bool  om_bool  \\\n0                Colorado Farm and Art Market      1.0       0.0      0.0   \n1                          Market in The Park      1.0       0.0      0.0   \n2               The Territory Farmers' Market      1.0       0.0      0.0   \n3             City of Plymouth Farmers Market      1.0       0.0      0.0   \n4                      Durham Farmers' Market      1.0       0.0      0.0   \n...                                       ...      ...       ...      ...   \n3637  Glenna Farms Country Store & Sugarhouse      0.0       0.0      1.0   \n3638                           Grateful Graze      0.0       0.0      1.0   \n3639                      Bellinger's Orchard      0.0       0.0      1.0   \n3640                      La Vida Buena Acres      0.0       0.0      1.0   \n3641                        RK Creations Farm      0.0       0.0      1.0   \n\n             Farmer Market Type         pmt_snap         pmt_wic  \\\n0               Farmers' Market             SNAP  No WIC Benefit   \n1               Farmers' Market  No SNAP Benefit  No WIC Benefit   \n2               Farmers' Market  No SNAP Benefit  No WIC Benefit   \n3               Farmers' Market  No SNAP Benefit  No WIC Benefit   \n4               Farmers' Market             SNAP             WIC   \n...                         ...              ...             ...   \n3637  On Market Farmers' Market  No SNAP Benefit  No WIC Benefit   \n3638  On Market Farmers' Market  No SNAP Benefit  No WIC Benefit   \n3639  On Market Farmers' Market  No SNAP Benefit             WIC   \n3640  On Market Farmers' Market  No SNAP Benefit  No WIC Benefit   \n3641  On Market Farmers' Market  No SNAP Benefit  No WIC Benefit   \n\n                          Benefit Type  \n0                                 SNAP  \n1     No SNAP Benefit ; No WIC Benefit  \n2     No SNAP Benefit ; No WIC Benefit  \n3     No SNAP Benefit ; No WIC Benefit  \n4                           SNAP ; WIC  \n...                                ...  \n3637  No SNAP Benefit ; No WIC Benefit  \n3638  No SNAP Benefit ; No WIC Benefit  \n3639                               WIC  \n3640  No SNAP Benefit ; No WIC Benefit  \n3641  No SNAP Benefit ; No WIC Benefit  \n\n[3642 rows x 14 columns]",
      "text/html": "<div>\n<style scoped>\n    .dataframe tbody tr th:only-of-type {\n        vertical-align: middle;\n    }\n\n    .dataframe tbody tr th {\n        vertical-align: top;\n    }\n\n    .dataframe thead th {\n        text-align: right;\n    }\n</style>\n<table border=\"1\" class=\"dataframe\">\n  <thead>\n    <tr style=\"text-align: right;\">\n      <th></th>\n      <th>listing_id</th>\n      <th>WIC</th>\n      <th>SNAP</th>\n      <th>location_x</th>\n      <th>location_y</th>\n      <th>location_address</th>\n      <th>listing_name</th>\n      <th>fm_bool</th>\n      <th>csa_bool</th>\n      <th>om_bool</th>\n      <th>Farmer Market Type</th>\n      <th>pmt_snap</th>\n      <th>pmt_wic</th>\n      <th>Benefit Type</th>\n    </tr>\n  </thead>\n  <tbody>\n    <tr>\n      <th>0</th>\n      <td>300002</td>\n      <td>0.0</td>\n      <td>1.0</td>\n      <td>-104.814680</td>\n      <td>38.937716</td>\n      <td>7350 Pine Creek Road, Colorado Springs, Colora...</td>\n      <td>Colorado Farm and Art Market</td>\n      <td>1.0</td>\n      <td>0.0</td>\n      <td>0.0</td>\n      <td>Farmers' Market</td>\n      <td>SNAP</td>\n      <td>No WIC Benefit</td>\n      <td>SNAP</td>\n    </tr>\n    <tr>\n      <th>1</th>\n      <td>300003</td>\n      <td>0.0</td>\n      <td>0.0</td>\n      <td>-88.045015</td>\n      <td>30.690350</td>\n      <td>300 Conti, Mobile, Alabama 36602</td>\n      <td>Market in The Park</td>\n      <td>1.0</td>\n      <td>0.0</td>\n      <td>0.0</td>\n      <td>Farmers' Market</td>\n      <td>No SNAP Benefit</td>\n      <td>No WIC Benefit</td>\n      <td>No SNAP Benefit ; No WIC Benefit</td>\n    </tr>\n    <tr>\n      <th>2</th>\n      <td>300004</td>\n      <td>0.0</td>\n      <td>0.0</td>\n      <td>-90.313530</td>\n      <td>42.404443</td>\n      <td>2000 Territory Drive, Galena, Illinois 61036</td>\n      <td>The Territory Farmers' Market</td>\n      <td>1.0</td>\n      <td>0.0</td>\n      <td>0.0</td>\n      <td>Farmers' Market</td>\n      <td>No SNAP Benefit</td>\n      <td>No WIC Benefit</td>\n      <td>No SNAP Benefit ; No WIC Benefit</td>\n    </tr>\n    <tr>\n      <th>3</th>\n      <td>300005</td>\n      <td>0.0</td>\n      <td>0.0</td>\n      <td>-93.473419</td>\n      <td>44.997274</td>\n      <td>15500 County Road 6, Plymouth, Minnesota 55447</td>\n      <td>City of Plymouth Farmers Market</td>\n      <td>1.0</td>\n      <td>0.0</td>\n      <td>0.0</td>\n      <td>Farmers' Market</td>\n      <td>No SNAP Benefit</td>\n      <td>No WIC Benefit</td>\n      <td>No SNAP Benefit ; No WIC Benefit</td>\n    </tr>\n    <tr>\n      <th>4</th>\n      <td>300006</td>\n      <td>1.0</td>\n      <td>1.0</td>\n      <td>-78.901856</td>\n      <td>36.000559</td>\n      <td>501 Foster Street, Durham, North Carolina 27701</td>\n      <td>Durham Farmers' Market</td>\n      <td>1.0</td>\n      <td>0.0</td>\n      <td>0.0</td>\n      <td>Farmers' Market</td>\n      <td>SNAP</td>\n      <td>WIC</td>\n      <td>SNAP ; WIC</td>\n    </tr>\n    <tr>\n      <th>...</th>\n      <td>...</td>\n      <td>...</td>\n      <td>...</td>\n      <td>...</td>\n      <td>...</td>\n      <td>...</td>\n      <td>...</td>\n      <td>...</td>\n      <td>...</td>\n      <td>...</td>\n      <td>...</td>\n      <td>...</td>\n      <td>...</td>\n      <td>...</td>\n    </tr>\n    <tr>\n      <th>3637</th>\n      <td>700736</td>\n      <td>0.0</td>\n      <td>0.0</td>\n      <td>-92.408597</td>\n      <td>45.397467</td>\n      <td>1333 - 120th Street, Amery, Wisconsin 54001</td>\n      <td>Glenna Farms Country Store &amp; Sugarhouse</td>\n      <td>0.0</td>\n      <td>0.0</td>\n      <td>1.0</td>\n      <td>On Market Farmers' Market</td>\n      <td>No SNAP Benefit</td>\n      <td>No WIC Benefit</td>\n      <td>No SNAP Benefit ; No WIC Benefit</td>\n    </tr>\n    <tr>\n      <th>3638</th>\n      <td>701671</td>\n      <td>0.0</td>\n      <td>0.0</td>\n      <td>-90.067140</td>\n      <td>41.293562</td>\n      <td>19065 IL-81, Cambridge, IL 61238, USA</td>\n      <td>Grateful Graze</td>\n      <td>0.0</td>\n      <td>0.0</td>\n      <td>1.0</td>\n      <td>On Market Farmers' Market</td>\n      <td>No SNAP Benefit</td>\n      <td>No WIC Benefit</td>\n      <td>No SNAP Benefit ; No WIC Benefit</td>\n    </tr>\n    <tr>\n      <th>3639</th>\n      <td>700083</td>\n      <td>1.0</td>\n      <td>0.0</td>\n      <td>-74.393467</td>\n      <td>42.902931</td>\n      <td>685 Argersinger Rd, Fultonviille, New York 12072</td>\n      <td>Bellinger's Orchard</td>\n      <td>0.0</td>\n      <td>0.0</td>\n      <td>1.0</td>\n      <td>On Market Farmers' Market</td>\n      <td>No SNAP Benefit</td>\n      <td>WIC</td>\n      <td>WIC</td>\n    </tr>\n    <tr>\n      <th>3640</th>\n      <td>701676</td>\n      <td>0.0</td>\n      <td>0.0</td>\n      <td>-96.669370</td>\n      <td>32.024657</td>\n      <td>1885 Northwest 2162, Barry, TX, USA</td>\n      <td>La Vida Buena Acres</td>\n      <td>0.0</td>\n      <td>0.0</td>\n      <td>1.0</td>\n      <td>On Market Farmers' Market</td>\n      <td>No SNAP Benefit</td>\n      <td>No WIC Benefit</td>\n      <td>No SNAP Benefit ; No WIC Benefit</td>\n    </tr>\n    <tr>\n      <th>3641</th>\n      <td>701677</td>\n      <td>0.0</td>\n      <td>0.0</td>\n      <td>-104.570511</td>\n      <td>39.357596</td>\n      <td>33784 County Road 21, Elizabeth, CO, USA</td>\n      <td>RK Creations Farm</td>\n      <td>0.0</td>\n      <td>0.0</td>\n      <td>1.0</td>\n      <td>On Market Farmers' Market</td>\n      <td>No SNAP Benefit</td>\n      <td>No WIC Benefit</td>\n      <td>No SNAP Benefit ; No WIC Benefit</td>\n    </tr>\n  </tbody>\n</table>\n<p>3642 rows × 14 columns</p>\n</div>"
     },
     "metadata": {}
    }
   ],
   "execution_count": 126
  },
  {
   "cell_type": "code",
   "source": "fm_csa_om = fm_csa_om.drop(['pmt_snap', 'pmt_wic'], axis = 1)\nfm_csa_om = fm_csa_om.dropna()\nfm_csa_om.info()",
   "metadata": {
    "cell_id": "720066cd67aa4ed88b2d2b0cbecaf0a2",
    "tags": [],
    "deepnote_to_be_reexecuted": false,
    "source_hash": "cb9ebcda",
    "execution_start": 1658004433580,
    "execution_millis": 41,
    "deepnote_cell_type": "code",
    "deepnote_cell_height": 504.609375,
    "deepnote_output_heights": [
     40.390625
    ]
   },
   "outputs": [
    {
     "name": "stdout",
     "text": "<class 'pandas.core.frame.DataFrame'>\nInt64Index: 3612 entries, 0 to 3641\nData columns (total 12 columns):\n #   Column              Non-Null Count  Dtype  \n---  ------              --------------  -----  \n 0   listing_id          3612 non-null   int64  \n 1   WIC                 3612 non-null   float64\n 2   SNAP                3612 non-null   float64\n 3   location_x          3612 non-null   float64\n 4   location_y          3612 non-null   float64\n 5   location_address    3612 non-null   object \n 6   listing_name        3612 non-null   object \n 7   fm_bool             3612 non-null   float64\n 8   csa_bool            3612 non-null   float64\n 9   om_bool             3612 non-null   float64\n 10  Farmer Market Type  3612 non-null   object \n 11  Benefit Type        3612 non-null   object \ndtypes: float64(7), int64(1), object(4)\nmemory usage: 366.8+ KB\n",
     "output_type": "stream"
    }
   ],
   "execution_count": 129
  },
  {
   "cell_type": "code",
   "source": "fm_csa_om.duplicated().value_counts() # no duplicates",
   "metadata": {
    "cell_id": "54a9031d2d36462f9042e202bef7bf5f",
    "tags": [],
    "deepnote_to_be_reexecuted": false,
    "source_hash": "e1985144",
    "execution_start": 1658005514648,
    "execution_millis": 73,
    "deepnote_cell_type": "code",
    "deepnote_cell_height": 137.359375,
    "deepnote_output_heights": [
     40.390625
    ]
   },
   "outputs": [
    {
     "output_type": "execute_result",
     "execution_count": 134,
     "data": {
      "text/plain": "False    3612\ndtype: int64"
     },
     "metadata": {}
    }
   ],
   "execution_count": 134
  },
  {
   "cell_type": "code",
   "source": "fm_csa_om.info()\n",
   "metadata": {
    "cell_id": "e10233715be64d82a62c6122ea4f8b2c",
    "tags": [],
    "deepnote_to_be_reexecuted": false,
    "source_hash": "95be3e9d",
    "execution_start": 1658007964881,
    "execution_millis": 29,
    "deepnote_cell_type": "code",
    "deepnote_cell_height": 486.609375,
    "deepnote_output_heights": [
     251.53125
    ]
   },
   "outputs": [
    {
     "name": "stdout",
     "text": "<class 'pandas.core.frame.DataFrame'>\nInt64Index: 3612 entries, 0 to 3641\nData columns (total 12 columns):\n #   Column              Non-Null Count  Dtype  \n---  ------              --------------  -----  \n 0   listing_id          3612 non-null   int64  \n 1   WIC                 3612 non-null   float64\n 2   SNAP                3612 non-null   float64\n 3   longitude           3612 non-null   float64\n 4   latitude            3612 non-null   float64\n 5   location_address    3612 non-null   object \n 6   listing_name        3612 non-null   object \n 7   fm_bool             3612 non-null   float64\n 8   csa_bool            3612 non-null   float64\n 9   om_bool             3612 non-null   float64\n 10  Farmer Market Type  3612 non-null   object \n 11  Benefit Type        3612 non-null   object \ndtypes: float64(7), int64(1), object(4)\nmemory usage: 495.9+ KB\n",
     "output_type": "stream"
    }
   ],
   "execution_count": 155
  },
  {
   "cell_type": "code",
   "source": "# Create geo bridge table\ncoords = list(zip(fm_csa_om['latitude'], fm_csa_om['longitude']))\ndata_bridge_dict = defaultdict(list)\n\nfor lat, long_ in coords:\n    data = requests.get(f\"https://geo.fcc.gov/api/census/block/find?latitude={lat}%20&longitude={long_}&censusYear=2020&showall=true&format=json\")\n    d = data.text\n    dd = json.loads(d)\n\n    data_bridge_dict['latitude'].append(lat)\n    data_bridge_dict['longitude'].append(long_)\n    data_bridge_dict['Block_FIPS'].append(dd['Block']['FIPS'])\n    data_bridge_dict['bbox'].append(dd['Block']['bbox'])\n    data_bridge_dict['county_name'].append(dd['County']['name'])\n    data_bridge_dict['County_FIPS'].append(dd['County']['FIPS'])\n    data_bridge_dict['State_FIPS'].append(dd['State']['code'])\n    data_bridge_dict['State_name'].append(dd['State']['name'])\n",
   "metadata": {
    "cell_id": "7246dc7e226b47c4a8b29b4e4b169cc6",
    "tags": [],
    "deepnote_to_be_reexecuted": false,
    "source_hash": "340defdc",
    "execution_start": 1658009567940,
    "execution_millis": 179104,
    "deepnote_cell_type": "code",
    "deepnote_cell_height": 386.96875,
    "deepnote_output_heights": [
     21.1875
    ]
   },
   "outputs": [],
   "execution_count": 198
  },
  {
   "cell_type": "code",
   "source": "#fm_csa_om.to_csv('fm_csa_om.csv')",
   "metadata": {
    "cell_id": "d00ae5236a8c43b09217e6c90ce0df73",
    "tags": [],
    "deepnote_to_be_reexecuted": false,
    "source_hash": "98dc87a6",
    "execution_start": 1658004467420,
    "execution_millis": 83,
    "deepnote_cell_type": "code",
    "deepnote_cell_height": 80.96875
   },
   "outputs": [],
   "execution_count": 131
  },
  {
   "cell_type": "code",
   "source": "bridge_market_df = pd.DataFrame(data_bridge_dict)\n#bridge_market_df.to_csv('bridge_market_df.csv')\n",
   "metadata": {
    "cell_id": "ca37285084b64060a066325150368c2e",
    "tags": [],
    "deepnote_to_be_reexecuted": false,
    "source_hash": "ea91cc76",
    "execution_start": 1658012261416,
    "execution_millis": 884,
    "deepnote_cell_type": "code",
    "deepnote_cell_height": 635.90625,
    "deepnote_output_heights": [
     611
    ]
   },
   "outputs": [
    {
     "output_type": "execute_result",
     "execution_count": 234,
     "data": {
      "application/vnd.deepnote.dataframe.v3+json": {
       "column_count": 8,
       "row_count": 3612,
       "columns": [
        {
         "name": "latitude",
         "dtype": "float64",
         "stats": {
          "unique_count": 3581,
          "nan_count": 0,
          "min": "0.049438",
          "max": "64.90857",
          "histogram": [
           {
            "bin_start": 0.049438,
            "bin_end": 6.535351200000001,
            "count": 2
           },
           {
            "bin_start": 6.535351200000001,
            "bin_end": 13.021264400000002,
            "count": 0
           },
           {
            "bin_start": 13.021264400000002,
            "bin_end": 19.507177600000002,
            "count": 8
           },
           {
            "bin_start": 19.507177600000002,
            "bin_end": 25.9930908,
            "count": 24
           },
           {
            "bin_start": 25.9930908,
            "bin_end": 32.479004,
            "count": 269
           },
           {
            "bin_start": 32.479004,
            "bin_end": 38.96491720000001,
            "count": 1059
           },
           {
            "bin_start": 38.96491720000001,
            "bin_end": 45.45083040000001,
            "count": 1980
           },
           {
            "bin_start": 45.45083040000001,
            "bin_end": 51.93674360000001,
            "count": 258
           },
           {
            "bin_start": 51.93674360000001,
            "bin_end": 58.422656800000006,
            "count": 2
           },
           {
            "bin_start": 58.422656800000006,
            "bin_end": 64.90857,
            "count": 10
           }
          ]
         }
        },
        {
         "name": "longitude",
         "dtype": "float64",
         "stats": {
          "unique_count": 3586,
          "nan_count": 0,
          "min": "-159.4992",
          "max": "0.43705",
          "histogram": [
           {
            "bin_start": -159.4992,
            "bin_end": -143.505575,
            "count": 25
           },
           {
            "bin_start": -143.505575,
            "bin_end": -127.51195,
            "count": 3
           },
           {
            "bin_start": -127.51195,
            "bin_end": -111.518325,
            "count": 548
           },
           {
            "bin_start": -111.518325,
            "bin_end": -95.5247,
            "count": 311
           },
           {
            "bin_start": -95.5247,
            "bin_end": -79.531075,
            "count": 1721
           },
           {
            "bin_start": -79.531075,
            "bin_end": -63.53745000000001,
            "count": 1002
           },
           {
            "bin_start": -63.53745000000001,
            "bin_end": -47.543825,
            "count": 0
           },
           {
            "bin_start": -47.543825,
            "bin_end": -31.550200000000004,
            "count": 0
           },
           {
            "bin_start": -31.550200000000004,
            "bin_end": -15.55657500000001,
            "count": 0
           },
           {
            "bin_start": -15.55657500000001,
            "bin_end": 0.43705,
            "count": 2
           }
          ]
         }
        },
        {
         "name": "Block_FIPS",
         "dtype": "object",
         "stats": {
          "unique_count": 3502,
          "nan_count": 2,
          "categories": [
           {
            "name": "480291906012006",
            "count": 6
           },
           {
            "name": "3501 others",
            "count": 3604
           },
           {
            "name": "Missing",
            "count": 2
           }
          ]
         }
        },
        {
         "name": "bbox",
         "dtype": "object",
         "stats": {
          "unique_count": 3612,
          "nan_count": 2,
          "categories": [
           {
            "name": "[-98.52601, 29.471992, -98.524274, 29.472812]",
            "count": 6
           },
           {
            "name": "3501 others",
            "count": 3604
           },
           {
            "name": "Missing",
            "count": 2
           }
          ]
         }
        },
        {
         "name": "county_name",
         "dtype": "object",
         "stats": {
          "unique_count": 974,
          "nan_count": 2,
          "categories": [
           {
            "name": "Washington County",
            "count": 63
           },
           {
            "name": "973 others",
            "count": 3547
           },
           {
            "name": "Missing",
            "count": 2
           }
          ]
         }
        },
        {
         "name": "County_FIPS",
         "dtype": "object",
         "stats": {
          "unique_count": 1391,
          "nan_count": 2,
          "categories": [
           {
            "name": "25017",
            "count": 26
           },
           {
            "name": "1390 others",
            "count": 3584
           },
           {
            "name": "Missing",
            "count": 2
           }
          ]
         }
        },
        {
         "name": "State_FIPS",
         "dtype": "object",
         "stats": {
          "unique_count": 53,
          "nan_count": 2,
          "categories": [
           {
            "name": "CA",
            "count": 220
           },
           {
            "name": "52 others",
            "count": 3390
           },
           {
            "name": "Missing",
            "count": 2
           }
          ]
         }
        },
        {
         "name": "State_name",
         "dtype": "object",
         "stats": {
          "unique_count": 53,
          "nan_count": 2,
          "categories": [
           {
            "name": "California",
            "count": 220
           },
           {
            "name": "52 others",
            "count": 3390
           },
           {
            "name": "Missing",
            "count": 2
           }
          ]
         }
        },
        {
         "name": "_deepnote_index_column",
         "dtype": "int64"
        }
       ],
       "rows": [
        {
         "latitude": 38.937716,
         "longitude": -104.81468,
         "Block_FIPS": "080410037054015",
         "bbox": "[-104.818646, 38.932971, -104.813136, 38.938515]",
         "county_name": "El Paso County",
         "County_FIPS": "08041",
         "State_FIPS": "CO",
         "State_name": "Colorado",
         "_deepnote_index_column": 0
        },
        {
         "latitude": 30.69035,
         "longitude": -88.045015,
         "Block_FIPS": "010970002001018",
         "bbox": "[-88.045601, 30.689942, -88.044488, 30.690884]",
         "county_name": "Mobile County",
         "County_FIPS": "01097",
         "State_FIPS": "AL",
         "State_name": "Alabama",
         "_deepnote_index_column": 1
        },
        {
         "latitude": 42.404443,
         "longitude": -90.31353,
         "Block_FIPS": "170850204011042",
         "bbox": "[-90.316519, 42.400989, -90.306193, 42.406228]",
         "county_name": "Jo Daviess County",
         "County_FIPS": "17085",
         "State_FIPS": "IL",
         "State_name": "Illinois",
         "_deepnote_index_column": 2
        },
        {
         "latitude": 44.997274,
         "longitude": -93.473419,
         "Block_FIPS": "270530266113004",
         "bbox": "[-93.481636, 44.995067, -93.472153, 45.000191]",
         "county_name": "Hennepin County",
         "County_FIPS": "27053",
         "State_FIPS": "MN",
         "State_name": "Minnesota",
         "_deepnote_index_column": 3
        },
        {
         "latitude": 36.000559,
         "longitude": -78.901856,
         "Block_FIPS": "370630022002064",
         "bbox": "[-78.902268, 36.000177, -78.901401, 36.001986]",
         "county_name": "Durham County",
         "County_FIPS": "37063",
         "State_FIPS": "NC",
         "State_name": "North Carolina",
         "_deepnote_index_column": 4
        },
        {
         "latitude": 43.212229,
         "longitude": -77.452948,
         "Block_FIPS": "360550112102001",
         "bbox": "[-77.461304, 43.209238, -77.449427, 43.215407]",
         "county_name": "Monroe County",
         "County_FIPS": "36055",
         "State_FIPS": "NY",
         "State_name": "New York",
         "_deepnote_index_column": 5
        },
        {
         "latitude": 44.26201,
         "longitude": -88.40703,
         "Block_FIPS": "550870101001015",
         "bbox": "[-88.407266, 44.261816, -88.404326, 44.262945]",
         "county_name": "Outagamie County",
         "County_FIPS": "55087",
         "State_FIPS": "WI",
         "State_name": "Wisconsin",
         "_deepnote_index_column": 6
        },
        {
         "latitude": 30.111777,
         "longitude": -97.311627,
         "Block_FIPS": "480219504014050",
         "bbox": "[-97.312578, 30.110625, -97.307615, 30.112895]",
         "county_name": "Bastrop County",
         "County_FIPS": "48021",
         "State_FIPS": "TX",
         "State_name": "Texas",
         "_deepnote_index_column": 7
        },
        {
         "latitude": 39.266388,
         "longitude": -84.259924,
         "Block_FIPS": "390250403011004",
         "bbox": "[-84.267701, 39.258579, -84.257453, 39.266644]",
         "county_name": "Clermont County",
         "County_FIPS": "39025",
         "State_FIPS": "OH",
         "State_name": "Ohio",
         "_deepnote_index_column": 8
        },
        {
         "latitude": 44.331171,
         "longitude": -75.916118,
         "Block_FIPS": "360450601022017",
         "bbox": "[-75.916856, 44.33045, -75.914373, 44.33251]",
         "county_name": "Jefferson County",
         "County_FIPS": "36045",
         "State_FIPS": "NY",
         "State_name": "New York",
         "_deepnote_index_column": 9
        }
       ]
      },
      "text/plain": "       latitude   longitude       Block_FIPS  \\\n0     38.937716 -104.814680  080410037054015   \n1     30.690350  -88.045015  010970002001018   \n2     42.404443  -90.313530  170850204011042   \n3     44.997274  -93.473419  270530266113004   \n4     36.000559  -78.901856  370630022002064   \n...         ...         ...              ...   \n3607  45.397467  -92.408597  550959606003016   \n3608  41.293562  -90.067140  170730305003032   \n3609  42.902931  -74.393467  360570727003026   \n3610  32.024657  -96.669370  483499704002005   \n3611  39.357596 -104.570511  080399612081005   \n\n                                                  bbox        county_name  \\\n0     [-104.818646, 38.932971, -104.813136, 38.938515]     El Paso County   \n1       [-88.045601, 30.689942, -88.044488, 30.690884]      Mobile County   \n2       [-90.316519, 42.400989, -90.306193, 42.406228]  Jo Daviess County   \n3       [-93.481636, 44.995067, -93.472153, 45.000191]    Hennepin County   \n4       [-78.902268, 36.000177, -78.901401, 36.001986]      Durham County   \n...                                                ...                ...   \n3607    [-92.448847, 45.395804, -92.407675, 45.408456]        Polk County   \n3608    [-90.068503, 41.287491, -90.063344, 41.293965]       Henry County   \n3609    [-74.419985, 42.901353, -74.391864, 42.925173]  Montgomery County   \n3610    [-96.681031, 32.006678, -96.640277, 32.036285]     Navarro County   \n3611  [-104.580235, 39.303274, -104.526249, 39.361358]      Elbert County   \n\n     County_FIPS State_FIPS      State_name  \n0          08041         CO        Colorado  \n1          01097         AL         Alabama  \n2          17085         IL        Illinois  \n3          27053         MN       Minnesota  \n4          37063         NC  North Carolina  \n...          ...        ...             ...  \n3607       55095         WI       Wisconsin  \n3608       17073         IL        Illinois  \n3609       36057         NY        New York  \n3610       48349         TX           Texas  \n3611       08039         CO        Colorado  \n\n[3612 rows x 8 columns]",
      "text/html": "<div>\n<style scoped>\n    .dataframe tbody tr th:only-of-type {\n        vertical-align: middle;\n    }\n\n    .dataframe tbody tr th {\n        vertical-align: top;\n    }\n\n    .dataframe thead th {\n        text-align: right;\n    }\n</style>\n<table border=\"1\" class=\"dataframe\">\n  <thead>\n    <tr style=\"text-align: right;\">\n      <th></th>\n      <th>latitude</th>\n      <th>longitude</th>\n      <th>Block_FIPS</th>\n      <th>bbox</th>\n      <th>county_name</th>\n      <th>County_FIPS</th>\n      <th>State_FIPS</th>\n      <th>State_name</th>\n    </tr>\n  </thead>\n  <tbody>\n    <tr>\n      <th>0</th>\n      <td>38.937716</td>\n      <td>-104.814680</td>\n      <td>080410037054015</td>\n      <td>[-104.818646, 38.932971, -104.813136, 38.938515]</td>\n      <td>El Paso County</td>\n      <td>08041</td>\n      <td>CO</td>\n      <td>Colorado</td>\n    </tr>\n    <tr>\n      <th>1</th>\n      <td>30.690350</td>\n      <td>-88.045015</td>\n      <td>010970002001018</td>\n      <td>[-88.045601, 30.689942, -88.044488, 30.690884]</td>\n      <td>Mobile County</td>\n      <td>01097</td>\n      <td>AL</td>\n      <td>Alabama</td>\n    </tr>\n    <tr>\n      <th>2</th>\n      <td>42.404443</td>\n      <td>-90.313530</td>\n      <td>170850204011042</td>\n      <td>[-90.316519, 42.400989, -90.306193, 42.406228]</td>\n      <td>Jo Daviess County</td>\n      <td>17085</td>\n      <td>IL</td>\n      <td>Illinois</td>\n    </tr>\n    <tr>\n      <th>3</th>\n      <td>44.997274</td>\n      <td>-93.473419</td>\n      <td>270530266113004</td>\n      <td>[-93.481636, 44.995067, -93.472153, 45.000191]</td>\n      <td>Hennepin County</td>\n      <td>27053</td>\n      <td>MN</td>\n      <td>Minnesota</td>\n    </tr>\n    <tr>\n      <th>4</th>\n      <td>36.000559</td>\n      <td>-78.901856</td>\n      <td>370630022002064</td>\n      <td>[-78.902268, 36.000177, -78.901401, 36.001986]</td>\n      <td>Durham County</td>\n      <td>37063</td>\n      <td>NC</td>\n      <td>North Carolina</td>\n    </tr>\n    <tr>\n      <th>...</th>\n      <td>...</td>\n      <td>...</td>\n      <td>...</td>\n      <td>...</td>\n      <td>...</td>\n      <td>...</td>\n      <td>...</td>\n      <td>...</td>\n    </tr>\n    <tr>\n      <th>3607</th>\n      <td>45.397467</td>\n      <td>-92.408597</td>\n      <td>550959606003016</td>\n      <td>[-92.448847, 45.395804, -92.407675, 45.408456]</td>\n      <td>Polk County</td>\n      <td>55095</td>\n      <td>WI</td>\n      <td>Wisconsin</td>\n    </tr>\n    <tr>\n      <th>3608</th>\n      <td>41.293562</td>\n      <td>-90.067140</td>\n      <td>170730305003032</td>\n      <td>[-90.068503, 41.287491, -90.063344, 41.293965]</td>\n      <td>Henry County</td>\n      <td>17073</td>\n      <td>IL</td>\n      <td>Illinois</td>\n    </tr>\n    <tr>\n      <th>3609</th>\n      <td>42.902931</td>\n      <td>-74.393467</td>\n      <td>360570727003026</td>\n      <td>[-74.419985, 42.901353, -74.391864, 42.925173]</td>\n      <td>Montgomery County</td>\n      <td>36057</td>\n      <td>NY</td>\n      <td>New York</td>\n    </tr>\n    <tr>\n      <th>3610</th>\n      <td>32.024657</td>\n      <td>-96.669370</td>\n      <td>483499704002005</td>\n      <td>[-96.681031, 32.006678, -96.640277, 32.036285]</td>\n      <td>Navarro County</td>\n      <td>48349</td>\n      <td>TX</td>\n      <td>Texas</td>\n    </tr>\n    <tr>\n      <th>3611</th>\n      <td>39.357596</td>\n      <td>-104.570511</td>\n      <td>080399612081005</td>\n      <td>[-104.580235, 39.303274, -104.526249, 39.361358]</td>\n      <td>Elbert County</td>\n      <td>08039</td>\n      <td>CO</td>\n      <td>Colorado</td>\n    </tr>\n  </tbody>\n</table>\n<p>3612 rows × 8 columns</p>\n</div>"
     },
     "metadata": {}
    }
   ],
   "execution_count": 234
  },
  {
   "cell_type": "code",
   "source": "bridge_market_df = bridge_market_df.dropna()\nbridge_market_df.info()",
   "metadata": {
    "cell_id": "87eca1033d2f429ba530ba0ec474e213",
    "tags": [],
    "deepnote_to_be_reexecuted": false,
    "source_hash": "cd726f3d",
    "execution_start": 1658012274079,
    "execution_millis": 27,
    "deepnote_cell_type": "code",
    "deepnote_cell_height": 407.3125
   },
   "outputs": [
    {
     "name": "stdout",
     "text": "<class 'pandas.core.frame.DataFrame'>\nInt64Index: 3610 entries, 0 to 3611\nData columns (total 8 columns):\n #   Column       Non-Null Count  Dtype  \n---  ------       --------------  -----  \n 0   latitude     3610 non-null   float64\n 1   longitude    3610 non-null   float64\n 2   Block_FIPS   3610 non-null   object \n 3   bbox         3610 non-null   object \n 4   county_name  3610 non-null   object \n 5   County_FIPS  3610 non-null   object \n 6   State_FIPS   3610 non-null   object \n 7   State_name   3610 non-null   object \ndtypes: float64(2), object(6)\nmemory usage: 253.8+ KB\n",
     "output_type": "stream"
    }
   ],
   "execution_count": 236
  },
  {
   "cell_type": "code",
   "source": "#combine the data with bridge\n\ncombined_df = pd.merge(fm_csa_om, bridge_market_df, on = ['latitude', 'longitude'], how = 'left')\ncombined_df.tail(50)",
   "metadata": {
    "cell_id": "2c3b0badbb6047948bc05b806faf1890",
    "tags": [],
    "deepnote_to_be_reexecuted": false,
    "source_hash": "a79c1061",
    "execution_start": 1658012710684,
    "execution_millis": 210,
    "deepnote_table_state": {
     "pageSize": 100,
     "pageIndex": 0,
     "filters": [],
     "sortBy": []
    },
    "deepnote_table_loading": false,
    "deepnote_cell_type": "code",
    "deepnote_cell_height": 2293.75
   },
   "outputs": [
    {
     "output_type": "execute_result",
     "execution_count": 246,
     "data": {
      "application/vnd.deepnote.dataframe.v3+json": {
       "column_count": 18,
       "row_count": 50,
       "columns": [
        {
         "name": "listing_id",
         "dtype": "int64",
         "stats": {
          "unique_count": 48,
          "nan_count": 0,
          "min": "700083",
          "max": "701677",
          "histogram": [
           {
            "bin_start": 700083,
            "bin_end": 700242.4,
            "count": 1
           },
           {
            "bin_start": 700242.4,
            "bin_end": 700401.8,
            "count": 1
           },
           {
            "bin_start": 700401.8,
            "bin_end": 700561.2,
            "count": 0
           },
           {
            "bin_start": 700561.2,
            "bin_end": 700720.6,
            "count": 0
           },
           {
            "bin_start": 700720.6,
            "bin_end": 700880,
            "count": 1
           },
           {
            "bin_start": 700880,
            "bin_end": 701039.4,
            "count": 0
           },
           {
            "bin_start": 701039.4,
            "bin_end": 701198.8,
            "count": 1
           },
           {
            "bin_start": 701198.8,
            "bin_end": 701358.2,
            "count": 0
           },
           {
            "bin_start": 701358.2,
            "bin_end": 701517.6,
            "count": 0
           },
           {
            "bin_start": 701517.6,
            "bin_end": 701677,
            "count": 46
           }
          ]
         }
        },
        {
         "name": "WIC",
         "dtype": "float64",
         "stats": {
          "unique_count": 2,
          "nan_count": 0,
          "min": "0.0",
          "max": "1.0",
          "histogram": [
           {
            "bin_start": 0,
            "bin_end": 0.1,
            "count": 45
           },
           {
            "bin_start": 0.1,
            "bin_end": 0.2,
            "count": 0
           },
           {
            "bin_start": 0.2,
            "bin_end": 0.30000000000000004,
            "count": 0
           },
           {
            "bin_start": 0.30000000000000004,
            "bin_end": 0.4,
            "count": 0
           },
           {
            "bin_start": 0.4,
            "bin_end": 0.5,
            "count": 0
           },
           {
            "bin_start": 0.5,
            "bin_end": 0.6000000000000001,
            "count": 0
           },
           {
            "bin_start": 0.6000000000000001,
            "bin_end": 0.7000000000000001,
            "count": 0
           },
           {
            "bin_start": 0.7000000000000001,
            "bin_end": 0.8,
            "count": 0
           },
           {
            "bin_start": 0.8,
            "bin_end": 0.9,
            "count": 0
           },
           {
            "bin_start": 0.9,
            "bin_end": 1,
            "count": 5
           }
          ]
         }
        },
        {
         "name": "SNAP",
         "dtype": "float64",
         "stats": {
          "unique_count": 2,
          "nan_count": 0,
          "min": "0.0",
          "max": "1.0",
          "histogram": [
           {
            "bin_start": 0,
            "bin_end": 0.1,
            "count": 34
           },
           {
            "bin_start": 0.1,
            "bin_end": 0.2,
            "count": 0
           },
           {
            "bin_start": 0.2,
            "bin_end": 0.30000000000000004,
            "count": 0
           },
           {
            "bin_start": 0.30000000000000004,
            "bin_end": 0.4,
            "count": 0
           },
           {
            "bin_start": 0.4,
            "bin_end": 0.5,
            "count": 0
           },
           {
            "bin_start": 0.5,
            "bin_end": 0.6000000000000001,
            "count": 0
           },
           {
            "bin_start": 0.6000000000000001,
            "bin_end": 0.7000000000000001,
            "count": 0
           },
           {
            "bin_start": 0.7000000000000001,
            "bin_end": 0.8,
            "count": 0
           },
           {
            "bin_start": 0.8,
            "bin_end": 0.9,
            "count": 0
           },
           {
            "bin_start": 0.9,
            "bin_end": 1,
            "count": 16
           }
          ]
         }
        },
        {
         "name": "longitude",
         "dtype": "float64",
         "stats": {
          "unique_count": 48,
          "nan_count": 0,
          "min": "-123.2696345",
          "max": "-73.853029",
          "histogram": [
           {
            "bin_start": -123.2696345,
            "bin_end": -118.32797395,
            "count": 5
           },
           {
            "bin_start": -118.32797395,
            "bin_end": -113.38631339999999,
            "count": 2
           },
           {
            "bin_start": -113.38631339999999,
            "bin_end": -108.44465285,
            "count": 4
           },
           {
            "bin_start": -108.44465285,
            "bin_end": -103.5029923,
            "count": 5
           },
           {
            "bin_start": -103.5029923,
            "bin_end": -98.56133175,
            "count": 0
           },
           {
            "bin_start": -98.56133175,
            "bin_end": -93.6196712,
            "count": 6
           },
           {
            "bin_start": -93.6196712,
            "bin_end": -88.67801065,
            "count": 6
           },
           {
            "bin_start": -88.67801065,
            "bin_end": -83.73635010000001,
            "count": 11
           },
           {
            "bin_start": -83.73635010000001,
            "bin_end": -78.79468955,
            "count": 6
           },
           {
            "bin_start": -78.79468955,
            "bin_end": -73.853029,
            "count": 5
           }
          ]
         }
        },
        {
         "name": "latitude",
         "dtype": "float64",
         "stats": {
          "unique_count": 48,
          "nan_count": 0,
          "min": "30.6082503",
          "max": "48.699719",
          "histogram": [
           {
            "bin_start": 30.6082503,
            "bin_end": 32.41739717,
            "count": 2
           },
           {
            "bin_start": 32.41739717,
            "bin_end": 34.22654404,
            "count": 1
           },
           {
            "bin_start": 34.22654404,
            "bin_end": 36.03569091,
            "count": 6
           },
           {
            "bin_start": 36.03569091,
            "bin_end": 37.84483778,
            "count": 7
           },
           {
            "bin_start": 37.84483778,
            "bin_end": 39.65398465,
            "count": 4
           },
           {
            "bin_start": 39.65398465,
            "bin_end": 41.463131520000005,
            "count": 11
           },
           {
            "bin_start": 41.463131520000005,
            "bin_end": 43.272278390000004,
            "count": 6
           },
           {
            "bin_start": 43.272278390000004,
            "bin_end": 45.08142526,
            "count": 8
           },
           {
            "bin_start": 45.08142526,
            "bin_end": 46.89057213,
            "count": 3
           },
           {
            "bin_start": 46.89057213,
            "bin_end": 48.699719,
            "count": 2
           }
          ]
         }
        },
        {
         "name": "location_address",
         "dtype": "object",
         "stats": {
          "unique_count": 48,
          "nan_count": 0,
          "categories": [
           {
            "name": "61915 Pettigrew Rd, Bend, OR 97702",
            "count": 2
           },
           {
            "name": "469 East 1200 North, Shelley, ID 83274, USA",
            "count": 2
           },
           {
            "name": "46 others",
            "count": 46
           }
          ]
         }
        },
        {
         "name": "listing_name",
         "dtype": "object",
         "stats": {
          "unique_count": 48,
          "nan_count": 0,
          "categories": [
           {
            "name": "Fields Farm",
            "count": 2
           },
           {
            "name": "Shelley’s Fresh Produce",
            "count": 2
           },
           {
            "name": "46 others",
            "count": 46
           }
          ]
         }
        },
        {
         "name": "fm_bool",
         "dtype": "float64",
         "stats": {
          "unique_count": 1,
          "nan_count": 0,
          "min": "0.0",
          "max": "0.0",
          "histogram": [
           {
            "bin_start": -0.5,
            "bin_end": -0.4,
            "count": 0
           },
           {
            "bin_start": -0.4,
            "bin_end": -0.3,
            "count": 0
           },
           {
            "bin_start": -0.3,
            "bin_end": -0.19999999999999996,
            "count": 0
           },
           {
            "bin_start": -0.19999999999999996,
            "bin_end": -0.09999999999999998,
            "count": 0
           },
           {
            "bin_start": -0.09999999999999998,
            "bin_end": 0,
            "count": 0
           },
           {
            "bin_start": 0,
            "bin_end": 0.10000000000000009,
            "count": 50
           },
           {
            "bin_start": 0.10000000000000009,
            "bin_end": 0.20000000000000007,
            "count": 0
           },
           {
            "bin_start": 0.20000000000000007,
            "bin_end": 0.30000000000000004,
            "count": 0
           },
           {
            "bin_start": 0.30000000000000004,
            "bin_end": 0.4,
            "count": 0
           },
           {
            "bin_start": 0.4,
            "bin_end": 0.5,
            "count": 0
           }
          ]
         }
        },
        {
         "name": "csa_bool",
         "dtype": "float64",
         "stats": {
          "unique_count": 1,
          "nan_count": 0,
          "min": "0.0",
          "max": "0.0",
          "histogram": [
           {
            "bin_start": -0.5,
            "bin_end": -0.4,
            "count": 0
           },
           {
            "bin_start": -0.4,
            "bin_end": -0.3,
            "count": 0
           },
           {
            "bin_start": -0.3,
            "bin_end": -0.19999999999999996,
            "count": 0
           },
           {
            "bin_start": -0.19999999999999996,
            "bin_end": -0.09999999999999998,
            "count": 0
           },
           {
            "bin_start": -0.09999999999999998,
            "bin_end": 0,
            "count": 0
           },
           {
            "bin_start": 0,
            "bin_end": 0.10000000000000009,
            "count": 50
           },
           {
            "bin_start": 0.10000000000000009,
            "bin_end": 0.20000000000000007,
            "count": 0
           },
           {
            "bin_start": 0.20000000000000007,
            "bin_end": 0.30000000000000004,
            "count": 0
           },
           {
            "bin_start": 0.30000000000000004,
            "bin_end": 0.4,
            "count": 0
           },
           {
            "bin_start": 0.4,
            "bin_end": 0.5,
            "count": 0
           }
          ]
         }
        },
        {
         "name": "om_bool",
         "dtype": "float64",
         "stats": {
          "unique_count": 1,
          "nan_count": 0,
          "min": "1.0",
          "max": "1.0",
          "histogram": [
           {
            "bin_start": 0.5,
            "bin_end": 0.6,
            "count": 0
           },
           {
            "bin_start": 0.6,
            "bin_end": 0.7,
            "count": 0
           },
           {
            "bin_start": 0.7,
            "bin_end": 0.8,
            "count": 0
           },
           {
            "bin_start": 0.8,
            "bin_end": 0.9,
            "count": 0
           },
           {
            "bin_start": 0.9,
            "bin_end": 1,
            "count": 0
           },
           {
            "bin_start": 1,
            "bin_end": 1.1,
            "count": 50
           },
           {
            "bin_start": 1.1,
            "bin_end": 1.2000000000000002,
            "count": 0
           },
           {
            "bin_start": 1.2000000000000002,
            "bin_end": 1.3,
            "count": 0
           },
           {
            "bin_start": 1.3,
            "bin_end": 1.4,
            "count": 0
           },
           {
            "bin_start": 1.4,
            "bin_end": 1.5,
            "count": 0
           }
          ]
         }
        },
        {
         "name": "Farmer Market Type",
         "dtype": "object",
         "stats": {
          "unique_count": 1,
          "nan_count": 0,
          "categories": [
           {
            "name": "On Market Farmers' Market",
            "count": 50
           }
          ]
         }
        },
        {
         "name": "Benefit Type",
         "dtype": "object",
         "stats": {
          "unique_count": 4,
          "nan_count": 0,
          "categories": [
           {
            "name": "No SNAP Benefit ; No WIC Benefit",
            "count": 31
           },
           {
            "name": "SNAP",
            "count": 14
           },
           {
            "name": "2 others",
            "count": 5
           }
          ]
         }
        },
        {
         "name": "Block_FIPS",
         "dtype": "object",
         "stats": {
          "unique_count": 48,
          "nan_count": 0,
          "categories": [
           {
            "name": "410170018023000",
            "count": 2
           },
           {
            "name": "160119503001097",
            "count": 2
           },
           {
            "name": "46 others",
            "count": 46
           }
          ]
         }
        },
        {
         "name": "bbox",
         "dtype": "object",
         "stats": {
          "unique_count": 50,
          "nan_count": 0,
          "categories": [
           {
            "name": "[-121.27314, 44.045884, -121.26863, 44.051361]",
            "count": 2
           },
           {
            "name": "[-112.223138, 43.341302, -112.186773, 43.367187]",
            "count": 2
           },
           {
            "name": "46 others",
            "count": 46
           }
          ]
         }
        },
        {
         "name": "county_name",
         "dtype": "object",
         "stats": {
          "unique_count": 47,
          "nan_count": 0,
          "categories": [
           {
            "name": "Livingston County",
            "count": 2
           },
           {
            "name": "Deschutes County",
            "count": 2
           },
           {
            "name": "45 others",
            "count": 46
           }
          ]
         }
        },
        {
         "name": "County_FIPS",
         "dtype": "object",
         "stats": {
          "unique_count": 48,
          "nan_count": 0,
          "categories": [
           {
            "name": "41017",
            "count": 2
           },
           {
            "name": "16011",
            "count": 2
           },
           {
            "name": "46 others",
            "count": 46
           }
          ]
         }
        },
        {
         "name": "State_FIPS",
         "dtype": "object",
         "stats": {
          "unique_count": 27,
          "nan_count": 0,
          "categories": [
           {
            "name": "IL",
            "count": 6
           },
           {
            "name": "NC",
            "count": 3
           },
           {
            "name": "25 others",
            "count": 41
           }
          ]
         }
        },
        {
         "name": "State_name",
         "dtype": "object",
         "stats": {
          "unique_count": 27,
          "nan_count": 0,
          "categories": [
           {
            "name": "Illinois",
            "count": 6
           },
           {
            "name": "North Carolina",
            "count": 3
           },
           {
            "name": "25 others",
            "count": 41
           }
          ]
         }
        },
        {
         "name": "_deepnote_index_column",
         "dtype": "int64"
        }
       ],
       "rows": [
        {
         "listing_id": 701610,
         "WIC": 0,
         "SNAP": 0,
         "longitude": -80.071675,
         "latitude": 41.377985,
         "location_address": "3755 Sandy Lake Rd, Sandy Lake, Pennsylvania 16145",
         "listing_name": "Kepner's Produce",
         "fm_bool": 0,
         "csa_bool": 0,
         "om_bool": 1,
         "Farmer Market Type": "On Market Farmers' Market",
         "Benefit Type": "No SNAP Benefit ; No WIC Benefit",
         "Block_FIPS": "420850325051104",
         "bbox": "[-80.089207, 41.371775, -80.069924, 41.387427]",
         "county_name": "Mercer County",
         "County_FIPS": "42085",
         "State_FIPS": "PA",
         "State_name": "Pennsylvania",
         "_deepnote_index_column": 3630
        },
        {
         "listing_id": 701611,
         "WIC": 0,
         "SNAP": 0,
         "longitude": -83.746991,
         "latitude": 42.693661,
         "location_address": "10371 Parshall Rd., Fenton, Michigan 48430",
         "listing_name": "Genuine Roots Farm",
         "fm_bool": 0,
         "csa_bool": 0,
         "om_bool": 1,
         "Farmer Market Type": "On Market Farmers' Market",
         "Benefit Type": "No SNAP Benefit ; No WIC Benefit",
         "Block_FIPS": "260937107001032",
         "bbox": "[-83.761328, 42.693094, -83.742074, 42.708309]",
         "county_name": "Livingston County",
         "County_FIPS": "26093",
         "State_FIPS": "MI",
         "State_name": "Michigan",
         "_deepnote_index_column": 3631
        },
        {
         "listing_id": 701612,
         "WIC": 0,
         "SNAP": 0,
         "longitude": -93.422944,
         "latitude": 36.226656,
         "location_address": "161 CR 9951 , Green Forest , Arkansas 72638",
         "listing_name": "Osage Creek Farms",
         "fm_bool": 0,
         "csa_bool": 0,
         "om_bool": 1,
         "Farmer Market Type": "On Market Farmers' Market",
         "Benefit Type": "No SNAP Benefit ; No WIC Benefit",
         "Block_FIPS": "050159505023057",
         "bbox": "[-93.460136, 36.225975, -93.405687, 36.296607]",
         "county_name": "Carroll County",
         "County_FIPS": "05015",
         "State_FIPS": "AR",
         "State_name": "Arkansas",
         "_deepnote_index_column": 3632
        },
        {
         "listing_id": 701613,
         "WIC": 0,
         "SNAP": 1,
         "longitude": -76.075492,
         "latitude": 38.776542,
         "location_address": "100 North Harrison Street, Easton, Maryland 21601",
         "listing_name": "Quarter Acre Farm",
         "fm_bool": 0,
         "csa_bool": 0,
         "om_bool": 1,
         "Farmer Market Type": "On Market Farmers' Market",
         "Benefit Type": "SNAP",
         "Block_FIPS": "240419604002016",
         "bbox": "[-76.076311, 38.776353, -76.07535, 38.776942]",
         "county_name": "Talbot County",
         "County_FIPS": "24041",
         "State_FIPS": "MD",
         "State_name": "Maryland",
         "_deepnote_index_column": 3633
        },
        {
         "listing_id": 701614,
         "WIC": 0,
         "SNAP": 1,
         "longitude": -96.855802,
         "latitude": 36.183214,
         "location_address": "5900 N. West Point Road, Glencoe, Oklahoma 74032",
         "listing_name": "West Point Beef and Cattle Company, LLC",
         "fm_bool": 0,
         "csa_bool": 0,
         "om_bool": 1,
         "Farmer Market Type": "On Market Farmers' Market",
         "Benefit Type": "SNAP",
         "Block_FIPS": "401190111013049",
         "bbox": "[-96.872325, 36.173555, -96.854383, 36.188597]",
         "county_name": "Payne County",
         "County_FIPS": "40119",
         "State_FIPS": "OK",
         "State_name": "Oklahoma",
         "_deepnote_index_column": 3634
        },
        {
         "listing_id": 701615,
         "WIC": 0,
         "SNAP": 0,
         "longitude": -82.820628,
         "latitude": 36.293384,
         "location_address": "9840 Baileyton Road, Afton, Tennessee 37616",
         "listing_name": "Hoodley Creek",
         "fm_bool": 0,
         "csa_bool": 0,
         "om_bool": 1,
         "Farmer Market Type": "On Market Farmers' Market",
         "Benefit Type": "No SNAP Benefit ; No WIC Benefit",
         "Block_FIPS": "470590908003025",
         "bbox": "[-82.821275, 36.289203, -82.810167, 36.295388]",
         "county_name": "Greene County",
         "County_FIPS": "47059",
         "State_FIPS": "TN",
         "State_name": "Tennessee",
         "_deepnote_index_column": 3635
        },
        {
         "listing_id": 701616,
         "WIC": 0,
         "SNAP": 0,
         "longitude": -79.191254,
         "latitude": 34.921006,
         "location_address": "250 McCormick Rd, Shannon, North Carolina 28386",
         "listing_name": "Spartan Tusk and Feather Livestock",
         "fm_bool": 0,
         "csa_bool": 0,
         "om_bool": 1,
         "Farmer Market Type": "On Market Farmers' Market",
         "Benefit Type": "No SNAP Benefit ; No WIC Benefit",
         "Block_FIPS": "370939704021015",
         "bbox": "[-79.197472, 34.913368, -79.184184, 34.930658]",
         "county_name": "Hoke County",
         "County_FIPS": "37093",
         "State_FIPS": "NC",
         "State_name": "North Carolina",
         "_deepnote_index_column": 3636
        },
        {
         "listing_id": 701617,
         "WIC": 0,
         "SNAP": 1,
         "longitude": -83.252581,
         "latitude": 37.581595,
         "location_address": "12205 HWY 30 East, Jackson, Kentucky 41339",
         "listing_name": "Roaring Shoals Farm",
         "fm_bool": 0,
         "csa_bool": 0,
         "om_bool": 1,
         "Farmer Market Type": "On Market Farmers' Market",
         "Benefit Type": "SNAP",
         "Block_FIPS": "210259208001059",
         "bbox": "[-83.293546, 37.579468, -83.224185, 37.619344]",
         "county_name": "Breathitt County",
         "County_FIPS": "21025",
         "State_FIPS": "KY",
         "State_name": "Kentucky",
         "_deepnote_index_column": 3637
        },
        {
         "listing_id": 701618,
         "WIC": 0,
         "SNAP": 1,
         "longitude": -84.710058,
         "latitude": 34.517395,
         "location_address": "758 Hwy 411, Ranger, Georgia 30734",
         "listing_name": "Shallow Creek Farm LLC",
         "fm_bool": 0,
         "csa_bool": 0,
         "om_bool": 1,
         "Farmer Market Type": "On Market Farmers' Market",
         "Benefit Type": "SNAP",
         "Block_FIPS": "131299701021033",
         "bbox": "[-84.724506, 34.504388, -84.709251, 34.522668]",
         "county_name": "Gordon County",
         "County_FIPS": "13129",
         "State_FIPS": "GA",
         "State_name": "Georgia",
         "_deepnote_index_column": 3638
        },
        {
         "listing_id": 701619,
         "WIC": 0,
         "SNAP": 1,
         "longitude": -90.3988821,
         "latitude": 30.6082503,
         "location_address": "52059 Louisiana 40, Loranger, LA, USA",
         "listing_name": "Williams Family Feeder Cattle, LLC dba High Cotton Meat Co. & High Cotton Market & Mercantile",
         "fm_bool": 0,
         "csa_bool": 0,
         "om_bool": 1,
         "Farmer Market Type": "On Market Farmers' Market",
         "Benefit Type": "SNAP",
         "Block_FIPS": "221059537013016",
         "bbox": "[-90.415256, 30.606449, -90.398316, 30.63568]",
         "county_name": "Tangipahoa Parish",
         "County_FIPS": "22105",
         "State_FIPS": "LA",
         "State_name": "Louisiana",
         "_deepnote_index_column": 3639
        },
        {
         "listing_id": 701620,
         "WIC": 0,
         "SNAP": 0,
         "longitude": -88.357927,
         "latitude": 37.244895,
         "location_address": "774 Bizzell Bluff Road , Burna , Kentucky 42028",
         "listing_name": "Bizzell Bluff Farm",
         "fm_bool": 0,
         "csa_bool": 0,
         "om_bool": 1,
         "Farmer Market Type": "On Market Farmers' Market",
         "Benefit Type": "No SNAP Benefit ; No WIC Benefit",
         "Block_FIPS": "211390401004055",
         "bbox": "[-88.3602, 37.243602, -88.356256, 37.245812]",
         "county_name": "Livingston County",
         "County_FIPS": "21139",
         "State_FIPS": "KY",
         "State_name": "Kentucky",
         "_deepnote_index_column": 3640
        },
        {
         "listing_id": 701621,
         "WIC": 0,
         "SNAP": 1,
         "longitude": -105.11135,
         "latitude": 40.661499,
         "location_address": "5200 North County Rd 19, Fort Collins, Colorado 80524",
         "listing_name": "Mountain View Meats",
         "fm_bool": 0,
         "csa_bool": 0,
         "om_bool": 1,
         "Farmer Market Type": "On Market Farmers' Market",
         "Benefit Type": "SNAP",
         "Block_FIPS": "080690013014016",
         "bbox": "[-105.113567, 40.654471, -105.097327, 40.669092]",
         "county_name": "Larimer County",
         "County_FIPS": "08069",
         "State_FIPS": "CO",
         "State_name": "Colorado",
         "_deepnote_index_column": 3641
        },
        {
         "listing_id": 701622,
         "WIC": 1,
         "SNAP": 1,
         "longitude": -122.62843,
         "latitude": 38.242618,
         "location_address": "55 Shasta Ave, Petaluma, California 94952",
         "listing_name": "Petaluma Bounty",
         "fm_bool": 0,
         "csa_bool": 0,
         "om_bool": 1,
         "Farmer Market Type": "On Market Farmers' Market",
         "Benefit Type": "SNAP ; WIC",
         "Block_FIPS": "060971507011002",
         "bbox": "[-122.631708, 38.23865, -122.626438, 38.244716]",
         "county_name": "Sonoma County",
         "County_FIPS": "06097",
         "State_FIPS": "CA",
         "State_name": "California",
         "_deepnote_index_column": 3642
        },
        {
         "listing_id": 701623,
         "WIC": 0,
         "SNAP": 0,
         "longitude": -88.47165,
         "latitude": 42.302592,
         "location_address": "14023 West South Street Rd., Woodstock , Illinois 60098",
         "listing_name": "Hempstock Pharms",
         "fm_bool": 0,
         "csa_bool": 0,
         "om_bool": 1,
         "Farmer Market Type": "On Market Farmers' Market",
         "Benefit Type": "No SNAP Benefit ; No WIC Benefit",
         "Block_FIPS": "171118709042034",
         "bbox": "[-88.472233, 42.297939, -88.452649, 42.305172]",
         "county_name": "McHenry County",
         "County_FIPS": "17111",
         "State_FIPS": "IL",
         "State_name": "Illinois",
         "_deepnote_index_column": 3643
        },
        {
         "listing_id": 701624,
         "WIC": 0,
         "SNAP": 0,
         "longitude": -117.42945,
         "latitude": 48.699719,
         "location_address": "990 Dennis Road, Ione, Washington 99139",
         "listing_name": "Ramstead Ranch",
         "fm_bool": 0,
         "csa_bool": 0,
         "om_bool": 1,
         "Farmer Market Type": "On Market Farmers' Market",
         "Benefit Type": "No SNAP Benefit ; No WIC Benefit",
         "Block_FIPS": "530519701003122",
         "bbox": "[-117.442103, 48.694102, -117.410665, 48.714183]",
         "county_name": "Pend Oreille County",
         "County_FIPS": "53051",
         "State_FIPS": "WA",
         "State_name": "Washington",
         "_deepnote_index_column": 3644
        },
        {
         "listing_id": 701625,
         "WIC": 0,
         "SNAP": 0,
         "longitude": -73.853029,
         "latitude": 42.028543,
         "location_address": "227 Pitcher Lane, Red Hook, New York 12571",
         "listing_name": "Hudson Valley Farmer's Market, LLC",
         "fm_bool": 0,
         "csa_bool": 0,
         "om_bool": 1,
         "Farmer Market Type": "On Market Farmers' Market",
         "Benefit Type": "No SNAP Benefit ; No WIC Benefit",
         "Block_FIPS": "360271500043010",
         "bbox": "[-73.880625, 42.02354, -73.846611, 42.052106]",
         "county_name": "Dutchess County",
         "County_FIPS": "36027",
         "State_FIPS": "NY",
         "State_name": "New York",
         "_deepnote_index_column": 3645
        },
        {
         "listing_id": 701626,
         "WIC": 0,
         "SNAP": 1,
         "longitude": -109.94808,
         "latitude": 45.834528,
         "location_address": ", Big Timber, Montana 59011",
         "listing_name": "Uncommon Beef LLC",
         "fm_bool": 0,
         "csa_bool": 0,
         "om_bool": 1,
         "Farmer Market Type": "On Market Farmers' Market",
         "Benefit Type": "SNAP",
         "Block_FIPS": "300979670002016",
         "bbox": "[-109.949142, 45.833769, -109.94701, 45.835292]",
         "county_name": "Sweet Grass County",
         "County_FIPS": "30097",
         "State_FIPS": "MT",
         "State_name": "Montana",
         "_deepnote_index_column": 3646
        },
        {
         "listing_id": 701627,
         "WIC": 0,
         "SNAP": 1,
         "longitude": -78.255756,
         "latitude": 34.274121,
         "location_address": ", Delco, North Carolina",
         "listing_name": "Farm to Vittles",
         "fm_bool": 0,
         "csa_bool": 0,
         "om_bool": 1,
         "Farmer Market Type": "On Market Farmers' Market",
         "Benefit Type": "SNAP",
         "Block_FIPS": "370479301003060",
         "bbox": "[-78.270234, 34.264349, -78.248253, 34.276632]",
         "county_name": "Columbus County",
         "County_FIPS": "37047",
         "State_FIPS": "NC",
         "State_name": "North Carolina",
         "_deepnote_index_column": 3647
        },
        {
         "listing_id": 701628,
         "WIC": 0,
         "SNAP": 0,
         "longitude": -105.1378,
         "latitude": 43.290296,
         "location_address": "1003 Dull Center Rd., Douglas, Wyoming 82633",
         "listing_name": "Reed Livestock LLC",
         "fm_bool": 0,
         "csa_bool": 0,
         "om_bool": 1,
         "Farmer Market Type": "On Market Farmers' Market",
         "Benefit Type": "No SNAP Benefit ; No WIC Benefit",
         "Block_FIPS": "560099566001106",
         "bbox": "[-105.13806, 43.27584, -105.09777, 43.29047]",
         "county_name": "Converse County",
         "County_FIPS": "56009",
         "State_FIPS": "WY",
         "State_name": "Wyoming",
         "_deepnote_index_column": 3648
        },
        {
         "listing_id": 701629,
         "WIC": 0,
         "SNAP": 1,
         "longitude": -87.323842,
         "latitude": 44.907745,
         "location_address": "5324 Whitefish Bay Rd, Sturgeon Bay, Wisconsin 54235",
         "listing_name": "Backyard Acres at Flying Tractor Farm",
         "fm_bool": 0,
         "csa_bool": 0,
         "om_bool": 1,
         "Farmer Market Type": "On Market Farmers' Market",
         "Benefit Type": "SNAP",
         "Block_FIPS": "550291005001017",
         "bbox": "[-87.337006, 44.907495, -87.316401, 44.922208]",
         "county_name": "Door County",
         "County_FIPS": "55029",
         "State_FIPS": "WI",
         "State_name": "Wisconsin",
         "_deepnote_index_column": 3649
        },
        {
         "listing_id": 701630,
         "WIC": 1,
         "SNAP": 1,
         "longitude": -75.776928,
         "latitude": 40.82953,
         "location_address": "445 stewart creek road, Lehighton, Pennsylvania 18235",
         "listing_name": "Nev & Nise Produce Greenhouse LLC",
         "fm_bool": 0,
         "csa_bool": 0,
         "om_bool": 1,
         "Farmer Market Type": "On Market Farmers' Market",
         "Benefit Type": "SNAP ; WIC",
         "Block_FIPS": "420250205013000",
         "bbox": "[-75.784421, 40.826772, -75.775289, 40.834592]",
         "county_name": "Carbon County",
         "County_FIPS": "42025",
         "State_FIPS": "PA",
         "State_name": "Pennsylvania",
         "_deepnote_index_column": 3650
        },
        {
         "listing_id": 701631,
         "WIC": 0,
         "SNAP": 0,
         "longitude": -106.07469,
         "latitude": 41.186631,
         "location_address": "124 Fox Creek Rd, Laramie, Wyoming 82070",
         "listing_name": "Taste of the Wind LLC",
         "fm_bool": 0,
         "csa_bool": 0,
         "om_bool": 1,
         "Farmer Market Type": "On Market Farmers' Market",
         "Benefit Type": "No SNAP Benefit ; No WIC Benefit",
         "Block_FIPS": "560019639001045",
         "bbox": "[-106.089299, 41.151916, -106.051023, 41.226288]",
         "county_name": "Albany County",
         "County_FIPS": "56001",
         "State_FIPS": "WY",
         "State_name": "Wyoming",
         "_deepnote_index_column": 3651
        },
        {
         "listing_id": 701632,
         "WIC": 0,
         "SNAP": 0,
         "longitude": -84.913999,
         "latitude": 37.103273,
         "location_address": "132 Pinetop Road, Russell Springs, Kentucky 42642",
         "listing_name": "Pierce Family Farms",
         "fm_bool": 0,
         "csa_bool": 0,
         "om_bool": 1,
         "Farmer Market Type": "On Market Farmers' Market",
         "Benefit Type": "No SNAP Benefit ; No WIC Benefit",
         "Block_FIPS": "212079604001001",
         "bbox": "[-84.91694, 37.09667, -84.902311, 37.110449]",
         "county_name": "Russell County",
         "County_FIPS": "21207",
         "State_FIPS": "KY",
         "State_name": "Kentucky",
         "_deepnote_index_column": 3652
        },
        {
         "listing_id": 701633,
         "WIC": 0,
         "SNAP": 0,
         "longitude": -87.615118,
         "latitude": 41.093034,
         "location_address": "13218 E 2260 S Rd Pembroke Township, IL, Pembroke Township, Illinois 60958",
         "listing_name": "Rancho Los Nunez",
         "fm_bool": 0,
         "csa_bool": 0,
         "om_bool": 1,
         "Farmer Market Type": "On Market Farmers' Market",
         "Benefit Type": "No SNAP Benefit ; No WIC Benefit",
         "Block_FIPS": "170910110002038",
         "bbox": "[-87.6194, 41.088826, -87.608201, 41.096331]",
         "county_name": "Kankakee County",
         "County_FIPS": "17091",
         "State_FIPS": "IL",
         "State_name": "Illinois",
         "_deepnote_index_column": 3653
        },
        {
         "listing_id": 701634,
         "WIC": 0,
         "SNAP": 0,
         "longitude": -122.09657,
         "latitude": 40.063708,
         "location_address": "25255 3rd Ave, Los Molinos, California 96055",
         "listing_name": "Kitchel Family Organics",
         "fm_bool": 0,
         "csa_bool": 0,
         "om_bool": 1,
         "Farmer Market Type": "On Market Farmers' Market",
         "Benefit Type": "No SNAP Benefit ; No WIC Benefit",
         "Block_FIPS": "061030001002134",
         "bbox": "[-122.100742, 40.0635, -122.091147, 40.078027]",
         "county_name": "Tehama County",
         "County_FIPS": "06103",
         "State_FIPS": "CA",
         "State_name": "California",
         "_deepnote_index_column": 3654
        },
        {
         "listing_id": 701635,
         "WIC": 0,
         "SNAP": 0,
         "longitude": -94.11234,
         "latitude": 43.610897,
         "location_address": "8574 377th Avenue, Blue Earth, Minnesota 56013",
         "listing_name": "Blue Dirt Farm",
         "fm_bool": 0,
         "csa_bool": 0,
         "om_bool": 1,
         "Farmer Market Type": "On Market Farmers' Market",
         "Benefit Type": "No SNAP Benefit ; No WIC Benefit",
         "Block_FIPS": "270434603001069",
         "bbox": "[-94.113851, 43.59007, -94.100011, 43.624473]",
         "county_name": "Faribault County",
         "County_FIPS": "27043",
         "State_FIPS": "MN",
         "State_name": "Minnesota",
         "_deepnote_index_column": 3655
        },
        {
         "listing_id": 701636,
         "WIC": 0,
         "SNAP": 1,
         "longitude": -89.478628,
         "latitude": 41.313412,
         "location_address": "1149 1950 East Street, Tiskilwa, Illinois 61368",
         "listing_name": "Dugosh Farms",
         "fm_bool": 0,
         "csa_bool": 0,
         "om_bool": 1,
         "Farmer Market Type": "On Market Farmers' Market",
         "Benefit Type": "SNAP",
         "Block_FIPS": "170119655002012",
         "bbox": "[-89.493036, 41.295323, -89.460006, 41.321057]",
         "county_name": "Bureau County",
         "County_FIPS": "17011",
         "State_FIPS": "IL",
         "State_name": "Illinois",
         "_deepnote_index_column": 3656
        },
        {
         "listing_id": 701637,
         "WIC": 0,
         "SNAP": 0,
         "longitude": -85.892177,
         "latitude": 42.214235,
         "location_address": "37146 30th Street, Paw Paw, Michigan 49079",
         "listing_name": "Berry Brothers Retail",
         "fm_bool": 0,
         "csa_bool": 0,
         "om_bool": 1,
         "Farmer Market Type": "On Market Farmers' Market",
         "Benefit Type": "No SNAP Benefit ; No WIC Benefit",
         "Block_FIPS": "261590118013016",
         "bbox": "[-85.894397, 42.211703, -85.891255, 42.215024]",
         "county_name": "Van Buren County",
         "County_FIPS": "26159",
         "State_FIPS": "MI",
         "State_name": "Michigan",
         "_deepnote_index_column": 3657
        },
        {
         "listing_id": 701638,
         "WIC": 0,
         "SNAP": 0,
         "longitude": -116.56006,
         "latitude": 48.280716,
         "location_address": "2003 Rapid Lightning Road, Sandpoint, Idaho 83864",
         "listing_name": "Greentree Naturals Certified Organic Farm",
         "fm_bool": 0,
         "csa_bool": 0,
         "om_bool": 1,
         "Farmer Market Type": "On Market Farmers' Market",
         "Benefit Type": "No SNAP Benefit ; No WIC Benefit",
         "Block_FIPS": "160179503001019",
         "bbox": "[-116.562981, 48.280274, -116.557045, 48.28125]",
         "county_name": "Bonner County",
         "County_FIPS": "16017",
         "State_FIPS": "ID",
         "State_name": "Idaho",
         "_deepnote_index_column": 3658
        },
        {
         "listing_id": 701639,
         "WIC": 0,
         "SNAP": 0,
         "longitude": -87.867562,
         "latitude": 41.487597,
         "location_address": "22155 S.104th Ave., Frankfort, Illinois 60423",
         "listing_name": "Navarro Farm",
         "fm_bool": 0,
         "csa_bool": 0,
         "om_bool": 1,
         "Farmer Market Type": "On Market Farmers' Market",
         "Benefit Type": "No SNAP Benefit ; No WIC Benefit",
         "Block_FIPS": "171978835043027",
         "bbox": "[-87.86837, 41.484286, -87.863355, 41.487997]",
         "county_name": "Will County",
         "County_FIPS": "17197",
         "State_FIPS": "IL",
         "State_name": "Illinois",
         "_deepnote_index_column": 3659
        },
        {
         "listing_id": 701640,
         "WIC": 0,
         "SNAP": 1,
         "longitude": -86.71483,
         "latitude": 35.512247,
         "location_address": "2842 Nashville Hwy, Lewisburg, Tennessee 37091",
         "listing_name": "Newcomb Family Farm",
         "fm_bool": 0,
         "csa_bool": 0,
         "om_bool": 1,
         "Farmer Market Type": "On Market Farmers' Market",
         "Benefit Type": "SNAP",
         "Block_FIPS": "471179551002062",
         "bbox": "[-86.721085, 35.508699, -86.711438, 35.513761]",
         "county_name": "Marshall County",
         "County_FIPS": "47117",
         "State_FIPS": "TN",
         "State_name": "Tennessee",
         "_deepnote_index_column": 3660
        },
        {
         "listing_id": 701641,
         "WIC": 0,
         "SNAP": 1,
         "longitude": -106.80763,
         "latitude": 34.522685,
         "location_address": "23 Winery Rd, Bosque, New Mexico 87006",
         "listing_name": "Bomvida Farms",
         "fm_bool": 0,
         "csa_bool": 0,
         "om_bool": 1,
         "Farmer Market Type": "On Market Farmers' Market",
         "Benefit Type": "SNAP",
         "Block_FIPS": "350539782001000",
         "bbox": "[-106.811573, 34.508456, -106.798089, 34.545844]",
         "county_name": "Socorro County",
         "County_FIPS": "35053",
         "State_FIPS": "NM",
         "State_name": "New Mexico",
         "_deepnote_index_column": 3661
        },
        {
         "listing_id": 701642,
         "WIC": 0,
         "SNAP": 1,
         "longitude": -94.153961,
         "latitude": 45.405741,
         "location_address": "19485 Estes Road, Clearwater, Minnesota 55320",
         "listing_name": "Dancing the Land Farm Store",
         "fm_bool": 0,
         "csa_bool": 0,
         "om_bool": 1,
         "Farmer Market Type": "On Market Farmers' Market",
         "Benefit Type": "SNAP",
         "Block_FIPS": "271450114001046",
         "bbox": "[-94.15895, 45.39869, -94.15048, 45.41323]",
         "county_name": "Stearns County",
         "County_FIPS": "27145",
         "State_FIPS": "MN",
         "State_name": "Minnesota",
         "_deepnote_index_column": 3662
        },
        {
         "listing_id": 701643,
         "WIC": 0,
         "SNAP": 0,
         "longitude": -109.57623,
         "latitude": 40.470345,
         "location_address": "1016 N 2500 W, Vernal , Utah 84078",
         "listing_name": "edABILITY Farm",
         "fm_bool": 0,
         "csa_bool": 0,
         "om_bool": 1,
         "Farmer Market Type": "On Market Farmers' Market",
         "Benefit Type": "No SNAP Benefit ; No WIC Benefit",
         "Block_FIPS": "490479683022005",
         "bbox": "[-109.576853, 40.469953, -109.567095, 40.47725]",
         "county_name": "Uintah County",
         "County_FIPS": "49047",
         "State_FIPS": "UT",
         "State_name": "Utah",
         "_deepnote_index_column": 3663
        },
        {
         "listing_id": 701644,
         "WIC": 0,
         "SNAP": 0,
         "longitude": -95.765419,
         "latitude": 41.318044,
         "location_address": "21000 RD L34, UNDERWOOD, Iowa 51576",
         "listing_name": "Junge Produce",
         "fm_bool": 0,
         "csa_bool": 0,
         "om_bool": 1,
         "Farmer Market Type": "On Market Farmers' Market",
         "Benefit Type": "No SNAP Benefit ; No WIC Benefit",
         "Block_FIPS": "191550318002019",
         "bbox": "[-95.789151, 41.307562, -95.763674, 41.332015]",
         "county_name": "Pottawattamie County",
         "County_FIPS": "19155",
         "State_FIPS": "IA",
         "State_name": "Iowa",
         "_deepnote_index_column": 3664
        },
        {
         "listing_id": 701650,
         "WIC": 0,
         "SNAP": 0,
         "longitude": -80.283322,
         "latitude": 36.910407,
         "location_address": "Garden Lane, Floyd, Virginia 24091",
         "listing_name": "Floyd Ecovillage Farmstore",
         "fm_bool": 0,
         "csa_bool": 0,
         "om_bool": 1,
         "Farmer Market Type": "On Market Farmers' Market",
         "Benefit Type": "No SNAP Benefit ; No WIC Benefit",
         "Block_FIPS": "510639201022043",
         "bbox": "[-80.285613, 36.907224, -80.278973, 36.912042]",
         "county_name": "Floyd County",
         "County_FIPS": "51063",
         "State_FIPS": "VA",
         "State_name": "Virginia",
         "_deepnote_index_column": 3665
        },
        {
         "listing_id": 701666,
         "WIC": 1,
         "SNAP": 0,
         "longitude": -121.2687939,
         "latitude": 44.0484867,
         "location_address": "61915 Pettigrew Rd, Bend, OR 97702",
         "listing_name": "Fields Farm",
         "fm_bool": 0,
         "csa_bool": 0,
         "om_bool": 1,
         "Farmer Market Type": "On Market Farmers' Market",
         "Benefit Type": "WIC",
         "Block_FIPS": "410170018023000",
         "bbox": "[-121.27314, 44.045884, -121.26863, 44.051361]",
         "county_name": "Deschutes County",
         "County_FIPS": "41017",
         "State_FIPS": "OR",
         "State_name": "Oregon",
         "_deepnote_index_column": 3666
        },
        {
         "listing_id": 701666,
         "WIC": 1,
         "SNAP": 0,
         "longitude": -121.2687939,
         "latitude": 44.0484867,
         "location_address": "61915 Pettigrew Rd, Bend, OR 97702",
         "listing_name": "Fields Farm",
         "fm_bool": 0,
         "csa_bool": 0,
         "om_bool": 1,
         "Farmer Market Type": "On Market Farmers' Market",
         "Benefit Type": "WIC",
         "Block_FIPS": "410170018023000",
         "bbox": "[-121.27314, 44.045884, -121.26863, 44.051361]",
         "county_name": "Deschutes County",
         "County_FIPS": "41017",
         "State_FIPS": "OR",
         "State_name": "Oregon",
         "_deepnote_index_column": 3667
        },
        {
         "listing_id": 701667,
         "WIC": 0,
         "SNAP": 0,
         "longitude": -112.1887832,
         "latitude": 43.36631999999999,
         "location_address": "469 East 1200 North, Shelley, ID 83274, USA",
         "listing_name": "Shelley’s Fresh Produce",
         "fm_bool": 0,
         "csa_bool": 0,
         "om_bool": 1,
         "Farmer Market Type": "On Market Farmers' Market",
         "Benefit Type": "No SNAP Benefit ; No WIC Benefit",
         "Block_FIPS": "160119503001097",
         "bbox": "[-112.223138, 43.341302, -112.186773, 43.367187]",
         "county_name": "Bingham County",
         "County_FIPS": "16011",
         "State_FIPS": "ID",
         "State_name": "Idaho",
         "_deepnote_index_column": 3668
        },
        {
         "listing_id": 701667,
         "WIC": 0,
         "SNAP": 0,
         "longitude": -112.1887832,
         "latitude": 43.36631999999999,
         "location_address": "469 East 1200 North, Shelley, ID 83274, USA",
         "listing_name": "Shelley’s Fresh Produce",
         "fm_bool": 0,
         "csa_bool": 0,
         "om_bool": 1,
         "Farmer Market Type": "On Market Farmers' Market",
         "Benefit Type": "No SNAP Benefit ; No WIC Benefit",
         "Block_FIPS": "160119503001097",
         "bbox": "[-112.223138, 43.341302, -112.186773, 43.367187]",
         "county_name": "Bingham County",
         "County_FIPS": "16011",
         "State_FIPS": "ID",
         "State_name": "Idaho",
         "_deepnote_index_column": 3669
        },
        {
         "listing_id": 701668,
         "WIC": 0,
         "SNAP": 0,
         "longitude": -89.5098505,
         "latitude": 38.2621958,
         "location_address": "535 West Main Street, Oakdale, IL, USA",
         "listing_name": "Wisely Greenhouse & Produce",
         "fm_bool": 0,
         "csa_bool": 0,
         "om_bool": 1,
         "Farmer Market Type": "On Market Farmers' Market",
         "Benefit Type": "No SNAP Benefit ; No WIC Benefit",
         "Block_FIPS": "171899504004032",
         "bbox": "[-89.520027, 38.261891, -89.501221, 38.27551]",
         "county_name": "Washington County",
         "County_FIPS": "17189",
         "State_FIPS": "IL",
         "State_name": "Illinois",
         "_deepnote_index_column": 3670
        },
        {
         "listing_id": 701669,
         "WIC": 0,
         "SNAP": 1,
         "longitude": -84.64494909999999,
         "latitude": 39.6770789,
         "location_address": "623 Mann Rd, Eaton, OH, USA",
         "listing_name": "Brookside Family Farms",
         "fm_bool": 0,
         "csa_bool": 0,
         "om_bool": 1,
         "Farmer Market Type": "On Market Farmers' Market",
         "Benefit Type": "SNAP",
         "Block_FIPS": "391354701021028",
         "bbox": "[-84.650199, 39.674053, -84.638946, 39.679569]",
         "county_name": "Preble County",
         "County_FIPS": "39135",
         "State_FIPS": "OH",
         "State_name": "Ohio",
         "_deepnote_index_column": 3671
        },
        {
         "listing_id": 701670,
         "WIC": 0,
         "SNAP": 0,
         "longitude": -81.2413207,
         "latitude": 35.6603225,
         "location_address": "1081 Long Drive, Newton, NC, USA",
         "listing_name": "Red Pond Farm",
         "fm_bool": 0,
         "csa_bool": 0,
         "om_bool": 1,
         "Farmer Market Type": "On Market Farmers' Market",
         "Benefit Type": "No SNAP Benefit ; No WIC Benefit",
         "Block_FIPS": "370350117013012",
         "bbox": "[-81.245639, 35.651268, -81.239308, 35.66548]",
         "county_name": "Catawba County",
         "County_FIPS": "37035",
         "State_FIPS": "NC",
         "State_name": "North Carolina",
         "_deepnote_index_column": 3672
        },
        {
         "listing_id": 701054,
         "WIC": 0,
         "SNAP": 0,
         "longitude": -123.2696345,
         "latitude": 44.4978112,
         "location_address": "31567 OR-99W, Corvallis, OR 97333",
         "listing_name": "Sunset Valley Organics",
         "fm_bool": 0,
         "csa_bool": 0,
         "om_bool": 1,
         "Farmer Market Type": "On Market Farmers' Market",
         "Benefit Type": "No SNAP Benefit ; No WIC Benefit",
         "Block_FIPS": "410030104001003",
         "bbox": "[-123.283182, 44.398268, -123.205717, 44.521645]",
         "county_name": "Benton County",
         "County_FIPS": "41003",
         "State_FIPS": "OR",
         "State_name": "Oregon",
         "_deepnote_index_column": 3673
        },
        {
         "listing_id": 700359,
         "WIC": 0,
         "SNAP": 0,
         "longitude": -97.439859,
         "latitude": 33.184096,
         "location_address": "3841 FM 2264, Decatur, Texas 76234",
         "listing_name": "SB Longhorns",
         "fm_bool": 0,
         "csa_bool": 0,
         "om_bool": 1,
         "Farmer Market Type": "On Market Farmers' Market",
         "Benefit Type": "No SNAP Benefit ; No WIC Benefit",
         "Block_FIPS": "484971501033028",
         "bbox": "[-97.480911, 33.167397, -97.416377, 33.210831]",
         "county_name": "Wise County",
         "County_FIPS": "48497",
         "State_FIPS": "TX",
         "State_name": "Texas",
         "_deepnote_index_column": 3674
        },
        {
         "listing_id": 700736,
         "WIC": 0,
         "SNAP": 0,
         "longitude": -92.408597,
         "latitude": 45.397467,
         "location_address": "1333 - 120th Street, Amery, Wisconsin 54001",
         "listing_name": "Glenna Farms Country Store & Sugarhouse",
         "fm_bool": 0,
         "csa_bool": 0,
         "om_bool": 1,
         "Farmer Market Type": "On Market Farmers' Market",
         "Benefit Type": "No SNAP Benefit ; No WIC Benefit",
         "Block_FIPS": "550959606003016",
         "bbox": "[-92.448847, 45.395804, -92.407675, 45.408456]",
         "county_name": "Polk County",
         "County_FIPS": "55095",
         "State_FIPS": "WI",
         "State_name": "Wisconsin",
         "_deepnote_index_column": 3675
        },
        {
         "listing_id": 701671,
         "WIC": 0,
         "SNAP": 0,
         "longitude": -90.0671404,
         "latitude": 41.293562,
         "location_address": "19065 IL-81, Cambridge, IL 61238, USA",
         "listing_name": "Grateful Graze",
         "fm_bool": 0,
         "csa_bool": 0,
         "om_bool": 1,
         "Farmer Market Type": "On Market Farmers' Market",
         "Benefit Type": "No SNAP Benefit ; No WIC Benefit",
         "Block_FIPS": "170730305003032",
         "bbox": "[-90.068503, 41.287491, -90.063344, 41.293965]",
         "county_name": "Henry County",
         "County_FIPS": "17073",
         "State_FIPS": "IL",
         "State_name": "Illinois",
         "_deepnote_index_column": 3676
        },
        {
         "listing_id": 700083,
         "WIC": 1,
         "SNAP": 0,
         "longitude": -74.393467,
         "latitude": 42.902931,
         "location_address": "685 Argersinger Rd, Fultonviille, New York 12072",
         "listing_name": "Bellinger's Orchard",
         "fm_bool": 0,
         "csa_bool": 0,
         "om_bool": 1,
         "Farmer Market Type": "On Market Farmers' Market",
         "Benefit Type": "WIC",
         "Block_FIPS": "360570727003026",
         "bbox": "[-74.419985, 42.901353, -74.391864, 42.925173]",
         "county_name": "Montgomery County",
         "County_FIPS": "36057",
         "State_FIPS": "NY",
         "State_name": "New York",
         "_deepnote_index_column": 3677
        },
        {
         "listing_id": 701676,
         "WIC": 0,
         "SNAP": 0,
         "longitude": -96.6693701,
         "latitude": 32.0246568,
         "location_address": "1885 Northwest 2162, Barry, TX, USA",
         "listing_name": "La Vida Buena Acres",
         "fm_bool": 0,
         "csa_bool": 0,
         "om_bool": 1,
         "Farmer Market Type": "On Market Farmers' Market",
         "Benefit Type": "No SNAP Benefit ; No WIC Benefit",
         "Block_FIPS": "483499704002005",
         "bbox": "[-96.681031, 32.006678, -96.640277, 32.036285]",
         "county_name": "Navarro County",
         "County_FIPS": "48349",
         "State_FIPS": "TX",
         "State_name": "Texas",
         "_deepnote_index_column": 3678
        },
        {
         "listing_id": 701677,
         "WIC": 0,
         "SNAP": 0,
         "longitude": -104.570511,
         "latitude": 39.3575963,
         "location_address": "33784 County Road 21, Elizabeth, CO, USA",
         "listing_name": "RK Creations Farm",
         "fm_bool": 0,
         "csa_bool": 0,
         "om_bool": 1,
         "Farmer Market Type": "On Market Farmers' Market",
         "Benefit Type": "No SNAP Benefit ; No WIC Benefit",
         "Block_FIPS": "080399612081005",
         "bbox": "[-104.580235, 39.303274, -104.526249, 39.361358]",
         "county_name": "Elbert County",
         "County_FIPS": "08039",
         "State_FIPS": "CO",
         "State_name": "Colorado",
         "_deepnote_index_column": 3679
        }
       ]
      },
      "text/plain": "      listing_id  WIC  SNAP   longitude   latitude  \\\n3630      701610  0.0   0.0  -80.071675  41.377985   \n3631      701611  0.0   0.0  -83.746991  42.693661   \n3632      701612  0.0   0.0  -93.422944  36.226656   \n3633      701613  0.0   1.0  -76.075492  38.776542   \n3634      701614  0.0   1.0  -96.855802  36.183214   \n3635      701615  0.0   0.0  -82.820628  36.293384   \n3636      701616  0.0   0.0  -79.191254  34.921006   \n3637      701617  0.0   1.0  -83.252581  37.581595   \n3638      701618  0.0   1.0  -84.710058  34.517395   \n3639      701619  0.0   1.0  -90.398882  30.608250   \n3640      701620  0.0   0.0  -88.357927  37.244895   \n3641      701621  0.0   1.0 -105.111350  40.661499   \n3642      701622  1.0   1.0 -122.628430  38.242618   \n3643      701623  0.0   0.0  -88.471650  42.302592   \n3644      701624  0.0   0.0 -117.429450  48.699719   \n3645      701625  0.0   0.0  -73.853029  42.028543   \n3646      701626  0.0   1.0 -109.948080  45.834528   \n3647      701627  0.0   1.0  -78.255756  34.274121   \n3648      701628  0.0   0.0 -105.137800  43.290296   \n3649      701629  0.0   1.0  -87.323842  44.907745   \n3650      701630  1.0   1.0  -75.776928  40.829530   \n3651      701631  0.0   0.0 -106.074690  41.186631   \n3652      701632  0.0   0.0  -84.913999  37.103273   \n3653      701633  0.0   0.0  -87.615118  41.093034   \n3654      701634  0.0   0.0 -122.096570  40.063708   \n3655      701635  0.0   0.0  -94.112340  43.610897   \n3656      701636  0.0   1.0  -89.478628  41.313412   \n3657      701637  0.0   0.0  -85.892177  42.214235   \n3658      701638  0.0   0.0 -116.560060  48.280716   \n3659      701639  0.0   0.0  -87.867562  41.487597   \n3660      701640  0.0   1.0  -86.714830  35.512247   \n3661      701641  0.0   1.0 -106.807630  34.522685   \n3662      701642  0.0   1.0  -94.153961  45.405741   \n3663      701643  0.0   0.0 -109.576230  40.470345   \n3664      701644  0.0   0.0  -95.765419  41.318044   \n3665      701650  0.0   0.0  -80.283322  36.910407   \n3666      701666  1.0   0.0 -121.268794  44.048487   \n3667      701666  1.0   0.0 -121.268794  44.048487   \n3668      701667  0.0   0.0 -112.188783  43.366320   \n3669      701667  0.0   0.0 -112.188783  43.366320   \n3670      701668  0.0   0.0  -89.509850  38.262196   \n3671      701669  0.0   1.0  -84.644949  39.677079   \n3672      701670  0.0   0.0  -81.241321  35.660322   \n3673      701054  0.0   0.0 -123.269634  44.497811   \n3674      700359  0.0   0.0  -97.439859  33.184096   \n3675      700736  0.0   0.0  -92.408597  45.397467   \n3676      701671  0.0   0.0  -90.067140  41.293562   \n3677      700083  1.0   0.0  -74.393467  42.902931   \n3678      701676  0.0   0.0  -96.669370  32.024657   \n3679      701677  0.0   0.0 -104.570511  39.357596   \n\n                                       location_address  \\\n3630  3755 Sandy Lake Rd, Sandy Lake, Pennsylvania 1...   \n3631         10371 Parshall Rd., Fenton, Michigan 48430   \n3632        161 CR 9951 , Green Forest , Arkansas 72638   \n3633  100 North Harrison Street, Easton, Maryland 21601   \n3634   5900 N. West Point Road, Glencoe, Oklahoma 74032   \n3635        9840 Baileyton Road, Afton, Tennessee 37616   \n3636    250 McCormick Rd, Shannon, North Carolina 28386   \n3637         12205 HWY 30 East, Jackson, Kentucky 41339   \n3638                 758 Hwy 411, Ranger, Georgia 30734   \n3639              52059 Louisiana 40, Loranger, LA, USA   \n3640    774 Bizzell Bluff Road , Burna , Kentucky 42028   \n3641  5200 North County Rd 19, Fort Collins, Colorad...   \n3642          55 Shasta Ave, Petaluma, California 94952   \n3643  14023 West South Street Rd., Woodstock , Illin...   \n3644            990 Dennis Road, Ione, Washington 99139   \n3645         227 Pitcher Lane, Red Hook, New York 12571   \n3646                        , Big Timber, Montana 59011   \n3647                            , Delco, North Carolina   \n3648       1003 Dull Center Rd., Douglas, Wyoming 82633   \n3649  5324 Whitefish Bay Rd, Sturgeon Bay, Wisconsin...   \n3650  445 stewart creek road, Lehighton, Pennsylvani...   \n3651           124 Fox Creek Rd, Laramie, Wyoming 82070   \n3652  132 Pinetop Road, Russell Springs, Kentucky 42642   \n3653  13218 E 2260 S Rd Pembroke Township, IL, Pembr...   \n3654       25255 3rd Ave, Los Molinos, California 96055   \n3655     8574 377th Avenue, Blue Earth, Minnesota 56013   \n3656    1149 1950 East Street, Tiskilwa, Illinois 61368   \n3657         37146 30th Street, Paw Paw, Michigan 49079   \n3658  2003 Rapid Lightning Road, Sandpoint, Idaho 83864   \n3659      22155 S.104th Ave., Frankfort, Illinois 60423   \n3660     2842 Nashville Hwy, Lewisburg, Tennessee 37091   \n3661             23 Winery Rd, Bosque, New Mexico 87006   \n3662      19485 Estes Road, Clearwater, Minnesota 55320   \n3663                 1016 N 2500 W, Vernal , Utah 84078   \n3664                21000 RD L34, UNDERWOOD, Iowa 51576   \n3665                 Garden Lane, Floyd, Virginia 24091   \n3666                 61915 Pettigrew Rd, Bend, OR 97702   \n3667                 61915 Pettigrew Rd, Bend, OR 97702   \n3668        469 East 1200 North, Shelley, ID 83274, USA   \n3669        469 East 1200 North, Shelley, ID 83274, USA   \n3670             535 West Main Street, Oakdale, IL, USA   \n3671                        623 Mann Rd, Eaton, OH, USA   \n3672                   1081 Long Drive, Newton, NC, USA   \n3673                  31567 OR-99W, Corvallis, OR 97333   \n3674                 3841 FM 2264, Decatur, Texas 76234   \n3675        1333 - 120th Street, Amery, Wisconsin 54001   \n3676              19065 IL-81, Cambridge, IL 61238, USA   \n3677   685 Argersinger Rd, Fultonviille, New York 12072   \n3678                1885 Northwest 2162, Barry, TX, USA   \n3679           33784 County Road 21, Elizabeth, CO, USA   \n\n                                           listing_name  fm_bool  csa_bool  \\\n3630                                   Kepner's Produce      0.0       0.0   \n3631                                 Genuine Roots Farm      0.0       0.0   \n3632                                  Osage Creek Farms      0.0       0.0   \n3633                                  Quarter Acre Farm      0.0       0.0   \n3634            West Point Beef and Cattle Company, LLC      0.0       0.0   \n3635                                      Hoodley Creek      0.0       0.0   \n3636                 Spartan Tusk and Feather Livestock      0.0       0.0   \n3637                                Roaring Shoals Farm      0.0       0.0   \n3638                             Shallow Creek Farm LLC      0.0       0.0   \n3639  Williams Family Feeder Cattle, LLC dba High Co...      0.0       0.0   \n3640                                 Bizzell Bluff Farm      0.0       0.0   \n3641                                Mountain View Meats      0.0       0.0   \n3642                                    Petaluma Bounty      0.0       0.0   \n3643                                   Hempstock Pharms      0.0       0.0   \n3644                                     Ramstead Ranch      0.0       0.0   \n3645                 Hudson Valley Farmer's Market, LLC      0.0       0.0   \n3646                                  Uncommon Beef LLC      0.0       0.0   \n3647                                    Farm to Vittles      0.0       0.0   \n3648                                 Reed Livestock LLC      0.0       0.0   \n3649              Backyard Acres at Flying Tractor Farm      0.0       0.0   \n3650                  Nev & Nise Produce Greenhouse LLC      0.0       0.0   \n3651                              Taste of the Wind LLC      0.0       0.0   \n3652                                Pierce Family Farms      0.0       0.0   \n3653                                   Rancho Los Nunez      0.0       0.0   \n3654                            Kitchel Family Organics      0.0       0.0   \n3655                                     Blue Dirt Farm      0.0       0.0   \n3656                                       Dugosh Farms      0.0       0.0   \n3657                              Berry Brothers Retail      0.0       0.0   \n3658          Greentree Naturals Certified Organic Farm      0.0       0.0   \n3659                                       Navarro Farm      0.0       0.0   \n3660                                Newcomb Family Farm      0.0       0.0   \n3661                                      Bomvida Farms      0.0       0.0   \n3662                        Dancing the Land Farm Store      0.0       0.0   \n3663                                     edABILITY Farm      0.0       0.0   \n3664                                      Junge Produce      0.0       0.0   \n3665                         Floyd Ecovillage Farmstore      0.0       0.0   \n3666                                        Fields Farm      0.0       0.0   \n3667                                        Fields Farm      0.0       0.0   \n3668                            Shelley’s Fresh Produce      0.0       0.0   \n3669                            Shelley’s Fresh Produce      0.0       0.0   \n3670                        Wisely Greenhouse & Produce      0.0       0.0   \n3671                             Brookside Family Farms      0.0       0.0   \n3672                                      Red Pond Farm      0.0       0.0   \n3673                             Sunset Valley Organics      0.0       0.0   \n3674                                       SB Longhorns      0.0       0.0   \n3675            Glenna Farms Country Store & Sugarhouse      0.0       0.0   \n3676                                     Grateful Graze      0.0       0.0   \n3677                                Bellinger's Orchard      0.0       0.0   \n3678                                La Vida Buena Acres      0.0       0.0   \n3679                                  RK Creations Farm      0.0       0.0   \n\n      om_bool         Farmer Market Type                      Benefit Type  \\\n3630      1.0  On Market Farmers' Market  No SNAP Benefit ; No WIC Benefit   \n3631      1.0  On Market Farmers' Market  No SNAP Benefit ; No WIC Benefit   \n3632      1.0  On Market Farmers' Market  No SNAP Benefit ; No WIC Benefit   \n3633      1.0  On Market Farmers' Market                              SNAP   \n3634      1.0  On Market Farmers' Market                              SNAP   \n3635      1.0  On Market Farmers' Market  No SNAP Benefit ; No WIC Benefit   \n3636      1.0  On Market Farmers' Market  No SNAP Benefit ; No WIC Benefit   \n3637      1.0  On Market Farmers' Market                              SNAP   \n3638      1.0  On Market Farmers' Market                              SNAP   \n3639      1.0  On Market Farmers' Market                              SNAP   \n3640      1.0  On Market Farmers' Market  No SNAP Benefit ; No WIC Benefit   \n3641      1.0  On Market Farmers' Market                              SNAP   \n3642      1.0  On Market Farmers' Market                        SNAP ; WIC   \n3643      1.0  On Market Farmers' Market  No SNAP Benefit ; No WIC Benefit   \n3644      1.0  On Market Farmers' Market  No SNAP Benefit ; No WIC Benefit   \n3645      1.0  On Market Farmers' Market  No SNAP Benefit ; No WIC Benefit   \n3646      1.0  On Market Farmers' Market                              SNAP   \n3647      1.0  On Market Farmers' Market                              SNAP   \n3648      1.0  On Market Farmers' Market  No SNAP Benefit ; No WIC Benefit   \n3649      1.0  On Market Farmers' Market                              SNAP   \n3650      1.0  On Market Farmers' Market                        SNAP ; WIC   \n3651      1.0  On Market Farmers' Market  No SNAP Benefit ; No WIC Benefit   \n3652      1.0  On Market Farmers' Market  No SNAP Benefit ; No WIC Benefit   \n3653      1.0  On Market Farmers' Market  No SNAP Benefit ; No WIC Benefit   \n3654      1.0  On Market Farmers' Market  No SNAP Benefit ; No WIC Benefit   \n3655      1.0  On Market Farmers' Market  No SNAP Benefit ; No WIC Benefit   \n3656      1.0  On Market Farmers' Market                              SNAP   \n3657      1.0  On Market Farmers' Market  No SNAP Benefit ; No WIC Benefit   \n3658      1.0  On Market Farmers' Market  No SNAP Benefit ; No WIC Benefit   \n3659      1.0  On Market Farmers' Market  No SNAP Benefit ; No WIC Benefit   \n3660      1.0  On Market Farmers' Market                              SNAP   \n3661      1.0  On Market Farmers' Market                              SNAP   \n3662      1.0  On Market Farmers' Market                              SNAP   \n3663      1.0  On Market Farmers' Market  No SNAP Benefit ; No WIC Benefit   \n3664      1.0  On Market Farmers' Market  No SNAP Benefit ; No WIC Benefit   \n3665      1.0  On Market Farmers' Market  No SNAP Benefit ; No WIC Benefit   \n3666      1.0  On Market Farmers' Market                               WIC   \n3667      1.0  On Market Farmers' Market                               WIC   \n3668      1.0  On Market Farmers' Market  No SNAP Benefit ; No WIC Benefit   \n3669      1.0  On Market Farmers' Market  No SNAP Benefit ; No WIC Benefit   \n3670      1.0  On Market Farmers' Market  No SNAP Benefit ; No WIC Benefit   \n3671      1.0  On Market Farmers' Market                              SNAP   \n3672      1.0  On Market Farmers' Market  No SNAP Benefit ; No WIC Benefit   \n3673      1.0  On Market Farmers' Market  No SNAP Benefit ; No WIC Benefit   \n3674      1.0  On Market Farmers' Market  No SNAP Benefit ; No WIC Benefit   \n3675      1.0  On Market Farmers' Market  No SNAP Benefit ; No WIC Benefit   \n3676      1.0  On Market Farmers' Market  No SNAP Benefit ; No WIC Benefit   \n3677      1.0  On Market Farmers' Market                               WIC   \n3678      1.0  On Market Farmers' Market  No SNAP Benefit ; No WIC Benefit   \n3679      1.0  On Market Farmers' Market  No SNAP Benefit ; No WIC Benefit   \n\n           Block_FIPS                                              bbox  \\\n3630  420850325051104    [-80.089207, 41.371775, -80.069924, 41.387427]   \n3631  260937107001032    [-83.761328, 42.693094, -83.742074, 42.708309]   \n3632  050159505023057    [-93.460136, 36.225975, -93.405687, 36.296607]   \n3633  240419604002016     [-76.076311, 38.776353, -76.07535, 38.776942]   \n3634  401190111013049    [-96.872325, 36.173555, -96.854383, 36.188597]   \n3635  470590908003025    [-82.821275, 36.289203, -82.810167, 36.295388]   \n3636  370939704021015    [-79.197472, 34.913368, -79.184184, 34.930658]   \n3637  210259208001059    [-83.293546, 37.579468, -83.224185, 37.619344]   \n3638  131299701021033    [-84.724506, 34.504388, -84.709251, 34.522668]   \n3639  221059537013016     [-90.415256, 30.606449, -90.398316, 30.63568]   \n3640  211390401004055      [-88.3602, 37.243602, -88.356256, 37.245812]   \n3641  080690013014016  [-105.113567, 40.654471, -105.097327, 40.669092]   \n3642  060971507011002   [-122.631708, 38.23865, -122.626438, 38.244716]   \n3643  171118709042034    [-88.472233, 42.297939, -88.452649, 42.305172]   \n3644  530519701003122  [-117.442103, 48.694102, -117.410665, 48.714183]   \n3645  360271500043010     [-73.880625, 42.02354, -73.846611, 42.052106]   \n3646  300979670002016   [-109.949142, 45.833769, -109.94701, 45.835292]   \n3647  370479301003060    [-78.270234, 34.264349, -78.248253, 34.276632]   \n3648  560099566001106      [-105.13806, 43.27584, -105.09777, 43.29047]   \n3649  550291005001017    [-87.337006, 44.907495, -87.316401, 44.922208]   \n3650  420250205013000    [-75.784421, 40.826772, -75.775289, 40.834592]   \n3651  560019639001045  [-106.089299, 41.151916, -106.051023, 41.226288]   \n3652  212079604001001      [-84.91694, 37.09667, -84.902311, 37.110449]   \n3653  170910110002038      [-87.6194, 41.088826, -87.608201, 41.096331]   \n3654  061030001002134    [-122.100742, 40.0635, -122.091147, 40.078027]   \n3655  270434603001069     [-94.113851, 43.59007, -94.100011, 43.624473]   \n3656  170119655002012    [-89.493036, 41.295323, -89.460006, 41.321057]   \n3657  261590118013016    [-85.894397, 42.211703, -85.891255, 42.215024]   \n3658  160179503001019   [-116.562981, 48.280274, -116.557045, 48.28125]   \n3659  171978835043027     [-87.86837, 41.484286, -87.863355, 41.487997]   \n3660  471179551002062    [-86.721085, 35.508699, -86.711438, 35.513761]   \n3661  350539782001000  [-106.811573, 34.508456, -106.798089, 34.545844]   \n3662  271450114001046        [-94.15895, 45.39869, -94.15048, 45.41323]   \n3663  490479683022005   [-109.576853, 40.469953, -109.567095, 40.47725]   \n3664  191550318002019    [-95.789151, 41.307562, -95.763674, 41.332015]   \n3665  510639201022043    [-80.285613, 36.907224, -80.278973, 36.912042]   \n3666  410170018023000    [-121.27314, 44.045884, -121.26863, 44.051361]   \n3667  410170018023000    [-121.27314, 44.045884, -121.26863, 44.051361]   \n3668  160119503001097  [-112.223138, 43.341302, -112.186773, 43.367187]   \n3669  160119503001097  [-112.223138, 43.341302, -112.186773, 43.367187]   \n3670  171899504004032     [-89.520027, 38.261891, -89.501221, 38.27551]   \n3671  391354701021028    [-84.650199, 39.674053, -84.638946, 39.679569]   \n3672  370350117013012     [-81.245639, 35.651268, -81.239308, 35.66548]   \n3673  410030104001003  [-123.283182, 44.398268, -123.205717, 44.521645]   \n3674  484971501033028    [-97.480911, 33.167397, -97.416377, 33.210831]   \n3675  550959606003016    [-92.448847, 45.395804, -92.407675, 45.408456]   \n3676  170730305003032    [-90.068503, 41.287491, -90.063344, 41.293965]   \n3677  360570727003026    [-74.419985, 42.901353, -74.391864, 42.925173]   \n3678  483499704002005    [-96.681031, 32.006678, -96.640277, 32.036285]   \n3679  080399612081005  [-104.580235, 39.303274, -104.526249, 39.361358]   \n\n               county_name County_FIPS State_FIPS      State_name  \n3630         Mercer County       42085         PA    Pennsylvania  \n3631     Livingston County       26093         MI        Michigan  \n3632        Carroll County       05015         AR        Arkansas  \n3633         Talbot County       24041         MD        Maryland  \n3634          Payne County       40119         OK        Oklahoma  \n3635         Greene County       47059         TN       Tennessee  \n3636           Hoke County       37093         NC  North Carolina  \n3637      Breathitt County       21025         KY        Kentucky  \n3638         Gordon County       13129         GA         Georgia  \n3639     Tangipahoa Parish       22105         LA       Louisiana  \n3640     Livingston County       21139         KY        Kentucky  \n3641        Larimer County       08069         CO        Colorado  \n3642         Sonoma County       06097         CA      California  \n3643        McHenry County       17111         IL        Illinois  \n3644   Pend Oreille County       53051         WA      Washington  \n3645       Dutchess County       36027         NY        New York  \n3646    Sweet Grass County       30097         MT         Montana  \n3647       Columbus County       37047         NC  North Carolina  \n3648       Converse County       56009         WY         Wyoming  \n3649           Door County       55029         WI       Wisconsin  \n3650         Carbon County       42025         PA    Pennsylvania  \n3651         Albany County       56001         WY         Wyoming  \n3652        Russell County       21207         KY        Kentucky  \n3653       Kankakee County       17091         IL        Illinois  \n3654         Tehama County       06103         CA      California  \n3655      Faribault County       27043         MN       Minnesota  \n3656         Bureau County       17011         IL        Illinois  \n3657      Van Buren County       26159         MI        Michigan  \n3658         Bonner County       16017         ID           Idaho  \n3659           Will County       17197         IL        Illinois  \n3660       Marshall County       47117         TN       Tennessee  \n3661        Socorro County       35053         NM      New Mexico  \n3662        Stearns County       27145         MN       Minnesota  \n3663         Uintah County       49047         UT            Utah  \n3664  Pottawattamie County       19155         IA            Iowa  \n3665          Floyd County       51063         VA        Virginia  \n3666      Deschutes County       41017         OR          Oregon  \n3667      Deschutes County       41017         OR          Oregon  \n3668        Bingham County       16011         ID           Idaho  \n3669        Bingham County       16011         ID           Idaho  \n3670     Washington County       17189         IL        Illinois  \n3671         Preble County       39135         OH            Ohio  \n3672        Catawba County       37035         NC  North Carolina  \n3673         Benton County       41003         OR          Oregon  \n3674           Wise County       48497         TX           Texas  \n3675           Polk County       55095         WI       Wisconsin  \n3676          Henry County       17073         IL        Illinois  \n3677     Montgomery County       36057         NY        New York  \n3678        Navarro County       48349         TX           Texas  \n3679         Elbert County       08039         CO        Colorado  ",
      "text/html": "<div>\n<style scoped>\n    .dataframe tbody tr th:only-of-type {\n        vertical-align: middle;\n    }\n\n    .dataframe tbody tr th {\n        vertical-align: top;\n    }\n\n    .dataframe thead th {\n        text-align: right;\n    }\n</style>\n<table border=\"1\" class=\"dataframe\">\n  <thead>\n    <tr style=\"text-align: right;\">\n      <th></th>\n      <th>listing_id</th>\n      <th>WIC</th>\n      <th>SNAP</th>\n      <th>longitude</th>\n      <th>latitude</th>\n      <th>location_address</th>\n      <th>listing_name</th>\n      <th>fm_bool</th>\n      <th>csa_bool</th>\n      <th>om_bool</th>\n      <th>Farmer Market Type</th>\n      <th>Benefit Type</th>\n      <th>Block_FIPS</th>\n      <th>bbox</th>\n      <th>county_name</th>\n      <th>County_FIPS</th>\n      <th>State_FIPS</th>\n      <th>State_name</th>\n    </tr>\n  </thead>\n  <tbody>\n    <tr>\n      <th>3630</th>\n      <td>701610</td>\n      <td>0.0</td>\n      <td>0.0</td>\n      <td>-80.071675</td>\n      <td>41.377985</td>\n      <td>3755 Sandy Lake Rd, Sandy Lake, Pennsylvania 1...</td>\n      <td>Kepner's Produce</td>\n      <td>0.0</td>\n      <td>0.0</td>\n      <td>1.0</td>\n      <td>On Market Farmers' Market</td>\n      <td>No SNAP Benefit ; No WIC Benefit</td>\n      <td>420850325051104</td>\n      <td>[-80.089207, 41.371775, -80.069924, 41.387427]</td>\n      <td>Mercer County</td>\n      <td>42085</td>\n      <td>PA</td>\n      <td>Pennsylvania</td>\n    </tr>\n    <tr>\n      <th>3631</th>\n      <td>701611</td>\n      <td>0.0</td>\n      <td>0.0</td>\n      <td>-83.746991</td>\n      <td>42.693661</td>\n      <td>10371 Parshall Rd., Fenton, Michigan 48430</td>\n      <td>Genuine Roots Farm</td>\n      <td>0.0</td>\n      <td>0.0</td>\n      <td>1.0</td>\n      <td>On Market Farmers' Market</td>\n      <td>No SNAP Benefit ; No WIC Benefit</td>\n      <td>260937107001032</td>\n      <td>[-83.761328, 42.693094, -83.742074, 42.708309]</td>\n      <td>Livingston County</td>\n      <td>26093</td>\n      <td>MI</td>\n      <td>Michigan</td>\n    </tr>\n    <tr>\n      <th>3632</th>\n      <td>701612</td>\n      <td>0.0</td>\n      <td>0.0</td>\n      <td>-93.422944</td>\n      <td>36.226656</td>\n      <td>161 CR 9951 , Green Forest , Arkansas 72638</td>\n      <td>Osage Creek Farms</td>\n      <td>0.0</td>\n      <td>0.0</td>\n      <td>1.0</td>\n      <td>On Market Farmers' Market</td>\n      <td>No SNAP Benefit ; No WIC Benefit</td>\n      <td>050159505023057</td>\n      <td>[-93.460136, 36.225975, -93.405687, 36.296607]</td>\n      <td>Carroll County</td>\n      <td>05015</td>\n      <td>AR</td>\n      <td>Arkansas</td>\n    </tr>\n    <tr>\n      <th>3633</th>\n      <td>701613</td>\n      <td>0.0</td>\n      <td>1.0</td>\n      <td>-76.075492</td>\n      <td>38.776542</td>\n      <td>100 North Harrison Street, Easton, Maryland 21601</td>\n      <td>Quarter Acre Farm</td>\n      <td>0.0</td>\n      <td>0.0</td>\n      <td>1.0</td>\n      <td>On Market Farmers' Market</td>\n      <td>SNAP</td>\n      <td>240419604002016</td>\n      <td>[-76.076311, 38.776353, -76.07535, 38.776942]</td>\n      <td>Talbot County</td>\n      <td>24041</td>\n      <td>MD</td>\n      <td>Maryland</td>\n    </tr>\n    <tr>\n      <th>3634</th>\n      <td>701614</td>\n      <td>0.0</td>\n      <td>1.0</td>\n      <td>-96.855802</td>\n      <td>36.183214</td>\n      <td>5900 N. West Point Road, Glencoe, Oklahoma 74032</td>\n      <td>West Point Beef and Cattle Company, LLC</td>\n      <td>0.0</td>\n      <td>0.0</td>\n      <td>1.0</td>\n      <td>On Market Farmers' Market</td>\n      <td>SNAP</td>\n      <td>401190111013049</td>\n      <td>[-96.872325, 36.173555, -96.854383, 36.188597]</td>\n      <td>Payne County</td>\n      <td>40119</td>\n      <td>OK</td>\n      <td>Oklahoma</td>\n    </tr>\n    <tr>\n      <th>3635</th>\n      <td>701615</td>\n      <td>0.0</td>\n      <td>0.0</td>\n      <td>-82.820628</td>\n      <td>36.293384</td>\n      <td>9840 Baileyton Road, Afton, Tennessee 37616</td>\n      <td>Hoodley Creek</td>\n      <td>0.0</td>\n      <td>0.0</td>\n      <td>1.0</td>\n      <td>On Market Farmers' Market</td>\n      <td>No SNAP Benefit ; No WIC Benefit</td>\n      <td>470590908003025</td>\n      <td>[-82.821275, 36.289203, -82.810167, 36.295388]</td>\n      <td>Greene County</td>\n      <td>47059</td>\n      <td>TN</td>\n      <td>Tennessee</td>\n    </tr>\n    <tr>\n      <th>3636</th>\n      <td>701616</td>\n      <td>0.0</td>\n      <td>0.0</td>\n      <td>-79.191254</td>\n      <td>34.921006</td>\n      <td>250 McCormick Rd, Shannon, North Carolina 28386</td>\n      <td>Spartan Tusk and Feather Livestock</td>\n      <td>0.0</td>\n      <td>0.0</td>\n      <td>1.0</td>\n      <td>On Market Farmers' Market</td>\n      <td>No SNAP Benefit ; No WIC Benefit</td>\n      <td>370939704021015</td>\n      <td>[-79.197472, 34.913368, -79.184184, 34.930658]</td>\n      <td>Hoke County</td>\n      <td>37093</td>\n      <td>NC</td>\n      <td>North Carolina</td>\n    </tr>\n    <tr>\n      <th>3637</th>\n      <td>701617</td>\n      <td>0.0</td>\n      <td>1.0</td>\n      <td>-83.252581</td>\n      <td>37.581595</td>\n      <td>12205 HWY 30 East, Jackson, Kentucky 41339</td>\n      <td>Roaring Shoals Farm</td>\n      <td>0.0</td>\n      <td>0.0</td>\n      <td>1.0</td>\n      <td>On Market Farmers' Market</td>\n      <td>SNAP</td>\n      <td>210259208001059</td>\n      <td>[-83.293546, 37.579468, -83.224185, 37.619344]</td>\n      <td>Breathitt County</td>\n      <td>21025</td>\n      <td>KY</td>\n      <td>Kentucky</td>\n    </tr>\n    <tr>\n      <th>3638</th>\n      <td>701618</td>\n      <td>0.0</td>\n      <td>1.0</td>\n      <td>-84.710058</td>\n      <td>34.517395</td>\n      <td>758 Hwy 411, Ranger, Georgia 30734</td>\n      <td>Shallow Creek Farm LLC</td>\n      <td>0.0</td>\n      <td>0.0</td>\n      <td>1.0</td>\n      <td>On Market Farmers' Market</td>\n      <td>SNAP</td>\n      <td>131299701021033</td>\n      <td>[-84.724506, 34.504388, -84.709251, 34.522668]</td>\n      <td>Gordon County</td>\n      <td>13129</td>\n      <td>GA</td>\n      <td>Georgia</td>\n    </tr>\n    <tr>\n      <th>3639</th>\n      <td>701619</td>\n      <td>0.0</td>\n      <td>1.0</td>\n      <td>-90.398882</td>\n      <td>30.608250</td>\n      <td>52059 Louisiana 40, Loranger, LA, USA</td>\n      <td>Williams Family Feeder Cattle, LLC dba High Co...</td>\n      <td>0.0</td>\n      <td>0.0</td>\n      <td>1.0</td>\n      <td>On Market Farmers' Market</td>\n      <td>SNAP</td>\n      <td>221059537013016</td>\n      <td>[-90.415256, 30.606449, -90.398316, 30.63568]</td>\n      <td>Tangipahoa Parish</td>\n      <td>22105</td>\n      <td>LA</td>\n      <td>Louisiana</td>\n    </tr>\n    <tr>\n      <th>3640</th>\n      <td>701620</td>\n      <td>0.0</td>\n      <td>0.0</td>\n      <td>-88.357927</td>\n      <td>37.244895</td>\n      <td>774 Bizzell Bluff Road , Burna , Kentucky 42028</td>\n      <td>Bizzell Bluff Farm</td>\n      <td>0.0</td>\n      <td>0.0</td>\n      <td>1.0</td>\n      <td>On Market Farmers' Market</td>\n      <td>No SNAP Benefit ; No WIC Benefit</td>\n      <td>211390401004055</td>\n      <td>[-88.3602, 37.243602, -88.356256, 37.245812]</td>\n      <td>Livingston County</td>\n      <td>21139</td>\n      <td>KY</td>\n      <td>Kentucky</td>\n    </tr>\n    <tr>\n      <th>3641</th>\n      <td>701621</td>\n      <td>0.0</td>\n      <td>1.0</td>\n      <td>-105.111350</td>\n      <td>40.661499</td>\n      <td>5200 North County Rd 19, Fort Collins, Colorad...</td>\n      <td>Mountain View Meats</td>\n      <td>0.0</td>\n      <td>0.0</td>\n      <td>1.0</td>\n      <td>On Market Farmers' Market</td>\n      <td>SNAP</td>\n      <td>080690013014016</td>\n      <td>[-105.113567, 40.654471, -105.097327, 40.669092]</td>\n      <td>Larimer County</td>\n      <td>08069</td>\n      <td>CO</td>\n      <td>Colorado</td>\n    </tr>\n    <tr>\n      <th>3642</th>\n      <td>701622</td>\n      <td>1.0</td>\n      <td>1.0</td>\n      <td>-122.628430</td>\n      <td>38.242618</td>\n      <td>55 Shasta Ave, Petaluma, California 94952</td>\n      <td>Petaluma Bounty</td>\n      <td>0.0</td>\n      <td>0.0</td>\n      <td>1.0</td>\n      <td>On Market Farmers' Market</td>\n      <td>SNAP ; WIC</td>\n      <td>060971507011002</td>\n      <td>[-122.631708, 38.23865, -122.626438, 38.244716]</td>\n      <td>Sonoma County</td>\n      <td>06097</td>\n      <td>CA</td>\n      <td>California</td>\n    </tr>\n    <tr>\n      <th>3643</th>\n      <td>701623</td>\n      <td>0.0</td>\n      <td>0.0</td>\n      <td>-88.471650</td>\n      <td>42.302592</td>\n      <td>14023 West South Street Rd., Woodstock , Illin...</td>\n      <td>Hempstock Pharms</td>\n      <td>0.0</td>\n      <td>0.0</td>\n      <td>1.0</td>\n      <td>On Market Farmers' Market</td>\n      <td>No SNAP Benefit ; No WIC Benefit</td>\n      <td>171118709042034</td>\n      <td>[-88.472233, 42.297939, -88.452649, 42.305172]</td>\n      <td>McHenry County</td>\n      <td>17111</td>\n      <td>IL</td>\n      <td>Illinois</td>\n    </tr>\n    <tr>\n      <th>3644</th>\n      <td>701624</td>\n      <td>0.0</td>\n      <td>0.0</td>\n      <td>-117.429450</td>\n      <td>48.699719</td>\n      <td>990 Dennis Road, Ione, Washington 99139</td>\n      <td>Ramstead Ranch</td>\n      <td>0.0</td>\n      <td>0.0</td>\n      <td>1.0</td>\n      <td>On Market Farmers' Market</td>\n      <td>No SNAP Benefit ; No WIC Benefit</td>\n      <td>530519701003122</td>\n      <td>[-117.442103, 48.694102, -117.410665, 48.714183]</td>\n      <td>Pend Oreille County</td>\n      <td>53051</td>\n      <td>WA</td>\n      <td>Washington</td>\n    </tr>\n    <tr>\n      <th>3645</th>\n      <td>701625</td>\n      <td>0.0</td>\n      <td>0.0</td>\n      <td>-73.853029</td>\n      <td>42.028543</td>\n      <td>227 Pitcher Lane, Red Hook, New York 12571</td>\n      <td>Hudson Valley Farmer's Market, LLC</td>\n      <td>0.0</td>\n      <td>0.0</td>\n      <td>1.0</td>\n      <td>On Market Farmers' Market</td>\n      <td>No SNAP Benefit ; No WIC Benefit</td>\n      <td>360271500043010</td>\n      <td>[-73.880625, 42.02354, -73.846611, 42.052106]</td>\n      <td>Dutchess County</td>\n      <td>36027</td>\n      <td>NY</td>\n      <td>New York</td>\n    </tr>\n    <tr>\n      <th>3646</th>\n      <td>701626</td>\n      <td>0.0</td>\n      <td>1.0</td>\n      <td>-109.948080</td>\n      <td>45.834528</td>\n      <td>, Big Timber, Montana 59011</td>\n      <td>Uncommon Beef LLC</td>\n      <td>0.0</td>\n      <td>0.0</td>\n      <td>1.0</td>\n      <td>On Market Farmers' Market</td>\n      <td>SNAP</td>\n      <td>300979670002016</td>\n      <td>[-109.949142, 45.833769, -109.94701, 45.835292]</td>\n      <td>Sweet Grass County</td>\n      <td>30097</td>\n      <td>MT</td>\n      <td>Montana</td>\n    </tr>\n    <tr>\n      <th>3647</th>\n      <td>701627</td>\n      <td>0.0</td>\n      <td>1.0</td>\n      <td>-78.255756</td>\n      <td>34.274121</td>\n      <td>, Delco, North Carolina</td>\n      <td>Farm to Vittles</td>\n      <td>0.0</td>\n      <td>0.0</td>\n      <td>1.0</td>\n      <td>On Market Farmers' Market</td>\n      <td>SNAP</td>\n      <td>370479301003060</td>\n      <td>[-78.270234, 34.264349, -78.248253, 34.276632]</td>\n      <td>Columbus County</td>\n      <td>37047</td>\n      <td>NC</td>\n      <td>North Carolina</td>\n    </tr>\n    <tr>\n      <th>3648</th>\n      <td>701628</td>\n      <td>0.0</td>\n      <td>0.0</td>\n      <td>-105.137800</td>\n      <td>43.290296</td>\n      <td>1003 Dull Center Rd., Douglas, Wyoming 82633</td>\n      <td>Reed Livestock LLC</td>\n      <td>0.0</td>\n      <td>0.0</td>\n      <td>1.0</td>\n      <td>On Market Farmers' Market</td>\n      <td>No SNAP Benefit ; No WIC Benefit</td>\n      <td>560099566001106</td>\n      <td>[-105.13806, 43.27584, -105.09777, 43.29047]</td>\n      <td>Converse County</td>\n      <td>56009</td>\n      <td>WY</td>\n      <td>Wyoming</td>\n    </tr>\n    <tr>\n      <th>3649</th>\n      <td>701629</td>\n      <td>0.0</td>\n      <td>1.0</td>\n      <td>-87.323842</td>\n      <td>44.907745</td>\n      <td>5324 Whitefish Bay Rd, Sturgeon Bay, Wisconsin...</td>\n      <td>Backyard Acres at Flying Tractor Farm</td>\n      <td>0.0</td>\n      <td>0.0</td>\n      <td>1.0</td>\n      <td>On Market Farmers' Market</td>\n      <td>SNAP</td>\n      <td>550291005001017</td>\n      <td>[-87.337006, 44.907495, -87.316401, 44.922208]</td>\n      <td>Door County</td>\n      <td>55029</td>\n      <td>WI</td>\n      <td>Wisconsin</td>\n    </tr>\n    <tr>\n      <th>3650</th>\n      <td>701630</td>\n      <td>1.0</td>\n      <td>1.0</td>\n      <td>-75.776928</td>\n      <td>40.829530</td>\n      <td>445 stewart creek road, Lehighton, Pennsylvani...</td>\n      <td>Nev &amp; Nise Produce Greenhouse LLC</td>\n      <td>0.0</td>\n      <td>0.0</td>\n      <td>1.0</td>\n      <td>On Market Farmers' Market</td>\n      <td>SNAP ; WIC</td>\n      <td>420250205013000</td>\n      <td>[-75.784421, 40.826772, -75.775289, 40.834592]</td>\n      <td>Carbon County</td>\n      <td>42025</td>\n      <td>PA</td>\n      <td>Pennsylvania</td>\n    </tr>\n    <tr>\n      <th>3651</th>\n      <td>701631</td>\n      <td>0.0</td>\n      <td>0.0</td>\n      <td>-106.074690</td>\n      <td>41.186631</td>\n      <td>124 Fox Creek Rd, Laramie, Wyoming 82070</td>\n      <td>Taste of the Wind LLC</td>\n      <td>0.0</td>\n      <td>0.0</td>\n      <td>1.0</td>\n      <td>On Market Farmers' Market</td>\n      <td>No SNAP Benefit ; No WIC Benefit</td>\n      <td>560019639001045</td>\n      <td>[-106.089299, 41.151916, -106.051023, 41.226288]</td>\n      <td>Albany County</td>\n      <td>56001</td>\n      <td>WY</td>\n      <td>Wyoming</td>\n    </tr>\n    <tr>\n      <th>3652</th>\n      <td>701632</td>\n      <td>0.0</td>\n      <td>0.0</td>\n      <td>-84.913999</td>\n      <td>37.103273</td>\n      <td>132 Pinetop Road, Russell Springs, Kentucky 42642</td>\n      <td>Pierce Family Farms</td>\n      <td>0.0</td>\n      <td>0.0</td>\n      <td>1.0</td>\n      <td>On Market Farmers' Market</td>\n      <td>No SNAP Benefit ; No WIC Benefit</td>\n      <td>212079604001001</td>\n      <td>[-84.91694, 37.09667, -84.902311, 37.110449]</td>\n      <td>Russell County</td>\n      <td>21207</td>\n      <td>KY</td>\n      <td>Kentucky</td>\n    </tr>\n    <tr>\n      <th>3653</th>\n      <td>701633</td>\n      <td>0.0</td>\n      <td>0.0</td>\n      <td>-87.615118</td>\n      <td>41.093034</td>\n      <td>13218 E 2260 S Rd Pembroke Township, IL, Pembr...</td>\n      <td>Rancho Los Nunez</td>\n      <td>0.0</td>\n      <td>0.0</td>\n      <td>1.0</td>\n      <td>On Market Farmers' Market</td>\n      <td>No SNAP Benefit ; No WIC Benefit</td>\n      <td>170910110002038</td>\n      <td>[-87.6194, 41.088826, -87.608201, 41.096331]</td>\n      <td>Kankakee County</td>\n      <td>17091</td>\n      <td>IL</td>\n      <td>Illinois</td>\n    </tr>\n    <tr>\n      <th>3654</th>\n      <td>701634</td>\n      <td>0.0</td>\n      <td>0.0</td>\n      <td>-122.096570</td>\n      <td>40.063708</td>\n      <td>25255 3rd Ave, Los Molinos, California 96055</td>\n      <td>Kitchel Family Organics</td>\n      <td>0.0</td>\n      <td>0.0</td>\n      <td>1.0</td>\n      <td>On Market Farmers' Market</td>\n      <td>No SNAP Benefit ; No WIC Benefit</td>\n      <td>061030001002134</td>\n      <td>[-122.100742, 40.0635, -122.091147, 40.078027]</td>\n      <td>Tehama County</td>\n      <td>06103</td>\n      <td>CA</td>\n      <td>California</td>\n    </tr>\n    <tr>\n      <th>3655</th>\n      <td>701635</td>\n      <td>0.0</td>\n      <td>0.0</td>\n      <td>-94.112340</td>\n      <td>43.610897</td>\n      <td>8574 377th Avenue, Blue Earth, Minnesota 56013</td>\n      <td>Blue Dirt Farm</td>\n      <td>0.0</td>\n      <td>0.0</td>\n      <td>1.0</td>\n      <td>On Market Farmers' Market</td>\n      <td>No SNAP Benefit ; No WIC Benefit</td>\n      <td>270434603001069</td>\n      <td>[-94.113851, 43.59007, -94.100011, 43.624473]</td>\n      <td>Faribault County</td>\n      <td>27043</td>\n      <td>MN</td>\n      <td>Minnesota</td>\n    </tr>\n    <tr>\n      <th>3656</th>\n      <td>701636</td>\n      <td>0.0</td>\n      <td>1.0</td>\n      <td>-89.478628</td>\n      <td>41.313412</td>\n      <td>1149 1950 East Street, Tiskilwa, Illinois 61368</td>\n      <td>Dugosh Farms</td>\n      <td>0.0</td>\n      <td>0.0</td>\n      <td>1.0</td>\n      <td>On Market Farmers' Market</td>\n      <td>SNAP</td>\n      <td>170119655002012</td>\n      <td>[-89.493036, 41.295323, -89.460006, 41.321057]</td>\n      <td>Bureau County</td>\n      <td>17011</td>\n      <td>IL</td>\n      <td>Illinois</td>\n    </tr>\n    <tr>\n      <th>3657</th>\n      <td>701637</td>\n      <td>0.0</td>\n      <td>0.0</td>\n      <td>-85.892177</td>\n      <td>42.214235</td>\n      <td>37146 30th Street, Paw Paw, Michigan 49079</td>\n      <td>Berry Brothers Retail</td>\n      <td>0.0</td>\n      <td>0.0</td>\n      <td>1.0</td>\n      <td>On Market Farmers' Market</td>\n      <td>No SNAP Benefit ; No WIC Benefit</td>\n      <td>261590118013016</td>\n      <td>[-85.894397, 42.211703, -85.891255, 42.215024]</td>\n      <td>Van Buren County</td>\n      <td>26159</td>\n      <td>MI</td>\n      <td>Michigan</td>\n    </tr>\n    <tr>\n      <th>3658</th>\n      <td>701638</td>\n      <td>0.0</td>\n      <td>0.0</td>\n      <td>-116.560060</td>\n      <td>48.280716</td>\n      <td>2003 Rapid Lightning Road, Sandpoint, Idaho 83864</td>\n      <td>Greentree Naturals Certified Organic Farm</td>\n      <td>0.0</td>\n      <td>0.0</td>\n      <td>1.0</td>\n      <td>On Market Farmers' Market</td>\n      <td>No SNAP Benefit ; No WIC Benefit</td>\n      <td>160179503001019</td>\n      <td>[-116.562981, 48.280274, -116.557045, 48.28125]</td>\n      <td>Bonner County</td>\n      <td>16017</td>\n      <td>ID</td>\n      <td>Idaho</td>\n    </tr>\n    <tr>\n      <th>3659</th>\n      <td>701639</td>\n      <td>0.0</td>\n      <td>0.0</td>\n      <td>-87.867562</td>\n      <td>41.487597</td>\n      <td>22155 S.104th Ave., Frankfort, Illinois 60423</td>\n      <td>Navarro Farm</td>\n      <td>0.0</td>\n      <td>0.0</td>\n      <td>1.0</td>\n      <td>On Market Farmers' Market</td>\n      <td>No SNAP Benefit ; No WIC Benefit</td>\n      <td>171978835043027</td>\n      <td>[-87.86837, 41.484286, -87.863355, 41.487997]</td>\n      <td>Will County</td>\n      <td>17197</td>\n      <td>IL</td>\n      <td>Illinois</td>\n    </tr>\n    <tr>\n      <th>3660</th>\n      <td>701640</td>\n      <td>0.0</td>\n      <td>1.0</td>\n      <td>-86.714830</td>\n      <td>35.512247</td>\n      <td>2842 Nashville Hwy, Lewisburg, Tennessee 37091</td>\n      <td>Newcomb Family Farm</td>\n      <td>0.0</td>\n      <td>0.0</td>\n      <td>1.0</td>\n      <td>On Market Farmers' Market</td>\n      <td>SNAP</td>\n      <td>471179551002062</td>\n      <td>[-86.721085, 35.508699, -86.711438, 35.513761]</td>\n      <td>Marshall County</td>\n      <td>47117</td>\n      <td>TN</td>\n      <td>Tennessee</td>\n    </tr>\n    <tr>\n      <th>3661</th>\n      <td>701641</td>\n      <td>0.0</td>\n      <td>1.0</td>\n      <td>-106.807630</td>\n      <td>34.522685</td>\n      <td>23 Winery Rd, Bosque, New Mexico 87006</td>\n      <td>Bomvida Farms</td>\n      <td>0.0</td>\n      <td>0.0</td>\n      <td>1.0</td>\n      <td>On Market Farmers' Market</td>\n      <td>SNAP</td>\n      <td>350539782001000</td>\n      <td>[-106.811573, 34.508456, -106.798089, 34.545844]</td>\n      <td>Socorro County</td>\n      <td>35053</td>\n      <td>NM</td>\n      <td>New Mexico</td>\n    </tr>\n    <tr>\n      <th>3662</th>\n      <td>701642</td>\n      <td>0.0</td>\n      <td>1.0</td>\n      <td>-94.153961</td>\n      <td>45.405741</td>\n      <td>19485 Estes Road, Clearwater, Minnesota 55320</td>\n      <td>Dancing the Land Farm Store</td>\n      <td>0.0</td>\n      <td>0.0</td>\n      <td>1.0</td>\n      <td>On Market Farmers' Market</td>\n      <td>SNAP</td>\n      <td>271450114001046</td>\n      <td>[-94.15895, 45.39869, -94.15048, 45.41323]</td>\n      <td>Stearns County</td>\n      <td>27145</td>\n      <td>MN</td>\n      <td>Minnesota</td>\n    </tr>\n    <tr>\n      <th>3663</th>\n      <td>701643</td>\n      <td>0.0</td>\n      <td>0.0</td>\n      <td>-109.576230</td>\n      <td>40.470345</td>\n      <td>1016 N 2500 W, Vernal , Utah 84078</td>\n      <td>edABILITY Farm</td>\n      <td>0.0</td>\n      <td>0.0</td>\n      <td>1.0</td>\n      <td>On Market Farmers' Market</td>\n      <td>No SNAP Benefit ; No WIC Benefit</td>\n      <td>490479683022005</td>\n      <td>[-109.576853, 40.469953, -109.567095, 40.47725]</td>\n      <td>Uintah County</td>\n      <td>49047</td>\n      <td>UT</td>\n      <td>Utah</td>\n    </tr>\n    <tr>\n      <th>3664</th>\n      <td>701644</td>\n      <td>0.0</td>\n      <td>0.0</td>\n      <td>-95.765419</td>\n      <td>41.318044</td>\n      <td>21000 RD L34, UNDERWOOD, Iowa 51576</td>\n      <td>Junge Produce</td>\n      <td>0.0</td>\n      <td>0.0</td>\n      <td>1.0</td>\n      <td>On Market Farmers' Market</td>\n      <td>No SNAP Benefit ; No WIC Benefit</td>\n      <td>191550318002019</td>\n      <td>[-95.789151, 41.307562, -95.763674, 41.332015]</td>\n      <td>Pottawattamie County</td>\n      <td>19155</td>\n      <td>IA</td>\n      <td>Iowa</td>\n    </tr>\n    <tr>\n      <th>3665</th>\n      <td>701650</td>\n      <td>0.0</td>\n      <td>0.0</td>\n      <td>-80.283322</td>\n      <td>36.910407</td>\n      <td>Garden Lane, Floyd, Virginia 24091</td>\n      <td>Floyd Ecovillage Farmstore</td>\n      <td>0.0</td>\n      <td>0.0</td>\n      <td>1.0</td>\n      <td>On Market Farmers' Market</td>\n      <td>No SNAP Benefit ; No WIC Benefit</td>\n      <td>510639201022043</td>\n      <td>[-80.285613, 36.907224, -80.278973, 36.912042]</td>\n      <td>Floyd County</td>\n      <td>51063</td>\n      <td>VA</td>\n      <td>Virginia</td>\n    </tr>\n    <tr>\n      <th>3666</th>\n      <td>701666</td>\n      <td>1.0</td>\n      <td>0.0</td>\n      <td>-121.268794</td>\n      <td>44.048487</td>\n      <td>61915 Pettigrew Rd, Bend, OR 97702</td>\n      <td>Fields Farm</td>\n      <td>0.0</td>\n      <td>0.0</td>\n      <td>1.0</td>\n      <td>On Market Farmers' Market</td>\n      <td>WIC</td>\n      <td>410170018023000</td>\n      <td>[-121.27314, 44.045884, -121.26863, 44.051361]</td>\n      <td>Deschutes County</td>\n      <td>41017</td>\n      <td>OR</td>\n      <td>Oregon</td>\n    </tr>\n    <tr>\n      <th>3667</th>\n      <td>701666</td>\n      <td>1.0</td>\n      <td>0.0</td>\n      <td>-121.268794</td>\n      <td>44.048487</td>\n      <td>61915 Pettigrew Rd, Bend, OR 97702</td>\n      <td>Fields Farm</td>\n      <td>0.0</td>\n      <td>0.0</td>\n      <td>1.0</td>\n      <td>On Market Farmers' Market</td>\n      <td>WIC</td>\n      <td>410170018023000</td>\n      <td>[-121.27314, 44.045884, -121.26863, 44.051361]</td>\n      <td>Deschutes County</td>\n      <td>41017</td>\n      <td>OR</td>\n      <td>Oregon</td>\n    </tr>\n    <tr>\n      <th>3668</th>\n      <td>701667</td>\n      <td>0.0</td>\n      <td>0.0</td>\n      <td>-112.188783</td>\n      <td>43.366320</td>\n      <td>469 East 1200 North, Shelley, ID 83274, USA</td>\n      <td>Shelley’s Fresh Produce</td>\n      <td>0.0</td>\n      <td>0.0</td>\n      <td>1.0</td>\n      <td>On Market Farmers' Market</td>\n      <td>No SNAP Benefit ; No WIC Benefit</td>\n      <td>160119503001097</td>\n      <td>[-112.223138, 43.341302, -112.186773, 43.367187]</td>\n      <td>Bingham County</td>\n      <td>16011</td>\n      <td>ID</td>\n      <td>Idaho</td>\n    </tr>\n    <tr>\n      <th>3669</th>\n      <td>701667</td>\n      <td>0.0</td>\n      <td>0.0</td>\n      <td>-112.188783</td>\n      <td>43.366320</td>\n      <td>469 East 1200 North, Shelley, ID 83274, USA</td>\n      <td>Shelley’s Fresh Produce</td>\n      <td>0.0</td>\n      <td>0.0</td>\n      <td>1.0</td>\n      <td>On Market Farmers' Market</td>\n      <td>No SNAP Benefit ; No WIC Benefit</td>\n      <td>160119503001097</td>\n      <td>[-112.223138, 43.341302, -112.186773, 43.367187]</td>\n      <td>Bingham County</td>\n      <td>16011</td>\n      <td>ID</td>\n      <td>Idaho</td>\n    </tr>\n    <tr>\n      <th>3670</th>\n      <td>701668</td>\n      <td>0.0</td>\n      <td>0.0</td>\n      <td>-89.509850</td>\n      <td>38.262196</td>\n      <td>535 West Main Street, Oakdale, IL, USA</td>\n      <td>Wisely Greenhouse &amp; Produce</td>\n      <td>0.0</td>\n      <td>0.0</td>\n      <td>1.0</td>\n      <td>On Market Farmers' Market</td>\n      <td>No SNAP Benefit ; No WIC Benefit</td>\n      <td>171899504004032</td>\n      <td>[-89.520027, 38.261891, -89.501221, 38.27551]</td>\n      <td>Washington County</td>\n      <td>17189</td>\n      <td>IL</td>\n      <td>Illinois</td>\n    </tr>\n    <tr>\n      <th>3671</th>\n      <td>701669</td>\n      <td>0.0</td>\n      <td>1.0</td>\n      <td>-84.644949</td>\n      <td>39.677079</td>\n      <td>623 Mann Rd, Eaton, OH, USA</td>\n      <td>Brookside Family Farms</td>\n      <td>0.0</td>\n      <td>0.0</td>\n      <td>1.0</td>\n      <td>On Market Farmers' Market</td>\n      <td>SNAP</td>\n      <td>391354701021028</td>\n      <td>[-84.650199, 39.674053, -84.638946, 39.679569]</td>\n      <td>Preble County</td>\n      <td>39135</td>\n      <td>OH</td>\n      <td>Ohio</td>\n    </tr>\n    <tr>\n      <th>3672</th>\n      <td>701670</td>\n      <td>0.0</td>\n      <td>0.0</td>\n      <td>-81.241321</td>\n      <td>35.660322</td>\n      <td>1081 Long Drive, Newton, NC, USA</td>\n      <td>Red Pond Farm</td>\n      <td>0.0</td>\n      <td>0.0</td>\n      <td>1.0</td>\n      <td>On Market Farmers' Market</td>\n      <td>No SNAP Benefit ; No WIC Benefit</td>\n      <td>370350117013012</td>\n      <td>[-81.245639, 35.651268, -81.239308, 35.66548]</td>\n      <td>Catawba County</td>\n      <td>37035</td>\n      <td>NC</td>\n      <td>North Carolina</td>\n    </tr>\n    <tr>\n      <th>3673</th>\n      <td>701054</td>\n      <td>0.0</td>\n      <td>0.0</td>\n      <td>-123.269634</td>\n      <td>44.497811</td>\n      <td>31567 OR-99W, Corvallis, OR 97333</td>\n      <td>Sunset Valley Organics</td>\n      <td>0.0</td>\n      <td>0.0</td>\n      <td>1.0</td>\n      <td>On Market Farmers' Market</td>\n      <td>No SNAP Benefit ; No WIC Benefit</td>\n      <td>410030104001003</td>\n      <td>[-123.283182, 44.398268, -123.205717, 44.521645]</td>\n      <td>Benton County</td>\n      <td>41003</td>\n      <td>OR</td>\n      <td>Oregon</td>\n    </tr>\n    <tr>\n      <th>3674</th>\n      <td>700359</td>\n      <td>0.0</td>\n      <td>0.0</td>\n      <td>-97.439859</td>\n      <td>33.184096</td>\n      <td>3841 FM 2264, Decatur, Texas 76234</td>\n      <td>SB Longhorns</td>\n      <td>0.0</td>\n      <td>0.0</td>\n      <td>1.0</td>\n      <td>On Market Farmers' Market</td>\n      <td>No SNAP Benefit ; No WIC Benefit</td>\n      <td>484971501033028</td>\n      <td>[-97.480911, 33.167397, -97.416377, 33.210831]</td>\n      <td>Wise County</td>\n      <td>48497</td>\n      <td>TX</td>\n      <td>Texas</td>\n    </tr>\n    <tr>\n      <th>3675</th>\n      <td>700736</td>\n      <td>0.0</td>\n      <td>0.0</td>\n      <td>-92.408597</td>\n      <td>45.397467</td>\n      <td>1333 - 120th Street, Amery, Wisconsin 54001</td>\n      <td>Glenna Farms Country Store &amp; Sugarhouse</td>\n      <td>0.0</td>\n      <td>0.0</td>\n      <td>1.0</td>\n      <td>On Market Farmers' Market</td>\n      <td>No SNAP Benefit ; No WIC Benefit</td>\n      <td>550959606003016</td>\n      <td>[-92.448847, 45.395804, -92.407675, 45.408456]</td>\n      <td>Polk County</td>\n      <td>55095</td>\n      <td>WI</td>\n      <td>Wisconsin</td>\n    </tr>\n    <tr>\n      <th>3676</th>\n      <td>701671</td>\n      <td>0.0</td>\n      <td>0.0</td>\n      <td>-90.067140</td>\n      <td>41.293562</td>\n      <td>19065 IL-81, Cambridge, IL 61238, USA</td>\n      <td>Grateful Graze</td>\n      <td>0.0</td>\n      <td>0.0</td>\n      <td>1.0</td>\n      <td>On Market Farmers' Market</td>\n      <td>No SNAP Benefit ; No WIC Benefit</td>\n      <td>170730305003032</td>\n      <td>[-90.068503, 41.287491, -90.063344, 41.293965]</td>\n      <td>Henry County</td>\n      <td>17073</td>\n      <td>IL</td>\n      <td>Illinois</td>\n    </tr>\n    <tr>\n      <th>3677</th>\n      <td>700083</td>\n      <td>1.0</td>\n      <td>0.0</td>\n      <td>-74.393467</td>\n      <td>42.902931</td>\n      <td>685 Argersinger Rd, Fultonviille, New York 12072</td>\n      <td>Bellinger's Orchard</td>\n      <td>0.0</td>\n      <td>0.0</td>\n      <td>1.0</td>\n      <td>On Market Farmers' Market</td>\n      <td>WIC</td>\n      <td>360570727003026</td>\n      <td>[-74.419985, 42.901353, -74.391864, 42.925173]</td>\n      <td>Montgomery County</td>\n      <td>36057</td>\n      <td>NY</td>\n      <td>New York</td>\n    </tr>\n    <tr>\n      <th>3678</th>\n      <td>701676</td>\n      <td>0.0</td>\n      <td>0.0</td>\n      <td>-96.669370</td>\n      <td>32.024657</td>\n      <td>1885 Northwest 2162, Barry, TX, USA</td>\n      <td>La Vida Buena Acres</td>\n      <td>0.0</td>\n      <td>0.0</td>\n      <td>1.0</td>\n      <td>On Market Farmers' Market</td>\n      <td>No SNAP Benefit ; No WIC Benefit</td>\n      <td>483499704002005</td>\n      <td>[-96.681031, 32.006678, -96.640277, 32.036285]</td>\n      <td>Navarro County</td>\n      <td>48349</td>\n      <td>TX</td>\n      <td>Texas</td>\n    </tr>\n    <tr>\n      <th>3679</th>\n      <td>701677</td>\n      <td>0.0</td>\n      <td>0.0</td>\n      <td>-104.570511</td>\n      <td>39.357596</td>\n      <td>33784 County Road 21, Elizabeth, CO, USA</td>\n      <td>RK Creations Farm</td>\n      <td>0.0</td>\n      <td>0.0</td>\n      <td>1.0</td>\n      <td>On Market Farmers' Market</td>\n      <td>No SNAP Benefit ; No WIC Benefit</td>\n      <td>080399612081005</td>\n      <td>[-104.580235, 39.303274, -104.526249, 39.361358]</td>\n      <td>Elbert County</td>\n      <td>08039</td>\n      <td>CO</td>\n      <td>Colorado</td>\n    </tr>\n  </tbody>\n</table>\n</div>"
     },
     "metadata": {}
    }
   ],
   "execution_count": 246
  },
  {
   "cell_type": "code",
   "source": "combined_df = combined_df.loc[combined_df.astype(str).drop_duplicates().index]\n#combined_df.to_csv('final_fm_csa_om.csv', index = False)",
   "metadata": {
    "cell_id": "03fd9b258ee64cdda5ca5247341b9534",
    "tags": [],
    "deepnote_to_be_reexecuted": false,
    "source_hash": "7bb1096e",
    "execution_start": 1658014951224,
    "execution_millis": 88,
    "deepnote_cell_type": "code",
    "deepnote_cell_height": 98.96875,
    "deepnote_output_heights": [
     136.359375
    ]
   },
   "outputs": [],
   "execution_count": 259
  },
  {
   "cell_type": "code",
   "source": "combined_df.info()",
   "metadata": {
    "cell_id": "561bcc9abc594f56bb443b891baaafb4",
    "tags": [],
    "deepnote_to_be_reexecuted": false,
    "source_hash": "81981022",
    "execution_start": 1658014952003,
    "execution_millis": 52,
    "deepnote_cell_type": "code",
    "deepnote_cell_height": 587.546875
   },
   "outputs": [
    {
     "name": "stdout",
     "text": "<class 'pandas.core.frame.DataFrame'>\nInt64Index: 3612 entries, 0 to 3679\nData columns (total 18 columns):\n #   Column              Non-Null Count  Dtype  \n---  ------              --------------  -----  \n 0   listing_id          3612 non-null   int64  \n 1   WIC                 3612 non-null   float64\n 2   SNAP                3612 non-null   float64\n 3   longitude           3612 non-null   float64\n 4   latitude            3612 non-null   float64\n 5   location_address    3612 non-null   object \n 6   listing_name        3612 non-null   object \n 7   fm_bool             3612 non-null   float64\n 8   csa_bool            3612 non-null   float64\n 9   om_bool             3612 non-null   float64\n 10  Farmer Market Type  3612 non-null   object \n 11  Benefit Type        3612 non-null   object \n 12  Block_FIPS          3610 non-null   object \n 13  bbox                3610 non-null   object \n 14  county_name         3610 non-null   object \n 15  County_FIPS         3610 non-null   object \n 16  State_FIPS          3610 non-null   object \n 17  State_name          3610 non-null   object \ndtypes: float64(7), int64(1), object(10)\nmemory usage: 536.2+ KB\n",
     "output_type": "stream"
    }
   ],
   "execution_count": 260
  },
  {
   "cell_type": "markdown",
   "source": "## Visualize a Choropleth Map",
   "metadata": {
    "cell_id": "f3b5ffd57d1445cf9fb4c7aa314318fa",
    "tags": [],
    "deepnote_cell_type": "markdown",
    "deepnote_cell_height": 69.96875
   }
  },
  {
   "cell_type": "markdown",
   "source": "",
   "metadata": {
    "cell_id": "a0ed3ceb93f54f9192cf86c4860fdc7e",
    "tags": [],
    "deepnote_cell_type": "markdown",
    "deepnote_cell_height": 45.96875
   }
  },
  {
   "cell_type": "code",
   "source": "fm_csa_om_df = pd.read_csv('/work/final_fm_csa_om.csv')\nfm_csa_om_df",
   "metadata": {
    "cell_id": "8d888b4b82fb43a4b63ec278126ad994",
    "tags": [],
    "deepnote_to_be_reexecuted": false,
    "source_hash": "83527b66",
    "execution_start": 1658014973400,
    "execution_millis": 601,
    "deepnote_cell_type": "code",
    "deepnote_cell_height": 617.90625
   },
   "outputs": [
    {
     "output_type": "execute_result",
     "execution_count": 261,
     "data": {
      "application/vnd.deepnote.dataframe.v3+json": {
       "column_count": 18,
       "row_count": 3612,
       "columns": [
        {
         "name": "listing_id",
         "dtype": "int64",
         "stats": {
          "unique_count": 3612,
          "nan_count": 0,
          "min": "5815",
          "max": "701677",
          "histogram": [
           {
            "bin_start": 5815,
            "bin_end": 75401.2,
            "count": 6
           },
           {
            "bin_start": 75401.2,
            "bin_end": 144987.4,
            "count": 0
           },
           {
            "bin_start": 144987.4,
            "bin_end": 214573.59999999998,
            "count": 959
           },
           {
            "bin_start": 214573.59999999998,
            "bin_end": 284159.8,
            "count": 0
           },
           {
            "bin_start": 284159.8,
            "bin_end": 353746,
            "count": 992
           },
           {
            "bin_start": 353746,
            "bin_end": 423332.19999999995,
            "count": 0
           },
           {
            "bin_start": 423332.19999999995,
            "bin_end": 492918.39999999997,
            "count": 0
           },
           {
            "bin_start": 492918.39999999997,
            "bin_end": 562504.6,
            "count": 0
           },
           {
            "bin_start": 562504.6,
            "bin_end": 632090.7999999999,
            "count": 0
           },
           {
            "bin_start": 632090.7999999999,
            "bin_end": 701677,
            "count": 1655
           }
          ]
         }
        },
        {
         "name": "WIC",
         "dtype": "float64",
         "stats": {
          "unique_count": 2,
          "nan_count": 0,
          "min": "0.0",
          "max": "1.0",
          "histogram": [
           {
            "bin_start": 0,
            "bin_end": 0.1,
            "count": 3049
           },
           {
            "bin_start": 0.1,
            "bin_end": 0.2,
            "count": 0
           },
           {
            "bin_start": 0.2,
            "bin_end": 0.30000000000000004,
            "count": 0
           },
           {
            "bin_start": 0.30000000000000004,
            "bin_end": 0.4,
            "count": 0
           },
           {
            "bin_start": 0.4,
            "bin_end": 0.5,
            "count": 0
           },
           {
            "bin_start": 0.5,
            "bin_end": 0.6000000000000001,
            "count": 0
           },
           {
            "bin_start": 0.6000000000000001,
            "bin_end": 0.7000000000000001,
            "count": 0
           },
           {
            "bin_start": 0.7000000000000001,
            "bin_end": 0.8,
            "count": 0
           },
           {
            "bin_start": 0.8,
            "bin_end": 0.9,
            "count": 0
           },
           {
            "bin_start": 0.9,
            "bin_end": 1,
            "count": 563
           }
          ]
         }
        },
        {
         "name": "SNAP",
         "dtype": "float64",
         "stats": {
          "unique_count": 2,
          "nan_count": 0,
          "min": "0.0",
          "max": "1.0",
          "histogram": [
           {
            "bin_start": 0,
            "bin_end": 0.1,
            "count": 2589
           },
           {
            "bin_start": 0.1,
            "bin_end": 0.2,
            "count": 0
           },
           {
            "bin_start": 0.2,
            "bin_end": 0.30000000000000004,
            "count": 0
           },
           {
            "bin_start": 0.30000000000000004,
            "bin_end": 0.4,
            "count": 0
           },
           {
            "bin_start": 0.4,
            "bin_end": 0.5,
            "count": 0
           },
           {
            "bin_start": 0.5,
            "bin_end": 0.6000000000000001,
            "count": 0
           },
           {
            "bin_start": 0.6000000000000001,
            "bin_end": 0.7000000000000001,
            "count": 0
           },
           {
            "bin_start": 0.7000000000000001,
            "bin_end": 0.8,
            "count": 0
           },
           {
            "bin_start": 0.8,
            "bin_end": 0.9,
            "count": 0
           },
           {
            "bin_start": 0.9,
            "bin_end": 1,
            "count": 1023
           }
          ]
         }
        },
        {
         "name": "longitude",
         "dtype": "float64",
         "stats": {
          "unique_count": 3586,
          "nan_count": 0,
          "min": "-159.4992",
          "max": "0.43705",
          "histogram": [
           {
            "bin_start": -159.4992,
            "bin_end": -143.505575,
            "count": 25
           },
           {
            "bin_start": -143.505575,
            "bin_end": -127.51195,
            "count": 3
           },
           {
            "bin_start": -127.51195,
            "bin_end": -111.518325,
            "count": 548
           },
           {
            "bin_start": -111.518325,
            "bin_end": -95.5247,
            "count": 311
           },
           {
            "bin_start": -95.5247,
            "bin_end": -79.531075,
            "count": 1721
           },
           {
            "bin_start": -79.531075,
            "bin_end": -63.53745000000001,
            "count": 1002
           },
           {
            "bin_start": -63.53745000000001,
            "bin_end": -47.543825,
            "count": 0
           },
           {
            "bin_start": -47.543825,
            "bin_end": -31.550200000000004,
            "count": 0
           },
           {
            "bin_start": -31.550200000000004,
            "bin_end": -15.55657500000001,
            "count": 0
           },
           {
            "bin_start": -15.55657500000001,
            "bin_end": 0.43705,
            "count": 2
           }
          ]
         }
        },
        {
         "name": "latitude",
         "dtype": "float64",
         "stats": {
          "unique_count": 3581,
          "nan_count": 0,
          "min": "0.049438",
          "max": "64.90857",
          "histogram": [
           {
            "bin_start": 0.049438,
            "bin_end": 6.535351200000001,
            "count": 2
           },
           {
            "bin_start": 6.535351200000001,
            "bin_end": 13.021264400000002,
            "count": 0
           },
           {
            "bin_start": 13.021264400000002,
            "bin_end": 19.507177600000002,
            "count": 8
           },
           {
            "bin_start": 19.507177600000002,
            "bin_end": 25.9930908,
            "count": 24
           },
           {
            "bin_start": 25.9930908,
            "bin_end": 32.479004,
            "count": 269
           },
           {
            "bin_start": 32.479004,
            "bin_end": 38.96491720000001,
            "count": 1059
           },
           {
            "bin_start": 38.96491720000001,
            "bin_end": 45.45083040000001,
            "count": 1980
           },
           {
            "bin_start": 45.45083040000001,
            "bin_end": 51.93674360000001,
            "count": 258
           },
           {
            "bin_start": 51.93674360000001,
            "bin_end": 58.422656800000006,
            "count": 2
           },
           {
            "bin_start": 58.422656800000006,
            "bin_end": 64.90857,
            "count": 10
           }
          ]
         }
        },
        {
         "name": "location_address",
         "dtype": "object",
         "stats": {
          "unique_count": 3557,
          "nan_count": 0,
          "categories": [
           {
            "name": "91 South St., New York , New York 10038",
            "count": 3
           },
           {
            "name": "750 University Row, Madison, Wisconsin 53705",
            "count": 2
           },
           {
            "name": "3555 others",
            "count": 3607
           }
          ]
         }
        },
        {
         "name": "listing_name",
         "dtype": "object",
         "stats": {
          "unique_count": 3512,
          "nan_count": 0,
          "categories": [
           {
            "name": "Campbell County Farmers Market Association",
            "count": 3
           },
           {
            "name": "Historic Lewes Farmers Market",
            "count": 3
           },
           {
            "name": "3510 others",
            "count": 3606
           }
          ]
         }
        },
        {
         "name": "fm_bool",
         "dtype": "float64",
         "stats": {
          "unique_count": 2,
          "nan_count": 0,
          "min": "0.0",
          "max": "1.0",
          "histogram": [
           {
            "bin_start": 0,
            "bin_end": 0.1,
            "count": 2614
           },
           {
            "bin_start": 0.1,
            "bin_end": 0.2,
            "count": 0
           },
           {
            "bin_start": 0.2,
            "bin_end": 0.30000000000000004,
            "count": 0
           },
           {
            "bin_start": 0.30000000000000004,
            "bin_end": 0.4,
            "count": 0
           },
           {
            "bin_start": 0.4,
            "bin_end": 0.5,
            "count": 0
           },
           {
            "bin_start": 0.5,
            "bin_end": 0.6000000000000001,
            "count": 0
           },
           {
            "bin_start": 0.6000000000000001,
            "bin_end": 0.7000000000000001,
            "count": 0
           },
           {
            "bin_start": 0.7000000000000001,
            "bin_end": 0.8,
            "count": 0
           },
           {
            "bin_start": 0.8,
            "bin_end": 0.9,
            "count": 0
           },
           {
            "bin_start": 0.9,
            "bin_end": 1,
            "count": 998
           }
          ]
         }
        },
        {
         "name": "csa_bool",
         "dtype": "float64",
         "stats": {
          "unique_count": 2,
          "nan_count": 0,
          "min": "0.0",
          "max": "1.0",
          "histogram": [
           {
            "bin_start": 0,
            "bin_end": 0.1,
            "count": 2653
           },
           {
            "bin_start": 0.1,
            "bin_end": 0.2,
            "count": 0
           },
           {
            "bin_start": 0.2,
            "bin_end": 0.30000000000000004,
            "count": 0
           },
           {
            "bin_start": 0.30000000000000004,
            "bin_end": 0.4,
            "count": 0
           },
           {
            "bin_start": 0.4,
            "bin_end": 0.5,
            "count": 0
           },
           {
            "bin_start": 0.5,
            "bin_end": 0.6000000000000001,
            "count": 0
           },
           {
            "bin_start": 0.6000000000000001,
            "bin_end": 0.7000000000000001,
            "count": 0
           },
           {
            "bin_start": 0.7000000000000001,
            "bin_end": 0.8,
            "count": 0
           },
           {
            "bin_start": 0.8,
            "bin_end": 0.9,
            "count": 0
           },
           {
            "bin_start": 0.9,
            "bin_end": 1,
            "count": 959
           }
          ]
         }
        },
        {
         "name": "om_bool",
         "dtype": "float64",
         "stats": {
          "unique_count": 2,
          "nan_count": 0,
          "min": "0.0",
          "max": "1.0",
          "histogram": [
           {
            "bin_start": 0,
            "bin_end": 0.1,
            "count": 1957
           },
           {
            "bin_start": 0.1,
            "bin_end": 0.2,
            "count": 0
           },
           {
            "bin_start": 0.2,
            "bin_end": 0.30000000000000004,
            "count": 0
           },
           {
            "bin_start": 0.30000000000000004,
            "bin_end": 0.4,
            "count": 0
           },
           {
            "bin_start": 0.4,
            "bin_end": 0.5,
            "count": 0
           },
           {
            "bin_start": 0.5,
            "bin_end": 0.6000000000000001,
            "count": 0
           },
           {
            "bin_start": 0.6000000000000001,
            "bin_end": 0.7000000000000001,
            "count": 0
           },
           {
            "bin_start": 0.7000000000000001,
            "bin_end": 0.8,
            "count": 0
           },
           {
            "bin_start": 0.8,
            "bin_end": 0.9,
            "count": 0
           },
           {
            "bin_start": 0.9,
            "bin_end": 1,
            "count": 1655
           }
          ]
         }
        },
        {
         "name": "Farmer Market Type",
         "dtype": "object",
         "stats": {
          "unique_count": 3,
          "nan_count": 0,
          "categories": [
           {
            "name": "On Market Farmers' Market",
            "count": 1655
           },
           {
            "name": "Farmers' Market",
            "count": 998
           },
           {
            "name": "Community Supported Agriculture",
            "count": 959
           }
          ]
         }
        },
        {
         "name": "Benefit Type",
         "dtype": "object",
         "stats": {
          "unique_count": 4,
          "nan_count": 0,
          "categories": [
           {
            "name": "No SNAP Benefit ; No WIC Benefit",
            "count": 2440
           },
           {
            "name": "SNAP",
            "count": 609
           },
           {
            "name": "2 others",
            "count": 563
           }
          ]
         }
        },
        {
         "name": "Block_FIPS",
         "dtype": "float64",
         "stats": {
          "unique_count": 3502,
          "nan_count": 2,
          "min": "10030104002105.0",
          "max": "780109704004057.0",
          "histogram": [
           {
            "bin_start": 10030104002105,
            "bin_end": 87038064002300.2,
            "count": 393
           },
           {
            "bin_start": 87038064002300.2,
            "bin_end": 164046024002495.4,
            "count": 326
           },
           {
            "bin_start": 164046024002495.4,
            "bin_end": 241053984002690.62,
            "count": 624
           },
           {
            "bin_start": 241053984002690.62,
            "bin_end": 318061944002885.8,
            "count": 518
           },
           {
            "bin_start": 318061944002885.8,
            "bin_end": 395069904003081,
            "count": 628
           },
           {
            "bin_start": 395069904003081,
            "bin_end": 472077864003276.25,
            "count": 485
           },
           {
            "bin_start": 472077864003276.25,
            "bin_end": 549085824003471.44,
            "count": 470
           },
           {
            "bin_start": 549085824003471.44,
            "bin_end": 626093784003666.6,
            "count": 162
           },
           {
            "bin_start": 626093784003666.6,
            "bin_end": 703101744003861.9,
            "count": 0
           },
           {
            "bin_start": 703101744003861.9,
            "bin_end": 780109704004057,
            "count": 4
           }
          ]
         }
        },
        {
         "name": "bbox",
         "dtype": "object",
         "stats": {
          "unique_count": 3502,
          "nan_count": 2,
          "categories": [
           {
            "name": "[-98.52601, 29.471992, -98.524274, 29.472812]",
            "count": 6
           },
           {
            "name": "3501 others",
            "count": 3604
           },
           {
            "name": "Missing",
            "count": 2
           }
          ]
         }
        },
        {
         "name": "county_name",
         "dtype": "object",
         "stats": {
          "unique_count": 974,
          "nan_count": 2,
          "categories": [
           {
            "name": "Washington County",
            "count": 63
           },
           {
            "name": "973 others",
            "count": 3547
           },
           {
            "name": "Missing",
            "count": 2
           }
          ]
         }
        },
        {
         "name": "County_FIPS",
         "dtype": "float64",
         "stats": {
          "unique_count": 1391,
          "nan_count": 2,
          "min": "1003.0",
          "max": "78010.0",
          "histogram": [
           {
            "bin_start": 1003,
            "bin_end": 8703.7,
            "count": 393
           },
           {
            "bin_start": 8703.7,
            "bin_end": 16404.4,
            "count": 326
           },
           {
            "bin_start": 16404.4,
            "bin_end": 24105.1,
            "count": 624
           },
           {
            "bin_start": 24105.1,
            "bin_end": 31805.8,
            "count": 518
           },
           {
            "bin_start": 31805.8,
            "bin_end": 39506.5,
            "count": 628
           },
           {
            "bin_start": 39506.5,
            "bin_end": 47207.2,
            "count": 485
           },
           {
            "bin_start": 47207.2,
            "bin_end": 54907.9,
            "count": 470
           },
           {
            "bin_start": 54907.9,
            "bin_end": 62608.6,
            "count": 162
           },
           {
            "bin_start": 62608.6,
            "bin_end": 70309.3,
            "count": 0
           },
           {
            "bin_start": 70309.3,
            "bin_end": 78010,
            "count": 4
           }
          ]
         }
        },
        {
         "name": "State_FIPS",
         "dtype": "object",
         "stats": {
          "unique_count": 53,
          "nan_count": 2,
          "categories": [
           {
            "name": "CA",
            "count": 220
           },
           {
            "name": "52 others",
            "count": 3390
           },
           {
            "name": "Missing",
            "count": 2
           }
          ]
         }
        },
        {
         "name": "State_name",
         "dtype": "object",
         "stats": {
          "unique_count": 53,
          "nan_count": 2,
          "categories": [
           {
            "name": "California",
            "count": 220
           },
           {
            "name": "52 others",
            "count": 3390
           },
           {
            "name": "Missing",
            "count": 2
           }
          ]
         }
        },
        {
         "name": "_deepnote_index_column",
         "dtype": "int64"
        }
       ],
       "rows": [
        {
         "listing_id": 300002,
         "WIC": 0,
         "SNAP": 1,
         "longitude": -104.81468,
         "latitude": 38.937716,
         "location_address": "7350 Pine Creek Road, Colorado Springs, Colorado 80919",
         "listing_name": "Colorado Farm and Art Market",
         "fm_bool": 1,
         "csa_bool": 0,
         "om_bool": 0,
         "Farmer Market Type": "Farmers' Market",
         "Benefit Type": "SNAP",
         "Block_FIPS": 80410037054015,
         "bbox": "[-104.818646, 38.932971, -104.813136, 38.938515]",
         "county_name": "El Paso County",
         "County_FIPS": 8041,
         "State_FIPS": "CO",
         "State_name": "Colorado",
         "_deepnote_index_column": 0
        },
        {
         "listing_id": 300003,
         "WIC": 0,
         "SNAP": 0,
         "longitude": -88.045015,
         "latitude": 30.69035,
         "location_address": "300 Conti, Mobile, Alabama 36602",
         "listing_name": "Market in The Park",
         "fm_bool": 1,
         "csa_bool": 0,
         "om_bool": 0,
         "Farmer Market Type": "Farmers' Market",
         "Benefit Type": "No SNAP Benefit ; No WIC Benefit",
         "Block_FIPS": 10970002001018,
         "bbox": "[-88.045601, 30.689942, -88.044488, 30.690884]",
         "county_name": "Mobile County",
         "County_FIPS": 1097,
         "State_FIPS": "AL",
         "State_name": "Alabama",
         "_deepnote_index_column": 1
        },
        {
         "listing_id": 300004,
         "WIC": 0,
         "SNAP": 0,
         "longitude": -90.31353,
         "latitude": 42.404443,
         "location_address": "2000 Territory Drive, Galena, Illinois 61036",
         "listing_name": "The Territory Farmers' Market",
         "fm_bool": 1,
         "csa_bool": 0,
         "om_bool": 0,
         "Farmer Market Type": "Farmers' Market",
         "Benefit Type": "No SNAP Benefit ; No WIC Benefit",
         "Block_FIPS": 170850204011042,
         "bbox": "[-90.316519, 42.400989, -90.306193, 42.406228]",
         "county_name": "Jo Daviess County",
         "County_FIPS": 17085,
         "State_FIPS": "IL",
         "State_name": "Illinois",
         "_deepnote_index_column": 2
        },
        {
         "listing_id": 300005,
         "WIC": 0,
         "SNAP": 0,
         "longitude": -93.473419,
         "latitude": 44.997274,
         "location_address": "15500 County Road 6, Plymouth, Minnesota 55447",
         "listing_name": "City of Plymouth Farmers Market",
         "fm_bool": 1,
         "csa_bool": 0,
         "om_bool": 0,
         "Farmer Market Type": "Farmers' Market",
         "Benefit Type": "No SNAP Benefit ; No WIC Benefit",
         "Block_FIPS": 270530266113004,
         "bbox": "[-93.481636, 44.995067, -93.472153, 45.000191]",
         "county_name": "Hennepin County",
         "County_FIPS": 27053,
         "State_FIPS": "MN",
         "State_name": "Minnesota",
         "_deepnote_index_column": 3
        },
        {
         "listing_id": 300006,
         "WIC": 1,
         "SNAP": 1,
         "longitude": -78.901856,
         "latitude": 36.000559,
         "location_address": "501 Foster Street, Durham, North Carolina 27701",
         "listing_name": "Durham Farmers' Market",
         "fm_bool": 1,
         "csa_bool": 0,
         "om_bool": 0,
         "Farmer Market Type": "Farmers' Market",
         "Benefit Type": "SNAP ; WIC",
         "Block_FIPS": 370630022002064,
         "bbox": "[-78.902268, 36.000177, -78.901401, 36.001986]",
         "county_name": "Durham County",
         "County_FIPS": 37063,
         "State_FIPS": "NC",
         "State_name": "North Carolina",
         "_deepnote_index_column": 4
        },
        {
         "listing_id": 300008,
         "WIC": 1,
         "SNAP": 1,
         "longitude": -77.452948,
         "latitude": 43.212229,
         "location_address": "1028 Ridge Road, Webster Towne Center, Webster, New York 14580",
         "listing_name": "Webster's Joe Obbie Farmers' Market, Inc.",
         "fm_bool": 1,
         "csa_bool": 0,
         "om_bool": 0,
         "Farmer Market Type": "Farmers' Market",
         "Benefit Type": "SNAP ; WIC",
         "Block_FIPS": 360550112102001,
         "bbox": "[-77.461304, 43.209238, -77.449427, 43.215407]",
         "county_name": "Monroe County",
         "County_FIPS": 36055,
         "State_FIPS": "NY",
         "State_name": "New York",
         "_deepnote_index_column": 5
        },
        {
         "listing_id": 300009,
         "WIC": 1,
         "SNAP": 1,
         "longitude": -88.40703,
         "latitude": 44.26201,
         "location_address": "100 College Avenue, Appleton, Wisconsin 54911",
         "listing_name": "Appleton Downtown Farm Market",
         "fm_bool": 1,
         "csa_bool": 0,
         "om_bool": 0,
         "Farmer Market Type": "Farmers' Market",
         "Benefit Type": "SNAP ; WIC",
         "Block_FIPS": 550870101001015,
         "bbox": "[-88.407266, 44.261816, -88.404326, 44.262945]",
         "county_name": "Outagamie County",
         "County_FIPS": 55087,
         "State_FIPS": "WI",
         "State_name": "Wisconsin",
         "_deepnote_index_column": 6
        },
        {
         "listing_id": 300010,
         "WIC": 0,
         "SNAP": 1,
         "longitude": -97.311627,
         "latitude": 30.111777,
         "location_address": "1302 Chestnut Street, Bastrop, Texas 78602",
         "listing_name": "Bastrop 1832 Farmers Market",
         "fm_bool": 1,
         "csa_bool": 0,
         "om_bool": 0,
         "Farmer Market Type": "Farmers' Market",
         "Benefit Type": "SNAP",
         "Block_FIPS": 480219504014050,
         "bbox": "[-97.312578, 30.110625, -97.307615, 30.112895]",
         "county_name": "Bastrop County",
         "County_FIPS": 48021,
         "State_FIPS": "TX",
         "State_name": "Texas",
         "_deepnote_index_column": 7
        },
        {
         "listing_id": 300011,
         "WIC": 0,
         "SNAP": 1,
         "longitude": -84.259924,
         "latitude": 39.266388,
         "location_address": "205 Broadway Street, Loveland, Ohio 45140",
         "listing_name": "Loveland Farmers Market",
         "fm_bool": 1,
         "csa_bool": 0,
         "om_bool": 0,
         "Farmer Market Type": "Farmers' Market",
         "Benefit Type": "SNAP",
         "Block_FIPS": 390250403011004,
         "bbox": "[-84.267701, 39.258579, -84.257453, 39.266644]",
         "county_name": "Clermont County",
         "County_FIPS": 39025,
         "State_FIPS": "OH",
         "State_name": "Ohio",
         "_deepnote_index_column": 8
        },
        {
         "listing_id": 300013,
         "WIC": 1,
         "SNAP": 1,
         "longitude": -75.916118,
         "latitude": 44.331171,
         "location_address": "Route 12, Alexandria Bay, New York 13607",
         "listing_name": "Alexandria Bay Farmers Market",
         "fm_bool": 1,
         "csa_bool": 0,
         "om_bool": 0,
         "Farmer Market Type": "Farmers' Market",
         "Benefit Type": "SNAP ; WIC",
         "Block_FIPS": 360450601022017,
         "bbox": "[-75.916856, 44.33045, -75.914373, 44.33251]",
         "county_name": "Jefferson County",
         "County_FIPS": 36045,
         "State_FIPS": "NY",
         "State_name": "New York",
         "_deepnote_index_column": 9
        }
       ]
      },
      "text/plain": "      listing_id  WIC  SNAP   longitude   latitude  \\\n0         300002  0.0   1.0 -104.814680  38.937716   \n1         300003  0.0   0.0  -88.045015  30.690350   \n2         300004  0.0   0.0  -90.313530  42.404443   \n3         300005  0.0   0.0  -93.473419  44.997274   \n4         300006  1.0   1.0  -78.901856  36.000559   \n...          ...  ...   ...         ...        ...   \n3607      700736  0.0   0.0  -92.408597  45.397467   \n3608      701671  0.0   0.0  -90.067140  41.293562   \n3609      700083  1.0   0.0  -74.393467  42.902931   \n3610      701676  0.0   0.0  -96.669370  32.024657   \n3611      701677  0.0   0.0 -104.570511  39.357596   \n\n                                       location_address  \\\n0     7350 Pine Creek Road, Colorado Springs, Colora...   \n1                      300 Conti, Mobile, Alabama 36602   \n2          2000 Territory Drive, Galena, Illinois 61036   \n3        15500 County Road 6, Plymouth, Minnesota 55447   \n4       501 Foster Street, Durham, North Carolina 27701   \n...                                                 ...   \n3607        1333 - 120th Street, Amery, Wisconsin 54001   \n3608              19065 IL-81, Cambridge, IL 61238, USA   \n3609   685 Argersinger Rd, Fultonviille, New York 12072   \n3610                1885 Northwest 2162, Barry, TX, USA   \n3611           33784 County Road 21, Elizabeth, CO, USA   \n\n                                 listing_name  fm_bool  csa_bool  om_bool  \\\n0                Colorado Farm and Art Market      1.0       0.0      0.0   \n1                          Market in The Park      1.0       0.0      0.0   \n2               The Territory Farmers' Market      1.0       0.0      0.0   \n3             City of Plymouth Farmers Market      1.0       0.0      0.0   \n4                      Durham Farmers' Market      1.0       0.0      0.0   \n...                                       ...      ...       ...      ...   \n3607  Glenna Farms Country Store & Sugarhouse      0.0       0.0      1.0   \n3608                           Grateful Graze      0.0       0.0      1.0   \n3609                      Bellinger's Orchard      0.0       0.0      1.0   \n3610                      La Vida Buena Acres      0.0       0.0      1.0   \n3611                        RK Creations Farm      0.0       0.0      1.0   \n\n             Farmer Market Type                      Benefit Type  \\\n0               Farmers' Market                              SNAP   \n1               Farmers' Market  No SNAP Benefit ; No WIC Benefit   \n2               Farmers' Market  No SNAP Benefit ; No WIC Benefit   \n3               Farmers' Market  No SNAP Benefit ; No WIC Benefit   \n4               Farmers' Market                        SNAP ; WIC   \n...                         ...                               ...   \n3607  On Market Farmers' Market  No SNAP Benefit ; No WIC Benefit   \n3608  On Market Farmers' Market  No SNAP Benefit ; No WIC Benefit   \n3609  On Market Farmers' Market                               WIC   \n3610  On Market Farmers' Market  No SNAP Benefit ; No WIC Benefit   \n3611  On Market Farmers' Market  No SNAP Benefit ; No WIC Benefit   \n\n        Block_FIPS                                              bbox  \\\n0     8.041004e+13  [-104.818646, 38.932971, -104.813136, 38.938515]   \n1     1.097000e+13    [-88.045601, 30.689942, -88.044488, 30.690884]   \n2     1.708502e+14    [-90.316519, 42.400989, -90.306193, 42.406228]   \n3     2.705303e+14    [-93.481636, 44.995067, -93.472153, 45.000191]   \n4     3.706300e+14    [-78.902268, 36.000177, -78.901401, 36.001986]   \n...            ...                                               ...   \n3607  5.509596e+14    [-92.448847, 45.395804, -92.407675, 45.408456]   \n3608  1.707303e+14    [-90.068503, 41.287491, -90.063344, 41.293965]   \n3609  3.605707e+14    [-74.419985, 42.901353, -74.391864, 42.925173]   \n3610  4.834997e+14    [-96.681031, 32.006678, -96.640277, 32.036285]   \n3611  8.039961e+13  [-104.580235, 39.303274, -104.526249, 39.361358]   \n\n            county_name  County_FIPS State_FIPS      State_name  \n0        El Paso County       8041.0         CO        Colorado  \n1         Mobile County       1097.0         AL         Alabama  \n2     Jo Daviess County      17085.0         IL        Illinois  \n3       Hennepin County      27053.0         MN       Minnesota  \n4         Durham County      37063.0         NC  North Carolina  \n...                 ...          ...        ...             ...  \n3607        Polk County      55095.0         WI       Wisconsin  \n3608       Henry County      17073.0         IL        Illinois  \n3609  Montgomery County      36057.0         NY        New York  \n3610     Navarro County      48349.0         TX           Texas  \n3611      Elbert County       8039.0         CO        Colorado  \n\n[3612 rows x 18 columns]",
      "text/html": "<div>\n<style scoped>\n    .dataframe tbody tr th:only-of-type {\n        vertical-align: middle;\n    }\n\n    .dataframe tbody tr th {\n        vertical-align: top;\n    }\n\n    .dataframe thead th {\n        text-align: right;\n    }\n</style>\n<table border=\"1\" class=\"dataframe\">\n  <thead>\n    <tr style=\"text-align: right;\">\n      <th></th>\n      <th>listing_id</th>\n      <th>WIC</th>\n      <th>SNAP</th>\n      <th>longitude</th>\n      <th>latitude</th>\n      <th>location_address</th>\n      <th>listing_name</th>\n      <th>fm_bool</th>\n      <th>csa_bool</th>\n      <th>om_bool</th>\n      <th>Farmer Market Type</th>\n      <th>Benefit Type</th>\n      <th>Block_FIPS</th>\n      <th>bbox</th>\n      <th>county_name</th>\n      <th>County_FIPS</th>\n      <th>State_FIPS</th>\n      <th>State_name</th>\n    </tr>\n  </thead>\n  <tbody>\n    <tr>\n      <th>0</th>\n      <td>300002</td>\n      <td>0.0</td>\n      <td>1.0</td>\n      <td>-104.814680</td>\n      <td>38.937716</td>\n      <td>7350 Pine Creek Road, Colorado Springs, Colora...</td>\n      <td>Colorado Farm and Art Market</td>\n      <td>1.0</td>\n      <td>0.0</td>\n      <td>0.0</td>\n      <td>Farmers' Market</td>\n      <td>SNAP</td>\n      <td>8.041004e+13</td>\n      <td>[-104.818646, 38.932971, -104.813136, 38.938515]</td>\n      <td>El Paso County</td>\n      <td>8041.0</td>\n      <td>CO</td>\n      <td>Colorado</td>\n    </tr>\n    <tr>\n      <th>1</th>\n      <td>300003</td>\n      <td>0.0</td>\n      <td>0.0</td>\n      <td>-88.045015</td>\n      <td>30.690350</td>\n      <td>300 Conti, Mobile, Alabama 36602</td>\n      <td>Market in The Park</td>\n      <td>1.0</td>\n      <td>0.0</td>\n      <td>0.0</td>\n      <td>Farmers' Market</td>\n      <td>No SNAP Benefit ; No WIC Benefit</td>\n      <td>1.097000e+13</td>\n      <td>[-88.045601, 30.689942, -88.044488, 30.690884]</td>\n      <td>Mobile County</td>\n      <td>1097.0</td>\n      <td>AL</td>\n      <td>Alabama</td>\n    </tr>\n    <tr>\n      <th>2</th>\n      <td>300004</td>\n      <td>0.0</td>\n      <td>0.0</td>\n      <td>-90.313530</td>\n      <td>42.404443</td>\n      <td>2000 Territory Drive, Galena, Illinois 61036</td>\n      <td>The Territory Farmers' Market</td>\n      <td>1.0</td>\n      <td>0.0</td>\n      <td>0.0</td>\n      <td>Farmers' Market</td>\n      <td>No SNAP Benefit ; No WIC Benefit</td>\n      <td>1.708502e+14</td>\n      <td>[-90.316519, 42.400989, -90.306193, 42.406228]</td>\n      <td>Jo Daviess County</td>\n      <td>17085.0</td>\n      <td>IL</td>\n      <td>Illinois</td>\n    </tr>\n    <tr>\n      <th>3</th>\n      <td>300005</td>\n      <td>0.0</td>\n      <td>0.0</td>\n      <td>-93.473419</td>\n      <td>44.997274</td>\n      <td>15500 County Road 6, Plymouth, Minnesota 55447</td>\n      <td>City of Plymouth Farmers Market</td>\n      <td>1.0</td>\n      <td>0.0</td>\n      <td>0.0</td>\n      <td>Farmers' Market</td>\n      <td>No SNAP Benefit ; No WIC Benefit</td>\n      <td>2.705303e+14</td>\n      <td>[-93.481636, 44.995067, -93.472153, 45.000191]</td>\n      <td>Hennepin County</td>\n      <td>27053.0</td>\n      <td>MN</td>\n      <td>Minnesota</td>\n    </tr>\n    <tr>\n      <th>4</th>\n      <td>300006</td>\n      <td>1.0</td>\n      <td>1.0</td>\n      <td>-78.901856</td>\n      <td>36.000559</td>\n      <td>501 Foster Street, Durham, North Carolina 27701</td>\n      <td>Durham Farmers' Market</td>\n      <td>1.0</td>\n      <td>0.0</td>\n      <td>0.0</td>\n      <td>Farmers' Market</td>\n      <td>SNAP ; WIC</td>\n      <td>3.706300e+14</td>\n      <td>[-78.902268, 36.000177, -78.901401, 36.001986]</td>\n      <td>Durham County</td>\n      <td>37063.0</td>\n      <td>NC</td>\n      <td>North Carolina</td>\n    </tr>\n    <tr>\n      <th>...</th>\n      <td>...</td>\n      <td>...</td>\n      <td>...</td>\n      <td>...</td>\n      <td>...</td>\n      <td>...</td>\n      <td>...</td>\n      <td>...</td>\n      <td>...</td>\n      <td>...</td>\n      <td>...</td>\n      <td>...</td>\n      <td>...</td>\n      <td>...</td>\n      <td>...</td>\n      <td>...</td>\n      <td>...</td>\n      <td>...</td>\n    </tr>\n    <tr>\n      <th>3607</th>\n      <td>700736</td>\n      <td>0.0</td>\n      <td>0.0</td>\n      <td>-92.408597</td>\n      <td>45.397467</td>\n      <td>1333 - 120th Street, Amery, Wisconsin 54001</td>\n      <td>Glenna Farms Country Store &amp; Sugarhouse</td>\n      <td>0.0</td>\n      <td>0.0</td>\n      <td>1.0</td>\n      <td>On Market Farmers' Market</td>\n      <td>No SNAP Benefit ; No WIC Benefit</td>\n      <td>5.509596e+14</td>\n      <td>[-92.448847, 45.395804, -92.407675, 45.408456]</td>\n      <td>Polk County</td>\n      <td>55095.0</td>\n      <td>WI</td>\n      <td>Wisconsin</td>\n    </tr>\n    <tr>\n      <th>3608</th>\n      <td>701671</td>\n      <td>0.0</td>\n      <td>0.0</td>\n      <td>-90.067140</td>\n      <td>41.293562</td>\n      <td>19065 IL-81, Cambridge, IL 61238, USA</td>\n      <td>Grateful Graze</td>\n      <td>0.0</td>\n      <td>0.0</td>\n      <td>1.0</td>\n      <td>On Market Farmers' Market</td>\n      <td>No SNAP Benefit ; No WIC Benefit</td>\n      <td>1.707303e+14</td>\n      <td>[-90.068503, 41.287491, -90.063344, 41.293965]</td>\n      <td>Henry County</td>\n      <td>17073.0</td>\n      <td>IL</td>\n      <td>Illinois</td>\n    </tr>\n    <tr>\n      <th>3609</th>\n      <td>700083</td>\n      <td>1.0</td>\n      <td>0.0</td>\n      <td>-74.393467</td>\n      <td>42.902931</td>\n      <td>685 Argersinger Rd, Fultonviille, New York 12072</td>\n      <td>Bellinger's Orchard</td>\n      <td>0.0</td>\n      <td>0.0</td>\n      <td>1.0</td>\n      <td>On Market Farmers' Market</td>\n      <td>WIC</td>\n      <td>3.605707e+14</td>\n      <td>[-74.419985, 42.901353, -74.391864, 42.925173]</td>\n      <td>Montgomery County</td>\n      <td>36057.0</td>\n      <td>NY</td>\n      <td>New York</td>\n    </tr>\n    <tr>\n      <th>3610</th>\n      <td>701676</td>\n      <td>0.0</td>\n      <td>0.0</td>\n      <td>-96.669370</td>\n      <td>32.024657</td>\n      <td>1885 Northwest 2162, Barry, TX, USA</td>\n      <td>La Vida Buena Acres</td>\n      <td>0.0</td>\n      <td>0.0</td>\n      <td>1.0</td>\n      <td>On Market Farmers' Market</td>\n      <td>No SNAP Benefit ; No WIC Benefit</td>\n      <td>4.834997e+14</td>\n      <td>[-96.681031, 32.006678, -96.640277, 32.036285]</td>\n      <td>Navarro County</td>\n      <td>48349.0</td>\n      <td>TX</td>\n      <td>Texas</td>\n    </tr>\n    <tr>\n      <th>3611</th>\n      <td>701677</td>\n      <td>0.0</td>\n      <td>0.0</td>\n      <td>-104.570511</td>\n      <td>39.357596</td>\n      <td>33784 County Road 21, Elizabeth, CO, USA</td>\n      <td>RK Creations Farm</td>\n      <td>0.0</td>\n      <td>0.0</td>\n      <td>1.0</td>\n      <td>On Market Farmers' Market</td>\n      <td>No SNAP Benefit ; No WIC Benefit</td>\n      <td>8.039961e+13</td>\n      <td>[-104.580235, 39.303274, -104.526249, 39.361358]</td>\n      <td>Elbert County</td>\n      <td>8039.0</td>\n      <td>CO</td>\n      <td>Colorado</td>\n    </tr>\n  </tbody>\n</table>\n<p>3612 rows × 18 columns</p>\n</div>"
     },
     "metadata": {}
    }
   ],
   "execution_count": 261
  },
  {
   "cell_type": "code",
   "source": "gpd_df = gpd.GeoDataFrame(fm_csa_om_df, geometry = gpd.points_from_xy(fm_csa_om_df.longitude, fm_csa_om_df.latitude))\ngpd_df",
   "metadata": {
    "cell_id": "c66862f9479e4402b1b36ae528e3bdb2",
    "tags": [],
    "deepnote_to_be_reexecuted": false,
    "source_hash": "fbfa8312",
    "execution_start": 1658015068037,
    "execution_millis": 1111,
    "deepnote_cell_type": "code",
    "deepnote_cell_height": 617.90625
   },
   "outputs": [
    {
     "output_type": "execute_result",
     "execution_count": 264,
     "data": {
      "application/vnd.deepnote.dataframe.v3+json": {
       "column_count": 19,
       "row_count": 3612,
       "columns": [
        {
         "name": "listing_id",
         "dtype": "int64",
         "stats": {
          "unique_count": 3612,
          "nan_count": 0,
          "min": "5815",
          "max": "701677",
          "histogram": [
           {
            "bin_start": 5815,
            "bin_end": 75401.2,
            "count": 6
           },
           {
            "bin_start": 75401.2,
            "bin_end": 144987.4,
            "count": 0
           },
           {
            "bin_start": 144987.4,
            "bin_end": 214573.59999999998,
            "count": 959
           },
           {
            "bin_start": 214573.59999999998,
            "bin_end": 284159.8,
            "count": 0
           },
           {
            "bin_start": 284159.8,
            "bin_end": 353746,
            "count": 992
           },
           {
            "bin_start": 353746,
            "bin_end": 423332.19999999995,
            "count": 0
           },
           {
            "bin_start": 423332.19999999995,
            "bin_end": 492918.39999999997,
            "count": 0
           },
           {
            "bin_start": 492918.39999999997,
            "bin_end": 562504.6,
            "count": 0
           },
           {
            "bin_start": 562504.6,
            "bin_end": 632090.7999999999,
            "count": 0
           },
           {
            "bin_start": 632090.7999999999,
            "bin_end": 701677,
            "count": 1655
           }
          ]
         }
        },
        {
         "name": "WIC",
         "dtype": "float64",
         "stats": {
          "unique_count": 2,
          "nan_count": 0,
          "min": "0.0",
          "max": "1.0",
          "histogram": [
           {
            "bin_start": 0,
            "bin_end": 0.1,
            "count": 3049
           },
           {
            "bin_start": 0.1,
            "bin_end": 0.2,
            "count": 0
           },
           {
            "bin_start": 0.2,
            "bin_end": 0.30000000000000004,
            "count": 0
           },
           {
            "bin_start": 0.30000000000000004,
            "bin_end": 0.4,
            "count": 0
           },
           {
            "bin_start": 0.4,
            "bin_end": 0.5,
            "count": 0
           },
           {
            "bin_start": 0.5,
            "bin_end": 0.6000000000000001,
            "count": 0
           },
           {
            "bin_start": 0.6000000000000001,
            "bin_end": 0.7000000000000001,
            "count": 0
           },
           {
            "bin_start": 0.7000000000000001,
            "bin_end": 0.8,
            "count": 0
           },
           {
            "bin_start": 0.8,
            "bin_end": 0.9,
            "count": 0
           },
           {
            "bin_start": 0.9,
            "bin_end": 1,
            "count": 563
           }
          ]
         }
        },
        {
         "name": "SNAP",
         "dtype": "float64",
         "stats": {
          "unique_count": 2,
          "nan_count": 0,
          "min": "0.0",
          "max": "1.0",
          "histogram": [
           {
            "bin_start": 0,
            "bin_end": 0.1,
            "count": 2589
           },
           {
            "bin_start": 0.1,
            "bin_end": 0.2,
            "count": 0
           },
           {
            "bin_start": 0.2,
            "bin_end": 0.30000000000000004,
            "count": 0
           },
           {
            "bin_start": 0.30000000000000004,
            "bin_end": 0.4,
            "count": 0
           },
           {
            "bin_start": 0.4,
            "bin_end": 0.5,
            "count": 0
           },
           {
            "bin_start": 0.5,
            "bin_end": 0.6000000000000001,
            "count": 0
           },
           {
            "bin_start": 0.6000000000000001,
            "bin_end": 0.7000000000000001,
            "count": 0
           },
           {
            "bin_start": 0.7000000000000001,
            "bin_end": 0.8,
            "count": 0
           },
           {
            "bin_start": 0.8,
            "bin_end": 0.9,
            "count": 0
           },
           {
            "bin_start": 0.9,
            "bin_end": 1,
            "count": 1023
           }
          ]
         }
        },
        {
         "name": "longitude",
         "dtype": "float64",
         "stats": {
          "unique_count": 3586,
          "nan_count": 0,
          "min": "-159.4992",
          "max": "0.43705",
          "histogram": [
           {
            "bin_start": -159.4992,
            "bin_end": -143.505575,
            "count": 25
           },
           {
            "bin_start": -143.505575,
            "bin_end": -127.51195,
            "count": 3
           },
           {
            "bin_start": -127.51195,
            "bin_end": -111.518325,
            "count": 548
           },
           {
            "bin_start": -111.518325,
            "bin_end": -95.5247,
            "count": 311
           },
           {
            "bin_start": -95.5247,
            "bin_end": -79.531075,
            "count": 1721
           },
           {
            "bin_start": -79.531075,
            "bin_end": -63.53745000000001,
            "count": 1002
           },
           {
            "bin_start": -63.53745000000001,
            "bin_end": -47.543825,
            "count": 0
           },
           {
            "bin_start": -47.543825,
            "bin_end": -31.550200000000004,
            "count": 0
           },
           {
            "bin_start": -31.550200000000004,
            "bin_end": -15.55657500000001,
            "count": 0
           },
           {
            "bin_start": -15.55657500000001,
            "bin_end": 0.43705,
            "count": 2
           }
          ]
         }
        },
        {
         "name": "latitude",
         "dtype": "float64",
         "stats": {
          "unique_count": 3581,
          "nan_count": 0,
          "min": "0.049438",
          "max": "64.90857",
          "histogram": [
           {
            "bin_start": 0.049438,
            "bin_end": 6.535351200000001,
            "count": 2
           },
           {
            "bin_start": 6.535351200000001,
            "bin_end": 13.021264400000002,
            "count": 0
           },
           {
            "bin_start": 13.021264400000002,
            "bin_end": 19.507177600000002,
            "count": 8
           },
           {
            "bin_start": 19.507177600000002,
            "bin_end": 25.9930908,
            "count": 24
           },
           {
            "bin_start": 25.9930908,
            "bin_end": 32.479004,
            "count": 269
           },
           {
            "bin_start": 32.479004,
            "bin_end": 38.96491720000001,
            "count": 1059
           },
           {
            "bin_start": 38.96491720000001,
            "bin_end": 45.45083040000001,
            "count": 1980
           },
           {
            "bin_start": 45.45083040000001,
            "bin_end": 51.93674360000001,
            "count": 258
           },
           {
            "bin_start": 51.93674360000001,
            "bin_end": 58.422656800000006,
            "count": 2
           },
           {
            "bin_start": 58.422656800000006,
            "bin_end": 64.90857,
            "count": 10
           }
          ]
         }
        },
        {
         "name": "location_address",
         "dtype": "object",
         "stats": {
          "unique_count": 3557,
          "nan_count": 0,
          "categories": [
           {
            "name": "91 South St., New York , New York 10038",
            "count": 3
           },
           {
            "name": "750 University Row, Madison, Wisconsin 53705",
            "count": 2
           },
           {
            "name": "3555 others",
            "count": 3607
           }
          ]
         }
        },
        {
         "name": "listing_name",
         "dtype": "object",
         "stats": {
          "unique_count": 3512,
          "nan_count": 0,
          "categories": [
           {
            "name": "Campbell County Farmers Market Association",
            "count": 3
           },
           {
            "name": "Historic Lewes Farmers Market",
            "count": 3
           },
           {
            "name": "3510 others",
            "count": 3606
           }
          ]
         }
        },
        {
         "name": "fm_bool",
         "dtype": "float64",
         "stats": {
          "unique_count": 2,
          "nan_count": 0,
          "min": "0.0",
          "max": "1.0",
          "histogram": [
           {
            "bin_start": 0,
            "bin_end": 0.1,
            "count": 2614
           },
           {
            "bin_start": 0.1,
            "bin_end": 0.2,
            "count": 0
           },
           {
            "bin_start": 0.2,
            "bin_end": 0.30000000000000004,
            "count": 0
           },
           {
            "bin_start": 0.30000000000000004,
            "bin_end": 0.4,
            "count": 0
           },
           {
            "bin_start": 0.4,
            "bin_end": 0.5,
            "count": 0
           },
           {
            "bin_start": 0.5,
            "bin_end": 0.6000000000000001,
            "count": 0
           },
           {
            "bin_start": 0.6000000000000001,
            "bin_end": 0.7000000000000001,
            "count": 0
           },
           {
            "bin_start": 0.7000000000000001,
            "bin_end": 0.8,
            "count": 0
           },
           {
            "bin_start": 0.8,
            "bin_end": 0.9,
            "count": 0
           },
           {
            "bin_start": 0.9,
            "bin_end": 1,
            "count": 998
           }
          ]
         }
        },
        {
         "name": "csa_bool",
         "dtype": "float64",
         "stats": {
          "unique_count": 2,
          "nan_count": 0,
          "min": "0.0",
          "max": "1.0",
          "histogram": [
           {
            "bin_start": 0,
            "bin_end": 0.1,
            "count": 2653
           },
           {
            "bin_start": 0.1,
            "bin_end": 0.2,
            "count": 0
           },
           {
            "bin_start": 0.2,
            "bin_end": 0.30000000000000004,
            "count": 0
           },
           {
            "bin_start": 0.30000000000000004,
            "bin_end": 0.4,
            "count": 0
           },
           {
            "bin_start": 0.4,
            "bin_end": 0.5,
            "count": 0
           },
           {
            "bin_start": 0.5,
            "bin_end": 0.6000000000000001,
            "count": 0
           },
           {
            "bin_start": 0.6000000000000001,
            "bin_end": 0.7000000000000001,
            "count": 0
           },
           {
            "bin_start": 0.7000000000000001,
            "bin_end": 0.8,
            "count": 0
           },
           {
            "bin_start": 0.8,
            "bin_end": 0.9,
            "count": 0
           },
           {
            "bin_start": 0.9,
            "bin_end": 1,
            "count": 959
           }
          ]
         }
        },
        {
         "name": "om_bool",
         "dtype": "float64",
         "stats": {
          "unique_count": 2,
          "nan_count": 0,
          "min": "0.0",
          "max": "1.0",
          "histogram": [
           {
            "bin_start": 0,
            "bin_end": 0.1,
            "count": 1957
           },
           {
            "bin_start": 0.1,
            "bin_end": 0.2,
            "count": 0
           },
           {
            "bin_start": 0.2,
            "bin_end": 0.30000000000000004,
            "count": 0
           },
           {
            "bin_start": 0.30000000000000004,
            "bin_end": 0.4,
            "count": 0
           },
           {
            "bin_start": 0.4,
            "bin_end": 0.5,
            "count": 0
           },
           {
            "bin_start": 0.5,
            "bin_end": 0.6000000000000001,
            "count": 0
           },
           {
            "bin_start": 0.6000000000000001,
            "bin_end": 0.7000000000000001,
            "count": 0
           },
           {
            "bin_start": 0.7000000000000001,
            "bin_end": 0.8,
            "count": 0
           },
           {
            "bin_start": 0.8,
            "bin_end": 0.9,
            "count": 0
           },
           {
            "bin_start": 0.9,
            "bin_end": 1,
            "count": 1655
           }
          ]
         }
        },
        {
         "name": "Farmer Market Type",
         "dtype": "object",
         "stats": {
          "unique_count": 3,
          "nan_count": 0,
          "categories": [
           {
            "name": "On Market Farmers' Market",
            "count": 1655
           },
           {
            "name": "Farmers' Market",
            "count": 998
           },
           {
            "name": "Community Supported Agriculture",
            "count": 959
           }
          ]
         }
        },
        {
         "name": "Benefit Type",
         "dtype": "object",
         "stats": {
          "unique_count": 4,
          "nan_count": 0,
          "categories": [
           {
            "name": "No SNAP Benefit ; No WIC Benefit",
            "count": 2440
           },
           {
            "name": "SNAP",
            "count": 609
           },
           {
            "name": "2 others",
            "count": 563
           }
          ]
         }
        },
        {
         "name": "Block_FIPS",
         "dtype": "float64",
         "stats": {
          "unique_count": 3502,
          "nan_count": 2,
          "min": "10030104002105.0",
          "max": "780109704004057.0",
          "histogram": [
           {
            "bin_start": 10030104002105,
            "bin_end": 87038064002300.2,
            "count": 393
           },
           {
            "bin_start": 87038064002300.2,
            "bin_end": 164046024002495.4,
            "count": 326
           },
           {
            "bin_start": 164046024002495.4,
            "bin_end": 241053984002690.62,
            "count": 624
           },
           {
            "bin_start": 241053984002690.62,
            "bin_end": 318061944002885.8,
            "count": 518
           },
           {
            "bin_start": 318061944002885.8,
            "bin_end": 395069904003081,
            "count": 628
           },
           {
            "bin_start": 395069904003081,
            "bin_end": 472077864003276.25,
            "count": 485
           },
           {
            "bin_start": 472077864003276.25,
            "bin_end": 549085824003471.44,
            "count": 470
           },
           {
            "bin_start": 549085824003471.44,
            "bin_end": 626093784003666.6,
            "count": 162
           },
           {
            "bin_start": 626093784003666.6,
            "bin_end": 703101744003861.9,
            "count": 0
           },
           {
            "bin_start": 703101744003861.9,
            "bin_end": 780109704004057,
            "count": 4
           }
          ]
         }
        },
        {
         "name": "bbox",
         "dtype": "object",
         "stats": {
          "unique_count": 3502,
          "nan_count": 2,
          "categories": [
           {
            "name": "[-98.52601, 29.471992, -98.524274, 29.472812]",
            "count": 6
           },
           {
            "name": "3501 others",
            "count": 3604
           },
           {
            "name": "Missing",
            "count": 2
           }
          ]
         }
        },
        {
         "name": "county_name",
         "dtype": "object",
         "stats": {
          "unique_count": 974,
          "nan_count": 2,
          "categories": [
           {
            "name": "Washington County",
            "count": 63
           },
           {
            "name": "973 others",
            "count": 3547
           },
           {
            "name": "Missing",
            "count": 2
           }
          ]
         }
        },
        {
         "name": "County_FIPS",
         "dtype": "float64",
         "stats": {
          "unique_count": 1391,
          "nan_count": 2,
          "min": "1003.0",
          "max": "78010.0",
          "histogram": [
           {
            "bin_start": 1003,
            "bin_end": 8703.7,
            "count": 393
           },
           {
            "bin_start": 8703.7,
            "bin_end": 16404.4,
            "count": 326
           },
           {
            "bin_start": 16404.4,
            "bin_end": 24105.1,
            "count": 624
           },
           {
            "bin_start": 24105.1,
            "bin_end": 31805.8,
            "count": 518
           },
           {
            "bin_start": 31805.8,
            "bin_end": 39506.5,
            "count": 628
           },
           {
            "bin_start": 39506.5,
            "bin_end": 47207.2,
            "count": 485
           },
           {
            "bin_start": 47207.2,
            "bin_end": 54907.9,
            "count": 470
           },
           {
            "bin_start": 54907.9,
            "bin_end": 62608.6,
            "count": 162
           },
           {
            "bin_start": 62608.6,
            "bin_end": 70309.3,
            "count": 0
           },
           {
            "bin_start": 70309.3,
            "bin_end": 78010,
            "count": 4
           }
          ]
         }
        },
        {
         "name": "State_FIPS",
         "dtype": "object",
         "stats": {
          "unique_count": 53,
          "nan_count": 2,
          "categories": [
           {
            "name": "CA",
            "count": 220
           },
           {
            "name": "52 others",
            "count": 3390
           },
           {
            "name": "Missing",
            "count": 2
           }
          ]
         }
        },
        {
         "name": "State_name",
         "dtype": "object",
         "stats": {
          "unique_count": 53,
          "nan_count": 2,
          "categories": [
           {
            "name": "California",
            "count": 220
           },
           {
            "name": "52 others",
            "count": 3390
           },
           {
            "name": "Missing",
            "count": 2
           }
          ]
         }
        },
        {
         "name": "geometry",
         "dtype": "geometry",
         "stats": {
          "unique_count": 3589,
          "nan_count": 0,
          "categories": [
           {
            "name": "POINT (-98.525142 29.472403)",
            "count": 6
           },
           {
            "name": "POINT (-88.435654 42.310266)",
            "count": 3
           },
           {
            "name": "3587 others",
            "count": 3603
           }
          ]
         }
        },
        {
         "name": "_deepnote_index_column",
         "dtype": "int64"
        }
       ],
       "rows": [
        {
         "listing_id": 300002,
         "WIC": 0,
         "SNAP": 1,
         "longitude": -104.81468,
         "latitude": 38.937716,
         "location_address": "7350 Pine Creek Road, Colorado Springs, Colorado 80919",
         "listing_name": "Colorado Farm and Art Market",
         "fm_bool": 1,
         "csa_bool": 0,
         "om_bool": 0,
         "Farmer Market Type": "Farmers' Market",
         "Benefit Type": "SNAP",
         "Block_FIPS": 80410037054015,
         "bbox": "[-104.818646, 38.932971, -104.813136, 38.938515]",
         "county_name": "El Paso County",
         "County_FIPS": 8041,
         "State_FIPS": "CO",
         "State_name": "Colorado",
         "geometry": "POINT (-104.81468 38.937716)",
         "_deepnote_index_column": 0
        },
        {
         "listing_id": 300003,
         "WIC": 0,
         "SNAP": 0,
         "longitude": -88.045015,
         "latitude": 30.69035,
         "location_address": "300 Conti, Mobile, Alabama 36602",
         "listing_name": "Market in The Park",
         "fm_bool": 1,
         "csa_bool": 0,
         "om_bool": 0,
         "Farmer Market Type": "Farmers' Market",
         "Benefit Type": "No SNAP Benefit ; No WIC Benefit",
         "Block_FIPS": 10970002001018,
         "bbox": "[-88.045601, 30.689942, -88.044488, 30.690884]",
         "county_name": "Mobile County",
         "County_FIPS": 1097,
         "State_FIPS": "AL",
         "State_name": "Alabama",
         "geometry": "POINT (-88.045015 30.69035)",
         "_deepnote_index_column": 1
        },
        {
         "listing_id": 300004,
         "WIC": 0,
         "SNAP": 0,
         "longitude": -90.31353,
         "latitude": 42.404443,
         "location_address": "2000 Territory Drive, Galena, Illinois 61036",
         "listing_name": "The Territory Farmers' Market",
         "fm_bool": 1,
         "csa_bool": 0,
         "om_bool": 0,
         "Farmer Market Type": "Farmers' Market",
         "Benefit Type": "No SNAP Benefit ; No WIC Benefit",
         "Block_FIPS": 170850204011042,
         "bbox": "[-90.316519, 42.400989, -90.306193, 42.406228]",
         "county_name": "Jo Daviess County",
         "County_FIPS": 17085,
         "State_FIPS": "IL",
         "State_name": "Illinois",
         "geometry": "POINT (-90.31353 42.404443)",
         "_deepnote_index_column": 2
        },
        {
         "listing_id": 300005,
         "WIC": 0,
         "SNAP": 0,
         "longitude": -93.473419,
         "latitude": 44.997274,
         "location_address": "15500 County Road 6, Plymouth, Minnesota 55447",
         "listing_name": "City of Plymouth Farmers Market",
         "fm_bool": 1,
         "csa_bool": 0,
         "om_bool": 0,
         "Farmer Market Type": "Farmers' Market",
         "Benefit Type": "No SNAP Benefit ; No WIC Benefit",
         "Block_FIPS": 270530266113004,
         "bbox": "[-93.481636, 44.995067, -93.472153, 45.000191]",
         "county_name": "Hennepin County",
         "County_FIPS": 27053,
         "State_FIPS": "MN",
         "State_name": "Minnesota",
         "geometry": "POINT (-93.473419 44.997274)",
         "_deepnote_index_column": 3
        },
        {
         "listing_id": 300006,
         "WIC": 1,
         "SNAP": 1,
         "longitude": -78.901856,
         "latitude": 36.000559,
         "location_address": "501 Foster Street, Durham, North Carolina 27701",
         "listing_name": "Durham Farmers' Market",
         "fm_bool": 1,
         "csa_bool": 0,
         "om_bool": 0,
         "Farmer Market Type": "Farmers' Market",
         "Benefit Type": "SNAP ; WIC",
         "Block_FIPS": 370630022002064,
         "bbox": "[-78.902268, 36.000177, -78.901401, 36.001986]",
         "county_name": "Durham County",
         "County_FIPS": 37063,
         "State_FIPS": "NC",
         "State_name": "North Carolina",
         "geometry": "POINT (-78.901856 36.000559)",
         "_deepnote_index_column": 4
        },
        {
         "listing_id": 300008,
         "WIC": 1,
         "SNAP": 1,
         "longitude": -77.452948,
         "latitude": 43.212229,
         "location_address": "1028 Ridge Road, Webster Towne Center, Webster, New York 14580",
         "listing_name": "Webster's Joe Obbie Farmers' Market, Inc.",
         "fm_bool": 1,
         "csa_bool": 0,
         "om_bool": 0,
         "Farmer Market Type": "Farmers' Market",
         "Benefit Type": "SNAP ; WIC",
         "Block_FIPS": 360550112102001,
         "bbox": "[-77.461304, 43.209238, -77.449427, 43.215407]",
         "county_name": "Monroe County",
         "County_FIPS": 36055,
         "State_FIPS": "NY",
         "State_name": "New York",
         "geometry": "POINT (-77.452948 43.212229)",
         "_deepnote_index_column": 5
        },
        {
         "listing_id": 300009,
         "WIC": 1,
         "SNAP": 1,
         "longitude": -88.40703,
         "latitude": 44.26201,
         "location_address": "100 College Avenue, Appleton, Wisconsin 54911",
         "listing_name": "Appleton Downtown Farm Market",
         "fm_bool": 1,
         "csa_bool": 0,
         "om_bool": 0,
         "Farmer Market Type": "Farmers' Market",
         "Benefit Type": "SNAP ; WIC",
         "Block_FIPS": 550870101001015,
         "bbox": "[-88.407266, 44.261816, -88.404326, 44.262945]",
         "county_name": "Outagamie County",
         "County_FIPS": 55087,
         "State_FIPS": "WI",
         "State_name": "Wisconsin",
         "geometry": "POINT (-88.40703 44.26201)",
         "_deepnote_index_column": 6
        },
        {
         "listing_id": 300010,
         "WIC": 0,
         "SNAP": 1,
         "longitude": -97.311627,
         "latitude": 30.111777,
         "location_address": "1302 Chestnut Street, Bastrop, Texas 78602",
         "listing_name": "Bastrop 1832 Farmers Market",
         "fm_bool": 1,
         "csa_bool": 0,
         "om_bool": 0,
         "Farmer Market Type": "Farmers' Market",
         "Benefit Type": "SNAP",
         "Block_FIPS": 480219504014050,
         "bbox": "[-97.312578, 30.110625, -97.307615, 30.112895]",
         "county_name": "Bastrop County",
         "County_FIPS": 48021,
         "State_FIPS": "TX",
         "State_name": "Texas",
         "geometry": "POINT (-97.311627 30.111777)",
         "_deepnote_index_column": 7
        },
        {
         "listing_id": 300011,
         "WIC": 0,
         "SNAP": 1,
         "longitude": -84.259924,
         "latitude": 39.266388,
         "location_address": "205 Broadway Street, Loveland, Ohio 45140",
         "listing_name": "Loveland Farmers Market",
         "fm_bool": 1,
         "csa_bool": 0,
         "om_bool": 0,
         "Farmer Market Type": "Farmers' Market",
         "Benefit Type": "SNAP",
         "Block_FIPS": 390250403011004,
         "bbox": "[-84.267701, 39.258579, -84.257453, 39.266644]",
         "county_name": "Clermont County",
         "County_FIPS": 39025,
         "State_FIPS": "OH",
         "State_name": "Ohio",
         "geometry": "POINT (-84.259924 39.266388)",
         "_deepnote_index_column": 8
        },
        {
         "listing_id": 300013,
         "WIC": 1,
         "SNAP": 1,
         "longitude": -75.916118,
         "latitude": 44.331171,
         "location_address": "Route 12, Alexandria Bay, New York 13607",
         "listing_name": "Alexandria Bay Farmers Market",
         "fm_bool": 1,
         "csa_bool": 0,
         "om_bool": 0,
         "Farmer Market Type": "Farmers' Market",
         "Benefit Type": "SNAP ; WIC",
         "Block_FIPS": 360450601022017,
         "bbox": "[-75.916856, 44.33045, -75.914373, 44.33251]",
         "county_name": "Jefferson County",
         "County_FIPS": 36045,
         "State_FIPS": "NY",
         "State_name": "New York",
         "geometry": "POINT (-75.916118 44.331171)",
         "_deepnote_index_column": 9
        }
       ]
      },
      "text/plain": "      listing_id  WIC  SNAP   longitude   latitude  \\\n0         300002  0.0   1.0 -104.814680  38.937716   \n1         300003  0.0   0.0  -88.045015  30.690350   \n2         300004  0.0   0.0  -90.313530  42.404443   \n3         300005  0.0   0.0  -93.473419  44.997274   \n4         300006  1.0   1.0  -78.901856  36.000559   \n...          ...  ...   ...         ...        ...   \n3607      700736  0.0   0.0  -92.408597  45.397467   \n3608      701671  0.0   0.0  -90.067140  41.293562   \n3609      700083  1.0   0.0  -74.393467  42.902931   \n3610      701676  0.0   0.0  -96.669370  32.024657   \n3611      701677  0.0   0.0 -104.570511  39.357596   \n\n                                       location_address  \\\n0     7350 Pine Creek Road, Colorado Springs, Colora...   \n1                      300 Conti, Mobile, Alabama 36602   \n2          2000 Territory Drive, Galena, Illinois 61036   \n3        15500 County Road 6, Plymouth, Minnesota 55447   \n4       501 Foster Street, Durham, North Carolina 27701   \n...                                                 ...   \n3607        1333 - 120th Street, Amery, Wisconsin 54001   \n3608              19065 IL-81, Cambridge, IL 61238, USA   \n3609   685 Argersinger Rd, Fultonviille, New York 12072   \n3610                1885 Northwest 2162, Barry, TX, USA   \n3611           33784 County Road 21, Elizabeth, CO, USA   \n\n                                 listing_name  fm_bool  csa_bool  om_bool  \\\n0                Colorado Farm and Art Market      1.0       0.0      0.0   \n1                          Market in The Park      1.0       0.0      0.0   \n2               The Territory Farmers' Market      1.0       0.0      0.0   \n3             City of Plymouth Farmers Market      1.0       0.0      0.0   \n4                      Durham Farmers' Market      1.0       0.0      0.0   \n...                                       ...      ...       ...      ...   \n3607  Glenna Farms Country Store & Sugarhouse      0.0       0.0      1.0   \n3608                           Grateful Graze      0.0       0.0      1.0   \n3609                      Bellinger's Orchard      0.0       0.0      1.0   \n3610                      La Vida Buena Acres      0.0       0.0      1.0   \n3611                        RK Creations Farm      0.0       0.0      1.0   \n\n             Farmer Market Type                      Benefit Type  \\\n0               Farmers' Market                              SNAP   \n1               Farmers' Market  No SNAP Benefit ; No WIC Benefit   \n2               Farmers' Market  No SNAP Benefit ; No WIC Benefit   \n3               Farmers' Market  No SNAP Benefit ; No WIC Benefit   \n4               Farmers' Market                        SNAP ; WIC   \n...                         ...                               ...   \n3607  On Market Farmers' Market  No SNAP Benefit ; No WIC Benefit   \n3608  On Market Farmers' Market  No SNAP Benefit ; No WIC Benefit   \n3609  On Market Farmers' Market                               WIC   \n3610  On Market Farmers' Market  No SNAP Benefit ; No WIC Benefit   \n3611  On Market Farmers' Market  No SNAP Benefit ; No WIC Benefit   \n\n        Block_FIPS                                              bbox  \\\n0     8.041004e+13  [-104.818646, 38.932971, -104.813136, 38.938515]   \n1     1.097000e+13    [-88.045601, 30.689942, -88.044488, 30.690884]   \n2     1.708502e+14    [-90.316519, 42.400989, -90.306193, 42.406228]   \n3     2.705303e+14    [-93.481636, 44.995067, -93.472153, 45.000191]   \n4     3.706300e+14    [-78.902268, 36.000177, -78.901401, 36.001986]   \n...            ...                                               ...   \n3607  5.509596e+14    [-92.448847, 45.395804, -92.407675, 45.408456]   \n3608  1.707303e+14    [-90.068503, 41.287491, -90.063344, 41.293965]   \n3609  3.605707e+14    [-74.419985, 42.901353, -74.391864, 42.925173]   \n3610  4.834997e+14    [-96.681031, 32.006678, -96.640277, 32.036285]   \n3611  8.039961e+13  [-104.580235, 39.303274, -104.526249, 39.361358]   \n\n            county_name  County_FIPS State_FIPS      State_name  \\\n0        El Paso County       8041.0         CO        Colorado   \n1         Mobile County       1097.0         AL         Alabama   \n2     Jo Daviess County      17085.0         IL        Illinois   \n3       Hennepin County      27053.0         MN       Minnesota   \n4         Durham County      37063.0         NC  North Carolina   \n...                 ...          ...        ...             ...   \n3607        Polk County      55095.0         WI       Wisconsin   \n3608       Henry County      17073.0         IL        Illinois   \n3609  Montgomery County      36057.0         NY        New York   \n3610     Navarro County      48349.0         TX           Texas   \n3611      Elbert County       8039.0         CO        Colorado   \n\n                         geometry  \n0     POINT (-104.81468 38.93772)  \n1      POINT (-88.04502 30.69035)  \n2      POINT (-90.31353 42.40444)  \n3      POINT (-93.47342 44.99727)  \n4      POINT (-78.90186 36.00056)  \n...                           ...  \n3607   POINT (-92.40860 45.39747)  \n3608   POINT (-90.06714 41.29356)  \n3609   POINT (-74.39347 42.90293)  \n3610   POINT (-96.66937 32.02466)  \n3611  POINT (-104.57051 39.35760)  \n\n[3612 rows x 19 columns]",
      "text/html": "<div>\n<style scoped>\n    .dataframe tbody tr th:only-of-type {\n        vertical-align: middle;\n    }\n\n    .dataframe tbody tr th {\n        vertical-align: top;\n    }\n\n    .dataframe thead th {\n        text-align: right;\n    }\n</style>\n<table border=\"1\" class=\"dataframe\">\n  <thead>\n    <tr style=\"text-align: right;\">\n      <th></th>\n      <th>listing_id</th>\n      <th>WIC</th>\n      <th>SNAP</th>\n      <th>longitude</th>\n      <th>latitude</th>\n      <th>location_address</th>\n      <th>listing_name</th>\n      <th>fm_bool</th>\n      <th>csa_bool</th>\n      <th>om_bool</th>\n      <th>Farmer Market Type</th>\n      <th>Benefit Type</th>\n      <th>Block_FIPS</th>\n      <th>bbox</th>\n      <th>county_name</th>\n      <th>County_FIPS</th>\n      <th>State_FIPS</th>\n      <th>State_name</th>\n      <th>geometry</th>\n    </tr>\n  </thead>\n  <tbody>\n    <tr>\n      <th>0</th>\n      <td>300002</td>\n      <td>0.0</td>\n      <td>1.0</td>\n      <td>-104.814680</td>\n      <td>38.937716</td>\n      <td>7350 Pine Creek Road, Colorado Springs, Colora...</td>\n      <td>Colorado Farm and Art Market</td>\n      <td>1.0</td>\n      <td>0.0</td>\n      <td>0.0</td>\n      <td>Farmers' Market</td>\n      <td>SNAP</td>\n      <td>8.041004e+13</td>\n      <td>[-104.818646, 38.932971, -104.813136, 38.938515]</td>\n      <td>El Paso County</td>\n      <td>8041.0</td>\n      <td>CO</td>\n      <td>Colorado</td>\n      <td>POINT (-104.81468 38.93772)</td>\n    </tr>\n    <tr>\n      <th>1</th>\n      <td>300003</td>\n      <td>0.0</td>\n      <td>0.0</td>\n      <td>-88.045015</td>\n      <td>30.690350</td>\n      <td>300 Conti, Mobile, Alabama 36602</td>\n      <td>Market in The Park</td>\n      <td>1.0</td>\n      <td>0.0</td>\n      <td>0.0</td>\n      <td>Farmers' Market</td>\n      <td>No SNAP Benefit ; No WIC Benefit</td>\n      <td>1.097000e+13</td>\n      <td>[-88.045601, 30.689942, -88.044488, 30.690884]</td>\n      <td>Mobile County</td>\n      <td>1097.0</td>\n      <td>AL</td>\n      <td>Alabama</td>\n      <td>POINT (-88.04502 30.69035)</td>\n    </tr>\n    <tr>\n      <th>2</th>\n      <td>300004</td>\n      <td>0.0</td>\n      <td>0.0</td>\n      <td>-90.313530</td>\n      <td>42.404443</td>\n      <td>2000 Territory Drive, Galena, Illinois 61036</td>\n      <td>The Territory Farmers' Market</td>\n      <td>1.0</td>\n      <td>0.0</td>\n      <td>0.0</td>\n      <td>Farmers' Market</td>\n      <td>No SNAP Benefit ; No WIC Benefit</td>\n      <td>1.708502e+14</td>\n      <td>[-90.316519, 42.400989, -90.306193, 42.406228]</td>\n      <td>Jo Daviess County</td>\n      <td>17085.0</td>\n      <td>IL</td>\n      <td>Illinois</td>\n      <td>POINT (-90.31353 42.40444)</td>\n    </tr>\n    <tr>\n      <th>3</th>\n      <td>300005</td>\n      <td>0.0</td>\n      <td>0.0</td>\n      <td>-93.473419</td>\n      <td>44.997274</td>\n      <td>15500 County Road 6, Plymouth, Minnesota 55447</td>\n      <td>City of Plymouth Farmers Market</td>\n      <td>1.0</td>\n      <td>0.0</td>\n      <td>0.0</td>\n      <td>Farmers' Market</td>\n      <td>No SNAP Benefit ; No WIC Benefit</td>\n      <td>2.705303e+14</td>\n      <td>[-93.481636, 44.995067, -93.472153, 45.000191]</td>\n      <td>Hennepin County</td>\n      <td>27053.0</td>\n      <td>MN</td>\n      <td>Minnesota</td>\n      <td>POINT (-93.47342 44.99727)</td>\n    </tr>\n    <tr>\n      <th>4</th>\n      <td>300006</td>\n      <td>1.0</td>\n      <td>1.0</td>\n      <td>-78.901856</td>\n      <td>36.000559</td>\n      <td>501 Foster Street, Durham, North Carolina 27701</td>\n      <td>Durham Farmers' Market</td>\n      <td>1.0</td>\n      <td>0.0</td>\n      <td>0.0</td>\n      <td>Farmers' Market</td>\n      <td>SNAP ; WIC</td>\n      <td>3.706300e+14</td>\n      <td>[-78.902268, 36.000177, -78.901401, 36.001986]</td>\n      <td>Durham County</td>\n      <td>37063.0</td>\n      <td>NC</td>\n      <td>North Carolina</td>\n      <td>POINT (-78.90186 36.00056)</td>\n    </tr>\n    <tr>\n      <th>...</th>\n      <td>...</td>\n      <td>...</td>\n      <td>...</td>\n      <td>...</td>\n      <td>...</td>\n      <td>...</td>\n      <td>...</td>\n      <td>...</td>\n      <td>...</td>\n      <td>...</td>\n      <td>...</td>\n      <td>...</td>\n      <td>...</td>\n      <td>...</td>\n      <td>...</td>\n      <td>...</td>\n      <td>...</td>\n      <td>...</td>\n      <td>...</td>\n    </tr>\n    <tr>\n      <th>3607</th>\n      <td>700736</td>\n      <td>0.0</td>\n      <td>0.0</td>\n      <td>-92.408597</td>\n      <td>45.397467</td>\n      <td>1333 - 120th Street, Amery, Wisconsin 54001</td>\n      <td>Glenna Farms Country Store &amp; Sugarhouse</td>\n      <td>0.0</td>\n      <td>0.0</td>\n      <td>1.0</td>\n      <td>On Market Farmers' Market</td>\n      <td>No SNAP Benefit ; No WIC Benefit</td>\n      <td>5.509596e+14</td>\n      <td>[-92.448847, 45.395804, -92.407675, 45.408456]</td>\n      <td>Polk County</td>\n      <td>55095.0</td>\n      <td>WI</td>\n      <td>Wisconsin</td>\n      <td>POINT (-92.40860 45.39747)</td>\n    </tr>\n    <tr>\n      <th>3608</th>\n      <td>701671</td>\n      <td>0.0</td>\n      <td>0.0</td>\n      <td>-90.067140</td>\n      <td>41.293562</td>\n      <td>19065 IL-81, Cambridge, IL 61238, USA</td>\n      <td>Grateful Graze</td>\n      <td>0.0</td>\n      <td>0.0</td>\n      <td>1.0</td>\n      <td>On Market Farmers' Market</td>\n      <td>No SNAP Benefit ; No WIC Benefit</td>\n      <td>1.707303e+14</td>\n      <td>[-90.068503, 41.287491, -90.063344, 41.293965]</td>\n      <td>Henry County</td>\n      <td>17073.0</td>\n      <td>IL</td>\n      <td>Illinois</td>\n      <td>POINT (-90.06714 41.29356)</td>\n    </tr>\n    <tr>\n      <th>3609</th>\n      <td>700083</td>\n      <td>1.0</td>\n      <td>0.0</td>\n      <td>-74.393467</td>\n      <td>42.902931</td>\n      <td>685 Argersinger Rd, Fultonviille, New York 12072</td>\n      <td>Bellinger's Orchard</td>\n      <td>0.0</td>\n      <td>0.0</td>\n      <td>1.0</td>\n      <td>On Market Farmers' Market</td>\n      <td>WIC</td>\n      <td>3.605707e+14</td>\n      <td>[-74.419985, 42.901353, -74.391864, 42.925173]</td>\n      <td>Montgomery County</td>\n      <td>36057.0</td>\n      <td>NY</td>\n      <td>New York</td>\n      <td>POINT (-74.39347 42.90293)</td>\n    </tr>\n    <tr>\n      <th>3610</th>\n      <td>701676</td>\n      <td>0.0</td>\n      <td>0.0</td>\n      <td>-96.669370</td>\n      <td>32.024657</td>\n      <td>1885 Northwest 2162, Barry, TX, USA</td>\n      <td>La Vida Buena Acres</td>\n      <td>0.0</td>\n      <td>0.0</td>\n      <td>1.0</td>\n      <td>On Market Farmers' Market</td>\n      <td>No SNAP Benefit ; No WIC Benefit</td>\n      <td>4.834997e+14</td>\n      <td>[-96.681031, 32.006678, -96.640277, 32.036285]</td>\n      <td>Navarro County</td>\n      <td>48349.0</td>\n      <td>TX</td>\n      <td>Texas</td>\n      <td>POINT (-96.66937 32.02466)</td>\n    </tr>\n    <tr>\n      <th>3611</th>\n      <td>701677</td>\n      <td>0.0</td>\n      <td>0.0</td>\n      <td>-104.570511</td>\n      <td>39.357596</td>\n      <td>33784 County Road 21, Elizabeth, CO, USA</td>\n      <td>RK Creations Farm</td>\n      <td>0.0</td>\n      <td>0.0</td>\n      <td>1.0</td>\n      <td>On Market Farmers' Market</td>\n      <td>No SNAP Benefit ; No WIC Benefit</td>\n      <td>8.039961e+13</td>\n      <td>[-104.580235, 39.303274, -104.526249, 39.361358]</td>\n      <td>Elbert County</td>\n      <td>8039.0</td>\n      <td>CO</td>\n      <td>Colorado</td>\n      <td>POINT (-104.57051 39.35760)</td>\n    </tr>\n  </tbody>\n</table>\n<p>3612 rows × 19 columns</p>\n</div>"
     },
     "metadata": {}
    }
   ],
   "execution_count": 264
  },
  {
   "cell_type": "code",
   "source": "#save\ngpd_df.to_csv('geo_fm_csa_om.csv', index = False)",
   "metadata": {
    "cell_id": "042ddec9519c4897a5488d28def97a43",
    "tags": [],
    "deepnote_to_be_reexecuted": false,
    "source_hash": "b818381b",
    "execution_start": 1658015173752,
    "execution_millis": 224,
    "deepnote_cell_type": "code",
    "deepnote_cell_height": 98.96875
   },
   "outputs": [],
   "execution_count": 266
  },
  {
   "cell_type": "code",
   "source": "max(gpd_df['Block_FIPS'].value_counts().values)",
   "metadata": {
    "cell_id": "4416e4191598478aa5442f665eb9451d",
    "tags": [],
    "deepnote_to_be_reexecuted": false,
    "source_hash": "ca88df2d",
    "execution_start": 1658015628960,
    "execution_millis": 2,
    "deepnote_cell_type": "code",
    "deepnote_cell_height": 118.140625,
    "deepnote_output_heights": [
     21.1875
    ]
   },
   "outputs": [
    {
     "output_type": "execute_result",
     "execution_count": 283,
     "data": {
      "text/plain": "6"
     },
     "metadata": {}
    }
   ],
   "execution_count": 283
  },
  {
   "cell_type": "code",
   "source": "benefit_markt_ct = pd.crosstab(index = gpd_df['Farmer Market Type'], columns= gpd_df['Benefit Type'],\nnormalize = 'columns')*100\nbenefit_markt_ct",
   "metadata": {
    "cell_id": "82f3dc5345c4423191bfd5cf0c4333ff",
    "tags": [],
    "deepnote_to_be_reexecuted": false,
    "source_hash": "2a45eb5c",
    "execution_start": 1658016978888,
    "execution_millis": 91,
    "deepnote_cell_type": "code",
    "deepnote_cell_height": 348.921875
   },
   "outputs": [
    {
     "output_type": "execute_result",
     "execution_count": 307,
     "data": {
      "application/vnd.deepnote.dataframe.v3+json": {
       "column_count": 4,
       "row_count": 3,
       "columns": [
        {
         "name": "No SNAP Benefit ; No WIC Benefit",
         "dtype": "float64",
         "stats": {
          "unique_count": 3,
          "nan_count": 0,
          "min": "10.040983606557377",
          "max": "59.18032786885246",
          "histogram": [
           {
            "bin_start": 10.040983606557377,
            "bin_end": 14.954918032786885,
            "count": 1
           },
           {
            "bin_start": 14.954918032786885,
            "bin_end": 19.868852459016395,
            "count": 0
           },
           {
            "bin_start": 19.868852459016395,
            "bin_end": 24.7827868852459,
            "count": 0
           },
           {
            "bin_start": 24.7827868852459,
            "bin_end": 29.696721311475407,
            "count": 0
           },
           {
            "bin_start": 29.696721311475407,
            "bin_end": 34.61065573770492,
            "count": 1
           },
           {
            "bin_start": 34.61065573770492,
            "bin_end": 39.52459016393443,
            "count": 0
           },
           {
            "bin_start": 39.52459016393443,
            "bin_end": 44.43852459016393,
            "count": 0
           },
           {
            "bin_start": 44.43852459016393,
            "bin_end": 49.35245901639344,
            "count": 0
           },
           {
            "bin_start": 49.35245901639344,
            "bin_end": 54.26639344262295,
            "count": 0
           },
           {
            "bin_start": 54.26639344262295,
            "bin_end": 59.18032786885246,
            "count": 1
           }
          ]
         }
        },
        {
         "name": "SNAP",
         "dtype": "float64",
         "stats": {
          "unique_count": 3,
          "nan_count": 0,
          "min": "28.24302134646962",
          "max": "39.24466338259442",
          "histogram": [
           {
            "bin_start": 28.24302134646962,
            "bin_end": 29.3431855500821,
            "count": 1
           },
           {
            "bin_start": 29.3431855500821,
            "bin_end": 30.44334975369458,
            "count": 0
           },
           {
            "bin_start": 30.44334975369458,
            "bin_end": 31.54351395730706,
            "count": 0
           },
           {
            "bin_start": 31.54351395730706,
            "bin_end": 32.64367816091954,
            "count": 1
           },
           {
            "bin_start": 32.64367816091954,
            "bin_end": 33.74384236453202,
            "count": 0
           },
           {
            "bin_start": 33.74384236453202,
            "bin_end": 34.8440065681445,
            "count": 0
           },
           {
            "bin_start": 34.8440065681445,
            "bin_end": 35.94417077175698,
            "count": 0
           },
           {
            "bin_start": 35.94417077175698,
            "bin_end": 37.04433497536946,
            "count": 0
           },
           {
            "bin_start": 37.04433497536946,
            "bin_end": 38.14449917898194,
            "count": 0
           },
           {
            "bin_start": 38.14449917898194,
            "bin_end": 39.24466338259442,
            "count": 1
           }
          ]
         }
        },
        {
         "name": "SNAP ; WIC",
         "dtype": "float64",
         "stats": {
          "unique_count": 3,
          "nan_count": 0,
          "min": "1.4492753623188406",
          "max": "95.65217391304348",
          "histogram": [
           {
            "bin_start": 1.4492753623188406,
            "bin_end": 10.869565217391305,
            "count": 2
           },
           {
            "bin_start": 10.869565217391305,
            "bin_end": 20.28985507246377,
            "count": 0
           },
           {
            "bin_start": 20.28985507246377,
            "bin_end": 29.710144927536234,
            "count": 0
           },
           {
            "bin_start": 29.710144927536234,
            "bin_end": 39.1304347826087,
            "count": 0
           },
           {
            "bin_start": 39.1304347826087,
            "bin_end": 48.55072463768117,
            "count": 0
           },
           {
            "bin_start": 48.55072463768117,
            "bin_end": 57.97101449275363,
            "count": 0
           },
           {
            "bin_start": 57.97101449275363,
            "bin_end": 67.3913043478261,
            "count": 0
           },
           {
            "bin_start": 67.3913043478261,
            "bin_end": 76.81159420289856,
            "count": 0
           },
           {
            "bin_start": 76.81159420289856,
            "bin_end": 86.23188405797103,
            "count": 0
           },
           {
            "bin_start": 86.23188405797103,
            "bin_end": 95.65217391304348,
            "count": 1
           }
          ]
         }
        },
        {
         "name": "WIC",
         "dtype": "float64",
         "stats": {
          "unique_count": 3,
          "nan_count": 0,
          "min": "2.684563758389262",
          "max": "79.19463087248322",
          "histogram": [
           {
            "bin_start": 2.684563758389262,
            "bin_end": 10.335570469798657,
            "count": 1
           },
           {
            "bin_start": 10.335570469798657,
            "bin_end": 17.986577181208055,
            "count": 0
           },
           {
            "bin_start": 17.986577181208055,
            "bin_end": 25.637583892617453,
            "count": 1
           },
           {
            "bin_start": 25.637583892617453,
            "bin_end": 33.288590604026844,
            "count": 0
           },
           {
            "bin_start": 33.288590604026844,
            "bin_end": 40.93959731543624,
            "count": 0
           },
           {
            "bin_start": 40.93959731543624,
            "bin_end": 48.59060402684564,
            "count": 0
           },
           {
            "bin_start": 48.59060402684564,
            "bin_end": 56.241610738255034,
            "count": 0
           },
           {
            "bin_start": 56.241610738255034,
            "bin_end": 63.89261744966443,
            "count": 0
           },
           {
            "bin_start": 63.89261744966443,
            "bin_end": 71.54362416107382,
            "count": 0
           },
           {
            "bin_start": 71.54362416107382,
            "bin_end": 79.19463087248322,
            "count": 1
           }
          ]
         }
        },
        {
         "name": "_deepnote_index_column",
         "dtype": "object"
        }
       ],
       "rows": [
        {
         "No SNAP Benefit ; No WIC Benefit": 30.778688524590166,
         "SNAP": 32.51231527093596,
         "SNAP ; WIC": 1.4492753623188406,
         "WIC": 2.684563758389262,
         "_deepnote_index_column": "Community Supported Agriculture"
        },
        {
         "No SNAP Benefit ; No WIC Benefit": 10.040983606557377,
         "SNAP": 39.24466338259442,
         "SNAP ; WIC": 95.65217391304348,
         "WIC": 79.19463087248322,
         "_deepnote_index_column": "Farmers' Market"
        },
        {
         "No SNAP Benefit ; No WIC Benefit": 59.18032786885246,
         "SNAP": 28.24302134646962,
         "SNAP ; WIC": 2.898550724637681,
         "WIC": 18.120805369127517,
         "_deepnote_index_column": "On Market Farmers' Market"
        }
       ]
      },
      "text/plain": "Benefit Type                     No SNAP Benefit ; No WIC Benefit       SNAP  \\\nFarmer Market Type                                                             \nCommunity Supported Agriculture                         30.778689  32.512315   \nFarmers' Market                                         10.040984  39.244663   \nOn Market Farmers' Market                               59.180328  28.243021   \n\nBenefit Type                     SNAP ; WIC        WIC  \nFarmer Market Type                                      \nCommunity Supported Agriculture    1.449275   2.684564  \nFarmers' Market                   95.652174  79.194631  \nOn Market Farmers' Market          2.898551  18.120805  ",
      "text/html": "<div>\n<style scoped>\n    .dataframe tbody tr th:only-of-type {\n        vertical-align: middle;\n    }\n\n    .dataframe tbody tr th {\n        vertical-align: top;\n    }\n\n    .dataframe thead th {\n        text-align: right;\n    }\n</style>\n<table border=\"1\" class=\"dataframe\">\n  <thead>\n    <tr style=\"text-align: right;\">\n      <th>Benefit Type</th>\n      <th>No SNAP Benefit ; No WIC Benefit</th>\n      <th>SNAP</th>\n      <th>SNAP ; WIC</th>\n      <th>WIC</th>\n    </tr>\n    <tr>\n      <th>Farmer Market Type</th>\n      <th></th>\n      <th></th>\n      <th></th>\n      <th></th>\n    </tr>\n  </thead>\n  <tbody>\n    <tr>\n      <th>Community Supported Agriculture</th>\n      <td>30.778689</td>\n      <td>32.512315</td>\n      <td>1.449275</td>\n      <td>2.684564</td>\n    </tr>\n    <tr>\n      <th>Farmers' Market</th>\n      <td>10.040984</td>\n      <td>39.244663</td>\n      <td>95.652174</td>\n      <td>79.194631</td>\n    </tr>\n    <tr>\n      <th>On Market Farmers' Market</th>\n      <td>59.180328</td>\n      <td>28.243021</td>\n      <td>2.898551</td>\n      <td>18.120805</td>\n    </tr>\n  </tbody>\n</table>\n</div>"
     },
     "metadata": {}
    }
   ],
   "execution_count": 307
  },
  {
   "cell_type": "code",
   "source": "import matplotlib.pyplot as plt\n\nplt.figure(figsize = (8, 6))\n\nsns.heatmap(benefit_markt_ct, cmap = 'Reds')\nplt.xticks(rotation = 90)\nplt.title(\"Benefits versus Farmer Market Type\")\nplt.tight_layout()\nplt.savefig('fm_benefit.jpg', dpi = 200)\nplt.show()",
   "metadata": {
    "cell_id": "8db3345695eb49d9ba8fda304725c272",
    "tags": [],
    "deepnote_to_be_reexecuted": false,
    "source_hash": "ac12a1da",
    "execution_start": 1658018446543,
    "execution_millis": 1003,
    "deepnote_cell_type": "code",
    "deepnote_cell_height": 684.9375,
    "deepnote_output_heights": [
     425.984375,
     421
    ]
   },
   "outputs": [
    {
     "data": {
      "text/plain": "<Figure size 576x432 with 2 Axes>",
      "image/png": "[encoded data removed]"
     },
     "metadata": {
      "needs_background": "light",
      "image/png": {
       "width": 544,
       "height": 424
      }
     },
     "output_type": "display_data"
    }
   ],
   "execution_count": 329
  },
  {
   "cell_type": "code",
   "source": "benefit_state_ct = pd.crosstab(index = gpd_df['State_name'], columns= gpd_df['Benefit Type'], normalize = 'columns')*100",
   "metadata": {
    "cell_id": "9de3bccbacd04b2a8f9880693c0488dc",
    "tags": [],
    "deepnote_to_be_reexecuted": false,
    "source_hash": "ae323420",
    "execution_start": 1658016914034,
    "execution_millis": 67,
    "deepnote_cell_type": "code",
    "deepnote_cell_height": 80.96875
   },
   "outputs": [],
   "execution_count": 303
  },
  {
   "cell_type": "code",
   "source": "plt.figure(figsize = (8, 10))\n\nsns.heatmap(benefit_state_ct, cmap = 'Reds')\nplt.xticks(rotation = 90)\nplt.title(\"Benefits per State\")\nplt.tight_layout()\nplt.savefig('state_benefit.jpg', dpi = 200)\nplt.show()",
   "metadata": {
    "cell_id": "c692d58efa2046a184858af7b7df4722",
    "tags": [],
    "deepnote_to_be_reexecuted": false,
    "source_hash": "83a6ae99",
    "execution_start": 1658018491975,
    "execution_millis": 4508,
    "deepnote_cell_type": "code",
    "deepnote_cell_height": 833.953125,
    "deepnote_output_heights": [
     611
    ]
   },
   "outputs": [
    {
     "data": {
      "text/plain": "<Figure size 576x720 with 2 Axes>",
      "image/png": "[encoded data removed]"
     },
     "metadata": {
      "needs_background": "light",
      "image/png": {
       "width": 563,
       "height": 712
      }
     },
     "output_type": "display_data"
    }
   ],
   "execution_count": 330
  },
  {
   "cell_type": "code",
   "source": "",
   "metadata": {
    "cell_id": "cb1391b33a73416e92eabd06f12a59e8",
    "tags": [],
    "owner_user_id": "c2f8bbae-2ef4-41ae-bc0e-ded786e5ca36",
    "deepnote_cell_type": "code",
    "deepnote_cell_height": 65.96875
   },
   "outputs": [],
   "execution_count": null
  },
  {
   "cell_type": "markdown",
   "source": "<a style='text-decoration:none;line-height:16px;display:flex;color:#5B5B62;padding:10px;justify-content:end;' href='https://deepnote.com?utm_source=created-in-deepnote-cell&projectId=4d013c1f-8c0f-427d-b5d7-5d9eb129596b' target=\"_blank\">\n<img alt='Created in deepnote.com' style='display:inline;max-height:16px;margin:0px;margin-right:7.5px;' src='data:image/svg+xml;base64,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' > </img>\nCreated in <span style='font-weight:600;margin-left:4px;'>Deepnote</span></a>",
   "metadata": {
    "tags": [],
    "created_in_deepnote_cell": true,
    "deepnote_cell_type": "markdown"
   }
  }
 ],
 "nbformat": 4,
 "nbformat_minor": 0,
 "metadata": {
  "colab": {
   "name": "farmers_market_food_insecurity.ipynb",
   "provenance": []
  },
  "kernelspec": {
   "name": "python3",
   "display_name": "Python 3"
  },
  "language_info": {
   "name": "python"
  },
  "deepnote_notebook_id": "6f78f8d2-ac94-4aa8-aced-4747f1a4129c",
  "deepnote": {},
  "deepnote_execution_queue": []
 }
}